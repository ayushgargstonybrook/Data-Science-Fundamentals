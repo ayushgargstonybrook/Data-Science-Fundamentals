{
 "cells": [
  {
   "cell_type": "code",
   "execution_count": 1,
   "metadata": {},
   "outputs": [],
   "source": [
    "#Import\n",
    "import pandas as pd\n",
    "import numpy as np\n",
    "\n",
    "import json\n",
    "from pandas.io.json import json_normalize"
   ]
  },
  {
   "cell_type": "code",
   "execution_count": null,
   "metadata": {},
   "outputs": [],
   "source": []
  },
  {
   "cell_type": "code",
   "execution_count": null,
   "metadata": {},
   "outputs": [],
   "source": []
  },
  {
   "cell_type": "code",
   "execution_count": 2,
   "metadata": {},
   "outputs": [],
   "source": [
    "# Visualization libraries\n",
    "import seaborn as sns\n",
    "import matplotlib.pyplot as plt\n",
    "%matplotlib inline"
   ]
  },
  {
   "cell_type": "code",
   "execution_count": null,
   "metadata": {},
   "outputs": [],
   "source": []
  },
  {
   "cell_type": "code",
   "execution_count": null,
   "metadata": {},
   "outputs": [],
   "source": []
  },
  {
   "cell_type": "code",
   "execution_count": 3,
   "metadata": {},
   "outputs": [],
   "source": [
    "df = pd.read_json('../Data/V10/dblp-ref/dblp-ref-0.json', lines=True)"
   ]
  },
  {
   "cell_type": "code",
   "execution_count": null,
   "metadata": {},
   "outputs": [],
   "source": []
  },
  {
   "cell_type": "code",
   "execution_count": null,
   "metadata": {},
   "outputs": [],
   "source": []
  },
  {
   "cell_type": "code",
   "execution_count": 4,
   "metadata": {},
   "outputs": [],
   "source": [
    "df_copy = df.copy()\n"
   ]
  },
  {
   "cell_type": "code",
   "execution_count": null,
   "metadata": {},
   "outputs": [],
   "source": []
  },
  {
   "cell_type": "code",
   "execution_count": null,
   "metadata": {},
   "outputs": [],
   "source": []
  },
  {
   "cell_type": "code",
   "execution_count": 5,
   "metadata": {},
   "outputs": [],
   "source": [
    "def calculate_page_rank_utility(df_pageRank):\n",
    "    from  itertools import chain\n",
    "    df_pageRank_flatten = pd.DataFrame({\n",
    "            \"abstract\": np.repeat(df_pageRank.abstract.values, df_pageRank.references.str.len()),\n",
    "            \"authors\": np.repeat(df_pageRank.authors.values, df_pageRank.references.str.len()),\n",
    "            \"id\": np.repeat(df_pageRank.id.values, df_pageRank.references.str.len()),\n",
    "            \"n_citation\": np.repeat(df_pageRank.n_citation.values, df_pageRank.references.str.len()),\n",
    "            \"references\": list(chain.from_iterable(df_pageRank.references)),\n",
    "            \"title\": np.repeat(df_pageRank.title.values, df_pageRank.references.str.len()),\n",
    "            \"venue\": np.repeat(df_pageRank.venue.values, df_pageRank.references.str.len()),\n",
    "            \"year\": np.repeat(df_pageRank.year.values, df_pageRank.references.str.len()),        \n",
    "            \"pageRankValue\": np.repeat(df_pageRank.pageRankValue.values, df_pageRank.references.str.len()),\n",
    "            \"totalOutbounds\": np.repeat(df_pageRank.totalOutbounds.values, df_pageRank.references.str.len()),\n",
    "            \"ratio\": np.repeat(df_pageRank.ratio.values, df_pageRank.references.str.len())        \n",
    "    })\n",
    "\n",
    "    df_pageRank_flatten_groupby = df_pageRank_flatten.groupby('references').agg({'ratio' : 'sum'})\n",
    "    df_pageRank_flatten_groupby['id'] = df_pageRank_flatten_groupby.index\n",
    "    df_pageRank_flatten_groupby['newPageRankValue'] = df_pageRank_flatten_groupby['ratio']\n",
    "\n",
    "    df_pageRank_new = pd.merge(df_pageRank, df_pageRank_flatten_groupby[['id', 'newPageRankValue']], how='left', on='id')\n",
    "    df_pageRank_new.pageRankValue = df_pageRank_new.newPageRankValue\n",
    "    df_pageRank_new['ratio'] = df_pageRank_new.pageRankValue / df_pageRank_new.totalOutbounds\n",
    "    df_pageRank_new = df_pageRank_new.drop(columns = ['newPageRankValue'])\n",
    "\n",
    "    return df_pageRank_new\n",
    "\n",
    "def calculate_page_rank (df, iteration):\n",
    "    for i in range (0, iteration):\n",
    "        df = calculate_page_rank_utility(df)\n",
    "    return df"
   ]
  },
  {
   "cell_type": "code",
   "execution_count": null,
   "metadata": {},
   "outputs": [],
   "source": []
  },
  {
   "cell_type": "code",
   "execution_count": null,
   "metadata": {},
   "outputs": [],
   "source": []
  },
  {
   "cell_type": "code",
   "execution_count": 6,
   "metadata": {},
   "outputs": [],
   "source": [
    "df_page_rank_actual = df.copy()"
   ]
  },
  {
   "cell_type": "code",
   "execution_count": null,
   "metadata": {},
   "outputs": [],
   "source": []
  },
  {
   "cell_type": "code",
   "execution_count": null,
   "metadata": {},
   "outputs": [],
   "source": []
  },
  {
   "cell_type": "code",
   "execution_count": 7,
   "metadata": {},
   "outputs": [
    {
     "data": {
      "text/plain": [
       "(1000000, 8)"
      ]
     },
     "execution_count": 7,
     "metadata": {},
     "output_type": "execute_result"
    }
   ],
   "source": [
    "df_page_rank_actual.shape"
   ]
  },
  {
   "cell_type": "code",
   "execution_count": null,
   "metadata": {},
   "outputs": [],
   "source": []
  },
  {
   "cell_type": "code",
   "execution_count": null,
   "metadata": {},
   "outputs": [],
   "source": []
  },
  {
   "cell_type": "code",
   "execution_count": 8,
   "metadata": {},
   "outputs": [],
   "source": [
    "#placing [self] where references is nan\n",
    "df_page_rank_actual.loc[df_page_rank_actual['references'].isnull(),['references']] = df_page_rank_actual.loc[df_page_rank_actual['references'].isnull(),'references'].apply(lambda references : ['self'])\n",
    "\n",
    "#also do for empty array\n",
    "df_page_rank_actual.references = df_page_rank_actual.references.apply(lambda y: ['self'] if len(y)==0 else y)\n",
    "\n",
    "#without [self], empty array, on flatten entries with empty array will be deleted"
   ]
  },
  {
   "cell_type": "code",
   "execution_count": null,
   "metadata": {},
   "outputs": [],
   "source": []
  },
  {
   "cell_type": "code",
   "execution_count": null,
   "metadata": {},
   "outputs": [],
   "source": []
  },
  {
   "cell_type": "code",
   "execution_count": 9,
   "metadata": {},
   "outputs": [],
   "source": [
    "from  itertools import chain\n",
    "df_page_rank_actual_flatten_references = pd.DataFrame({\n",
    "            \"id\": np.repeat(df_page_rank_actual.id.values, df_page_rank_actual.references.str.len()),\n",
    "            \"references\": list(chain.from_iterable(df_page_rank_actual.references))\n",
    "    })"
   ]
  },
  {
   "cell_type": "code",
   "execution_count": null,
   "metadata": {},
   "outputs": [],
   "source": []
  },
  {
   "cell_type": "code",
   "execution_count": null,
   "metadata": {},
   "outputs": [],
   "source": []
  },
  {
   "cell_type": "code",
   "execution_count": 10,
   "metadata": {},
   "outputs": [
    {
     "name": "stdout",
     "output_type": "stream",
     "text": [
      "(1000000,)\n",
      "(1291817,)\n",
      "854174\n"
     ]
    }
   ],
   "source": [
    "unique_paper_id = df_page_rank_actual_flatten_references.id.unique()\n",
    "\n",
    "unique_reference_id = df_page_rank_actual_flatten_references.references.unique()\n",
    "\n",
    "print (unique_paper_id.shape)\n",
    "\n",
    "print (unique_reference_id.shape)\n",
    "\n",
    "diff_set = set(unique_reference_id)-set(unique_paper_id)\n",
    "#print (diff_set)\n",
    "print (len(diff_set))"
   ]
  },
  {
   "cell_type": "code",
   "execution_count": null,
   "metadata": {},
   "outputs": [],
   "source": []
  },
  {
   "cell_type": "code",
   "execution_count": null,
   "metadata": {},
   "outputs": [],
   "source": []
  },
  {
   "cell_type": "code",
   "execution_count": 11,
   "metadata": {},
   "outputs": [],
   "source": [
    "df_page_rank_actual_flatten_references = df_page_rank_actual_flatten_references[~df_page_rank_actual_flatten_references['references'].isin(diff_set)]\n"
   ]
  },
  {
   "cell_type": "code",
   "execution_count": null,
   "metadata": {},
   "outputs": [],
   "source": []
  },
  {
   "cell_type": "code",
   "execution_count": null,
   "metadata": {},
   "outputs": [],
   "source": []
  },
  {
   "cell_type": "code",
   "execution_count": 12,
   "metadata": {},
   "outputs": [],
   "source": [
    "df_page_rank_actual_flatten_references = df_page_rank_actual_flatten_references.groupby('id').agg({'references':lambda x: list(x)})\n"
   ]
  },
  {
   "cell_type": "code",
   "execution_count": null,
   "metadata": {},
   "outputs": [],
   "source": []
  },
  {
   "cell_type": "code",
   "execution_count": null,
   "metadata": {},
   "outputs": [],
   "source": []
  },
  {
   "cell_type": "code",
   "execution_count": 13,
   "metadata": {},
   "outputs": [],
   "source": [
    "df_page_rank_actual_flatten_references['id'] = df_page_rank_actual_flatten_references.index\n",
    "\n",
    "df_page_rank_actual_flatten_references['references2'] = df_page_rank_actual_flatten_references['references']"
   ]
  },
  {
   "cell_type": "code",
   "execution_count": null,
   "metadata": {},
   "outputs": [],
   "source": []
  },
  {
   "cell_type": "code",
   "execution_count": null,
   "metadata": {},
   "outputs": [],
   "source": []
  },
  {
   "cell_type": "code",
   "execution_count": 14,
   "metadata": {},
   "outputs": [
    {
     "name": "stderr",
     "output_type": "stream",
     "text": [
      "/anaconda3/lib/python3.6/site-packages/IPython/core/interactiveshell.py:2963: FutureWarning: 'id' is both an index level and a column label.\n",
      "Defaulting to column, but this will raise an ambiguity error in a future version\n",
      "  exec(code_obj, self.user_global_ns, self.user_ns)\n"
     ]
    }
   ],
   "source": [
    "df_page_rank_actual = pd.merge(df_page_rank_actual, df_page_rank_actual_flatten_references[['id', 'references2']], how='left', on='id')\n"
   ]
  },
  {
   "cell_type": "code",
   "execution_count": null,
   "metadata": {},
   "outputs": [],
   "source": []
  },
  {
   "cell_type": "code",
   "execution_count": null,
   "metadata": {},
   "outputs": [],
   "source": []
  },
  {
   "cell_type": "code",
   "execution_count": 15,
   "metadata": {},
   "outputs": [],
   "source": [
    "df_page_rank_actual['references'] = df_page_rank_actual['references2']\n",
    "\n",
    "df_page_rank_actual = df_page_rank_actual.drop(columns = ['references2'])"
   ]
  },
  {
   "cell_type": "code",
   "execution_count": null,
   "metadata": {},
   "outputs": [],
   "source": []
  },
  {
   "cell_type": "code",
   "execution_count": null,
   "metadata": {},
   "outputs": [],
   "source": []
  },
  {
   "cell_type": "code",
   "execution_count": 16,
   "metadata": {},
   "outputs": [],
   "source": [
    "#add 3 columns required for calculating page rank\n",
    "\n",
    "df_page_rank_actual['pageRankValue'] = 100\n",
    "df_page_rank_actual['totalOutbounds'] = df_page_rank_actual.references.str.len()\n",
    "df_page_rank_actual['ratio'] = df_page_rank_actual.pageRankValue / df_page_rank_actual.totalOutbounds\n"
   ]
  },
  {
   "cell_type": "code",
   "execution_count": null,
   "metadata": {},
   "outputs": [],
   "source": []
  },
  {
   "cell_type": "code",
   "execution_count": null,
   "metadata": {},
   "outputs": [],
   "source": []
  },
  {
   "cell_type": "code",
   "execution_count": 17,
   "metadata": {},
   "outputs": [
    {
     "data": {
      "text/plain": [
       "(1000000, 11)"
      ]
     },
     "execution_count": 17,
     "metadata": {},
     "output_type": "execute_result"
    }
   ],
   "source": [
    "df_page_rank_actual.shape"
   ]
  },
  {
   "cell_type": "code",
   "execution_count": null,
   "metadata": {},
   "outputs": [],
   "source": []
  },
  {
   "cell_type": "code",
   "execution_count": null,
   "metadata": {},
   "outputs": [],
   "source": []
  },
  {
   "cell_type": "code",
   "execution_count": null,
   "metadata": {},
   "outputs": [],
   "source": []
  },
  {
   "cell_type": "code",
   "execution_count": 18,
   "metadata": {},
   "outputs": [
    {
     "data": {
      "text/plain": [
       "100000000"
      ]
     },
     "execution_count": 18,
     "metadata": {},
     "output_type": "execute_result"
    }
   ],
   "source": [
    "df_page_rank_actual['pageRankValue'].sum()"
   ]
  },
  {
   "cell_type": "code",
   "execution_count": 19,
   "metadata": {},
   "outputs": [],
   "source": [
    "#df_page_rank_actual_iterate1 = calculate_page_rank(df_page_rank_actual, 1)\n",
    "\n",
    "#error because of NaN in references data .... after left join .... some rows were not found"
   ]
  },
  {
   "cell_type": "code",
   "execution_count": null,
   "metadata": {},
   "outputs": [],
   "source": []
  },
  {
   "cell_type": "code",
   "execution_count": 20,
   "metadata": {},
   "outputs": [],
   "source": [
    "#placing [self] where references is nan\n",
    "df_page_rank_actual.loc[df_page_rank_actual['references'].isnull(),['references']] = df_page_rank_actual.loc[df_page_rank_actual['references'].isnull(),'references'].apply(lambda references : ['self'])\n",
    "\n",
    "#also do for empty array\n",
    "df_page_rank_actual.references = df_page_rank_actual.references.apply(lambda y: ['self'] if len(y)==0 else y)\n",
    "\n",
    "#without [self], empty array, on flatten entries with empty array will be deleted"
   ]
  },
  {
   "cell_type": "code",
   "execution_count": null,
   "metadata": {},
   "outputs": [],
   "source": []
  },
  {
   "cell_type": "code",
   "execution_count": null,
   "metadata": {},
   "outputs": [],
   "source": []
  },
  {
   "cell_type": "code",
   "execution_count": 21,
   "metadata": {},
   "outputs": [],
   "source": [
    "df_page_rank_actual_iterate1 = calculate_page_rank(df_page_rank_actual, 1)"
   ]
  },
  {
   "cell_type": "code",
   "execution_count": null,
   "metadata": {},
   "outputs": [],
   "source": []
  },
  {
   "cell_type": "code",
   "execution_count": null,
   "metadata": {},
   "outputs": [],
   "source": []
  },
  {
   "cell_type": "code",
   "execution_count": 22,
   "metadata": {},
   "outputs": [
    {
     "data": {
      "text/plain": [
       "62949600.00000001"
      ]
     },
     "execution_count": 22,
     "metadata": {},
     "output_type": "execute_result"
    }
   ],
   "source": [
    "df_page_rank_actual_iterate1['pageRankValue'].sum()"
   ]
  },
  {
   "cell_type": "code",
   "execution_count": null,
   "metadata": {},
   "outputs": [],
   "source": []
  },
  {
   "cell_type": "code",
   "execution_count": null,
   "metadata": {},
   "outputs": [],
   "source": []
  },
  {
   "cell_type": "code",
   "execution_count": 23,
   "metadata": {},
   "outputs": [],
   "source": [
    "#df_page_rank_actual_iterate1.query('id == \\'086c091e-d905-4f1c-9385-eec41ad55723\\'')\n",
    "df_page_rank_actual_iterate2 = calculate_page_rank(df_page_rank_actual_iterate1, 1)\n"
   ]
  },
  {
   "cell_type": "code",
   "execution_count": null,
   "metadata": {},
   "outputs": [],
   "source": []
  },
  {
   "cell_type": "code",
   "execution_count": null,
   "metadata": {},
   "outputs": [],
   "source": []
  },
  {
   "cell_type": "code",
   "execution_count": 24,
   "metadata": {},
   "outputs": [
    {
     "data": {
      "text/plain": [
       "44888464.56189278"
      ]
     },
     "execution_count": 24,
     "metadata": {},
     "output_type": "execute_result"
    }
   ],
   "source": [
    "df_page_rank_actual_iterate2['pageRankValue'].sum()"
   ]
  },
  {
   "cell_type": "code",
   "execution_count": null,
   "metadata": {},
   "outputs": [],
   "source": []
  },
  {
   "cell_type": "code",
   "execution_count": null,
   "metadata": {},
   "outputs": [],
   "source": []
  },
  {
   "cell_type": "code",
   "execution_count": 26,
   "metadata": {},
   "outputs": [
    {
     "name": "stderr",
     "output_type": "stream",
     "text": [
      "/anaconda3/lib/python3.6/site-packages/matplotlib/axes/_axes.py:6462: UserWarning: The 'normed' kwarg is deprecated, and has been replaced by the 'density' kwarg.\n",
      "  warnings.warn(\"The 'normed' kwarg is deprecated, and has been \"\n",
      "/anaconda3/lib/python3.6/site-packages/matplotlib/axes/_axes.py:6462: UserWarning: The 'normed' kwarg is deprecated, and has been replaced by the 'density' kwarg.\n",
      "  warnings.warn(\"The 'normed' kwarg is deprecated, and has been \"\n"
     ]
    },
    {
     "data": {
      "text/plain": [
       "<seaborn.axisgrid.JointGrid at 0x1a0ef479b0>"
      ]
     },
     "execution_count": 26,
     "metadata": {},
     "output_type": "execute_result"
    },
    {
     "data": {
      "image/png": "[encoded data removed]",
      "text/plain": [
       "<Figure size 432x432 with 3 Axes>"
      ]
     },
     "metadata": {},
     "output_type": "display_data"
    }
   ],
   "source": [
    "#graph for correlation between pageRank and citation count\n",
    "\n",
    "g = sns.jointplot(x=\"n_citation\", y=\"pageRankValue\", data=df_page_rank_actual_iterate2)\n",
    "g.set_axis_labels('Citation Count', 'Page Rank Value', fontsize=10, fontweight='bold')\n",
    "#g.savefig('Page_Rank_Vs_Citation_Count_1.png')"
   ]
  },
  {
   "cell_type": "code",
   "execution_count": null,
   "metadata": {},
   "outputs": [],
   "source": [
    "#citation count vs pageRank\n",
    "\n",
    "\"\"\"\n",
    "g = sns.jointplot(x=\"pageRankValue\", y=\"n_citation\", data=df_page_rank_actual_iterate2)\n",
    "g.set_axis_labels('Page Rank Value', 'Citation Count', fontsize=10, fontweight='bold')\n",
    "#g.savefig('Page_Rank_Vs_Citation_Count_1.png')\n",
    "\"\"\""
   ]
  },
  {
   "cell_type": "code",
   "execution_count": null,
   "metadata": {},
   "outputs": [],
   "source": []
  },
  {
   "cell_type": "code",
   "execution_count": 27,
   "metadata": {},
   "outputs": [
    {
     "data": {
      "text/plain": [
       "'\\ndf_page_rank_actual_iterate_graph = df_page_rank_actual_iterate2.copy()\\ndf_page_rank_actual_iterate_graph = df_page_rank_actual_iterate_graph[df_page_rank_actual_iterate_graph.n_citation < 35000]\\n\\ng = sns.jointplot(x=\"n_citation\", y=\"pageRankValue\", data=df_page_rank_actual_iterate_graph)\\ng.set_axis_labels(\\'Citation Count\\', \\'Page Rank Value\\', fontsize=10, fontweight=\\'bold\\')\\n#g.savefig(\\'Page_Rank_Vs_Citation_Count_1.png\\')\\n\\ng = sns.jointplot(x=\"pageRankValue\", y=\"n_citation\", data=df_page_rank_actual_iterate_graph)\\ng.set_axis_labels(\\'Page Rank Value\\', \\'Citation Count\\', fontsize=10, fontweight=\\'bold\\')\\n#g.savefig(\\'Page_Rank_Vs_Citation_Count_1.png\\')\\n\\n\\n'"
      ]
     },
     "execution_count": 27,
     "metadata": {},
     "output_type": "execute_result"
    }
   ],
   "source": [
    "\"\"\"\n",
    "df_page_rank_actual_iterate_graph = df_page_rank_actual_iterate2.copy()\n",
    "df_page_rank_actual_iterate_graph = df_page_rank_actual_iterate_graph[df_page_rank_actual_iterate_graph.n_citation < 35000]\n",
    "\n",
    "g = sns.jointplot(x=\"n_citation\", y=\"pageRankValue\", data=df_page_rank_actual_iterate_graph)\n",
    "g.set_axis_labels('Citation Count', 'Page Rank Value', fontsize=10, fontweight='bold')\n",
    "#g.savefig('Page_Rank_Vs_Citation_Count_1.png')\n",
    "\n",
    "g = sns.jointplot(x=\"pageRankValue\", y=\"n_citation\", data=df_page_rank_actual_iterate_graph)\n",
    "g.set_axis_labels('Page Rank Value', 'Citation Count', fontsize=10, fontweight='bold')\n",
    "#g.savefig('Page_Rank_Vs_Citation_Count_1.png')\n",
    "\n",
    "\n",
    "\"\"\""
   ]
  },
  {
   "cell_type": "code",
   "execution_count": null,
   "metadata": {},
   "outputs": [],
   "source": []
  },
  {
   "cell_type": "code",
   "execution_count": null,
   "metadata": {},
   "outputs": [],
   "source": []
  },
  {
   "cell_type": "code",
   "execution_count": null,
   "metadata": {},
   "outputs": [],
   "source": []
  },
  {
   "cell_type": "code",
   "execution_count": 28,
   "metadata": {},
   "outputs": [],
   "source": [
    "#df_page_rank_actual[df_page_rank_actual.references.str.len() == 0].shape\n",
    "\n",
    "#delete all rows which doesnot have any out-degree, that is they do not refer to any of the papers. \n",
    "#Page rank is not defined for those nodes\n",
    "\n",
    "\n",
    "\n",
    "#delete rows with null or nan in references column\n",
    "\n",
    "\n",
    "\n",
    "#df_page_rank_actual[df_page_rank_actual['references'].notnull()].shape\n",
    "\n",
    "\n",
    "\n",
    "#1. flatten by references column\n",
    "#2. make new dataframe by group by on references (have unique paper id in references column)\n",
    "#3. take inner join with original dataframe so that both column (id and references) will have same unique entries\n",
    "\n",
    "\n",
    "\n",
    "#df_page_rank_actual_flatten_references.references.unique().shape\n",
    "#df_page_rank_actual_flatten_references.drop_duplicates(['references']).shape\n",
    "\n",
    "\n",
    "\n",
    "#need to remove from references array also\n",
    "#update n_citation count also ... not consistent with cleaned data\n"
   ]
  },
  {
   "cell_type": "code",
   "execution_count": null,
   "metadata": {},
   "outputs": [],
   "source": []
  },
  {
   "cell_type": "code",
   "execution_count": null,
   "metadata": {},
   "outputs": [],
   "source": []
  },
  {
   "cell_type": "code",
   "execution_count": null,
   "metadata": {},
   "outputs": [],
   "source": []
  },
  {
   "cell_type": "code",
   "execution_count": null,
   "metadata": {},
   "outputs": [],
   "source": []
  },
  {
   "cell_type": "code",
   "execution_count": 48,
   "metadata": {},
   "outputs": [],
   "source": [
    "df_page_rank_actual_iterate2 = calculate_page_rank(df_page_rank_actual_iterate1, 1)"
   ]
  },
  {
   "cell_type": "code",
   "execution_count": 49,
   "metadata": {},
   "outputs": [
    {
     "name": "stderr",
     "output_type": "stream",
     "text": [
      "/anaconda3/lib/python3.6/site-packages/matplotlib/axes/_axes.py:6462: UserWarning: The 'normed' kwarg is deprecated, and has been replaced by the 'density' kwarg.\n",
      "  warnings.warn(\"The 'normed' kwarg is deprecated, and has been \"\n",
      "/anaconda3/lib/python3.6/site-packages/matplotlib/axes/_axes.py:6462: UserWarning: The 'normed' kwarg is deprecated, and has been replaced by the 'density' kwarg.\n",
      "  warnings.warn(\"The 'normed' kwarg is deprecated, and has been \"\n"
     ]
    },
    {
     "data": {
      "text/plain": [
       "<seaborn.axisgrid.JointGrid at 0x1a1060e198>"
      ]
     },
     "execution_count": 49,
     "metadata": {},
     "output_type": "execute_result"
    },
    {
     "data": {
      "image/png": "[encoded data removed]",
      "text/plain": [
       "<Figure size 432x432 with 3 Axes>"
      ]
     },
     "metadata": {},
     "output_type": "display_data"
    }
   ],
   "source": [
    "#graph for correlation between pageRank and citation count\n",
    "\n",
    "g = sns.jointplot(x=\"n_citation\", y=\"pageRankValue\", data=df_page_rank_actual_iterate2)\n",
    "g.set_axis_labels('Citation Count', 'Page Rank Value', fontsize=10, fontweight='bold')\n",
    "#g.savefig('Page_Rank_Vs_Citation_Count_1.png')"
   ]
  },
  {
   "cell_type": "code",
   "execution_count": 39,
   "metadata": {},
   "outputs": [
    {
     "name": "stdout",
     "output_type": "stream",
     "text": [
      "(562357,)\n",
      "(437643,)\n"
     ]
    }
   ],
   "source": [
    "#df_page_rank_actual_iterate2[~df_page_rank_actual_iterate2['pageRankValue'].notnull()].pageRankValue.unique\n",
    "\n",
    "print (df_page_rank_actual_iterate2[~df_page_rank_actual_iterate2['pageRankValue'].notnull()].pageRankValue.shape)\n",
    "print (df_page_rank_actual_iterate2[df_page_rank_actual_iterate2['pageRankValue'].notnull()].pageRankValue.shape)"
   ]
  },
  {
   "cell_type": "code",
   "execution_count": 42,
   "metadata": {},
   "outputs": [],
   "source": [
    "#df_page_rank_actual_iterate2[~df_page_rank_actual_iterate2['pageRankValue'].notnull()].pageRankValue.unique"
   ]
  },
  {
   "cell_type": "code",
   "execution_count": 50,
   "metadata": {},
   "outputs": [
    {
     "name": "stderr",
     "output_type": "stream",
     "text": [
      "/anaconda3/lib/python3.6/site-packages/matplotlib/axes/_axes.py:6462: UserWarning: The 'normed' kwarg is deprecated, and has been replaced by the 'density' kwarg.\n",
      "  warnings.warn(\"The 'normed' kwarg is deprecated, and has been \"\n",
      "/anaconda3/lib/python3.6/site-packages/matplotlib/axes/_axes.py:6462: UserWarning: The 'normed' kwarg is deprecated, and has been replaced by the 'density' kwarg.\n",
      "  warnings.warn(\"The 'normed' kwarg is deprecated, and has been \"\n"
     ]
    },
    {
     "data": {
      "text/plain": [
       "<seaborn.axisgrid.JointGrid at 0x1a1083ddd8>"
      ]
     },
     "execution_count": 50,
     "metadata": {},
     "output_type": "execute_result"
    },
    {
     "data": {
      "image/png": "[encoded data removed]",
      "text/plain": [
       "<Figure size 432x432 with 3 Axes>"
      ]
     },
     "metadata": {},
     "output_type": "display_data"
    }
   ],
   "source": [
    "df_page_rank_actual_iterate_graph = df_page_rank_actual_iterate2.copy()\n",
    "df_page_rank_actual_iterate_graph = df_page_rank_actual_iterate2[df_page_rank_actual_iterate2['pageRankValue'].notnull()]\n",
    "\n",
    "g = sns.jointplot(x=\"n_citation\", y=\"pageRankValue\", data=df_page_rank_actual_iterate_graph)\n",
    "g.set_axis_labels('Citation Count', 'Page Rank Value', fontsize=10, fontweight='bold')\n",
    "#g.savefig('Page_Rank_Vs_Citation_Count_1.png')\n",
    "\n"
   ]
  },
  {
   "cell_type": "code",
   "execution_count": null,
   "metadata": {},
   "outputs": [],
   "source": [
    "g = sns.jointplot(x=\"pageRankValue\", y=\"n_citation\", data=df_page_rank_actual_iterate_graph)\n",
    "g.set_axis_labels('Page Rank Value', 'Citation Count', fontsize=10, fontweight='bold')\n",
    "#g.savefig('Page_Rank_Vs_Citation_Count_1.png')"
   ]
  },
  {
   "cell_type": "code",
   "execution_count": null,
   "metadata": {},
   "outputs": [],
   "source": []
  },
  {
   "cell_type": "code",
   "execution_count": 53,
   "metadata": {},
   "outputs": [
    {
     "data": {
      "text/html": [
       "<div>\n",
       "<style scoped>\n",
       "    .dataframe tbody tr th:only-of-type {\n",
       "        vertical-align: middle;\n",
       "    }\n",
       "\n",
       "    .dataframe tbody tr th {\n",
       "        vertical-align: top;\n",
       "    }\n",
       "\n",
       "    .dataframe thead th {\n",
       "        text-align: right;\n",
       "    }\n",
       "</style>\n",
       "<table border=\"1\" class=\"dataframe\">\n",
       "  <thead>\n",
       "    <tr style=\"text-align: right;\">\n",
       "      <th></th>\n",
       "      <th>abstract</th>\n",
       "      <th>authors</th>\n",
       "      <th>id</th>\n",
       "      <th>n_citation</th>\n",
       "      <th>references</th>\n",
       "      <th>title</th>\n",
       "      <th>venue</th>\n",
       "      <th>year</th>\n",
       "      <th>pageRankValue</th>\n",
       "      <th>totalOutbounds</th>\n",
       "      <th>ratio</th>\n",
       "    </tr>\n",
       "  </thead>\n",
       "  <tbody>\n",
       "    <tr>\n",
       "      <th>551841</th>\n",
       "      <td>From the Publisher:#R##N#This book brings toge...</td>\n",
       "      <td>[David E. Goldberg]</td>\n",
       "      <td>6a6b9aa6-683f-4c7c-b06e-9c3018d10fd3</td>\n",
       "      <td>73362</td>\n",
       "      <td>[self]</td>\n",
       "      <td>Genetic Algorithms in Search, Optimization and...</td>\n",
       "      <td></td>\n",
       "      <td>1989</td>\n",
       "      <td>174185.241662</td>\n",
       "      <td>NaN</td>\n",
       "      <td>NaN</td>\n",
       "    </tr>\n",
       "    <tr>\n",
       "      <th>557560</th>\n",
       "      <td>From the Publisher:#R##N#With this text, you g...</td>\n",
       "      <td>[Alfred V. Aho, John E. Hopcroft]</td>\n",
       "      <td>a662a4e7-415e-417e-8a8f-fe085d7e487f</td>\n",
       "      <td>13227</td>\n",
       "      <td>[self]</td>\n",
       "      <td>The Design and Analysis of Computer Algorithms</td>\n",
       "      <td></td>\n",
       "      <td>1974</td>\n",
       "      <td>80326.457054</td>\n",
       "      <td>NaN</td>\n",
       "      <td>NaN</td>\n",
       "    </tr>\n",
       "    <tr>\n",
       "      <th>676454</th>\n",
       "      <td>NaN</td>\n",
       "      <td>[Gerard Salton, Michael J. McGill]</td>\n",
       "      <td>e75d8e62-a86d-4241-953f-1b315005d920</td>\n",
       "      <td>20878</td>\n",
       "      <td>[self]</td>\n",
       "      <td>Introduction to Modern Information Retrieval</td>\n",
       "      <td></td>\n",
       "      <td>1986</td>\n",
       "      <td>68402.389585</td>\n",
       "      <td>NaN</td>\n",
       "      <td>NaN</td>\n",
       "    </tr>\n",
       "    <tr>\n",
       "      <th>749292</th>\n",
       "      <td>NaN</td>\n",
       "      <td>[Anil K. Jain, Richard C. Dubes]</td>\n",
       "      <td>1017d9d4-9a4c-423d-ad40-6d9bebbd6b31</td>\n",
       "      <td>11759</td>\n",
       "      <td>[32ba673c-4d72-41a9-8596-272a9009cbb5]</td>\n",
       "      <td>Algorithms for clustering data</td>\n",
       "      <td>Technometrics</td>\n",
       "      <td>1988</td>\n",
       "      <td>67491.685051</td>\n",
       "      <td>1.0</td>\n",
       "      <td>67491.685051</td>\n",
       "    </tr>\n",
       "    <tr>\n",
       "      <th>953270</th>\n",
       "      <td>An encryption method is presented with the nov...</td>\n",
       "      <td>[Ronald L. Rivest, Adi Shamir, Leonard M. Adle...</td>\n",
       "      <td>3fb43b00-905c-4a08-934d-198ea4eb66c3</td>\n",
       "      <td>18861</td>\n",
       "      <td>[011d7883-14a9-438c-98af-df7374058a85, 0d1ade2...</td>\n",
       "      <td>A method for obtaining digital signatures and ...</td>\n",
       "      <td>Communications of The ACM</td>\n",
       "      <td>1978</td>\n",
       "      <td>66109.204465</td>\n",
       "      <td>2.0</td>\n",
       "      <td>33054.602233</td>\n",
       "    </tr>\n",
       "  </tbody>\n",
       "</table>\n",
       "</div>"
      ],
      "text/plain": [
       "                                                 abstract  \\\n",
       "551841  From the Publisher:#R##N#This book brings toge...   \n",
       "557560  From the Publisher:#R##N#With this text, you g...   \n",
       "676454                                                NaN   \n",
       "749292                                                NaN   \n",
       "953270  An encryption method is presented with the nov...   \n",
       "\n",
       "                                                  authors  \\\n",
       "551841                                [David E. Goldberg]   \n",
       "557560                  [Alfred V. Aho, John E. Hopcroft]   \n",
       "676454                 [Gerard Salton, Michael J. McGill]   \n",
       "749292                   [Anil K. Jain, Richard C. Dubes]   \n",
       "953270  [Ronald L. Rivest, Adi Shamir, Leonard M. Adle...   \n",
       "\n",
       "                                          id  n_citation  \\\n",
       "551841  6a6b9aa6-683f-4c7c-b06e-9c3018d10fd3       73362   \n",
       "557560  a662a4e7-415e-417e-8a8f-fe085d7e487f       13227   \n",
       "676454  e75d8e62-a86d-4241-953f-1b315005d920       20878   \n",
       "749292  1017d9d4-9a4c-423d-ad40-6d9bebbd6b31       11759   \n",
       "953270  3fb43b00-905c-4a08-934d-198ea4eb66c3       18861   \n",
       "\n",
       "                                               references  \\\n",
       "551841                                             [self]   \n",
       "557560                                             [self]   \n",
       "676454                                             [self]   \n",
       "749292             [32ba673c-4d72-41a9-8596-272a9009cbb5]   \n",
       "953270  [011d7883-14a9-438c-98af-df7374058a85, 0d1ade2...   \n",
       "\n",
       "                                                    title  \\\n",
       "551841  Genetic Algorithms in Search, Optimization and...   \n",
       "557560     The Design and Analysis of Computer Algorithms   \n",
       "676454       Introduction to Modern Information Retrieval   \n",
       "749292                     Algorithms for clustering data   \n",
       "953270  A method for obtaining digital signatures and ...   \n",
       "\n",
       "                            venue  year  pageRankValue  totalOutbounds  \\\n",
       "551841                             1989  174185.241662             NaN   \n",
       "557560                             1974   80326.457054             NaN   \n",
       "676454                             1986   68402.389585             NaN   \n",
       "749292              Technometrics  1988   67491.685051             1.0   \n",
       "953270  Communications of The ACM  1978   66109.204465             2.0   \n",
       "\n",
       "               ratio  \n",
       "551841           NaN  \n",
       "557560           NaN  \n",
       "676454           NaN  \n",
       "749292  67491.685051  \n",
       "953270  33054.602233  "
      ]
     },
     "execution_count": 53,
     "metadata": {},
     "output_type": "execute_result"
    }
   ],
   "source": [
    "df_page_rank_actual_iterate_graph.sort_values(by=['pageRankValue'], ascending=False).head(5)"
   ]
  },
  {
   "cell_type": "code",
   "execution_count": null,
   "metadata": {},
   "outputs": [],
   "source": []
  },
  {
   "cell_type": "code",
   "execution_count": 54,
   "metadata": {},
   "outputs": [],
   "source": [
    "df_page_rank_actual_iterate_graph = df_page_rank_actual_iterate_graph[df_page_rank_actual_iterate_graph.pageRankValue > 0]\n"
   ]
  },
  {
   "cell_type": "code",
   "execution_count": 55,
   "metadata": {},
   "outputs": [
    {
     "name": "stderr",
     "output_type": "stream",
     "text": [
      "/anaconda3/lib/python3.6/site-packages/matplotlib/axes/_axes.py:6462: UserWarning: The 'normed' kwarg is deprecated, and has been replaced by the 'density' kwarg.\n",
      "  warnings.warn(\"The 'normed' kwarg is deprecated, and has been \"\n",
      "/anaconda3/lib/python3.6/site-packages/matplotlib/axes/_axes.py:6462: UserWarning: The 'normed' kwarg is deprecated, and has been replaced by the 'density' kwarg.\n",
      "  warnings.warn(\"The 'normed' kwarg is deprecated, and has been \"\n"
     ]
    },
    {
     "data": {
      "text/plain": [
       "<seaborn.axisgrid.JointGrid at 0x1a10bd3e80>"
      ]
     },
     "execution_count": 55,
     "metadata": {},
     "output_type": "execute_result"
    },
    {
     "data": {
      "image/png": "[encoded data removed]",
      "text/plain": [
       "<Figure size 432x432 with 3 Axes>"
      ]
     },
     "metadata": {},
     "output_type": "display_data"
    }
   ],
   "source": [
    "g = sns.jointplot(x=\"n_citation\", y=\"pageRankValue\", data=df_page_rank_actual_iterate_graph)\n",
    "g.set_axis_labels('Citation Count', 'Page Rank Value', fontsize=10, fontweight='bold')\n",
    "#g.savefig('Page_Rank_Vs_Citation_Count_1.png')\n"
   ]
  },
  {
   "cell_type": "code",
   "execution_count": null,
   "metadata": {},
   "outputs": [],
   "source": []
  },
  {
   "cell_type": "code",
   "execution_count": 56,
   "metadata": {},
   "outputs": [],
   "source": [
    "df_page_rank_actual_iterate_graph = df_page_rank_actual_iterate_graph[df_page_rank_actual_iterate_graph.pageRankValue < 100000]\n"
   ]
  },
  {
   "cell_type": "code",
   "execution_count": 58,
   "metadata": {},
   "outputs": [
    {
     "name": "stderr",
     "output_type": "stream",
     "text": [
      "/anaconda3/lib/python3.6/site-packages/matplotlib/axes/_axes.py:6462: UserWarning: The 'normed' kwarg is deprecated, and has been replaced by the 'density' kwarg.\n",
      "  warnings.warn(\"The 'normed' kwarg is deprecated, and has been \"\n",
      "/anaconda3/lib/python3.6/site-packages/matplotlib/axes/_axes.py:6462: UserWarning: The 'normed' kwarg is deprecated, and has been replaced by the 'density' kwarg.\n",
      "  warnings.warn(\"The 'normed' kwarg is deprecated, and has been \"\n"
     ]
    },
    {
     "data": {
      "image/png": "[encoded data removed]",
      "text/plain": [
       "<Figure size 432x432 with 3 Axes>"
      ]
     },
     "metadata": {},
     "output_type": "display_data"
    }
   ],
   "source": [
    "g = sns.jointplot(x=\"n_citation\", y=\"pageRankValue\", data=df_page_rank_actual_iterate_graph)\n",
    "g.set_axis_labels('Citation Count', 'Page Rank Value', fontsize=10, fontweight='bold')\n",
    "g.savefig('Page_Rank_Vs_Citation_Count_1.png')\n"
   ]
  },
  {
   "cell_type": "code",
   "execution_count": 59,
   "metadata": {},
   "outputs": [],
   "source": [
    "df_page_rank_actual_iterate_graph2 = df_page_rank_actual_iterate_graph.copy()\n",
    "df_page_rank_actual_iterate_graph2 = df_page_rank_actual_iterate_graph2.sample(frac=0.5)\n"
   ]
  },
  {
   "cell_type": "code",
   "execution_count": 70,
   "metadata": {},
   "outputs": [
    {
     "name": "stderr",
     "output_type": "stream",
     "text": [
      "/anaconda3/lib/python3.6/site-packages/matplotlib/axes/_axes.py:6462: UserWarning: The 'normed' kwarg is deprecated, and has been replaced by the 'density' kwarg.\n",
      "  warnings.warn(\"The 'normed' kwarg is deprecated, and has been \"\n",
      "/anaconda3/lib/python3.6/site-packages/matplotlib/axes/_axes.py:6462: UserWarning: The 'normed' kwarg is deprecated, and has been replaced by the 'density' kwarg.\n",
      "  warnings.warn(\"The 'normed' kwarg is deprecated, and has been \"\n"
     ]
    },
    {
     "data": {
      "text/plain": [
       "<seaborn.axisgrid.JointGrid at 0x1a12426a58>"
      ]
     },
     "execution_count": 70,
     "metadata": {},
     "output_type": "execute_result"
    },
    {
     "data": {
      "image/png": "[encoded data removed]",
      "text/plain": [
       "<Figure size 432x432 with 3 Axes>"
      ]
     },
     "metadata": {},
     "output_type": "display_data"
    }
   ],
   "source": [
    "g = sns.jointplot(x=\"n_citation\", y=\"pageRankValue\", data=df_page_rank_actual_iterate_graph2)\n",
    "g.set_axis_labels('Citation Count', 'Page Rank Value', fontsize=10, fontweight='bold')\n",
    "#g.savefig('Page_Rank_Vs_Citation_Count_2.png')\n"
   ]
  },
  {
   "cell_type": "code",
   "execution_count": 61,
   "metadata": {},
   "outputs": [],
   "source": [
    "df_page_rank_actual_iterate_graph2 = df_page_rank_actual_iterate_graph2.sample(frac=0.5)\n"
   ]
  },
  {
   "cell_type": "code",
   "execution_count": 71,
   "metadata": {},
   "outputs": [
    {
     "name": "stderr",
     "output_type": "stream",
     "text": [
      "/anaconda3/lib/python3.6/site-packages/matplotlib/axes/_axes.py:6462: UserWarning: The 'normed' kwarg is deprecated, and has been replaced by the 'density' kwarg.\n",
      "  warnings.warn(\"The 'normed' kwarg is deprecated, and has been \"\n",
      "/anaconda3/lib/python3.6/site-packages/matplotlib/axes/_axes.py:6462: UserWarning: The 'normed' kwarg is deprecated, and has been replaced by the 'density' kwarg.\n",
      "  warnings.warn(\"The 'normed' kwarg is deprecated, and has been \"\n"
     ]
    },
    {
     "data": {
      "text/plain": [
       "<seaborn.axisgrid.JointGrid at 0x1a126d8cf8>"
      ]
     },
     "execution_count": 71,
     "metadata": {},
     "output_type": "execute_result"
    },
    {
     "data": {
      "image/png": "[encoded data removed]",
      "text/plain": [
       "<Figure size 432x432 with 3 Axes>"
      ]
     },
     "metadata": {},
     "output_type": "display_data"
    }
   ],
   "source": [
    "g = sns.jointplot(x=\"n_citation\", y=\"pageRankValue\", data=df_page_rank_actual_iterate_graph2)\n",
    "g.set_axis_labels('Citation Count', 'Page Rank Value', fontsize=10, fontweight='bold')\n",
    "#g.savefig('Page_Rank_Vs_Citation_Count_2.png')\n"
   ]
  },
  {
   "cell_type": "code",
   "execution_count": 63,
   "metadata": {},
   "outputs": [
    {
     "data": {
      "text/plain": [
       "(74539, 11)"
      ]
     },
     "execution_count": 63,
     "metadata": {},
     "output_type": "execute_result"
    }
   ],
   "source": [
    "df_page_rank_actual_iterate_graph2.shape"
   ]
  },
  {
   "cell_type": "code",
   "execution_count": 90,
   "metadata": {},
   "outputs": [
    {
     "data": {
      "text/plain": [
       "(2330, 11)"
      ]
     },
     "execution_count": 90,
     "metadata": {},
     "output_type": "execute_result"
    }
   ],
   "source": [
    "df_page_rank_actual_iterate_graph2 = df_page_rank_actual_iterate_graph2.sample(frac=0.5)\n",
    "df_page_rank_actual_iterate_graph2.shape"
   ]
  },
  {
   "cell_type": "code",
   "execution_count": 91,
   "metadata": {},
   "outputs": [
    {
     "name": "stderr",
     "output_type": "stream",
     "text": [
      "/anaconda3/lib/python3.6/site-packages/matplotlib/axes/_axes.py:6462: UserWarning: The 'normed' kwarg is deprecated, and has been replaced by the 'density' kwarg.\n",
      "  warnings.warn(\"The 'normed' kwarg is deprecated, and has been \"\n",
      "/anaconda3/lib/python3.6/site-packages/matplotlib/axes/_axes.py:6462: UserWarning: The 'normed' kwarg is deprecated, and has been replaced by the 'density' kwarg.\n",
      "  warnings.warn(\"The 'normed' kwarg is deprecated, and has been \"\n"
     ]
    },
    {
     "data": {
      "text/plain": [
       "<seaborn.axisgrid.JointGrid at 0x1a146b4ba8>"
      ]
     },
     "execution_count": 91,
     "metadata": {},
     "output_type": "execute_result"
    },
    {
     "data": {
      "image/png": "[encoded data removed]",
      "text/plain": [
       "<Figure size 432x432 with 3 Axes>"
      ]
     },
     "metadata": {},
     "output_type": "display_data"
    }
   ],
   "source": [
    "g = sns.jointplot(x=\"n_citation\", y=\"pageRankValue\", data=df_page_rank_actual_iterate_graph2, s=8)\n",
    "g.set_axis_labels('Citation Count', 'Page Rank Value', fontsize=10, fontweight='bold')\n",
    "#g.savefig('Page_Rank_Vs_Citation_Count_2.png')\n"
   ]
  },
  {
   "cell_type": "code",
   "execution_count": 92,
   "metadata": {},
   "outputs": [],
   "source": [
    "df_page_rank_actual_iterate_graph3 = df_page_rank_actual_iterate_graph2[df_page_rank_actual_iterate_graph2.pageRankValue < 2500]\n"
   ]
  },
  {
   "cell_type": "code",
   "execution_count": 93,
   "metadata": {},
   "outputs": [
    {
     "name": "stderr",
     "output_type": "stream",
     "text": [
      "/anaconda3/lib/python3.6/site-packages/matplotlib/axes/_axes.py:6462: UserWarning: The 'normed' kwarg is deprecated, and has been replaced by the 'density' kwarg.\n",
      "  warnings.warn(\"The 'normed' kwarg is deprecated, and has been \"\n",
      "/anaconda3/lib/python3.6/site-packages/matplotlib/axes/_axes.py:6462: UserWarning: The 'normed' kwarg is deprecated, and has been replaced by the 'density' kwarg.\n",
      "  warnings.warn(\"The 'normed' kwarg is deprecated, and has been \"\n"
     ]
    },
    {
     "data": {
      "image/png": "[encoded data removed]",
      "text/plain": [
       "<Figure size 432x432 with 3 Axes>"
      ]
     },
     "metadata": {},
     "output_type": "display_data"
    }
   ],
   "source": [
    "g = sns.jointplot(x=\"n_citation\", y=\"pageRankValue\", data=df_page_rank_actual_iterate_graph3, s=8)\n",
    "g.set_axis_labels('Citation Count', 'Page Rank Value', fontsize=10, fontweight='bold')\n",
    "g.savefig('Page_Rank_Vs_Citation_Count_3.png')\n"
   ]
  },
  {
   "cell_type": "code",
   "execution_count": null,
   "metadata": {},
   "outputs": [],
   "source": []
  }
 ],
 "metadata": {
  "kernelspec": {
   "display_name": "Python 3",
   "language": "python",
   "name": "python3"
  },
  "language_info": {
   "codemirror_mode": {
    "name": "ipython",
    "version": 3
   },
   "file_extension": ".py",
   "mimetype": "text/x-python",
   "name": "python",
   "nbconvert_exporter": "python",
   "pygments_lexer": "ipython3",
   "version": "3.6.5"
  }
 },
 "nbformat": 4,
 "nbformat_minor": 2
}
