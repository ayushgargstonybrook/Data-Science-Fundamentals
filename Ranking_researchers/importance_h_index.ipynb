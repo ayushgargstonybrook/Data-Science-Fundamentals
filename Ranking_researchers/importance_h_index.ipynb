{
 "cells": [
  {
   "cell_type": "code",
   "execution_count": 1,
   "metadata": {},
   "outputs": [],
   "source": [
    "#Import\n",
    "import pandas as pd\n",
    "import numpy as np\n",
    "\n",
    "import json\n",
    "from pandas.io.json import json_normalize"
   ]
  },
  {
   "cell_type": "code",
   "execution_count": null,
   "metadata": {},
   "outputs": [],
   "source": []
  },
  {
   "cell_type": "code",
   "execution_count": null,
   "metadata": {},
   "outputs": [],
   "source": []
  },
  {
   "cell_type": "code",
   "execution_count": 2,
   "metadata": {},
   "outputs": [],
   "source": [
    "# Visualization libraries\n",
    "import seaborn as sns\n",
    "import matplotlib.pyplot as plt\n",
    "%matplotlib inline"
   ]
  },
  {
   "cell_type": "code",
   "execution_count": null,
   "metadata": {},
   "outputs": [],
   "source": []
  },
  {
   "cell_type": "code",
   "execution_count": null,
   "metadata": {},
   "outputs": [],
   "source": []
  },
  {
   "cell_type": "code",
   "execution_count": 3,
   "metadata": {},
   "outputs": [],
   "source": [
    "df = pd.read_json('../Data/V10/dblp-ref/dblp-ref-0.json', lines=True)"
   ]
  },
  {
   "cell_type": "code",
   "execution_count": null,
   "metadata": {},
   "outputs": [],
   "source": []
  },
  {
   "cell_type": "code",
   "execution_count": null,
   "metadata": {},
   "outputs": [],
   "source": []
  },
  {
   "cell_type": "code",
   "execution_count": 4,
   "metadata": {},
   "outputs": [],
   "source": [
    "from  itertools import chain\n",
    "\n",
    "df_flatten_authors = pd.DataFrame({\n",
    "        \"abstract\": np.repeat(df.abstract.values, df.authors.str.len()),\n",
    "        \"authors\": list(chain.from_iterable(df.authors)),\n",
    "        \"id\": np.repeat(df.id.values, df.authors.str.len()),\n",
    "        \"n_citation\": np.repeat(df.n_citation.values, df.authors.str.len()),\n",
    "        \"references\": np.repeat(df.references.values, df.authors.str.len()),\n",
    "        \"title\": np.repeat(df.title.values, df.authors.str.len()),\n",
    "        \"venue\": np.repeat(df.venue.values, df.authors.str.len()),\n",
    "        \"year\": np.repeat(df.year.values, df.authors.str.len())\n",
    "})"
   ]
  },
  {
   "cell_type": "code",
   "execution_count": null,
   "metadata": {},
   "outputs": [],
   "source": []
  },
  {
   "cell_type": "code",
   "execution_count": null,
   "metadata": {},
   "outputs": [],
   "source": []
  },
  {
   "cell_type": "code",
   "execution_count": 5,
   "metadata": {},
   "outputs": [],
   "source": [
    "df_copy = df.copy()\n",
    "df_flatten_authors_copy = df_flatten_authors.copy()"
   ]
  },
  {
   "cell_type": "code",
   "execution_count": null,
   "metadata": {},
   "outputs": [],
   "source": []
  },
  {
   "cell_type": "code",
   "execution_count": null,
   "metadata": {},
   "outputs": [],
   "source": []
  },
  {
   "cell_type": "code",
   "execution_count": 6,
   "metadata": {},
   "outputs": [],
   "source": [
    "def h_index_utility(series):\n",
    "    count = 0\n",
    "    sortedSeries = np.sort(series)\n",
    "    sortedSeries = sortedSeries[::-1]\n",
    "    i = 1\n",
    "    for item in sortedSeries:\n",
    "        if (item < i): #check on equality\n",
    "            break\n",
    "        i+=1    \n",
    "    #series['h_index'] = (i-1)\n",
    "    return (i-1)"
   ]
  },
  {
   "cell_type": "code",
   "execution_count": null,
   "metadata": {},
   "outputs": [],
   "source": []
  },
  {
   "cell_type": "code",
   "execution_count": null,
   "metadata": {},
   "outputs": [],
   "source": []
  },
  {
   "cell_type": "code",
   "execution_count": 7,
   "metadata": {},
   "outputs": [
    {
     "data": {
      "text/plain": [
       "'\\ng = sns.jointplot(x=\"n_citation_sum\", y=\"n_citation_h_index_utility\", data=df_flatten_authors_h_index)\\ng.set_axis_labels(\\'Citation Count\\', \\'h-index\\', fontsize=10, fontweight=\\'bold\\')\\ng.savefig(\\'h_index_n_citation_count_Nov_11.png\\')\\n'"
      ]
     },
     "execution_count": 7,
     "metadata": {},
     "output_type": "execute_result"
    }
   ],
   "source": [
    "df_flatten_authors_h_index = df_flatten_authors.groupby('authors').agg({'n_citation' : ['sum', h_index_utility]})\n",
    "df_flatten_authors_h_index.columns = [\"_\".join(x) for x in df_flatten_authors_h_index.columns.ravel()]\n",
    "df_flatten_authors_h_index['author_name'] = df_flatten_authors_h_index.index\n",
    "\n",
    "#df_flatten_authors_h_index.sort_values(by=['n_citation_h_index_utility'], ascending=False).head(5)\n",
    "#df_flatten_authors_h_index.sort_values(by=['n_citation_sum'], ascending=False).head(5)\n",
    "\n",
    "#graph made in project proposal\n",
    "\"\"\"\n",
    "g = sns.jointplot(x=\"n_citation_sum\", y=\"n_citation_h_index_utility\", data=df_flatten_authors_h_index)\n",
    "g.set_axis_labels('Citation Count', 'h-index', fontsize=10, fontweight='bold')\n",
    "g.savefig('h_index_n_citation_count_Nov_11.png')\n",
    "\"\"\"\n",
    "\n",
    "#df_flatten_authors[df_flatten_authors['authors'] == 'David E. Goldberg'].sort_values(by=['n_citation'], ascending=False)\n"
   ]
  },
  {
   "cell_type": "code",
   "execution_count": 12,
   "metadata": {},
   "outputs": [
    {
     "data": {
      "text/plain": [
       "n_citation_sum                 int64\n",
       "n_citation_h_index_utility     int64\n",
       "author_name                   object\n",
       "dtype: object"
      ]
     },
     "execution_count": 12,
     "metadata": {},
     "output_type": "execute_result"
    }
   ],
   "source": [
    "df_flatten_authors_h_index.dtypes"
   ]
  },
  {
   "cell_type": "code",
   "execution_count": null,
   "metadata": {},
   "outputs": [],
   "source": []
  },
  {
   "cell_type": "code",
   "execution_count": null,
   "metadata": {},
   "outputs": [],
   "source": []
  },
  {
   "cell_type": "code",
   "execution_count": null,
   "metadata": {},
   "outputs": [],
   "source": []
  },
  {
   "cell_type": "code",
   "execution_count": null,
   "metadata": {},
   "outputs": [],
   "source": []
  },
  {
   "cell_type": "code",
   "execution_count": 8,
   "metadata": {},
   "outputs": [
    {
     "data": {
      "text/plain": [
       "'\\ndf_flatten_authors_copy3_2[\\'rank\\'] = df_flatten_authors_copy3_2[\\'n_citation_h_index_utility2\\'].rank(ascending=False)\\ndf_flatten_authors_copy3_2.head()\\nsns.jointplot(x=\"rank\", y=\"n_citation_sum\", data=df_flatten_authors_copy3_2)\\n\\ndf_flatten_authors_copy3_3 = df_flatten_authors_copy3_2.sample(n=100000)\\nsns.jointplot(x=\"n_citation_sum\", y=\"n_citation_h_index_utility2\", data=df_flatten_authors_copy3_3)\\n\\n'"
      ]
     },
     "execution_count": 8,
     "metadata": {},
     "output_type": "execute_result"
    }
   ],
   "source": [
    "#tried to rank on h-index\n",
    "\n",
    "\"\"\"\n",
    "df_flatten_authors_copy3_2['rank'] = df_flatten_authors_copy3_2['n_citation_h_index_utility2'].rank(ascending=False)\n",
    "df_flatten_authors_copy3_2.head()\n",
    "sns.jointplot(x=\"rank\", y=\"n_citation_sum\", data=df_flatten_authors_copy3_2)\n",
    "\n",
    "df_flatten_authors_copy3_3 = df_flatten_authors_copy3_2.sample(n=100000)\n",
    "sns.jointplot(x=\"n_citation_sum\", y=\"n_citation_h_index_utility2\", data=df_flatten_authors_copy3_3)\n",
    "\n",
    "\"\"\""
   ]
  },
  {
   "cell_type": "code",
   "execution_count": null,
   "metadata": {},
   "outputs": [],
   "source": []
  },
  {
   "cell_type": "code",
   "execution_count": null,
   "metadata": {},
   "outputs": [],
   "source": []
  },
  {
   "cell_type": "code",
   "execution_count": null,
   "metadata": {},
   "outputs": [],
   "source": []
  },
  {
   "cell_type": "code",
   "execution_count": null,
   "metadata": {},
   "outputs": [],
   "source": []
  },
  {
   "cell_type": "code",
   "execution_count": null,
   "metadata": {},
   "outputs": [],
   "source": []
  },
  {
   "cell_type": "code",
   "execution_count": null,
   "metadata": {},
   "outputs": [],
   "source": []
  },
  {
   "cell_type": "code",
   "execution_count": 13,
   "metadata": {},
   "outputs": [
    {
     "data": {
      "text/plain": [
       "' IMPORTANCE Calculation'"
      ]
     },
     "execution_count": 13,
     "metadata": {},
     "output_type": "execute_result"
    }
   ],
   "source": [
    "\"\"\" IMPORTANCE Calculation\"\"\""
   ]
  },
  {
   "cell_type": "code",
   "execution_count": null,
   "metadata": {},
   "outputs": [],
   "source": []
  },
  {
   "cell_type": "code",
   "execution_count": null,
   "metadata": {},
   "outputs": [],
   "source": []
  },
  {
   "cell_type": "code",
   "execution_count": null,
   "metadata": {},
   "outputs": [],
   "source": []
  },
  {
   "cell_type": "code",
   "execution_count": 14,
   "metadata": {},
   "outputs": [
    {
     "data": {
      "text/plain": [
       "'\\ndf = df_copy.copy()\\ndf.head()\\n'"
      ]
     },
     "execution_count": 14,
     "metadata": {},
     "output_type": "execute_result"
    }
   ],
   "source": [
    "#inserting empty array for nan\n",
    "\n",
    "df.loc[df['references'].isnull(),['references']] = df.loc[df['references'].isnull(),'references'].apply(lambda references : [])\n",
    "\n",
    "#placing [self] where references is nan\n",
    "\n",
    "df.loc[df['references'].isnull(),['references']] = df.loc[df['references'].isnull(),'references'].apply(lambda references : ['self'])\n",
    "\n",
    "#without [self], empty array, on flatten entries with empty array will be deleted\n",
    "\n",
    "\"\"\"\n",
    "df = df_copy.copy()\n",
    "df.head()\n",
    "\"\"\""
   ]
  },
  {
   "cell_type": "code",
   "execution_count": null,
   "metadata": {},
   "outputs": [],
   "source": []
  },
  {
   "cell_type": "code",
   "execution_count": 15,
   "metadata": {},
   "outputs": [],
   "source": [
    "from  itertools import chain\n",
    "\n",
    "df_flatten_references = pd.DataFrame({\n",
    "        \"abstract\": np.repeat(df.abstract.values, df.references.str.len()),\n",
    "        \"authors\": np.repeat(df.authors.values, df.references.str.len()),\n",
    "        \"id\": np.repeat(df.id.values, df.references.str.len()),\n",
    "        \"n_citation\": np.repeat(df.n_citation.values, df.references.str.len()),\n",
    "        \"references\": list(chain.from_iterable(df.references)),\n",
    "        \"title\": np.repeat(df.title.values, df.references.str.len()),\n",
    "        \"venue\": np.repeat(df.venue.values, df.references.str.len()),\n",
    "        \"year\": np.repeat(df.year.values, df.references.str.len())\n",
    "})"
   ]
  },
  {
   "cell_type": "code",
   "execution_count": null,
   "metadata": {},
   "outputs": [],
   "source": []
  },
  {
   "cell_type": "code",
   "execution_count": null,
   "metadata": {},
   "outputs": [],
   "source": []
  },
  {
   "cell_type": "code",
   "execution_count": 16,
   "metadata": {},
   "outputs": [],
   "source": [
    "#df_flatten_references.loc[df_flatten_references['id'] == '00745041-3636-4d18-bbec-783c4278c40d']\n",
    "#df_flatten_references[df_flatten_references['id'] == '00745041-3636-4d18-bbec-783c4278c40d']\n",
    "#df_flatten_references.loc[df_flatten_references['references'] == '51c7e02e-f5ed-431a-8cf5-f761f266d4be']"
   ]
  },
  {
   "cell_type": "code",
   "execution_count": null,
   "metadata": {},
   "outputs": [],
   "source": []
  },
  {
   "cell_type": "code",
   "execution_count": null,
   "metadata": {},
   "outputs": [],
   "source": []
  },
  {
   "cell_type": "code",
   "execution_count": 17,
   "metadata": {},
   "outputs": [],
   "source": [
    "df_flatten_references_importance = df_flatten_references.groupby('references').agg({'n_citation' : 'sum'})"
   ]
  },
  {
   "cell_type": "code",
   "execution_count": null,
   "metadata": {},
   "outputs": [],
   "source": []
  },
  {
   "cell_type": "code",
   "execution_count": 18,
   "metadata": {},
   "outputs": [],
   "source": [
    "#mistake \n",
    "\n",
    "#df['references'] = df.index\n",
    "\n",
    "#df_flatten_references['references'] = df_flatten_references.index\n",
    "\n",
    "df_flatten_references_importance['id'] = df_flatten_references_importance.index\n",
    "\n",
    "df_flatten_references_importance['importance'] = df_flatten_references_importance['n_citation']"
   ]
  },
  {
   "cell_type": "code",
   "execution_count": null,
   "metadata": {},
   "outputs": [],
   "source": []
  },
  {
   "cell_type": "code",
   "execution_count": 19,
   "metadata": {},
   "outputs": [],
   "source": [
    "#df_flatten_references_importance.dtypes\n",
    "#df_flatten_references_importance[df_flatten_references_importance['id'] == '51c7e02e-f5ed-431a-8cf5-f761f266d4be']\n"
   ]
  },
  {
   "cell_type": "code",
   "execution_count": null,
   "metadata": {},
   "outputs": [],
   "source": []
  },
  {
   "cell_type": "code",
   "execution_count": null,
   "metadata": {},
   "outputs": [],
   "source": []
  },
  {
   "cell_type": "code",
   "execution_count": 20,
   "metadata": {},
   "outputs": [
    {
     "data": {
      "text/plain": [
       "' MERGE '"
      ]
     },
     "execution_count": 20,
     "metadata": {},
     "output_type": "execute_result"
    }
   ],
   "source": [
    "\"\"\" MERGE \"\"\""
   ]
  },
  {
   "cell_type": "code",
   "execution_count": null,
   "metadata": {},
   "outputs": [],
   "source": []
  },
  {
   "cell_type": "code",
   "execution_count": null,
   "metadata": {},
   "outputs": [],
   "source": []
  },
  {
   "cell_type": "code",
   "execution_count": 21,
   "metadata": {},
   "outputs": [],
   "source": [
    "df_result = pd.merge(df, df_flatten_references_importance[['id', 'importance']], on='id')"
   ]
  },
  {
   "cell_type": "code",
   "execution_count": 22,
   "metadata": {},
   "outputs": [
    {
     "data": {
      "text/plain": [
       "\"\\ndf_result.to_pickle('pickle1')\\ndf_result2 = pd.read_pickle('pickle1')\\ndf_result2.shape()\\n\""
      ]
     },
     "execution_count": 22,
     "metadata": {},
     "output_type": "execute_result"
    }
   ],
   "source": [
    "#df_result.loc[df_result['id'] == '51c7e02e-f5ed-431a-8cf5-f761f266d4be']\n",
    "#df_result.loc[df_result['id'] == '00001301-0e56-4c9d-94aa-f776580aed87']\n",
    "#df_result.shape\n",
    "\n",
    "\"\"\" Pickel : Save and Read \"\"\"\n",
    "\n",
    "\"\"\"\n",
    "df_result.to_pickle('pickle1')\n",
    "df_result2 = pd.read_pickle('pickle1')\n",
    "df_result2.shape()\n",
    "\"\"\"\n"
   ]
  },
  {
   "cell_type": "code",
   "execution_count": null,
   "metadata": {},
   "outputs": [],
   "source": []
  },
  {
   "cell_type": "code",
   "execution_count": null,
   "metadata": {},
   "outputs": [],
   "source": []
  }
 ],
 "metadata": {
  "kernelspec": {
   "display_name": "Python 3",
   "language": "python",
   "name": "python3"
  },
  "language_info": {
   "codemirror_mode": {
    "name": "ipython",
    "version": 3
   },
   "file_extension": ".py",
   "mimetype": "text/x-python",
   "name": "python",
   "nbconvert_exporter": "python",
   "pygments_lexer": "ipython3",
   "version": "3.6.5"
  }
 },
 "nbformat": 4,
 "nbformat_minor": 2
}
