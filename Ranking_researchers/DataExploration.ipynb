{
  "nbformat": 4,
  "nbformat_minor": 0,
  "metadata": {
    "colab": {
      "name": "DataExploration.ipynb",
      "version": "0.3.2",
      "provenance": []
    },
    "kernelspec": {
      "name": "python3",
      "display_name": "Python 3"
    }
  },
  "cells": [
    {
      "metadata": {
        "id": "J8apZAhYl1uj",
        "colab_type": "code",
        "outputId": "f7f16b6a-0184-4327-ee28-7c81e6678eea",
        "colab": {
          "base_uri": "https://localhost:8080/",
          "height": 34
        }
      },
      "cell_type": "code",
      "source": [
        "from google.colab import drive\n",
        "drive.mount('/content/drive')"
      ],
      "execution_count": 1,
      "outputs": [
        {
          "output_type": "stream",
          "text": [
            "Drive already mounted at /content/drive; to attempt to forcibly remount, call drive.mount(\"/content/drive\", force_remount=True).\n"
          ],
          "name": "stdout"
        }
      ]
    },
    {
      "metadata": {
        "id": "q-1CFmZ5mL55",
        "colab_type": "code",
        "outputId": "25d6ba90-a382-4b17-cd6b-ebb51e1dea1f",
        "colab": {
          "base_uri": "https://localhost:8080/",
          "height": 54
        }
      },
      "cell_type": "code",
      "source": [
        "# Initial Python environment setup...\n",
        "import numpy as np # linear algebra\n",
        "import pandas as pd # CSV file I/O (e.g. pd.read_csv)\n",
        "import os # reading the input files we have access to\n",
        "\n",
        "print(os.listdir('/content/drive/My Drive/'))\n",
        "pd.options.display.max_columns = 60"
      ],
      "execution_count": 2,
      "outputs": [
        {
          "output_type": "stream",
          "text": [
            "['Colab Notebooks', 'pickle_topic', 'max_reach_df_compressed_1.pkl', 'max_reach_df_compressed_2.pkl', 'author_graph', 'dblp-ref-0.json', 'df_page_rank_actual_flatten_references.pkl', 'author_graph.gpickle', 'dsf-final', 'bigdf_1.pkl', 'reach_df_join.pkl']\n"
          ],
          "name": "stdout"
        }
      ]
    },
    {
      "metadata": {
        "id": "OJdZQCMbmnK9",
        "colab_type": "code",
        "outputId": "471fd719-5188-41c4-ef05-42fb7c847b8d",
        "colab": {
          "base_uri": "https://localhost:8080/",
          "height": 170
        }
      },
      "cell_type": "code",
      "source": [
        "train_df =  pd.read_json('/content/drive/My Drive/dblp-ref-0.json',lines=True)\n",
        "train_df.dtypes"
      ],
      "execution_count": 3,
      "outputs": [
        {
          "output_type": "execute_result",
          "data": {
            "text/plain": [
              "abstract      object\n",
              "authors       object\n",
              "id            object\n",
              "n_citation     int64\n",
              "references    object\n",
              "title         object\n",
              "venue         object\n",
              "year           int64\n",
              "dtype: object"
            ]
          },
          "metadata": {
            "tags": []
          },
          "execution_count": 3
        }
      ]
    },
    {
      "metadata": {
        "id": "1cg1CljBrRql",
        "colab_type": "text"
      },
      "cell_type": "markdown",
      "source": [
        "There are 8 columns out of which 6 (abstract, authors, id, references, title, venue) are categorical. And remaining 2 (n_citiation, year) are numeric."
      ]
    },
    {
      "metadata": {
        "id": "kBqH-mCPofDE",
        "colab_type": "code",
        "colab": {
          "base_uri": "https://localhost:8080/",
          "height": 238
        },
        "outputId": "a01c8a4c-328b-454c-e69f-7b5266e71ceb"
      },
      "cell_type": "code",
      "source": [
        "train_df.info()"
      ],
      "execution_count": 4,
      "outputs": [
        {
          "output_type": "stream",
          "text": [
            "<class 'pandas.core.frame.DataFrame'>\n",
            "Int64Index: 1000000 entries, 0 to 999999\n",
            "Data columns (total 8 columns):\n",
            "abstract      753646 non-null object\n",
            "authors       1000000 non-null object\n",
            "id            1000000 non-null object\n",
            "n_citation    1000000 non-null int64\n",
            "references    861480 non-null object\n",
            "title         1000000 non-null object\n",
            "venue         1000000 non-null object\n",
            "year          1000000 non-null int64\n",
            "dtypes: int64(2), object(6)\n",
            "memory usage: 68.7+ MB\n"
          ],
          "name": "stdout"
        }
      ]
    },
    {
      "metadata": {
        "id": "sxRxor6jr-GJ",
        "colab_type": "text"
      },
      "cell_type": "markdown",
      "source": [
        "There are 1M entries in the dataset. The two columns (abstract, references) have some null values. Rest 6 columns don’t have any null values."
      ]
    },
    {
      "metadata": {
        "id": "RXrcl6dHriHk",
        "colab_type": "text"
      },
      "cell_type": "markdown",
      "source": [
        ""
      ]
    },
    {
      "metadata": {
        "id": "w1fL0HWgofJT",
        "colab_type": "code",
        "colab": {
          "base_uri": "https://localhost:8080/",
          "height": 297
        },
        "outputId": "c7f86222-9417-43ca-843e-8b4421cf09b1"
      },
      "cell_type": "code",
      "source": [
        "train_df.describe()"
      ],
      "execution_count": 5,
      "outputs": [
        {
          "output_type": "execute_result",
          "data": {
            "text/html": [
              "<div>\n",
              "<style scoped>\n",
              "    .dataframe tbody tr th:only-of-type {\n",
              "        vertical-align: middle;\n",
              "    }\n",
              "\n",
              "    .dataframe tbody tr th {\n",
              "        vertical-align: top;\n",
              "    }\n",
              "\n",
              "    .dataframe thead th {\n",
              "        text-align: right;\n",
              "    }\n",
              "</style>\n",
              "<table border=\"1\" class=\"dataframe\">\n",
              "  <thead>\n",
              "    <tr style=\"text-align: right;\">\n",
              "      <th></th>\n",
              "      <th>n_citation</th>\n",
              "      <th>year</th>\n",
              "    </tr>\n",
              "  </thead>\n",
              "  <tbody>\n",
              "    <tr>\n",
              "      <th>count</th>\n",
              "      <td>1000000.000000</td>\n",
              "      <td>1000000.000000</td>\n",
              "    </tr>\n",
              "    <tr>\n",
              "      <th>mean</th>\n",
              "      <td>30.875730</td>\n",
              "      <td>2006.365124</td>\n",
              "    </tr>\n",
              "    <tr>\n",
              "      <th>std</th>\n",
              "      <td>137.942473</td>\n",
              "      <td>7.833833</td>\n",
              "    </tr>\n",
              "    <tr>\n",
              "      <th>min</th>\n",
              "      <td>0.000000</td>\n",
              "      <td>1937.000000</td>\n",
              "    </tr>\n",
              "    <tr>\n",
              "      <th>25%</th>\n",
              "      <td>1.000000</td>\n",
              "      <td>2003.000000</td>\n",
              "    </tr>\n",
              "    <tr>\n",
              "      <th>50%</th>\n",
              "      <td>9.000000</td>\n",
              "      <td>2008.000000</td>\n",
              "    </tr>\n",
              "    <tr>\n",
              "      <th>75%</th>\n",
              "      <td>50.000000</td>\n",
              "      <td>2012.000000</td>\n",
              "    </tr>\n",
              "    <tr>\n",
              "      <th>max</th>\n",
              "      <td>73362.000000</td>\n",
              "      <td>2017.000000</td>\n",
              "    </tr>\n",
              "  </tbody>\n",
              "</table>\n",
              "</div>"
            ],
            "text/plain": [
              "           n_citation            year\n",
              "count  1000000.000000  1000000.000000\n",
              "mean        30.875730     2006.365124\n",
              "std        137.942473        7.833833\n",
              "min          0.000000     1937.000000\n",
              "25%          1.000000     2003.000000\n",
              "50%          9.000000     2008.000000\n",
              "75%         50.000000     2012.000000\n",
              "max      73362.000000     2017.000000"
            ]
          },
          "metadata": {
            "tags": []
          },
          "execution_count": 5
        }
      ]
    },
    {
      "metadata": {
        "id": "22m1BTlNofMq",
        "colab_type": "code",
        "colab": {
          "base_uri": "https://localhost:8080/",
          "height": 289
        },
        "outputId": "bbb23b17-c259-4949-9347-d2a0691cfd50"
      },
      "cell_type": "code",
      "source": [
        "train_df.head(5)"
      ],
      "execution_count": 6,
      "outputs": [
        {
          "output_type": "execute_result",
          "data": {
            "text/html": [
              "<div>\n",
              "<style scoped>\n",
              "    .dataframe tbody tr th:only-of-type {\n",
              "        vertical-align: middle;\n",
              "    }\n",
              "\n",
              "    .dataframe tbody tr th {\n",
              "        vertical-align: top;\n",
              "    }\n",
              "\n",
              "    .dataframe thead th {\n",
              "        text-align: right;\n",
              "    }\n",
              "</style>\n",
              "<table border=\"1\" class=\"dataframe\">\n",
              "  <thead>\n",
              "    <tr style=\"text-align: right;\">\n",
              "      <th></th>\n",
              "      <th>abstract</th>\n",
              "      <th>authors</th>\n",
              "      <th>id</th>\n",
              "      <th>n_citation</th>\n",
              "      <th>references</th>\n",
              "      <th>title</th>\n",
              "      <th>venue</th>\n",
              "      <th>year</th>\n",
              "    </tr>\n",
              "  </thead>\n",
              "  <tbody>\n",
              "    <tr>\n",
              "      <th>0</th>\n",
              "      <td>The purpose of this study is to develop a lear...</td>\n",
              "      <td>[Makoto Satoh, Ryo Muramatsu, Mizue Kayama, Ka...</td>\n",
              "      <td>00127ee2-cb05-48ce-bc49-9de556b93346</td>\n",
              "      <td>0</td>\n",
              "      <td>[51c7e02e-f5ed-431a-8cf5-f761f266d4be, 69b625b...</td>\n",
              "      <td>Preliminary Design of a Network Protocol Learn...</td>\n",
              "      <td>international conference on human-computer int...</td>\n",
              "      <td>2013</td>\n",
              "    </tr>\n",
              "    <tr>\n",
              "      <th>1</th>\n",
              "      <td>This paper describes the design and implementa...</td>\n",
              "      <td>[Gareth Beale, Graeme Earl]</td>\n",
              "      <td>001c58d3-26ad-46b3-ab3a-c1e557d16821</td>\n",
              "      <td>50</td>\n",
              "      <td>[10482dd3-4642-4193-842f-85f3b70fcf65, 3133714...</td>\n",
              "      <td>A methodology for the physically accurate visu...</td>\n",
              "      <td>visual analytics science and technology</td>\n",
              "      <td>2011</td>\n",
              "    </tr>\n",
              "    <tr>\n",
              "      <th>2</th>\n",
              "      <td>This article applied GARCH model instead AR or...</td>\n",
              "      <td>[Altaf Hossain, Faisal Zaman, Mohammed Nasser,...</td>\n",
              "      <td>001c8744-73c4-4b04-9364-22d31a10dbf1</td>\n",
              "      <td>50</td>\n",
              "      <td>[2d84c0f2-e656-4ce7-b018-90eda1c132fe, a083a1b...</td>\n",
              "      <td>Comparison of GARCH, Neural Network and Suppor...</td>\n",
              "      <td>pattern recognition and machine intelligence</td>\n",
              "      <td>2009</td>\n",
              "    </tr>\n",
              "    <tr>\n",
              "      <th>3</th>\n",
              "      <td>NaN</td>\n",
              "      <td>[Jea-Bum Park, Byungmok Kim, Jian Shen, Sun-Yo...</td>\n",
              "      <td>00338203-9eb3-40c5-9f31-cbac73a519ec</td>\n",
              "      <td>0</td>\n",
              "      <td>[8c78e4b0-632b-4293-b491-85b1976675e6, 9cdc54f...</td>\n",
              "      <td>Development of Remote Monitoring and Control D...</td>\n",
              "      <td></td>\n",
              "      <td>2011</td>\n",
              "    </tr>\n",
              "    <tr>\n",
              "      <th>4</th>\n",
              "      <td>NaN</td>\n",
              "      <td>[Giovanna Guerrini, Isabella Merlo]</td>\n",
              "      <td>0040b022-1472-4f70-a753-74832df65266</td>\n",
              "      <td>2</td>\n",
              "      <td>NaN</td>\n",
              "      <td>Reasonig about Set-Oriented Methods in Object ...</td>\n",
              "      <td></td>\n",
              "      <td>1998</td>\n",
              "    </tr>\n",
              "  </tbody>\n",
              "</table>\n",
              "</div>"
            ],
            "text/plain": [
              "                                            abstract  \\\n",
              "0  The purpose of this study is to develop a lear...   \n",
              "1  This paper describes the design and implementa...   \n",
              "2  This article applied GARCH model instead AR or...   \n",
              "3                                                NaN   \n",
              "4                                                NaN   \n",
              "\n",
              "                                             authors  \\\n",
              "0  [Makoto Satoh, Ryo Muramatsu, Mizue Kayama, Ka...   \n",
              "1                        [Gareth Beale, Graeme Earl]   \n",
              "2  [Altaf Hossain, Faisal Zaman, Mohammed Nasser,...   \n",
              "3  [Jea-Bum Park, Byungmok Kim, Jian Shen, Sun-Yo...   \n",
              "4                [Giovanna Guerrini, Isabella Merlo]   \n",
              "\n",
              "                                     id  n_citation  \\\n",
              "0  00127ee2-cb05-48ce-bc49-9de556b93346           0   \n",
              "1  001c58d3-26ad-46b3-ab3a-c1e557d16821          50   \n",
              "2  001c8744-73c4-4b04-9364-22d31a10dbf1          50   \n",
              "3  00338203-9eb3-40c5-9f31-cbac73a519ec           0   \n",
              "4  0040b022-1472-4f70-a753-74832df65266           2   \n",
              "\n",
              "                                          references  \\\n",
              "0  [51c7e02e-f5ed-431a-8cf5-f761f266d4be, 69b625b...   \n",
              "1  [10482dd3-4642-4193-842f-85f3b70fcf65, 3133714...   \n",
              "2  [2d84c0f2-e656-4ce7-b018-90eda1c132fe, a083a1b...   \n",
              "3  [8c78e4b0-632b-4293-b491-85b1976675e6, 9cdc54f...   \n",
              "4                                                NaN   \n",
              "\n",
              "                                               title  \\\n",
              "0  Preliminary Design of a Network Protocol Learn...   \n",
              "1  A methodology for the physically accurate visu...   \n",
              "2  Comparison of GARCH, Neural Network and Suppor...   \n",
              "3  Development of Remote Monitoring and Control D...   \n",
              "4  Reasonig about Set-Oriented Methods in Object ...   \n",
              "\n",
              "                                               venue  year  \n",
              "0  international conference on human-computer int...  2013  \n",
              "1            visual analytics science and technology  2011  \n",
              "2       pattern recognition and machine intelligence  2009  \n",
              "3                                                     2011  \n",
              "4                                                     1998  "
            ]
          },
          "metadata": {
            "tags": []
          },
          "execution_count": 6
        }
      ]
    },
    {
      "metadata": {
        "id": "KZ6ZHfr8zrk8",
        "colab_type": "code",
        "colab": {
          "base_uri": "https://localhost:8080/",
          "height": 294
        },
        "outputId": "c41bc927-a9a9-4138-cd4d-c40dc0bc75fe"
      },
      "cell_type": "code",
      "source": [
        "# Visualization libraries\n",
        "import seaborn as sns\n",
        "import matplotlib.pyplot as plt\n",
        "%matplotlib inline\n",
        "\n",
        "ax = sns.distplot(train_df['year'],kde=False,bins=50)\n",
        "ax.set(xlabel='Publication Year', ylabel='Paper Count')\n",
        "plt.title(\"Distrbution of papers published over years\")\n",
        "plt.show()"
      ],
      "execution_count": 9,
      "outputs": [
        {
          "output_type": "display_data",
          "data": {
            "image/png": "[encoded data removed]",
            "text/plain": [
              "<matplotlib.figure.Figure at 0x7f05d8f95a58>"
            ]
          },
          "metadata": {
            "tags": []
          }
        }
      ]
    },
    {
      "metadata": {
        "id": "dNCgTyNd4B0T",
        "colab_type": "code",
        "colab": {
          "base_uri": "https://localhost:8080/",
          "height": 34
        },
        "outputId": "d0cf4608-a987-449c-b2a0-e692c4203a02"
      },
      "cell_type": "code",
      "source": [
        "plottrain_df_morethan_50 = train_df[(train_df.n_citation>50)]\n",
        "print (plottrain_df_morethan_50.shape)"
      ],
      "execution_count": 10,
      "outputs": [
        {
          "output_type": "stream",
          "text": [
            "(79025, 8)\n"
          ],
          "name": "stdout"
        }
      ]
    },
    {
      "metadata": {
        "id": "_s2r-Dgh6mEa",
        "colab_type": "code",
        "colab": {
          "base_uri": "https://localhost:8080/",
          "height": 88
        },
        "outputId": "f65e3417-b888-407d-cb82-0d4315ef7cc2"
      },
      "cell_type": "code",
      "source": [
        "print (len(train_df[(train_df.n_citation>50)]))\n",
        "print (len(train_df[(train_df.n_citation>300)]))\n",
        "\n",
        "print (sorted(train_df['n_citation'].unique()))"
      ],
      "execution_count": 11,
      "outputs": [
        {
          "output_type": "stream",
          "text": [
            "79025\n",
            "7093\n",
            "[0, 1, 2, 3, 4, 5, 6, 7, 8, 9, 10, 11, 12, 13, 14, 15, 16, 17, 18, 19, 20, 21, 22, 23, 24, 25, 26, 27, 28, 29, 30, 31, 32, 33, 34, 35, 36, 37, 38, 39, 40, 41, 42, 43, 44, 45, 46, 47, 48, 49, 50, 51, 52, 53, 54, 55, 56, 57, 58, 59, 60, 61, 62, 63, 64, 65, 66, 67, 68, 69, 70, 71, 72, 73, 74, 75, 76, 77, 78, 79, 80, 81, 82, 83, 84, 85, 86, 87, 88, 89, 90, 91, 92, 93, 94, 95, 96, 97, 98, 99, 100, 101, 102, 103, 104, 105, 106, 107, 108, 109, 110, 111, 112, 113, 114, 115, 116, 117, 118, 119, 120, 121, 122, 123, 124, 125, 126, 127, 128, 129, 130, 131, 132, 133, 134, 135, 136, 137, 138, 139, 140, 141, 142, 143, 144, 145, 146, 147, 148, 149, 150, 151, 152, 153, 154, 155, 156, 157, 158, 159, 160, 161, 162, 163, 164, 165, 166, 167, 168, 169, 170, 171, 172, 173, 174, 175, 176, 177, 178, 179, 180, 181, 182, 183, 184, 185, 186, 187, 188, 189, 190, 191, 192, 193, 194, 195, 196, 197, 198, 199, 200, 201, 202, 203, 204, 205, 206, 207, 208, 209, 210, 211, 212, 213, 214, 215, 216, 217, 218, 219, 220, 221, 222, 223, 224, 225, 226, 227, 228, 229, 230, 231, 232, 233, 234, 235, 236, 237, 238, 239, 240, 241, 242, 243, 244, 245, 246, 247, 248, 249, 250, 251, 252, 253, 254, 255, 256, 257, 258, 259, 260, 261, 262, 263, 264, 265, 266, 267, 268, 269, 270, 271, 272, 273, 274, 275, 276, 277, 278, 279, 280, 281, 282, 283, 284, 285, 286, 287, 288, 289, 290, 291, 292, 293, 294, 295, 296, 297, 298, 299, 300, 301, 302, 303, 304, 305, 306, 307, 308, 309, 310, 311, 312, 313, 314, 315, 316, 317, 318, 319, 320, 321, 322, 323, 324, 325, 326, 327, 328, 329, 330, 331, 332, 333, 334, 335, 336, 337, 338, 339, 340, 341, 342, 343, 344, 345, 346, 347, 348, 349, 350, 351, 352, 353, 354, 355, 356, 357, 358, 359, 360, 361, 362, 363, 364, 365, 366, 367, 368, 369, 370, 371, 372, 373, 374, 375, 376, 377, 378, 379, 380, 381, 382, 383, 384, 385, 386, 387, 388, 389, 390, 391, 392, 393, 394, 395, 396, 397, 398, 399, 400, 401, 402, 403, 404, 405, 406, 407, 408, 409, 410, 411, 412, 413, 414, 415, 416, 417, 418, 419, 420, 421, 422, 423, 424, 425, 426, 427, 428, 429, 430, 431, 432, 433, 434, 435, 436, 437, 438, 439, 440, 441, 442, 443, 444, 445, 446, 447, 448, 449, 450, 451, 452, 453, 454, 455, 456, 457, 458, 459, 460, 461, 462, 463, 464, 465, 466, 467, 468, 469, 470, 471, 472, 473, 474, 475, 476, 477, 478, 479, 480, 481, 482, 483, 484, 485, 486, 487, 488, 489, 490, 491, 492, 493, 494, 495, 496, 497, 498, 499, 500, 501, 502, 503, 504, 505, 506, 507, 508, 509, 510, 511, 512, 513, 514, 515, 516, 517, 518, 519, 520, 521, 522, 523, 524, 525, 526, 527, 528, 529, 530, 531, 532, 533, 534, 535, 536, 537, 538, 539, 540, 541, 542, 543, 544, 545, 546, 547, 548, 549, 550, 551, 552, 553, 554, 555, 556, 557, 558, 559, 560, 561, 562, 563, 564, 565, 566, 567, 568, 569, 570, 571, 572, 573, 574, 575, 576, 577, 578, 579, 580, 581, 582, 583, 584, 585, 586, 587, 588, 589, 590, 591, 592, 593, 594, 595, 596, 597, 598, 599, 600, 601, 602, 603, 604, 605, 606, 607, 608, 609, 610, 611, 612, 613, 614, 615, 616, 617, 618, 619, 620, 621, 622, 623, 624, 625, 626, 627, 628, 629, 630, 631, 632, 633, 634, 635, 636, 637, 638, 639, 640, 641, 642, 643, 644, 645, 646, 647, 648, 649, 650, 651, 652, 653, 654, 655, 656, 657, 658, 659, 660, 661, 662, 663, 664, 665, 666, 667, 668, 669, 670, 671, 672, 673, 674, 675, 676, 677, 678, 679, 680, 681, 682, 683, 684, 685, 686, 687, 688, 689, 690, 691, 692, 693, 694, 695, 696, 697, 698, 699, 700, 701, 702, 703, 704, 705, 706, 707, 708, 709, 710, 711, 712, 713, 714, 715, 716, 717, 718, 719, 720, 721, 722, 723, 724, 725, 726, 727, 728, 729, 730, 731, 732, 733, 734, 735, 736, 737, 738, 739, 740, 741, 743, 744, 745, 746, 747, 749, 750, 751, 752, 753, 754, 755, 756, 757, 758, 759, 760, 761, 762, 763, 764, 765, 766, 767, 768, 769, 770, 771, 772, 773, 774, 775, 776, 777, 778, 779, 780, 781, 782, 784, 785, 786, 787, 788, 789, 790, 791, 792, 793, 794, 795, 796, 797, 798, 799, 800, 801, 802, 803, 804, 805, 806, 807, 808, 809, 810, 811, 812, 813, 814, 815, 817, 818, 820, 821, 822, 823, 824, 825, 826, 827, 828, 829, 830, 831, 832, 833, 834, 835, 836, 837, 838, 839, 840, 841, 842, 843, 845, 846, 847, 848, 849, 850, 851, 852, 853, 854, 855, 856, 857, 858, 859, 860, 861, 862, 863, 864, 865, 866, 867, 868, 869, 870, 872, 873, 874, 875, 876, 877, 879, 880, 881, 882, 883, 884, 885, 887, 888, 890, 891, 892, 893, 894, 895, 896, 897, 898, 899, 900, 901, 902, 903, 904, 905, 906, 907, 908, 909, 910, 911, 912, 913, 914, 915, 918, 919, 920, 921, 922, 923, 925, 926, 927, 928, 929, 930, 931, 932, 933, 935, 936, 938, 939, 940, 941, 943, 944, 945, 946, 947, 948, 949, 950, 951, 952, 953, 954, 955, 956, 957, 959, 960, 961, 963, 964, 965, 966, 967, 970, 971, 972, 973, 974, 975, 976, 977, 979, 980, 981, 982, 983, 984, 985, 986, 987, 988, 989, 990, 991, 992, 993, 994, 997, 998, 999, 1000, 1002, 1003, 1005, 1006, 1007, 1008, 1010, 1011, 1012, 1013, 1015, 1016, 1017, 1019, 1021, 1024, 1027, 1028, 1029, 1030, 1032, 1033, 1034, 1035, 1036, 1037, 1038, 1039, 1040, 1041, 1045, 1049, 1051, 1052, 1053, 1054, 1056, 1057, 1058, 1059, 1060, 1061, 1062, 1064, 1065, 1066, 1067, 1070, 1071, 1072, 1073, 1075, 1076, 1078, 1082, 1083, 1084, 1085, 1086, 1087, 1092, 1093, 1095, 1096, 1097, 1098, 1102, 1103, 1106, 1107, 1108, 1109, 1110, 1111, 1112, 1113, 1115, 1116, 1120, 1122, 1123, 1124, 1125, 1126, 1128, 1129, 1131, 1132, 1133, 1134, 1136, 1137, 1139, 1140, 1141, 1142, 1143, 1144, 1145, 1147, 1148, 1149, 1150, 1151, 1154, 1155, 1156, 1157, 1158, 1164, 1165, 1166, 1167, 1170, 1171, 1173, 1174, 1175, 1176, 1177, 1178, 1180, 1182, 1183, 1185, 1186, 1187, 1188, 1190, 1192, 1193, 1194, 1195, 1196, 1197, 1199, 1200, 1201, 1202, 1204, 1206, 1207, 1208, 1209, 1210, 1211, 1213, 1216, 1217, 1219, 1220, 1221, 1222, 1225, 1226, 1227, 1228, 1229, 1230, 1231, 1234, 1235, 1237, 1238, 1239, 1240, 1242, 1244, 1246, 1249, 1253, 1254, 1257, 1258, 1259, 1260, 1261, 1262, 1263, 1264, 1266, 1269, 1271, 1272, 1273, 1274, 1275, 1277, 1278, 1281, 1282, 1284, 1287, 1289, 1290, 1291, 1293, 1294, 1296, 1297, 1298, 1300, 1301, 1302, 1303, 1304, 1306, 1307, 1308, 1310, 1313, 1315, 1316, 1317, 1319, 1322, 1323, 1325, 1326, 1327, 1328, 1331, 1332, 1333, 1334, 1335, 1338, 1339, 1341, 1344, 1345, 1347, 1349, 1352, 1355, 1356, 1357, 1360, 1361, 1363, 1364, 1365, 1366, 1367, 1368, 1371, 1372, 1373, 1374, 1375, 1376, 1377, 1378, 1379, 1380, 1384, 1385, 1386, 1387, 1389, 1390, 1391, 1393, 1394, 1395, 1398, 1400, 1402, 1403, 1405, 1406, 1412, 1414, 1415, 1419, 1420, 1421, 1423, 1425, 1429, 1430, 1431, 1432, 1438, 1444, 1445, 1450, 1452, 1453, 1455, 1456, 1458, 1465, 1473, 1475, 1476, 1477, 1478, 1480, 1481, 1483, 1485, 1491, 1493, 1494, 1495, 1497, 1499, 1500, 1503, 1508, 1510, 1511, 1516, 1520, 1524, 1525, 1527, 1533, 1535, 1537, 1542, 1543, 1546, 1547, 1548, 1549, 1551, 1553, 1556, 1557, 1560, 1562, 1566, 1570, 1572, 1576, 1584, 1590, 1594, 1596, 1600, 1608, 1610, 1612, 1616, 1618, 1620, 1624, 1628, 1630, 1632, 1633, 1635, 1636, 1637, 1640, 1641, 1643, 1644, 1646, 1648, 1650, 1653, 1657, 1659, 1660, 1663, 1666, 1667, 1670, 1671, 1672, 1673, 1674, 1677, 1678, 1681, 1685, 1686, 1689, 1690, 1692, 1695, 1698, 1701, 1702, 1704, 1707, 1708, 1709, 1713, 1715, 1716, 1720, 1735, 1737, 1739, 1740, 1741, 1745, 1747, 1760, 1761, 1762, 1763, 1774, 1778, 1780, 1781, 1782, 1786, 1787, 1789, 1792, 1794, 1798, 1802, 1803, 1808, 1809, 1810, 1811, 1818, 1821, 1825, 1832, 1833, 1842, 1843, 1844, 1846, 1847, 1853, 1855, 1858, 1861, 1862, 1865, 1866, 1868, 1872, 1873, 1874, 1883, 1885, 1886, 1888, 1891, 1898, 1899, 1903, 1905, 1907, 1909, 1911, 1914, 1915, 1919, 1921, 1922, 1931, 1932, 1945, 1946, 1948, 1949, 1951, 1953, 1958, 1961, 1967, 1970, 1971, 1974, 1979, 1983, 1984, 1988, 1991, 2002, 2007, 2008, 2011, 2014, 2015, 2017, 2018, 2021, 2027, 2029, 2036, 2037, 2038, 2044, 2048, 2051, 2062, 2067, 2077, 2078, 2082, 2086, 2092, 2095, 2100, 2107, 2109, 2111, 2116, 2121, 2128, 2133, 2145, 2146, 2152, 2155, 2156, 2171, 2187, 2192, 2196, 2200, 2202, 2208, 2209, 2211, 2216, 2217, 2218, 2224, 2226, 2232, 2233, 2236, 2240, 2242, 2250, 2251, 2253, 2256, 2260, 2263, 2264, 2271, 2274, 2282, 2285, 2286, 2289, 2294, 2299, 2302, 2304, 2307, 2313, 2318, 2325, 2336, 2339, 2355, 2357, 2365, 2373, 2380, 2389, 2391, 2398, 2402, 2404, 2406, 2420, 2421, 2425, 2426, 2428, 2431, 2433, 2434, 2444, 2445, 2447, 2455, 2474, 2480, 2483, 2488, 2498, 2500, 2502, 2505, 2519, 2524, 2528, 2531, 2545, 2550, 2575, 2583, 2593, 2596, 2614, 2630, 2641, 2644, 2645, 2651, 2657, 2658, 2666, 2668, 2670, 2674, 2680, 2685, 2698, 2710, 2711, 2716, 2720, 2721, 2731, 2739, 2751, 2778, 2783, 2784, 2790, 2794, 2799, 2805, 2813, 2827, 2843, 2855, 2858, 2860, 2873, 2879, 2923, 2952, 2953, 2955, 2967, 2989, 2990, 2996, 3000, 3021, 3027, 3062, 3076, 3077, 3107, 3108, 3115, 3136, 3137, 3141, 3158, 3169, 3198, 3200, 3211, 3233, 3244, 3264, 3265, 3316, 3323, 3330, 3338, 3344, 3346, 3349, 3380, 3400, 3409, 3455, 3457, 3462, 3478, 3487, 3512, 3525, 3528, 3537, 3550, 3587, 3616, 3676, 3679, 3686, 3703, 3716, 3723, 3726, 3733, 3738, 3753, 3765, 3784, 3786, 3796, 3837, 3848, 3865, 3876, 3927, 3928, 4036, 4044, 4063, 4066, 4081, 4083, 4091, 4125, 4138, 4152, 4154, 4161, 4174, 4220, 4237, 4265, 4321, 4336, 4338, 4344, 4432, 4449, 4450, 4517, 4526, 4536, 4619, 4650, 4655, 4704, 4724, 4806, 4833, 4878, 4896, 4920, 5000, 5024, 5068, 5116, 5273, 5321, 5331, 5386, 5388, 5400, 5498, 5526, 5558, 5575, 5661, 5713, 5841, 5912, 6160, 6178, 6186, 6286, 6307, 6515, 6529, 6569, 6721, 6723, 6737, 6920, 7024, 7039, 7338, 7651, 8030, 8118, 8311, 8687, 8964, 8994, 9231, 9297, 9374, 9414, 9521, 9527, 10193, 10199, 10344, 10349, 10429, 11120, 11411, 11519, 11580, 11759, 12627, 13104, 13227, 13350, 15096, 15567, 18201, 18861, 20878, 27068, 29285, 73362]\n"
          ],
          "name": "stdout"
        }
      ]
    },
    {
      "metadata": {
        "id": "VaOUwr_M7-ok",
        "colab_type": "code",
        "colab": {
          "base_uri": "https://localhost:8080/",
          "height": 136
        },
        "outputId": "898c3137-f640-483e-b51f-8c760a774056"
      },
      "cell_type": "code",
      "source": [
        "train_df_plotlessthan1 = train_df[(train_df.n_citation<1)]\n",
        "print (len(train_df_plotlessthan1))\n",
        "\n",
        "train_df_plotlessthan50 = train_df[(train_df.n_citation>0) & (train_df.n_citation<50)]\n",
        "print (len(train_df_plotlessthan50))\n",
        "\n",
        "train_df_plot50 = train_df[(train_df.n_citation==50)]\n",
        "print (len(train_df_plot50))\n",
        "\n",
        "train_df_plotmorethan_50 = train_df[(train_df.n_citation>50)]\n",
        "print (len(train_df_plotmorethan_50))\n",
        "\n",
        "\n",
        "train_df_ploteq1 = train_df[(train_df.n_citation==1)]\n",
        "print (len(train_df_ploteq1))\n",
        "\n",
        "xlabels = [\"Zero\", \"1 to 49\",\"50\",\"More than 50\"]\n",
        "ycount = [len(train_df_plotlessthan1), len(train_df_plotlessthan50), len(train_df_plot50), len(train_df_plotmorethan_50)]\n",
        "\n",
        "print (xlabels)\n",
        "print (ycount)"
      ],
      "execution_count": 12,
      "outputs": [
        {
          "output_type": "stream",
          "text": [
            "218975\n",
            "421589\n",
            "280411\n",
            "79025\n",
            "70313\n",
            "['Zero', '1 to 49', '50', 'More than 50']\n",
            "[218975, 421589, 280411, 79025]\n"
          ],
          "name": "stdout"
        }
      ]
    },
    {
      "metadata": {
        "id": "G2mqRmbwk6YU",
        "colab_type": "code",
        "colab": {
          "base_uri": "https://localhost:8080/",
          "height": 193
        },
        "outputId": "28c2af28-59e3-4687-ce55-50ea6b770066"
      },
      "cell_type": "code",
      "source": [
        "train_df_plotmorethan_50 = train_df[(train_df.n_citation>10000)]\n",
        "train_df_plotmorethan_50.head(3)"
      ],
      "execution_count": 14,
      "outputs": [
        {
          "output_type": "execute_result",
          "data": {
            "text/html": [
              "<div>\n",
              "<style scoped>\n",
              "    .dataframe tbody tr th:only-of-type {\n",
              "        vertical-align: middle;\n",
              "    }\n",
              "\n",
              "    .dataframe tbody tr th {\n",
              "        vertical-align: top;\n",
              "    }\n",
              "\n",
              "    .dataframe thead th {\n",
              "        text-align: right;\n",
              "    }\n",
              "</style>\n",
              "<table border=\"1\" class=\"dataframe\">\n",
              "  <thead>\n",
              "    <tr style=\"text-align: right;\">\n",
              "      <th></th>\n",
              "      <th>abstract</th>\n",
              "      <th>authors</th>\n",
              "      <th>id</th>\n",
              "      <th>n_citation</th>\n",
              "      <th>references</th>\n",
              "      <th>title</th>\n",
              "      <th>venue</th>\n",
              "      <th>year</th>\n",
              "    </tr>\n",
              "  </thead>\n",
              "  <tbody>\n",
              "    <tr>\n",
              "      <th>199442</th>\n",
              "      <td>NaN</td>\n",
              "      <td>[Richard S. Sutton, Andrew G. Barto]</td>\n",
              "      <td>e0f3a738-4ab2-40d1-ba44-506d81c1d230</td>\n",
              "      <td>29285</td>\n",
              "      <td>NaN</td>\n",
              "      <td>Reinforcement Learning: An Introduction</td>\n",
              "      <td>neural information processing systems</td>\n",
              "      <td>1999</td>\n",
              "    </tr>\n",
              "    <tr>\n",
              "      <th>293245</th>\n",
              "      <td>Foreword. 1. Modelling Communication. 2. Basic...</td>\n",
              "      <td>[Robin Milner]</td>\n",
              "      <td>3023929a-c93e-49c5-b03f-7fb0414d94df</td>\n",
              "      <td>11519</td>\n",
              "      <td>NaN</td>\n",
              "      <td>Communication and concurrency</td>\n",
              "      <td></td>\n",
              "      <td>1989</td>\n",
              "    </tr>\n",
              "    <tr>\n",
              "      <th>299091</th>\n",
              "      <td>Preface 1. Background in linear algebra 2. Dis...</td>\n",
              "      <td>[Yousef Saad]</td>\n",
              "      <td>34d4e37b-e575-4316-847b-d8a661b51473</td>\n",
              "      <td>13104</td>\n",
              "      <td>[]</td>\n",
              "      <td>Iterative Methods for Sparse Linear Systems</td>\n",
              "      <td></td>\n",
              "      <td>2003</td>\n",
              "    </tr>\n",
              "  </tbody>\n",
              "</table>\n",
              "</div>"
            ],
            "text/plain": [
              "                                                 abstract  \\\n",
              "199442                                                NaN   \n",
              "293245  Foreword. 1. Modelling Communication. 2. Basic...   \n",
              "299091  Preface 1. Background in linear algebra 2. Dis...   \n",
              "\n",
              "                                     authors  \\\n",
              "199442  [Richard S. Sutton, Andrew G. Barto]   \n",
              "293245                        [Robin Milner]   \n",
              "299091                         [Yousef Saad]   \n",
              "\n",
              "                                          id  n_citation references  \\\n",
              "199442  e0f3a738-4ab2-40d1-ba44-506d81c1d230       29285        NaN   \n",
              "293245  3023929a-c93e-49c5-b03f-7fb0414d94df       11519        NaN   \n",
              "299091  34d4e37b-e575-4316-847b-d8a661b51473       13104         []   \n",
              "\n",
              "                                              title  \\\n",
              "199442      Reinforcement Learning: An Introduction   \n",
              "293245                Communication and concurrency   \n",
              "299091  Iterative Methods for Sparse Linear Systems   \n",
              "\n",
              "                                        venue  year  \n",
              "199442  neural information processing systems  1999  \n",
              "293245                                         1989  \n",
              "299091                                         2003  "
            ]
          },
          "metadata": {
            "tags": []
          },
          "execution_count": 14
        }
      ]
    },
    {
      "metadata": {
        "id": "iuiQ71s6l7WS",
        "colab_type": "code",
        "colab": {
          "base_uri": "https://localhost:8080/",
          "height": 85
        },
        "outputId": "65eedcb9-2b04-4e06-d5b4-639d269f53ea"
      },
      "cell_type": "code",
      "source": [
        "print (len(train_df['venue'].unique()))\n",
        "train_df_plotmorethan_50 = train_df[(train_df.n_citation>70000)]\n",
        "print (type(train_df_plotmorethan_50['venue']))\n",
        "print (train_df_plotmorethan_50['venue'].empty)\n",
        "\n",
        "(train_df['venue'].values == '').sum()"
      ],
      "execution_count": 15,
      "outputs": [
        {
          "output_type": "stream",
          "text": [
            "4135\n",
            "<class 'pandas.core.series.Series'>\n",
            "False\n"
          ],
          "name": "stdout"
        },
        {
          "output_type": "execute_result",
          "data": {
            "text/plain": [
              "210500"
            ]
          },
          "metadata": {
            "tags": []
          },
          "execution_count": 15
        }
      ]
    },
    {
      "metadata": {
        "id": "3Ohz3kRdpoRI",
        "colab_type": "code",
        "colab": {}
      },
      "cell_type": "code",
      "source": [
        "venuedf = train_df.groupby(\"venue\")[\"id\"].count()"
      ],
      "execution_count": 0,
      "outputs": []
    },
    {
      "metadata": {
        "id": "QAB0oOWOt1JE",
        "colab_type": "code",
        "colab": {
          "base_uri": "https://localhost:8080/",
          "height": 34
        },
        "outputId": "01beca94-6c17-4185-a20d-befc8c99e611"
      },
      "cell_type": "code",
      "source": [
        "print (type(venuedf))"
      ],
      "execution_count": 17,
      "outputs": [
        {
          "output_type": "stream",
          "text": [
            "<class 'pandas.core.series.Series'>\n"
          ],
          "name": "stdout"
        }
      ]
    },
    {
      "metadata": {
        "id": "cl6zE6eXvdaE",
        "colab_type": "code",
        "colab": {}
      },
      "cell_type": "code",
      "source": [
        "venue_df = train_df.groupby('venue')[['id']].count() # Produces Pandas DataFrame"
      ],
      "execution_count": 0,
      "outputs": []
    },
    {
      "metadata": {
        "id": "nifIUOVmwVR4",
        "colab_type": "code",
        "colab": {
          "base_uri": "https://localhost:8080/",
          "height": 51
        },
        "outputId": "3acd0c39-9c6f-447d-b011-0b19c05b8f44"
      },
      "cell_type": "code",
      "source": [
        "print(len(venue_df))\n",
        "print(len(venue_df[(venue_df.id>5000)]))"
      ],
      "execution_count": 19,
      "outputs": [
        {
          "output_type": "stream",
          "text": [
            "4135\n",
            "5\n"
          ],
          "name": "stdout"
        }
      ]
    },
    {
      "metadata": {
        "id": "TDQrFAfnxQzz",
        "colab_type": "code",
        "colab": {
          "base_uri": "https://localhost:8080/",
          "height": 390
        },
        "outputId": "19d64602-7b94-47f3-ee59-c91ae5fad3e4"
      },
      "cell_type": "code",
      "source": [
        "df2 = venue_df[(venue_df.id>4000)].sort_values(by=['id'],ascending=False)\n",
        "df2.rename(columns={\"id\": \"Count of Papers\"})"
      ],
      "execution_count": 20,
      "outputs": [
        {
          "output_type": "execute_result",
          "data": {
            "text/html": [
              "<div>\n",
              "<style scoped>\n",
              "    .dataframe tbody tr th:only-of-type {\n",
              "        vertical-align: middle;\n",
              "    }\n",
              "\n",
              "    .dataframe tbody tr th {\n",
              "        vertical-align: top;\n",
              "    }\n",
              "\n",
              "    .dataframe thead th {\n",
              "        text-align: right;\n",
              "    }\n",
              "</style>\n",
              "<table border=\"1\" class=\"dataframe\">\n",
              "  <thead>\n",
              "    <tr style=\"text-align: right;\">\n",
              "      <th></th>\n",
              "      <th>Count of Papers</th>\n",
              "    </tr>\n",
              "    <tr>\n",
              "      <th>venue</th>\n",
              "      <th></th>\n",
              "    </tr>\n",
              "  </thead>\n",
              "  <tbody>\n",
              "    <tr>\n",
              "      <th></th>\n",
              "      <td>210500</td>\n",
              "    </tr>\n",
              "    <tr>\n",
              "      <th>Lecture Notes in Computer Science</th>\n",
              "      <td>18950</td>\n",
              "    </tr>\n",
              "    <tr>\n",
              "      <th>conference of the international speech communication association</th>\n",
              "      <td>8886</td>\n",
              "    </tr>\n",
              "    <tr>\n",
              "      <th>international symposium on circuits and systems</th>\n",
              "      <td>7478</td>\n",
              "    </tr>\n",
              "    <tr>\n",
              "      <th>international conference on acoustics, speech, and signal processing</th>\n",
              "      <td>6469</td>\n",
              "    </tr>\n",
              "    <tr>\n",
              "      <th>international conference on communications</th>\n",
              "      <td>4667</td>\n",
              "    </tr>\n",
              "    <tr>\n",
              "      <th>international joint conference on artificial intelligence</th>\n",
              "      <td>4562</td>\n",
              "    </tr>\n",
              "    <tr>\n",
              "      <th>national conference on artificial intelligence</th>\n",
              "      <td>4436</td>\n",
              "    </tr>\n",
              "    <tr>\n",
              "      <th>international conference on conceptual structures</th>\n",
              "      <td>4227</td>\n",
              "    </tr>\n",
              "    <tr>\n",
              "      <th>international conference on image processing</th>\n",
              "      <td>4184</td>\n",
              "    </tr>\n",
              "  </tbody>\n",
              "</table>\n",
              "</div>"
            ],
            "text/plain": [
              "                                                    Count of Papers\n",
              "venue                                                              \n",
              "                                                             210500\n",
              "Lecture Notes in Computer Science                             18950\n",
              "conference of the international speech communic...             8886\n",
              "international symposium on circuits and systems                7478\n",
              "international conference on acoustics, speech, ...             6469\n",
              "international conference on communications                     4667\n",
              "international joint conference on artificial in...             4562\n",
              "national conference on artificial intelligence                 4436\n",
              "international conference on conceptual structures              4227\n",
              "international conference on image processing                   4184"
            ]
          },
          "metadata": {
            "tags": []
          },
          "execution_count": 20
        }
      ]
    }
  ]
}