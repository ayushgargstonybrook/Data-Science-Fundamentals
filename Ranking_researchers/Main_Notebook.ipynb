{
  "nbformat": 4,
  "nbformat_minor": 0,
  "metadata": {
    "colab": {
      "name": "2_November_9.ipynb",
      "version": "0.3.2",
      "provenance": [],
      "toc_visible": true
    },
    "kernelspec": {
      "display_name": "Python 3",
      "language": "python",
      "name": "python3"
    }
  },
  "cells": [
    {
      "metadata": {
        "id": "4uH3JnQPicWo",
        "colab_type": "text"
      },
      "cell_type": "markdown",
      "source": [
        "# Importing Libraries"
      ]
    },
    {
      "metadata": {
        "id": "KZAUvCtGLJZY",
        "colab_type": "code",
        "colab": {}
      },
      "cell_type": "code",
      "source": [
        "#Import\n",
        "import pandas as pd\n",
        "import numpy as np\n",
        "\n",
        "import json\n",
        "from pandas.io.json import json_normalize"
      ],
      "execution_count": 0,
      "outputs": []
    },
    {
      "metadata": {
        "id": "Ss8EJL_4LJZc",
        "colab_type": "code",
        "colab": {}
      },
      "cell_type": "code",
      "source": [
        "# Visualization libraries\n",
        "import seaborn as sns\n",
        "import matplotlib.pyplot as plt\n",
        "%matplotlib inline"
      ],
      "execution_count": 0,
      "outputs": []
    },
    {
      "metadata": {
        "id": "nGHidR-EikdA",
        "colab_type": "text"
      },
      "cell_type": "markdown",
      "source": [
        "# Loading data"
      ]
    },
    {
      "metadata": {
        "id": "JrEsECK0Z9D2",
        "colab_type": "code",
        "outputId": "070d00cf-cfc8-427d-f60d-64477c879121",
        "colab": {
          "base_uri": "https://localhost:8080/",
          "height": 122
        }
      },
      "cell_type": "code",
      "source": [
        "from google.colab import drive\n",
        "drive.mount('/content/drive')"
      ],
      "execution_count": 3,
      "outputs": [
        {
          "output_type": "stream",
          "text": [
            "Go to this URL in a browser: https://accounts.google.com/o/oauth2/auth?client_id=947318989803-6bn6qk8qdgf4n4g3pfee6491hc0brc4i.apps.googleusercontent.com&redirect_uri=urn%3Aietf%3Awg%3Aoauth%3A2.0%3Aoob&scope=email%20https%3A%2F%2Fwww.googleapis.com%2Fauth%2Fdocs.test%20https%3A%2F%2Fwww.googleapis.com%2Fauth%2Fdrive%20https%3A%2F%2Fwww.googleapis.com%2Fauth%2Fdrive.photos.readonly%20https%3A%2F%2Fwww.googleapis.com%2Fauth%2Fpeopleapi.readonly&response_type=code\n",
            "\n",
            "Enter your authorization code:\n",
            "··········\n",
            "Mounted at /content/drive\n"
          ],
          "name": "stdout"
        }
      ]
    },
    {
      "metadata": {
        "id": "nBbgwjVNLJZf",
        "colab_type": "code",
        "colab": {}
      },
      "cell_type": "code",
      "source": [
        "# df = pd.read_json(''/content/drive/My Drive/dblp-ref-0.json'', lines=True)"
      ],
      "execution_count": 0,
      "outputs": []
    },
    {
      "metadata": {
        "id": "8cTSjHTGTIOz",
        "colab_type": "code",
        "colab": {}
      },
      "cell_type": "code",
      "source": [
        "df=pd.read_pickle('/content/drive/My Drive/pickle_sentiment')"
      ],
      "execution_count": 0,
      "outputs": []
    },
    {
      "metadata": {
        "id": "gDHWYPDviq4W",
        "colab_type": "text"
      },
      "cell_type": "markdown",
      "source": [
        "# Visualising data"
      ]
    },
    {
      "metadata": {
        "id": "naef_A0yX6CO",
        "colab_type": "code",
        "outputId": "52302d77-7e93-417d-f299-6a7e05eee52c",
        "colab": {
          "base_uri": "https://localhost:8080/",
          "height": 564
        }
      },
      "cell_type": "code",
      "source": [
        "df.head()"
      ],
      "execution_count": 0,
      "outputs": [
        {
          "output_type": "execute_result",
          "data": {
            "text/html": [
              "<div>\n",
              "<style scoped>\n",
              "    .dataframe tbody tr th:only-of-type {\n",
              "        vertical-align: middle;\n",
              "    }\n",
              "\n",
              "    .dataframe tbody tr th {\n",
              "        vertical-align: top;\n",
              "    }\n",
              "\n",
              "    .dataframe thead th {\n",
              "        text-align: right;\n",
              "    }\n",
              "</style>\n",
              "<table border=\"1\" class=\"dataframe\">\n",
              "  <thead>\n",
              "    <tr style=\"text-align: right;\">\n",
              "      <th></th>\n",
              "      <th>abstract</th>\n",
              "      <th>authors</th>\n",
              "      <th>id</th>\n",
              "      <th>n_citation</th>\n",
              "      <th>references</th>\n",
              "      <th>title</th>\n",
              "      <th>venue</th>\n",
              "      <th>year</th>\n",
              "      <th>importance</th>\n",
              "      <th>author_count</th>\n",
              "      <th>references_count</th>\n",
              "      <th>Topic</th>\n",
              "      <th>pageRankValue</th>\n",
              "      <th>totalOutbounds</th>\n",
              "      <th>ratio</th>\n",
              "    </tr>\n",
              "  </thead>\n",
              "  <tbody>\n",
              "    <tr>\n",
              "      <th>0</th>\n",
              "      <td>This article applied GARCH model instead AR or...</td>\n",
              "      <td>[Altaf Hossain, Faisal Zaman, Mohammed Nasser,...</td>\n",
              "      <td>001c8744-73c4-4b04-9364-22d31a10dbf1</td>\n",
              "      <td>50</td>\n",
              "      <td>[2d84c0f2-e656-4ce7-b018-90eda1c132fe, a083a1b...</td>\n",
              "      <td>Comparison of GARCH, Neural Network and Suppor...</td>\n",
              "      <td>3086</td>\n",
              "      <td>2009</td>\n",
              "      <td>0</td>\n",
              "      <td>4</td>\n",
              "      <td>2.0</td>\n",
              "      <td>1</td>\n",
              "      <td>NaN</td>\n",
              "      <td>2.0</td>\n",
              "      <td>NaN</td>\n",
              "    </tr>\n",
              "    <tr>\n",
              "      <th>1</th>\n",
              "      <td>NaN</td>\n",
              "      <td>[Jovan Dj. Golic, Guglielmo Morgari]</td>\n",
              "      <td>00638a94-23bf-4fa6-b5ce-40d799c65da7</td>\n",
              "      <td>2</td>\n",
              "      <td>[self]</td>\n",
              "      <td>Vectorial fast correlation attacks.</td>\n",
              "      <td>0</td>\n",
              "      <td>2004</td>\n",
              "      <td>35</td>\n",
              "      <td>2</td>\n",
              "      <td>0.0</td>\n",
              "      <td>5</td>\n",
              "      <td>20.486111</td>\n",
              "      <td>NaN</td>\n",
              "      <td>NaN</td>\n",
              "    </tr>\n",
              "    <tr>\n",
              "      <th>2</th>\n",
              "      <td>Recently, Bridges and Reich introduced the con...</td>\n",
              "      <td>[Alvaro L. Islas, Constance M. Schober]</td>\n",
              "      <td>00bcf2d5-1592-46b0-81fd-933f90b5ecca</td>\n",
              "      <td>50</td>\n",
              "      <td>[self]</td>\n",
              "      <td>Multisymplectic Spectral Methods for the Gross...</td>\n",
              "      <td>2633</td>\n",
              "      <td>2002</td>\n",
              "      <td>50</td>\n",
              "      <td>2</td>\n",
              "      <td>0.0</td>\n",
              "      <td>8</td>\n",
              "      <td>NaN</td>\n",
              "      <td>NaN</td>\n",
              "      <td>NaN</td>\n",
              "    </tr>\n",
              "    <tr>\n",
              "      <th>3</th>\n",
              "      <td>Most applications of the abstract interpretati...</td>\n",
              "      <td>[Patrick Cousot, Radhia Cousot]</td>\n",
              "      <td>00c85316-bddf-4bcb-93f5-097adadd73c2</td>\n",
              "      <td>50</td>\n",
              "      <td>[afa6d820-c762-4285-a25d-9dd985929ec3]</td>\n",
              "      <td>Relational Abstract Interpretation of Higher O...</td>\n",
              "      <td>0</td>\n",
              "      <td>1991</td>\n",
              "      <td>12</td>\n",
              "      <td>2</td>\n",
              "      <td>5.0</td>\n",
              "      <td>2</td>\n",
              "      <td>0.000000</td>\n",
              "      <td>1.0</td>\n",
              "      <td>0.0</td>\n",
              "    </tr>\n",
              "    <tr>\n",
              "      <th>4</th>\n",
              "      <td>NaN</td>\n",
              "      <td>[Abdullah Alsubaie, Antonio Di Pietro, Jose R....</td>\n",
              "      <td>00e3940b-201b-40ba-bd20-dbdaf26ad324</td>\n",
              "      <td>6</td>\n",
              "      <td>[0293844d-7244-4562-a6ca-d84bcd9c10a5, 14cd3cf...</td>\n",
              "      <td>A Platform for Disaster Response Planning with...</td>\n",
              "      <td>0</td>\n",
              "      <td>2013</td>\n",
              "      <td>7</td>\n",
              "      <td>7</td>\n",
              "      <td>6.0</td>\n",
              "      <td>4</td>\n",
              "      <td>NaN</td>\n",
              "      <td>3.0</td>\n",
              "      <td>NaN</td>\n",
              "    </tr>\n",
              "  </tbody>\n",
              "</table>\n",
              "</div>"
            ],
            "text/plain": [
              "                                            abstract  \\\n",
              "0  This article applied GARCH model instead AR or...   \n",
              "1                                                NaN   \n",
              "2  Recently, Bridges and Reich introduced the con...   \n",
              "3  Most applications of the abstract interpretati...   \n",
              "4                                                NaN   \n",
              "\n",
              "                                             authors  \\\n",
              "0  [Altaf Hossain, Faisal Zaman, Mohammed Nasser,...   \n",
              "1               [Jovan Dj. Golic, Guglielmo Morgari]   \n",
              "2            [Alvaro L. Islas, Constance M. Schober]   \n",
              "3                    [Patrick Cousot, Radhia Cousot]   \n",
              "4  [Abdullah Alsubaie, Antonio Di Pietro, Jose R....   \n",
              "\n",
              "                                     id  n_citation  \\\n",
              "0  001c8744-73c4-4b04-9364-22d31a10dbf1          50   \n",
              "1  00638a94-23bf-4fa6-b5ce-40d799c65da7           2   \n",
              "2  00bcf2d5-1592-46b0-81fd-933f90b5ecca          50   \n",
              "3  00c85316-bddf-4bcb-93f5-097adadd73c2          50   \n",
              "4  00e3940b-201b-40ba-bd20-dbdaf26ad324           6   \n",
              "\n",
              "                                          references  \\\n",
              "0  [2d84c0f2-e656-4ce7-b018-90eda1c132fe, a083a1b...   \n",
              "1                                             [self]   \n",
              "2                                             [self]   \n",
              "3             [afa6d820-c762-4285-a25d-9dd985929ec3]   \n",
              "4  [0293844d-7244-4562-a6ca-d84bcd9c10a5, 14cd3cf...   \n",
              "\n",
              "                                               title  venue  year  importance  \\\n",
              "0  Comparison of GARCH, Neural Network and Suppor...   3086  2009           0   \n",
              "1                Vectorial fast correlation attacks.      0  2004          35   \n",
              "2  Multisymplectic Spectral Methods for the Gross...   2633  2002          50   \n",
              "3  Relational Abstract Interpretation of Higher O...      0  1991          12   \n",
              "4  A Platform for Disaster Response Planning with...      0  2013           7   \n",
              "\n",
              "   author_count  references_count  Topic  pageRankValue  totalOutbounds  ratio  \n",
              "0             4               2.0      1            NaN             2.0    NaN  \n",
              "1             2               0.0      5      20.486111             NaN    NaN  \n",
              "2             2               0.0      8            NaN             NaN    NaN  \n",
              "3             2               5.0      2       0.000000             1.0    0.0  \n",
              "4             7               6.0      4            NaN             3.0    NaN  "
            ]
          },
          "metadata": {
            "tags": []
          },
          "execution_count": 12
        }
      ]
    },
    {
      "metadata": {
        "id": "Zlrk0ympTVdl",
        "colab_type": "code",
        "outputId": "d6489970-2bbd-4927-9a9d-366ae6a498bc",
        "colab": {
          "base_uri": "https://localhost:8080/",
          "height": 54
        }
      },
      "cell_type": "code",
      "source": [
        "df.iloc[0]['abstract']"
      ],
      "execution_count": 0,
      "outputs": [
        {
          "output_type": "execute_result",
          "data": {
            "text/plain": [
              "'This article applied GARCH model instead AR or ARMA model to compare with the standard BP and SVM in forecasting of the four international including two Asian stock markets indices.These models were evaluated on five performance metrics or criteria. Our experimental results showed the superiority of SVM and GARCH models, compared to the standard BP in forecasting of the four international stock markets indices.'"
            ]
          },
          "metadata": {
            "tags": []
          },
          "execution_count": 13
        }
      ]
    },
    {
      "metadata": {
        "id": "9hO0JuMzaCGE",
        "colab_type": "code",
        "outputId": "2bb18b95-13cc-4638-d161-20cec1d4c280",
        "colab": {
          "base_uri": "https://localhost:8080/",
          "height": 255
        }
      },
      "cell_type": "code",
      "source": [
        "df.info()"
      ],
      "execution_count": 0,
      "outputs": [
        {
          "output_type": "stream",
          "text": [
            "<class 'pandas.core.frame.DataFrame'>\n",
            "Int64Index: 437643 entries, 0 to 437642\n",
            "Data columns (total 9 columns):\n",
            "abstract      352014 non-null object\n",
            "authors       437643 non-null object\n",
            "id            437643 non-null object\n",
            "n_citation    437643 non-null int64\n",
            "references    401001 non-null object\n",
            "title         437643 non-null object\n",
            "venue         437643 non-null object\n",
            "year          437643 non-null int64\n",
            "importance    437643 non-null int64\n",
            "dtypes: int64(3), object(6)\n",
            "memory usage: 33.4+ MB\n"
          ],
          "name": "stdout"
        }
      ]
    },
    {
      "metadata": {
        "id": "1Pvwxvlqi5CH",
        "colab_type": "text"
      },
      "cell_type": "markdown",
      "source": [
        "# Adding author count and references count"
      ]
    },
    {
      "metadata": {
        "id": "RNQSgY9JarVQ",
        "colab_type": "code",
        "colab": {}
      },
      "cell_type": "code",
      "source": [
        "df['author_count']=df['authors'].str.len()"
      ],
      "execution_count": 0,
      "outputs": []
    },
    {
      "metadata": {
        "id": "HdxLao8hH32J",
        "colab_type": "code",
        "colab": {}
      },
      "cell_type": "code",
      "source": [
        "df['references_count']=df['references'].str.len()"
      ],
      "execution_count": 0,
      "outputs": []
    },
    {
      "metadata": {
        "id": "HJ_TAboti_k7",
        "colab_type": "text"
      },
      "cell_type": "markdown",
      "source": [
        "# Calculating H-Index"
      ]
    },
    {
      "metadata": {
        "id": "VcfUVY2QLJZk",
        "colab_type": "code",
        "colab": {}
      },
      "cell_type": "code",
      "source": [
        "from  itertools import chain\n",
        "\n",
        "df_flatten_authors = pd.DataFrame({\n",
        "        \"abstract\": np.repeat(df.abstract.values, df.authors.str.len()),\n",
        "        \"authors\": list(chain.from_iterable(df.authors)),\n",
        "        \"id\": np.repeat(df.id.values, df.authors.str.len()),\n",
        "        \"n_citation\": np.repeat(df.n_citation.values, df.authors.str.len()),\n",
        "        \"references\": np.repeat(df.references.values, df.authors.str.len()),\n",
        "        \"title\": np.repeat(df.title.values, df.authors.str.len()),\n",
        "        \"venue\": np.repeat(df.venue.values, df.authors.str.len()),\n",
        "        \"year\": np.repeat(df.year.values, df.authors.str.len()),\n",
        "        \"importance\": np.repeat(df.importance.values, df.authors.str.len()),\n",
        "        \"author_count\": np.repeat(df.author_count.values, df.authors.str.len())\n",
        "})\n"
      ],
      "execution_count": 0,
      "outputs": []
    },
    {
      "metadata": {
        "id": "Bv7RL-kqLJZ2",
        "colab_type": "code",
        "colab": {}
      },
      "cell_type": "code",
      "source": [
        "def h_index_utility2(series):\n",
        "    count = 0\n",
        "    sortedSeries = np.sort(series)\n",
        "    sortedSeries = sortedSeries[::-1]\n",
        "    i = 1\n",
        "    for item in sortedSeries:\n",
        "        if (item < i): #check on equality\n",
        "            break\n",
        "        i+=1    \n",
        "    #series['h_index'] = (i-1)\n",
        "    return (i-1)"
      ],
      "execution_count": 0,
      "outputs": []
    },
    {
      "metadata": {
        "id": "YV5AK6EsLJZ-",
        "colab_type": "code",
        "colab": {}
      },
      "cell_type": "code",
      "source": [
        "df_flatten_authors_citation = df_flatten_authors[['authors','n_citation']]"
      ],
      "execution_count": 0,
      "outputs": []
    },
    {
      "metadata": {
        "id": "tfoJaPMaLJaA",
        "colab_type": "code",
        "colab": {}
      },
      "cell_type": "code",
      "source": [
        "df_flatten_authors_citation[df_flatten_authors_citation['n_citation'] > 0].head()"
      ],
      "execution_count": 0,
      "outputs": []
    },
    {
      "metadata": {
        "id": "mRL6jdxkLJaF",
        "colab_type": "code",
        "outputId": "72865d07-06a7-4ccc-fce6-994709f31a70",
        "colab": {
          "base_uri": "https://localhost:8080/",
          "height": 527
        }
      },
      "cell_type": "code",
      "source": [
        "df_flatten_authors.head()"
      ],
      "execution_count": 0,
      "outputs": [
        {
          "output_type": "execute_result",
          "data": {
            "text/html": [
              "<div>\n",
              "<style scoped>\n",
              "    .dataframe tbody tr th:only-of-type {\n",
              "        vertical-align: middle;\n",
              "    }\n",
              "\n",
              "    .dataframe tbody tr th {\n",
              "        vertical-align: top;\n",
              "    }\n",
              "\n",
              "    .dataframe thead th {\n",
              "        text-align: right;\n",
              "    }\n",
              "</style>\n",
              "<table border=\"1\" class=\"dataframe\">\n",
              "  <thead>\n",
              "    <tr style=\"text-align: right;\">\n",
              "      <th></th>\n",
              "      <th>abstract</th>\n",
              "      <th>author_count</th>\n",
              "      <th>authors</th>\n",
              "      <th>id</th>\n",
              "      <th>importance</th>\n",
              "      <th>n_citation</th>\n",
              "      <th>references</th>\n",
              "      <th>title</th>\n",
              "      <th>venue</th>\n",
              "      <th>year</th>\n",
              "    </tr>\n",
              "  </thead>\n",
              "  <tbody>\n",
              "    <tr>\n",
              "      <th>0</th>\n",
              "      <td>This article applied GARCH model instead AR or...</td>\n",
              "      <td>4</td>\n",
              "      <td>Altaf Hossain</td>\n",
              "      <td>001c8744-73c4-4b04-9364-22d31a10dbf1</td>\n",
              "      <td>0</td>\n",
              "      <td>50</td>\n",
              "      <td>[2d84c0f2-e656-4ce7-b018-90eda1c132fe, a083a1b...</td>\n",
              "      <td>Comparison of GARCH, Neural Network and Suppor...</td>\n",
              "      <td>pattern recognition and machine intelligence</td>\n",
              "      <td>2009</td>\n",
              "    </tr>\n",
              "    <tr>\n",
              "      <th>1</th>\n",
              "      <td>This article applied GARCH model instead AR or...</td>\n",
              "      <td>4</td>\n",
              "      <td>Faisal Zaman</td>\n",
              "      <td>001c8744-73c4-4b04-9364-22d31a10dbf1</td>\n",
              "      <td>0</td>\n",
              "      <td>50</td>\n",
              "      <td>[2d84c0f2-e656-4ce7-b018-90eda1c132fe, a083a1b...</td>\n",
              "      <td>Comparison of GARCH, Neural Network and Suppor...</td>\n",
              "      <td>pattern recognition and machine intelligence</td>\n",
              "      <td>2009</td>\n",
              "    </tr>\n",
              "    <tr>\n",
              "      <th>2</th>\n",
              "      <td>This article applied GARCH model instead AR or...</td>\n",
              "      <td>4</td>\n",
              "      <td>Mohammed Nasser</td>\n",
              "      <td>001c8744-73c4-4b04-9364-22d31a10dbf1</td>\n",
              "      <td>0</td>\n",
              "      <td>50</td>\n",
              "      <td>[2d84c0f2-e656-4ce7-b018-90eda1c132fe, a083a1b...</td>\n",
              "      <td>Comparison of GARCH, Neural Network and Suppor...</td>\n",
              "      <td>pattern recognition and machine intelligence</td>\n",
              "      <td>2009</td>\n",
              "    </tr>\n",
              "    <tr>\n",
              "      <th>3</th>\n",
              "      <td>This article applied GARCH model instead AR or...</td>\n",
              "      <td>4</td>\n",
              "      <td>M. Mufakhkharul Islam</td>\n",
              "      <td>001c8744-73c4-4b04-9364-22d31a10dbf1</td>\n",
              "      <td>0</td>\n",
              "      <td>50</td>\n",
              "      <td>[2d84c0f2-e656-4ce7-b018-90eda1c132fe, a083a1b...</td>\n",
              "      <td>Comparison of GARCH, Neural Network and Suppor...</td>\n",
              "      <td>pattern recognition and machine intelligence</td>\n",
              "      <td>2009</td>\n",
              "    </tr>\n",
              "    <tr>\n",
              "      <th>4</th>\n",
              "      <td>NaN</td>\n",
              "      <td>2</td>\n",
              "      <td>Jovan Dj. Golic</td>\n",
              "      <td>00638a94-23bf-4fa6-b5ce-40d799c65da7</td>\n",
              "      <td>35</td>\n",
              "      <td>2</td>\n",
              "      <td>NaN</td>\n",
              "      <td>Vectorial fast correlation attacks.</td>\n",
              "      <td></td>\n",
              "      <td>2004</td>\n",
              "    </tr>\n",
              "  </tbody>\n",
              "</table>\n",
              "</div>"
            ],
            "text/plain": [
              "                                            abstract  author_count  \\\n",
              "0  This article applied GARCH model instead AR or...             4   \n",
              "1  This article applied GARCH model instead AR or...             4   \n",
              "2  This article applied GARCH model instead AR or...             4   \n",
              "3  This article applied GARCH model instead AR or...             4   \n",
              "4                                                NaN             2   \n",
              "\n",
              "                 authors                                    id  importance  \\\n",
              "0          Altaf Hossain  001c8744-73c4-4b04-9364-22d31a10dbf1           0   \n",
              "1           Faisal Zaman  001c8744-73c4-4b04-9364-22d31a10dbf1           0   \n",
              "2        Mohammed Nasser  001c8744-73c4-4b04-9364-22d31a10dbf1           0   \n",
              "3  M. Mufakhkharul Islam  001c8744-73c4-4b04-9364-22d31a10dbf1           0   \n",
              "4        Jovan Dj. Golic  00638a94-23bf-4fa6-b5ce-40d799c65da7          35   \n",
              "\n",
              "   n_citation                                         references  \\\n",
              "0          50  [2d84c0f2-e656-4ce7-b018-90eda1c132fe, a083a1b...   \n",
              "1          50  [2d84c0f2-e656-4ce7-b018-90eda1c132fe, a083a1b...   \n",
              "2          50  [2d84c0f2-e656-4ce7-b018-90eda1c132fe, a083a1b...   \n",
              "3          50  [2d84c0f2-e656-4ce7-b018-90eda1c132fe, a083a1b...   \n",
              "4           2                                                NaN   \n",
              "\n",
              "                                               title  \\\n",
              "0  Comparison of GARCH, Neural Network and Suppor...   \n",
              "1  Comparison of GARCH, Neural Network and Suppor...   \n",
              "2  Comparison of GARCH, Neural Network and Suppor...   \n",
              "3  Comparison of GARCH, Neural Network and Suppor...   \n",
              "4                Vectorial fast correlation attacks.   \n",
              "\n",
              "                                          venue  year  \n",
              "0  pattern recognition and machine intelligence  2009  \n",
              "1  pattern recognition and machine intelligence  2009  \n",
              "2  pattern recognition and machine intelligence  2009  \n",
              "3  pattern recognition and machine intelligence  2009  \n",
              "4                                                2004  "
            ]
          },
          "metadata": {
            "tags": []
          },
          "execution_count": 13
        }
      ]
    },
    {
      "metadata": {
        "id": "lkEwoJiITYiq",
        "colab_type": "code",
        "outputId": "97be9d65-630b-4d7d-b318-7c9ea2c57590",
        "colab": {
          "base_uri": "https://localhost:8080/",
          "height": 272
        }
      },
      "cell_type": "code",
      "source": [
        "df_flatten_authors.info()"
      ],
      "execution_count": 0,
      "outputs": [
        {
          "output_type": "stream",
          "text": [
            "<class 'pandas.core.frame.DataFrame'>\n",
            "RangeIndex: 1275567 entries, 0 to 1275566\n",
            "Data columns (total 10 columns):\n",
            "abstract        1044227 non-null object\n",
            "author_count    1275567 non-null int64\n",
            "authors         1275567 non-null object\n",
            "id              1275567 non-null object\n",
            "importance      1275567 non-null int64\n",
            "n_citation      1275567 non-null int64\n",
            "references      1179265 non-null object\n",
            "title           1275567 non-null object\n",
            "venue           1275567 non-null object\n",
            "year            1275567 non-null int64\n",
            "dtypes: int64(4), object(6)\n",
            "memory usage: 97.3+ MB\n"
          ],
          "name": "stdout"
        }
      ]
    },
    {
      "metadata": {
        "id": "fZoyqfs9LJab",
        "colab_type": "code",
        "colab": {}
      },
      "cell_type": "code",
      "source": [
        "df_flatten_authors_copy = df_flatten_authors\n",
        "\n",
        "df_flatten_authors_copy = df_flatten_authors_copy.groupby('authors').agg({'n_citation' : ['sum', h_index_utility2]})"
      ],
      "execution_count": 0,
      "outputs": []
    },
    {
      "metadata": {
        "id": "woAJj6AMLJaj",
        "colab_type": "code",
        "outputId": "54d965f4-543b-45bc-e532-fc1fe3765277",
        "colab": {
          "base_uri": "https://localhost:8080/",
          "height": 266
        }
      },
      "cell_type": "code",
      "source": [
        "df_flatten_authors_copy.head()"
      ],
      "execution_count": 0,
      "outputs": [
        {
          "output_type": "execute_result",
          "data": {
            "text/html": [
              "<div>\n",
              "<style scoped>\n",
              "    .dataframe tbody tr th:only-of-type {\n",
              "        vertical-align: middle;\n",
              "    }\n",
              "\n",
              "    .dataframe tbody tr th {\n",
              "        vertical-align: top;\n",
              "    }\n",
              "\n",
              "    .dataframe thead tr th {\n",
              "        text-align: left;\n",
              "    }\n",
              "\n",
              "    .dataframe thead tr:last-of-type th {\n",
              "        text-align: right;\n",
              "    }\n",
              "</style>\n",
              "<table border=\"1\" class=\"dataframe\">\n",
              "  <thead>\n",
              "    <tr>\n",
              "      <th></th>\n",
              "      <th colspan=\"2\" halign=\"left\">n_citation</th>\n",
              "    </tr>\n",
              "    <tr>\n",
              "      <th></th>\n",
              "      <th>sum</th>\n",
              "      <th>h_index_utility2</th>\n",
              "    </tr>\n",
              "    <tr>\n",
              "      <th>authors</th>\n",
              "      <th></th>\n",
              "      <th></th>\n",
              "    </tr>\n",
              "  </thead>\n",
              "  <tbody>\n",
              "    <tr>\n",
              "      <th>(TYPE=name) (SCHEME=Vancouver) Kahn Ce</th>\n",
              "      <td>183</td>\n",
              "      <td>4</td>\n",
              "    </tr>\n",
              "    <tr>\n",
              "      <th>-Jr. Paulo Drews</th>\n",
              "      <td>19</td>\n",
              "      <td>1</td>\n",
              "    </tr>\n",
              "    <tr>\n",
              "      <th>344ehůřek</th>\n",
              "      <td>50</td>\n",
              "      <td>1</td>\n",
              "    </tr>\n",
              "    <tr>\n",
              "      <th>A Aart Blokhuis</th>\n",
              "      <td>232</td>\n",
              "      <td>3</td>\n",
              "    </tr>\n",
              "    <tr>\n",
              "      <th>A Aleksandra Kuzmanovska</th>\n",
              "      <td>50</td>\n",
              "      <td>1</td>\n",
              "    </tr>\n",
              "  </tbody>\n",
              "</table>\n",
              "</div>"
            ],
            "text/plain": [
              "                                       n_citation                 \n",
              "                                              sum h_index_utility2\n",
              "authors                                                           \n",
              "(TYPE=name) (SCHEME=Vancouver) Kahn Ce        183                4\n",
              "-Jr. Paulo Drews                               19                1\n",
              "344ehůřek                                      50                1\n",
              "A Aart Blokhuis                               232                3\n",
              "A Aleksandra Kuzmanovska                       50                1"
            ]
          },
          "metadata": {
            "tags": []
          },
          "execution_count": 17
        }
      ]
    },
    {
      "metadata": {
        "id": "g0RfENFeLJax",
        "colab_type": "code",
        "colab": {}
      },
      "cell_type": "code",
      "source": [
        "df_flatten_authors_copy.columns = [\"_\".join(x) for x in df_flatten_authors_copy.columns.ravel()]"
      ],
      "execution_count": 0,
      "outputs": []
    },
    {
      "metadata": {
        "id": "gXm8ymPNLJa6",
        "colab_type": "code",
        "outputId": "7ebeeb47-7c8d-400a-ab67-f3a1d6e39337",
        "colab": {
          "base_uri": "https://localhost:8080/",
          "height": 235
        }
      },
      "cell_type": "code",
      "source": [
        "df_flatten_authors_copy.head()"
      ],
      "execution_count": 0,
      "outputs": [
        {
          "output_type": "execute_result",
          "data": {
            "text/html": [
              "<div>\n",
              "<style scoped>\n",
              "    .dataframe tbody tr th:only-of-type {\n",
              "        vertical-align: middle;\n",
              "    }\n",
              "\n",
              "    .dataframe tbody tr th {\n",
              "        vertical-align: top;\n",
              "    }\n",
              "\n",
              "    .dataframe thead th {\n",
              "        text-align: right;\n",
              "    }\n",
              "</style>\n",
              "<table border=\"1\" class=\"dataframe\">\n",
              "  <thead>\n",
              "    <tr style=\"text-align: right;\">\n",
              "      <th></th>\n",
              "      <th>n_citation_sum</th>\n",
              "      <th>n_citation_h_index_utility2</th>\n",
              "    </tr>\n",
              "    <tr>\n",
              "      <th>authors</th>\n",
              "      <th></th>\n",
              "      <th></th>\n",
              "    </tr>\n",
              "  </thead>\n",
              "  <tbody>\n",
              "    <tr>\n",
              "      <th>(TYPE=name) (SCHEME=Vancouver) Kahn Ce</th>\n",
              "      <td>183</td>\n",
              "      <td>4</td>\n",
              "    </tr>\n",
              "    <tr>\n",
              "      <th>-Jr. Paulo Drews</th>\n",
              "      <td>19</td>\n",
              "      <td>1</td>\n",
              "    </tr>\n",
              "    <tr>\n",
              "      <th>344ehůřek</th>\n",
              "      <td>50</td>\n",
              "      <td>1</td>\n",
              "    </tr>\n",
              "    <tr>\n",
              "      <th>A Aart Blokhuis</th>\n",
              "      <td>232</td>\n",
              "      <td>3</td>\n",
              "    </tr>\n",
              "    <tr>\n",
              "      <th>A Aleksandra Kuzmanovska</th>\n",
              "      <td>50</td>\n",
              "      <td>1</td>\n",
              "    </tr>\n",
              "  </tbody>\n",
              "</table>\n",
              "</div>"
            ],
            "text/plain": [
              "                                        n_citation_sum  \\\n",
              "authors                                                  \n",
              "(TYPE=name) (SCHEME=Vancouver) Kahn Ce             183   \n",
              "-Jr. Paulo Drews                                    19   \n",
              "344ehůřek                                           50   \n",
              "A Aart Blokhuis                                    232   \n",
              "A Aleksandra Kuzmanovska                            50   \n",
              "\n",
              "                                        n_citation_h_index_utility2  \n",
              "authors                                                              \n",
              "(TYPE=name) (SCHEME=Vancouver) Kahn Ce                            4  \n",
              "-Jr. Paulo Drews                                                  1  \n",
              "344ehůřek                                                         1  \n",
              "A Aart Blokhuis                                                   3  \n",
              "A Aleksandra Kuzmanovska                                          1  "
            ]
          },
          "metadata": {
            "tags": []
          },
          "execution_count": 20
        }
      ]
    },
    {
      "metadata": {
        "id": "eh2--1yLLJbK",
        "colab_type": "code",
        "outputId": "d0ee6388-e5a3-4acf-d714-0cef7d5ec7b4",
        "colab": {
          "base_uri": "https://localhost:8080/",
          "height": 2000
        }
      },
      "cell_type": "code",
      "source": [
        "df_flatten_authors_copy.sort_values(by=['n_citation_h_index_utility2'], ascending=False)"
      ],
      "execution_count": 0,
      "outputs": [
        {
          "output_type": "execute_result",
          "data": {
            "text/html": [
              "<div>\n",
              "<style scoped>\n",
              "    .dataframe tbody tr th:only-of-type {\n",
              "        vertical-align: middle;\n",
              "    }\n",
              "\n",
              "    .dataframe tbody tr th {\n",
              "        vertical-align: top;\n",
              "    }\n",
              "\n",
              "    .dataframe thead th {\n",
              "        text-align: right;\n",
              "    }\n",
              "</style>\n",
              "<table border=\"1\" class=\"dataframe\">\n",
              "  <thead>\n",
              "    <tr style=\"text-align: right;\">\n",
              "      <th></th>\n",
              "      <th>n_citation_sum</th>\n",
              "      <th>n_citation_h_index_utility2</th>\n",
              "    </tr>\n",
              "    <tr>\n",
              "      <th>authors</th>\n",
              "      <th></th>\n",
              "      <th></th>\n",
              "    </tr>\n",
              "  </thead>\n",
              "  <tbody>\n",
              "    <tr>\n",
              "      <th>Jiawei Han</th>\n",
              "      <td>23831</td>\n",
              "      <td>65</td>\n",
              "    </tr>\n",
              "    <tr>\n",
              "      <th>Andrew Zisserman</th>\n",
              "      <td>25032</td>\n",
              "      <td>64</td>\n",
              "    </tr>\n",
              "    <tr>\n",
              "      <th>Philip S. Yu</th>\n",
              "      <td>18918</td>\n",
              "      <td>62</td>\n",
              "    </tr>\n",
              "    <tr>\n",
              "      <th>Moshe Y. Vardi</th>\n",
              "      <td>15791</td>\n",
              "      <td>61</td>\n",
              "    </tr>\n",
              "    <tr>\n",
              "      <th>Christos Faloutsos</th>\n",
              "      <td>27341</td>\n",
              "      <td>61</td>\n",
              "    </tr>\n",
              "    <tr>\n",
              "      <th>Anil K. Jain</th>\n",
              "      <td>25439</td>\n",
              "      <td>59</td>\n",
              "    </tr>\n",
              "    <tr>\n",
              "      <th>Amir Pnueli</th>\n",
              "      <td>14859</td>\n",
              "      <td>58</td>\n",
              "    </tr>\n",
              "    <tr>\n",
              "      <th>Thomas A. Henzinger</th>\n",
              "      <td>13819</td>\n",
              "      <td>57</td>\n",
              "    </tr>\n",
              "    <tr>\n",
              "      <th>Sebastian Thrun</th>\n",
              "      <td>17630</td>\n",
              "      <td>57</td>\n",
              "    </tr>\n",
              "    <tr>\n",
              "      <th>Daphne Koller</th>\n",
              "      <td>19567</td>\n",
              "      <td>53</td>\n",
              "    </tr>\n",
              "    <tr>\n",
              "      <th>Edmund M. Clarke</th>\n",
              "      <td>20004</td>\n",
              "      <td>53</td>\n",
              "    </tr>\n",
              "    <tr>\n",
              "      <th>David E. Goldberg</th>\n",
              "      <td>99560</td>\n",
              "      <td>52</td>\n",
              "    </tr>\n",
              "    <tr>\n",
              "      <th>Nicholas Ayache</th>\n",
              "      <td>13589</td>\n",
              "      <td>52</td>\n",
              "    </tr>\n",
              "    <tr>\n",
              "      <th>Tuomas Sandholm</th>\n",
              "      <td>8947</td>\n",
              "      <td>51</td>\n",
              "    </tr>\n",
              "    <tr>\n",
              "      <th>Henri Prade</th>\n",
              "      <td>11451</td>\n",
              "      <td>51</td>\n",
              "    </tr>\n",
              "    <tr>\n",
              "      <th>Ian Horrocks</th>\n",
              "      <td>16596</td>\n",
              "      <td>51</td>\n",
              "    </tr>\n",
              "    <tr>\n",
              "      <th>Horst Bischof</th>\n",
              "      <td>9169</td>\n",
              "      <td>50</td>\n",
              "    </tr>\n",
              "    <tr>\n",
              "      <th>Wei Chen</th>\n",
              "      <td>6357</td>\n",
              "      <td>50</td>\n",
              "    </tr>\n",
              "    <tr>\n",
              "      <th>Horst Bunke</th>\n",
              "      <td>7501</td>\n",
              "      <td>50</td>\n",
              "    </tr>\n",
              "    <tr>\n",
              "      <th>José Meseguer</th>\n",
              "      <td>10377</td>\n",
              "      <td>50</td>\n",
              "    </tr>\n",
              "    <tr>\n",
              "      <th>Dacheng Tao</th>\n",
              "      <td>5291</td>\n",
              "      <td>50</td>\n",
              "    </tr>\n",
              "    <tr>\n",
              "      <th>Jun Zhang</th>\n",
              "      <td>5770</td>\n",
              "      <td>50</td>\n",
              "    </tr>\n",
              "    <tr>\n",
              "      <th>Yang Wang</th>\n",
              "      <td>5087</td>\n",
              "      <td>50</td>\n",
              "    </tr>\n",
              "    <tr>\n",
              "      <th>Kalyanmoy Deb</th>\n",
              "      <td>15048</td>\n",
              "      <td>50</td>\n",
              "    </tr>\n",
              "    <tr>\n",
              "      <th>Maurice Bruynooghe</th>\n",
              "      <td>4842</td>\n",
              "      <td>50</td>\n",
              "    </tr>\n",
              "    <tr>\n",
              "      <th>John Mylopoulos</th>\n",
              "      <td>10058</td>\n",
              "      <td>50</td>\n",
              "    </tr>\n",
              "    <tr>\n",
              "      <th>Wei Li</th>\n",
              "      <td>8613</td>\n",
              "      <td>50</td>\n",
              "    </tr>\n",
              "    <tr>\n",
              "      <th>Wei Liu</th>\n",
              "      <td>6286</td>\n",
              "      <td>50</td>\n",
              "    </tr>\n",
              "    <tr>\n",
              "      <th>Simon Parsons</th>\n",
              "      <td>4699</td>\n",
              "      <td>50</td>\n",
              "    </tr>\n",
              "    <tr>\n",
              "      <th>Li Zhang</th>\n",
              "      <td>4771</td>\n",
              "      <td>50</td>\n",
              "    </tr>\n",
              "    <tr>\n",
              "      <th>...</th>\n",
              "      <td>...</td>\n",
              "      <td>...</td>\n",
              "    </tr>\n",
              "    <tr>\n",
              "      <th>Eleftherios Kosmas</th>\n",
              "      <td>10</td>\n",
              "      <td>1</td>\n",
              "    </tr>\n",
              "    <tr>\n",
              "      <th>Martin Noël</th>\n",
              "      <td>1</td>\n",
              "      <td>1</td>\n",
              "    </tr>\n",
              "    <tr>\n",
              "      <th>Eleftherios Spyromitros-Xioufis</th>\n",
              "      <td>34</td>\n",
              "      <td>1</td>\n",
              "    </tr>\n",
              "    <tr>\n",
              "      <th>Martin Nyffenegger</th>\n",
              "      <td>50</td>\n",
              "      <td>1</td>\n",
              "    </tr>\n",
              "    <tr>\n",
              "      <th>Martin Nyolt</th>\n",
              "      <td>17</td>\n",
              "      <td>1</td>\n",
              "    </tr>\n",
              "    <tr>\n",
              "      <th>Eleftherios Spyromitros</th>\n",
              "      <td>154</td>\n",
              "      <td>1</td>\n",
              "    </tr>\n",
              "    <tr>\n",
              "      <th>Martin O'Connor</th>\n",
              "      <td>28</td>\n",
              "      <td>1</td>\n",
              "    </tr>\n",
              "    <tr>\n",
              "      <th>Martin O. Culjat</th>\n",
              "      <td>50</td>\n",
              "      <td>1</td>\n",
              "    </tr>\n",
              "    <tr>\n",
              "      <th>Eleftherios Spartalis</th>\n",
              "      <td>50</td>\n",
              "      <td>1</td>\n",
              "    </tr>\n",
              "    <tr>\n",
              "      <th>Eleftherios S. Zografos</th>\n",
              "      <td>50</td>\n",
              "      <td>1</td>\n",
              "    </tr>\n",
              "    <tr>\n",
              "      <th>Martin O. Saar</th>\n",
              "      <td>54</td>\n",
              "      <td>1</td>\n",
              "    </tr>\n",
              "    <tr>\n",
              "      <th>Martin Oberhofer</th>\n",
              "      <td>31</td>\n",
              "      <td>1</td>\n",
              "    </tr>\n",
              "    <tr>\n",
              "      <th>Martin Oberkönig</th>\n",
              "      <td>50</td>\n",
              "      <td>1</td>\n",
              "    </tr>\n",
              "    <tr>\n",
              "      <th>Eleftherios Roumpakias</th>\n",
              "      <td>50</td>\n",
              "      <td>1</td>\n",
              "    </tr>\n",
              "    <tr>\n",
              "      <th>Eleftherios Karapetsas</th>\n",
              "      <td>8</td>\n",
              "      <td>1</td>\n",
              "    </tr>\n",
              "    <tr>\n",
              "      <th>Martin P. J. van Boxtel</th>\n",
              "      <td>50</td>\n",
              "      <td>1</td>\n",
              "    </tr>\n",
              "    <tr>\n",
              "      <th>Eleftherios Kalogeros</th>\n",
              "      <td>50</td>\n",
              "      <td>1</td>\n",
              "    </tr>\n",
              "    <tr>\n",
              "      <th>Eleftherios Chamakiotis</th>\n",
              "      <td>50</td>\n",
              "      <td>1</td>\n",
              "    </tr>\n",
              "    <tr>\n",
              "      <th>Eleftherios Avramidis</th>\n",
              "      <td>50</td>\n",
              "      <td>1</td>\n",
              "    </tr>\n",
              "    <tr>\n",
              "      <th>Eleftherios A. Manarolis</th>\n",
              "      <td>50</td>\n",
              "      <td>1</td>\n",
              "    </tr>\n",
              "    <tr>\n",
              "      <th>Eleftheria Tsourlidaki</th>\n",
              "      <td>50</td>\n",
              "      <td>1</td>\n",
              "    </tr>\n",
              "    <tr>\n",
              "      <th>Eleftheria S. Sergaki</th>\n",
              "      <td>13</td>\n",
              "      <td>1</td>\n",
              "    </tr>\n",
              "    <tr>\n",
              "      <th>Martin Ordonez</th>\n",
              "      <td>31</td>\n",
              "      <td>1</td>\n",
              "    </tr>\n",
              "    <tr>\n",
              "      <th>Eleftheria Petraki</th>\n",
              "      <td>50</td>\n",
              "      <td>1</td>\n",
              "    </tr>\n",
              "    <tr>\n",
              "      <th>Martin Ostgathe</th>\n",
              "      <td>9</td>\n",
              "      <td>1</td>\n",
              "    </tr>\n",
              "    <tr>\n",
              "      <th>Martin Otter</th>\n",
              "      <td>11</td>\n",
              "      <td>1</td>\n",
              "    </tr>\n",
              "    <tr>\n",
              "      <th>Martin Ouwerkerk</th>\n",
              "      <td>50</td>\n",
              "      <td>1</td>\n",
              "    </tr>\n",
              "    <tr>\n",
              "      <th>Martin Owen</th>\n",
              "      <td>116</td>\n",
              "      <td>1</td>\n",
              "    </tr>\n",
              "    <tr>\n",
              "      <th>Martin P. DeSimio</th>\n",
              "      <td>50</td>\n",
              "      <td>1</td>\n",
              "    </tr>\n",
              "    <tr>\n",
              "      <th>茂樹 松原</th>\n",
              "      <td>13</td>\n",
              "      <td>1</td>\n",
              "    </tr>\n",
              "  </tbody>\n",
              "</table>\n",
              "<p>430902 rows × 2 columns</p>\n",
              "</div>"
            ],
            "text/plain": [
              "                                 n_citation_sum  n_citation_h_index_utility2\n",
              "authors                                                                     \n",
              "Jiawei Han                                23831                           65\n",
              "Andrew Zisserman                          25032                           64\n",
              "Philip S. Yu                              18918                           62\n",
              "Moshe Y. Vardi                            15791                           61\n",
              "Christos Faloutsos                        27341                           61\n",
              "Anil K. Jain                              25439                           59\n",
              "Amir Pnueli                               14859                           58\n",
              "Thomas A. Henzinger                       13819                           57\n",
              "Sebastian Thrun                           17630                           57\n",
              "Daphne Koller                             19567                           53\n",
              "Edmund M. Clarke                          20004                           53\n",
              "David E. Goldberg                         99560                           52\n",
              "Nicholas Ayache                           13589                           52\n",
              "Tuomas Sandholm                            8947                           51\n",
              "Henri Prade                               11451                           51\n",
              "Ian Horrocks                              16596                           51\n",
              "Horst Bischof                              9169                           50\n",
              "Wei Chen                                   6357                           50\n",
              "Horst Bunke                                7501                           50\n",
              "José Meseguer                             10377                           50\n",
              "Dacheng Tao                                5291                           50\n",
              "Jun Zhang                                  5770                           50\n",
              "Yang Wang                                  5087                           50\n",
              "Kalyanmoy Deb                             15048                           50\n",
              "Maurice Bruynooghe                         4842                           50\n",
              "John Mylopoulos                           10058                           50\n",
              "Wei Li                                     8613                           50\n",
              "Wei Liu                                    6286                           50\n",
              "Simon Parsons                              4699                           50\n",
              "Li Zhang                                   4771                           50\n",
              "...                                         ...                          ...\n",
              "Eleftherios Kosmas                           10                            1\n",
              "Martin Noël                                   1                            1\n",
              "Eleftherios Spyromitros-Xioufis              34                            1\n",
              "Martin Nyffenegger                           50                            1\n",
              "Martin Nyolt                                 17                            1\n",
              "Eleftherios Spyromitros                     154                            1\n",
              "Martin O'Connor                              28                            1\n",
              "Martin O. Culjat                             50                            1\n",
              "Eleftherios Spartalis                        50                            1\n",
              "Eleftherios S. Zografos                      50                            1\n",
              "Martin O. Saar                               54                            1\n",
              "Martin Oberhofer                             31                            1\n",
              "Martin Oberkönig                             50                            1\n",
              "Eleftherios Roumpakias                       50                            1\n",
              "Eleftherios Karapetsas                        8                            1\n",
              "Martin P. J. van Boxtel                      50                            1\n",
              "Eleftherios Kalogeros                        50                            1\n",
              "Eleftherios Chamakiotis                      50                            1\n",
              "Eleftherios Avramidis                        50                            1\n",
              "Eleftherios A. Manarolis                     50                            1\n",
              "Eleftheria Tsourlidaki                       50                            1\n",
              "Eleftheria S. Sergaki                        13                            1\n",
              "Martin Ordonez                               31                            1\n",
              "Eleftheria Petraki                           50                            1\n",
              "Martin Ostgathe                               9                            1\n",
              "Martin Otter                                 11                            1\n",
              "Martin Ouwerkerk                             50                            1\n",
              "Martin Owen                                 116                            1\n",
              "Martin P. DeSimio                            50                            1\n",
              "茂樹 松原                                        13                            1\n",
              "\n",
              "[430902 rows x 2 columns]"
            ]
          },
          "metadata": {
            "tags": []
          },
          "execution_count": 21
        }
      ]
    },
    {
      "metadata": {
        "id": "G6X3jZQ6HXGL",
        "colab_type": "code",
        "outputId": "b7c6af56-07ac-4232-eb5d-a5547eec77af",
        "colab": {
          "base_uri": "https://localhost:8080/",
          "height": 289
        }
      },
      "cell_type": "code",
      "source": [
        "df.info()"
      ],
      "execution_count": 0,
      "outputs": [
        {
          "output_type": "stream",
          "text": [
            "<class 'pandas.core.frame.DataFrame'>\n",
            "Int64Index: 437643 entries, 0 to 437642\n",
            "Data columns (total 11 columns):\n",
            "abstract            352014 non-null object\n",
            "authors             437643 non-null object\n",
            "id                  437643 non-null object\n",
            "n_citation          437643 non-null int64\n",
            "references          401001 non-null object\n",
            "title               437643 non-null object\n",
            "venue               437643 non-null object\n",
            "year                437643 non-null int64\n",
            "importance          437643 non-null int64\n",
            "author_count        437643 non-null int64\n",
            "references_count    401001 non-null float64\n",
            "dtypes: float64(1), int64(4), object(6)\n",
            "memory usage: 40.1+ MB\n"
          ],
          "name": "stdout"
        }
      ]
    },
    {
      "metadata": {
        "id": "q4_3INPyGwPq",
        "colab_type": "code",
        "colab": {}
      },
      "cell_type": "code",
      "source": [
        "# df_flatten_authors=pd.read_pickle('/content/drive/My Drive/pickle1')"
      ],
      "execution_count": 0,
      "outputs": []
    },
    {
      "metadata": {
        "id": "6qKAj_2bHXvH",
        "colab_type": "code",
        "outputId": "00201072-cdc1-401d-b1f8-4ccf083a2e87",
        "colab": {
          "base_uri": "https://localhost:8080/",
          "height": 564
        }
      },
      "cell_type": "code",
      "source": [
        "df.head()"
      ],
      "execution_count": 0,
      "outputs": [
        {
          "output_type": "execute_result",
          "data": {
            "text/html": [
              "<div>\n",
              "<style scoped>\n",
              "    .dataframe tbody tr th:only-of-type {\n",
              "        vertical-align: middle;\n",
              "    }\n",
              "\n",
              "    .dataframe tbody tr th {\n",
              "        vertical-align: top;\n",
              "    }\n",
              "\n",
              "    .dataframe thead th {\n",
              "        text-align: right;\n",
              "    }\n",
              "</style>\n",
              "<table border=\"1\" class=\"dataframe\">\n",
              "  <thead>\n",
              "    <tr style=\"text-align: right;\">\n",
              "      <th></th>\n",
              "      <th>abstract</th>\n",
              "      <th>authors</th>\n",
              "      <th>id</th>\n",
              "      <th>n_citation</th>\n",
              "      <th>references</th>\n",
              "      <th>title</th>\n",
              "      <th>venue</th>\n",
              "      <th>year</th>\n",
              "      <th>importance</th>\n",
              "      <th>author_count</th>\n",
              "      <th>references_count</th>\n",
              "    </tr>\n",
              "  </thead>\n",
              "  <tbody>\n",
              "    <tr>\n",
              "      <th>0</th>\n",
              "      <td>This article applied GARCH model instead AR or...</td>\n",
              "      <td>[Altaf Hossain, Faisal Zaman, Mohammed Nasser,...</td>\n",
              "      <td>001c8744-73c4-4b04-9364-22d31a10dbf1</td>\n",
              "      <td>50</td>\n",
              "      <td>[2d84c0f2-e656-4ce7-b018-90eda1c132fe, a083a1b...</td>\n",
              "      <td>Comparison of GARCH, Neural Network and Suppor...</td>\n",
              "      <td>pattern recognition and machine intelligence</td>\n",
              "      <td>2009</td>\n",
              "      <td>0</td>\n",
              "      <td>4</td>\n",
              "      <td>2.0</td>\n",
              "    </tr>\n",
              "    <tr>\n",
              "      <th>1</th>\n",
              "      <td>NaN</td>\n",
              "      <td>[Jovan Dj. Golic, Guglielmo Morgari]</td>\n",
              "      <td>00638a94-23bf-4fa6-b5ce-40d799c65da7</td>\n",
              "      <td>2</td>\n",
              "      <td>NaN</td>\n",
              "      <td>Vectorial fast correlation attacks.</td>\n",
              "      <td></td>\n",
              "      <td>2004</td>\n",
              "      <td>35</td>\n",
              "      <td>2</td>\n",
              "      <td>NaN</td>\n",
              "    </tr>\n",
              "    <tr>\n",
              "      <th>2</th>\n",
              "      <td>Recently, Bridges and Reich introduced the con...</td>\n",
              "      <td>[Alvaro L. Islas, Constance M. Schober]</td>\n",
              "      <td>00bcf2d5-1592-46b0-81fd-933f90b5ecca</td>\n",
              "      <td>50</td>\n",
              "      <td>[]</td>\n",
              "      <td>Multisymplectic Spectral Methods for the Gross...</td>\n",
              "      <td>international conference on conceptual structures</td>\n",
              "      <td>2002</td>\n",
              "      <td>50</td>\n",
              "      <td>2</td>\n",
              "      <td>0.0</td>\n",
              "    </tr>\n",
              "    <tr>\n",
              "      <th>3</th>\n",
              "      <td>Most applications of the abstract interpretati...</td>\n",
              "      <td>[Patrick Cousot, Radhia Cousot]</td>\n",
              "      <td>00c85316-bddf-4bcb-93f5-097adadd73c2</td>\n",
              "      <td>50</td>\n",
              "      <td>[6e8a3ec3-9a99-4fac-ac4d-f8d1bf0fa208, 7bb71af...</td>\n",
              "      <td>Relational Abstract Interpretation of Higher O...</td>\n",
              "      <td></td>\n",
              "      <td>1991</td>\n",
              "      <td>12</td>\n",
              "      <td>2</td>\n",
              "      <td>5.0</td>\n",
              "    </tr>\n",
              "    <tr>\n",
              "      <th>4</th>\n",
              "      <td>NaN</td>\n",
              "      <td>[Abdullah Alsubaie, Antonio Di Pietro, Jose R....</td>\n",
              "      <td>00e3940b-201b-40ba-bd20-dbdaf26ad324</td>\n",
              "      <td>6</td>\n",
              "      <td>[0293844d-7244-4562-a6ca-d84bcd9c10a5, 14cd3cf...</td>\n",
              "      <td>A Platform for Disaster Response Planning with...</td>\n",
              "      <td></td>\n",
              "      <td>2013</td>\n",
              "      <td>7</td>\n",
              "      <td>7</td>\n",
              "      <td>6.0</td>\n",
              "    </tr>\n",
              "  </tbody>\n",
              "</table>\n",
              "</div>"
            ],
            "text/plain": [
              "                                            abstract  \\\n",
              "0  This article applied GARCH model instead AR or...   \n",
              "1                                                NaN   \n",
              "2  Recently, Bridges and Reich introduced the con...   \n",
              "3  Most applications of the abstract interpretati...   \n",
              "4                                                NaN   \n",
              "\n",
              "                                             authors  \\\n",
              "0  [Altaf Hossain, Faisal Zaman, Mohammed Nasser,...   \n",
              "1               [Jovan Dj. Golic, Guglielmo Morgari]   \n",
              "2            [Alvaro L. Islas, Constance M. Schober]   \n",
              "3                    [Patrick Cousot, Radhia Cousot]   \n",
              "4  [Abdullah Alsubaie, Antonio Di Pietro, Jose R....   \n",
              "\n",
              "                                     id  n_citation  \\\n",
              "0  001c8744-73c4-4b04-9364-22d31a10dbf1          50   \n",
              "1  00638a94-23bf-4fa6-b5ce-40d799c65da7           2   \n",
              "2  00bcf2d5-1592-46b0-81fd-933f90b5ecca          50   \n",
              "3  00c85316-bddf-4bcb-93f5-097adadd73c2          50   \n",
              "4  00e3940b-201b-40ba-bd20-dbdaf26ad324           6   \n",
              "\n",
              "                                          references  \\\n",
              "0  [2d84c0f2-e656-4ce7-b018-90eda1c132fe, a083a1b...   \n",
              "1                                                NaN   \n",
              "2                                                 []   \n",
              "3  [6e8a3ec3-9a99-4fac-ac4d-f8d1bf0fa208, 7bb71af...   \n",
              "4  [0293844d-7244-4562-a6ca-d84bcd9c10a5, 14cd3cf...   \n",
              "\n",
              "                                               title  \\\n",
              "0  Comparison of GARCH, Neural Network and Suppor...   \n",
              "1                Vectorial fast correlation attacks.   \n",
              "2  Multisymplectic Spectral Methods for the Gross...   \n",
              "3  Relational Abstract Interpretation of Higher O...   \n",
              "4  A Platform for Disaster Response Planning with...   \n",
              "\n",
              "                                               venue  year  importance  \\\n",
              "0       pattern recognition and machine intelligence  2009           0   \n",
              "1                                                     2004          35   \n",
              "2  international conference on conceptual structures  2002          50   \n",
              "3                                                     1991          12   \n",
              "4                                                     2013           7   \n",
              "\n",
              "   author_count  references_count  \n",
              "0             4               2.0  \n",
              "1             2               NaN  \n",
              "2             2               0.0  \n",
              "3             2               5.0  \n",
              "4             7               6.0  "
            ]
          },
          "metadata": {
            "tags": []
          },
          "execution_count": 16
        }
      ]
    },
    {
      "metadata": {
        "id": "MBSBQbevjedb",
        "colab_type": "text"
      },
      "cell_type": "markdown",
      "source": [
        "# Implementing Baseline model to identify important features for our metric"
      ]
    },
    {
      "metadata": {
        "id": "fMKc1pJOjpqb",
        "colab_type": "text"
      },
      "cell_type": "markdown",
      "source": [
        "LABEL ENCODING"
      ]
    },
    {
      "metadata": {
        "id": "15vB7noZFS6y",
        "colab_type": "code",
        "colab": {}
      },
      "cell_type": "code",
      "source": [
        "from sklearn import model_selection, preprocessing, metrics"
      ],
      "execution_count": 0,
      "outputs": []
    },
    {
      "metadata": {
        "id": "6phoUCxZDvrF",
        "colab_type": "code",
        "outputId": "5f02dd6a-fe1a-499d-b0d8-cd2125632614",
        "colab": {
          "base_uri": "https://localhost:8080/",
          "height": 34
        }
      },
      "cell_type": "code",
      "source": [
        "for col in df.select_dtypes(include=[np.object]):\n",
        "    if col not in ['references','title','abstract','authors','id']:\n",
        "        print(col)\n",
        "        lbl = preprocessing.LabelEncoder()\n",
        "        lbl.fit(list(df[col].values.astype('str')))\n",
        "        df[col] = lbl.transform(list(df[col].values.astype('str')))\n",
        "#       test_df[col] = lbl.transform(list(test_df[col].values.astype('str')))"
      ],
      "execution_count": 0,
      "outputs": [
        {
          "output_type": "stream",
          "text": [
            "venue\n"
          ],
          "name": "stdout"
        }
      ]
    },
    {
      "metadata": {
        "id": "T9sd2Y-xFVa3",
        "colab_type": "code",
        "outputId": "b56ddc00-43db-441b-8ae8-ca8c9b65c1b8",
        "colab": {
          "base_uri": "https://localhost:8080/",
          "height": 564
        }
      },
      "cell_type": "code",
      "source": [
        "df.head()"
      ],
      "execution_count": 0,
      "outputs": [
        {
          "output_type": "execute_result",
          "data": {
            "text/html": [
              "<div>\n",
              "<style scoped>\n",
              "    .dataframe tbody tr th:only-of-type {\n",
              "        vertical-align: middle;\n",
              "    }\n",
              "\n",
              "    .dataframe tbody tr th {\n",
              "        vertical-align: top;\n",
              "    }\n",
              "\n",
              "    .dataframe thead th {\n",
              "        text-align: right;\n",
              "    }\n",
              "</style>\n",
              "<table border=\"1\" class=\"dataframe\">\n",
              "  <thead>\n",
              "    <tr style=\"text-align: right;\">\n",
              "      <th></th>\n",
              "      <th>abstract</th>\n",
              "      <th>authors</th>\n",
              "      <th>id</th>\n",
              "      <th>n_citation</th>\n",
              "      <th>references</th>\n",
              "      <th>title</th>\n",
              "      <th>venue</th>\n",
              "      <th>year</th>\n",
              "      <th>importance</th>\n",
              "      <th>author_count</th>\n",
              "      <th>references_count</th>\n",
              "    </tr>\n",
              "  </thead>\n",
              "  <tbody>\n",
              "    <tr>\n",
              "      <th>0</th>\n",
              "      <td>This article applied GARCH model instead AR or...</td>\n",
              "      <td>[Altaf Hossain, Faisal Zaman, Mohammed Nasser,...</td>\n",
              "      <td>001c8744-73c4-4b04-9364-22d31a10dbf1</td>\n",
              "      <td>50</td>\n",
              "      <td>[2d84c0f2-e656-4ce7-b018-90eda1c132fe, a083a1b...</td>\n",
              "      <td>Comparison of GARCH, Neural Network and Suppor...</td>\n",
              "      <td>3086</td>\n",
              "      <td>2009</td>\n",
              "      <td>0</td>\n",
              "      <td>4</td>\n",
              "      <td>2.0</td>\n",
              "    </tr>\n",
              "    <tr>\n",
              "      <th>1</th>\n",
              "      <td>NaN</td>\n",
              "      <td>[Jovan Dj. Golic, Guglielmo Morgari]</td>\n",
              "      <td>00638a94-23bf-4fa6-b5ce-40d799c65da7</td>\n",
              "      <td>2</td>\n",
              "      <td>NaN</td>\n",
              "      <td>Vectorial fast correlation attacks.</td>\n",
              "      <td>0</td>\n",
              "      <td>2004</td>\n",
              "      <td>35</td>\n",
              "      <td>2</td>\n",
              "      <td>NaN</td>\n",
              "    </tr>\n",
              "    <tr>\n",
              "      <th>2</th>\n",
              "      <td>Recently, Bridges and Reich introduced the con...</td>\n",
              "      <td>[Alvaro L. Islas, Constance M. Schober]</td>\n",
              "      <td>00bcf2d5-1592-46b0-81fd-933f90b5ecca</td>\n",
              "      <td>50</td>\n",
              "      <td>[]</td>\n",
              "      <td>Multisymplectic Spectral Methods for the Gross...</td>\n",
              "      <td>2633</td>\n",
              "      <td>2002</td>\n",
              "      <td>50</td>\n",
              "      <td>2</td>\n",
              "      <td>0.0</td>\n",
              "    </tr>\n",
              "    <tr>\n",
              "      <th>3</th>\n",
              "      <td>Most applications of the abstract interpretati...</td>\n",
              "      <td>[Patrick Cousot, Radhia Cousot]</td>\n",
              "      <td>00c85316-bddf-4bcb-93f5-097adadd73c2</td>\n",
              "      <td>50</td>\n",
              "      <td>[6e8a3ec3-9a99-4fac-ac4d-f8d1bf0fa208, 7bb71af...</td>\n",
              "      <td>Relational Abstract Interpretation of Higher O...</td>\n",
              "      <td>0</td>\n",
              "      <td>1991</td>\n",
              "      <td>12</td>\n",
              "      <td>2</td>\n",
              "      <td>5.0</td>\n",
              "    </tr>\n",
              "    <tr>\n",
              "      <th>4</th>\n",
              "      <td>NaN</td>\n",
              "      <td>[Abdullah Alsubaie, Antonio Di Pietro, Jose R....</td>\n",
              "      <td>00e3940b-201b-40ba-bd20-dbdaf26ad324</td>\n",
              "      <td>6</td>\n",
              "      <td>[0293844d-7244-4562-a6ca-d84bcd9c10a5, 14cd3cf...</td>\n",
              "      <td>A Platform for Disaster Response Planning with...</td>\n",
              "      <td>0</td>\n",
              "      <td>2013</td>\n",
              "      <td>7</td>\n",
              "      <td>7</td>\n",
              "      <td>6.0</td>\n",
              "    </tr>\n",
              "  </tbody>\n",
              "</table>\n",
              "</div>"
            ],
            "text/plain": [
              "                                            abstract  \\\n",
              "0  This article applied GARCH model instead AR or...   \n",
              "1                                                NaN   \n",
              "2  Recently, Bridges and Reich introduced the con...   \n",
              "3  Most applications of the abstract interpretati...   \n",
              "4                                                NaN   \n",
              "\n",
              "                                             authors  \\\n",
              "0  [Altaf Hossain, Faisal Zaman, Mohammed Nasser,...   \n",
              "1               [Jovan Dj. Golic, Guglielmo Morgari]   \n",
              "2            [Alvaro L. Islas, Constance M. Schober]   \n",
              "3                    [Patrick Cousot, Radhia Cousot]   \n",
              "4  [Abdullah Alsubaie, Antonio Di Pietro, Jose R....   \n",
              "\n",
              "                                     id  n_citation  \\\n",
              "0  001c8744-73c4-4b04-9364-22d31a10dbf1          50   \n",
              "1  00638a94-23bf-4fa6-b5ce-40d799c65da7           2   \n",
              "2  00bcf2d5-1592-46b0-81fd-933f90b5ecca          50   \n",
              "3  00c85316-bddf-4bcb-93f5-097adadd73c2          50   \n",
              "4  00e3940b-201b-40ba-bd20-dbdaf26ad324           6   \n",
              "\n",
              "                                          references  \\\n",
              "0  [2d84c0f2-e656-4ce7-b018-90eda1c132fe, a083a1b...   \n",
              "1                                                NaN   \n",
              "2                                                 []   \n",
              "3  [6e8a3ec3-9a99-4fac-ac4d-f8d1bf0fa208, 7bb71af...   \n",
              "4  [0293844d-7244-4562-a6ca-d84bcd9c10a5, 14cd3cf...   \n",
              "\n",
              "                                               title  venue  year  importance  \\\n",
              "0  Comparison of GARCH, Neural Network and Suppor...   3086  2009           0   \n",
              "1                Vectorial fast correlation attacks.      0  2004          35   \n",
              "2  Multisymplectic Spectral Methods for the Gross...   2633  2002          50   \n",
              "3  Relational Abstract Interpretation of Higher O...      0  1991          12   \n",
              "4  A Platform for Disaster Response Planning with...      0  2013           7   \n",
              "\n",
              "   author_count  references_count  \n",
              "0             4               2.0  \n",
              "1             2               NaN  \n",
              "2             2               0.0  \n",
              "3             2               5.0  \n",
              "4             7               6.0  "
            ]
          },
          "metadata": {
            "tags": []
          },
          "execution_count": 19
        }
      ]
    },
    {
      "metadata": {
        "id": "fNi5VfWhUmHO",
        "colab_type": "code",
        "colab": {}
      },
      "cell_type": "code",
      "source": [
        "# train_X=np.column_stack((df_flatten_authors.authors,df_flatten_authors.id,df_flatten_authors.importance,df_flatten_authors.venue,df_flatten_authors.year,df_flatten_authors.author_count))\n",
        "# train_Y=df_flatten_authors['n_citation']"
      ],
      "execution_count": 0,
      "outputs": []
    },
    {
      "metadata": {
        "id": "OOJumzvejwFs",
        "colab_type": "text"
      },
      "cell_type": "markdown",
      "source": [
        "CLEANING REFERENCES_COUNT"
      ]
    },
    {
      "metadata": {
        "id": "QlbHlRU6JrK0",
        "colab_type": "code",
        "colab": {}
      },
      "cell_type": "code",
      "source": [
        "df['references_count'].fillna(0.0,inplace=True)"
      ],
      "execution_count": 0,
      "outputs": []
    },
    {
      "metadata": {
        "id": "SH3-9lDRBjzE",
        "colab_type": "code",
        "outputId": "f1e5638a-e779-4389-e369-2c4d5427e09b",
        "colab": {
          "base_uri": "https://localhost:8080/",
          "height": 564
        }
      },
      "cell_type": "code",
      "source": [
        "df.head()"
      ],
      "execution_count": 0,
      "outputs": [
        {
          "output_type": "execute_result",
          "data": {
            "text/html": [
              "<div>\n",
              "<style scoped>\n",
              "    .dataframe tbody tr th:only-of-type {\n",
              "        vertical-align: middle;\n",
              "    }\n",
              "\n",
              "    .dataframe tbody tr th {\n",
              "        vertical-align: top;\n",
              "    }\n",
              "\n",
              "    .dataframe thead th {\n",
              "        text-align: right;\n",
              "    }\n",
              "</style>\n",
              "<table border=\"1\" class=\"dataframe\">\n",
              "  <thead>\n",
              "    <tr style=\"text-align: right;\">\n",
              "      <th></th>\n",
              "      <th>abstract</th>\n",
              "      <th>authors</th>\n",
              "      <th>id</th>\n",
              "      <th>n_citation</th>\n",
              "      <th>references</th>\n",
              "      <th>title</th>\n",
              "      <th>venue</th>\n",
              "      <th>year</th>\n",
              "      <th>importance</th>\n",
              "      <th>author_count</th>\n",
              "      <th>references_count</th>\n",
              "      <th>Topic</th>\n",
              "      <th>pageRankValue</th>\n",
              "      <th>totalOutbounds</th>\n",
              "      <th>ratio</th>\n",
              "    </tr>\n",
              "  </thead>\n",
              "  <tbody>\n",
              "    <tr>\n",
              "      <th>0</th>\n",
              "      <td>This article applied GARCH model instead AR or...</td>\n",
              "      <td>[Altaf Hossain, Faisal Zaman, Mohammed Nasser,...</td>\n",
              "      <td>001c8744-73c4-4b04-9364-22d31a10dbf1</td>\n",
              "      <td>50</td>\n",
              "      <td>[2d84c0f2-e656-4ce7-b018-90eda1c132fe, a083a1b...</td>\n",
              "      <td>Comparison of GARCH, Neural Network and Suppor...</td>\n",
              "      <td>3086</td>\n",
              "      <td>2009</td>\n",
              "      <td>0</td>\n",
              "      <td>4</td>\n",
              "      <td>2.0</td>\n",
              "      <td>1</td>\n",
              "      <td>NaN</td>\n",
              "      <td>2.0</td>\n",
              "      <td>NaN</td>\n",
              "    </tr>\n",
              "    <tr>\n",
              "      <th>1</th>\n",
              "      <td>NaN</td>\n",
              "      <td>[Jovan Dj. Golic, Guglielmo Morgari]</td>\n",
              "      <td>00638a94-23bf-4fa6-b5ce-40d799c65da7</td>\n",
              "      <td>2</td>\n",
              "      <td>[self]</td>\n",
              "      <td>Vectorial fast correlation attacks.</td>\n",
              "      <td>0</td>\n",
              "      <td>2004</td>\n",
              "      <td>35</td>\n",
              "      <td>2</td>\n",
              "      <td>0.0</td>\n",
              "      <td>5</td>\n",
              "      <td>20.486111</td>\n",
              "      <td>NaN</td>\n",
              "      <td>NaN</td>\n",
              "    </tr>\n",
              "    <tr>\n",
              "      <th>2</th>\n",
              "      <td>Recently, Bridges and Reich introduced the con...</td>\n",
              "      <td>[Alvaro L. Islas, Constance M. Schober]</td>\n",
              "      <td>00bcf2d5-1592-46b0-81fd-933f90b5ecca</td>\n",
              "      <td>50</td>\n",
              "      <td>[self]</td>\n",
              "      <td>Multisymplectic Spectral Methods for the Gross...</td>\n",
              "      <td>2633</td>\n",
              "      <td>2002</td>\n",
              "      <td>50</td>\n",
              "      <td>2</td>\n",
              "      <td>0.0</td>\n",
              "      <td>8</td>\n",
              "      <td>NaN</td>\n",
              "      <td>NaN</td>\n",
              "      <td>NaN</td>\n",
              "    </tr>\n",
              "    <tr>\n",
              "      <th>3</th>\n",
              "      <td>Most applications of the abstract interpretati...</td>\n",
              "      <td>[Patrick Cousot, Radhia Cousot]</td>\n",
              "      <td>00c85316-bddf-4bcb-93f5-097adadd73c2</td>\n",
              "      <td>50</td>\n",
              "      <td>[afa6d820-c762-4285-a25d-9dd985929ec3]</td>\n",
              "      <td>Relational Abstract Interpretation of Higher O...</td>\n",
              "      <td>0</td>\n",
              "      <td>1991</td>\n",
              "      <td>12</td>\n",
              "      <td>2</td>\n",
              "      <td>5.0</td>\n",
              "      <td>2</td>\n",
              "      <td>0.000000</td>\n",
              "      <td>1.0</td>\n",
              "      <td>0.0</td>\n",
              "    </tr>\n",
              "    <tr>\n",
              "      <th>4</th>\n",
              "      <td>NaN</td>\n",
              "      <td>[Abdullah Alsubaie, Antonio Di Pietro, Jose R....</td>\n",
              "      <td>00e3940b-201b-40ba-bd20-dbdaf26ad324</td>\n",
              "      <td>6</td>\n",
              "      <td>[0293844d-7244-4562-a6ca-d84bcd9c10a5, 14cd3cf...</td>\n",
              "      <td>A Platform for Disaster Response Planning with...</td>\n",
              "      <td>0</td>\n",
              "      <td>2013</td>\n",
              "      <td>7</td>\n",
              "      <td>7</td>\n",
              "      <td>6.0</td>\n",
              "      <td>4</td>\n",
              "      <td>NaN</td>\n",
              "      <td>3.0</td>\n",
              "      <td>NaN</td>\n",
              "    </tr>\n",
              "  </tbody>\n",
              "</table>\n",
              "</div>"
            ],
            "text/plain": [
              "                                            abstract  \\\n",
              "0  This article applied GARCH model instead AR or...   \n",
              "1                                                NaN   \n",
              "2  Recently, Bridges and Reich introduced the con...   \n",
              "3  Most applications of the abstract interpretati...   \n",
              "4                                                NaN   \n",
              "\n",
              "                                             authors  \\\n",
              "0  [Altaf Hossain, Faisal Zaman, Mohammed Nasser,...   \n",
              "1               [Jovan Dj. Golic, Guglielmo Morgari]   \n",
              "2            [Alvaro L. Islas, Constance M. Schober]   \n",
              "3                    [Patrick Cousot, Radhia Cousot]   \n",
              "4  [Abdullah Alsubaie, Antonio Di Pietro, Jose R....   \n",
              "\n",
              "                                     id  n_citation  \\\n",
              "0  001c8744-73c4-4b04-9364-22d31a10dbf1          50   \n",
              "1  00638a94-23bf-4fa6-b5ce-40d799c65da7           2   \n",
              "2  00bcf2d5-1592-46b0-81fd-933f90b5ecca          50   \n",
              "3  00c85316-bddf-4bcb-93f5-097adadd73c2          50   \n",
              "4  00e3940b-201b-40ba-bd20-dbdaf26ad324           6   \n",
              "\n",
              "                                          references  \\\n",
              "0  [2d84c0f2-e656-4ce7-b018-90eda1c132fe, a083a1b...   \n",
              "1                                             [self]   \n",
              "2                                             [self]   \n",
              "3             [afa6d820-c762-4285-a25d-9dd985929ec3]   \n",
              "4  [0293844d-7244-4562-a6ca-d84bcd9c10a5, 14cd3cf...   \n",
              "\n",
              "                                               title  venue  year  importance  \\\n",
              "0  Comparison of GARCH, Neural Network and Suppor...   3086  2009           0   \n",
              "1                Vectorial fast correlation attacks.      0  2004          35   \n",
              "2  Multisymplectic Spectral Methods for the Gross...   2633  2002          50   \n",
              "3  Relational Abstract Interpretation of Higher O...      0  1991          12   \n",
              "4  A Platform for Disaster Response Planning with...      0  2013           7   \n",
              "\n",
              "   author_count  references_count  Topic  pageRankValue  totalOutbounds  ratio  \n",
              "0             4               2.0      1            NaN             2.0    NaN  \n",
              "1             2               0.0      5      20.486111             NaN    NaN  \n",
              "2             2               0.0      8            NaN             NaN    NaN  \n",
              "3             2               5.0      2       0.000000             1.0    0.0  \n",
              "4             7               6.0      4            NaN             3.0    NaN  "
            ]
          },
          "metadata": {
            "tags": []
          },
          "execution_count": 21
        }
      ]
    },
    {
      "metadata": {
        "id": "-sWoFLDvj1pP",
        "colab_type": "text"
      },
      "cell_type": "markdown",
      "source": [
        "CLEANING PAGERANK VALUE"
      ]
    },
    {
      "metadata": {
        "id": "Zs8-ThchB91B",
        "colab_type": "code",
        "colab": {}
      },
      "cell_type": "code",
      "source": [
        "df['pageRankValue'].fillna(0.0,inplace=True)"
      ],
      "execution_count": 0,
      "outputs": []
    },
    {
      "metadata": {
        "id": "8dDhfU1-ChLw",
        "colab_type": "code",
        "outputId": "e232f3c7-03cb-48fd-a950-9be1009c6800",
        "colab": {
          "base_uri": "https://localhost:8080/",
          "height": 357
        }
      },
      "cell_type": "code",
      "source": [
        "df.info()"
      ],
      "execution_count": 0,
      "outputs": [
        {
          "output_type": "stream",
          "text": [
            "<class 'pandas.core.frame.DataFrame'>\n",
            "Int64Index: 437643 entries, 0 to 437642\n",
            "Data columns (total 15 columns):\n",
            "abstract            352014 non-null object\n",
            "authors             437643 non-null object\n",
            "id                  437643 non-null object\n",
            "n_citation          437643 non-null int64\n",
            "references          437643 non-null object\n",
            "title               437643 non-null object\n",
            "venue               437643 non-null int64\n",
            "year                437643 non-null int64\n",
            "importance          437643 non-null int64\n",
            "author_count        437643 non-null int64\n",
            "references_count    437643 non-null float64\n",
            "Topic               437643 non-null int64\n",
            "pageRankValue       437643 non-null float64\n",
            "totalOutbounds      323063 non-null float64\n",
            "ratio               225718 non-null float64\n",
            "dtypes: float64(4), int64(6), object(5)\n",
            "memory usage: 53.4+ MB\n"
          ],
          "name": "stdout"
        }
      ]
    },
    {
      "metadata": {
        "id": "leHyoKgaj_a-",
        "colab_type": "text"
      },
      "cell_type": "markdown",
      "source": [
        "DROPPING UNNCESSARY COLUMNS"
      ]
    },
    {
      "metadata": {
        "id": "Irle1Z2ACL__",
        "colab_type": "code",
        "colab": {}
      },
      "cell_type": "code",
      "source": [
        "df=df.drop(columns = ['totalOutbounds','ratio'])"
      ],
      "execution_count": 0,
      "outputs": []
    },
    {
      "metadata": {
        "id": "6Z0hUR3mCtui",
        "colab_type": "code",
        "outputId": "915f22b3-3140-4380-d220-b8aa3ffcb58e",
        "colab": {
          "base_uri": "https://localhost:8080/",
          "height": 1161
        }
      },
      "cell_type": "code",
      "source": [
        "df.head(10)"
      ],
      "execution_count": 0,
      "outputs": [
        {
          "output_type": "execute_result",
          "data": {
            "text/html": [
              "<div>\n",
              "<style scoped>\n",
              "    .dataframe tbody tr th:only-of-type {\n",
              "        vertical-align: middle;\n",
              "    }\n",
              "\n",
              "    .dataframe tbody tr th {\n",
              "        vertical-align: top;\n",
              "    }\n",
              "\n",
              "    .dataframe thead th {\n",
              "        text-align: right;\n",
              "    }\n",
              "</style>\n",
              "<table border=\"1\" class=\"dataframe\">\n",
              "  <thead>\n",
              "    <tr style=\"text-align: right;\">\n",
              "      <th></th>\n",
              "      <th>abstract</th>\n",
              "      <th>authors</th>\n",
              "      <th>id</th>\n",
              "      <th>n_citation</th>\n",
              "      <th>references</th>\n",
              "      <th>title</th>\n",
              "      <th>venue</th>\n",
              "      <th>year</th>\n",
              "      <th>importance</th>\n",
              "      <th>author_count</th>\n",
              "      <th>references_count</th>\n",
              "      <th>Topic</th>\n",
              "      <th>pageRankValue</th>\n",
              "    </tr>\n",
              "  </thead>\n",
              "  <tbody>\n",
              "    <tr>\n",
              "      <th>0</th>\n",
              "      <td>This article applied GARCH model instead AR or...</td>\n",
              "      <td>[Altaf Hossain, Faisal Zaman, Mohammed Nasser,...</td>\n",
              "      <td>001c8744-73c4-4b04-9364-22d31a10dbf1</td>\n",
              "      <td>50</td>\n",
              "      <td>[2d84c0f2-e656-4ce7-b018-90eda1c132fe, a083a1b...</td>\n",
              "      <td>Comparison of GARCH, Neural Network and Suppor...</td>\n",
              "      <td>3086</td>\n",
              "      <td>2009</td>\n",
              "      <td>0</td>\n",
              "      <td>4</td>\n",
              "      <td>2.0</td>\n",
              "      <td>1</td>\n",
              "      <td>0.000000</td>\n",
              "    </tr>\n",
              "    <tr>\n",
              "      <th>1</th>\n",
              "      <td>NaN</td>\n",
              "      <td>[Jovan Dj. Golic, Guglielmo Morgari]</td>\n",
              "      <td>00638a94-23bf-4fa6-b5ce-40d799c65da7</td>\n",
              "      <td>2</td>\n",
              "      <td>[self]</td>\n",
              "      <td>Vectorial fast correlation attacks.</td>\n",
              "      <td>0</td>\n",
              "      <td>2004</td>\n",
              "      <td>35</td>\n",
              "      <td>2</td>\n",
              "      <td>0.0</td>\n",
              "      <td>5</td>\n",
              "      <td>20.486111</td>\n",
              "    </tr>\n",
              "    <tr>\n",
              "      <th>2</th>\n",
              "      <td>Recently, Bridges and Reich introduced the con...</td>\n",
              "      <td>[Alvaro L. Islas, Constance M. Schober]</td>\n",
              "      <td>00bcf2d5-1592-46b0-81fd-933f90b5ecca</td>\n",
              "      <td>50</td>\n",
              "      <td>[self]</td>\n",
              "      <td>Multisymplectic Spectral Methods for the Gross...</td>\n",
              "      <td>2633</td>\n",
              "      <td>2002</td>\n",
              "      <td>50</td>\n",
              "      <td>2</td>\n",
              "      <td>0.0</td>\n",
              "      <td>8</td>\n",
              "      <td>0.000000</td>\n",
              "    </tr>\n",
              "    <tr>\n",
              "      <th>3</th>\n",
              "      <td>Most applications of the abstract interpretati...</td>\n",
              "      <td>[Patrick Cousot, Radhia Cousot]</td>\n",
              "      <td>00c85316-bddf-4bcb-93f5-097adadd73c2</td>\n",
              "      <td>50</td>\n",
              "      <td>[afa6d820-c762-4285-a25d-9dd985929ec3]</td>\n",
              "      <td>Relational Abstract Interpretation of Higher O...</td>\n",
              "      <td>0</td>\n",
              "      <td>1991</td>\n",
              "      <td>12</td>\n",
              "      <td>2</td>\n",
              "      <td>5.0</td>\n",
              "      <td>2</td>\n",
              "      <td>0.000000</td>\n",
              "    </tr>\n",
              "    <tr>\n",
              "      <th>4</th>\n",
              "      <td>NaN</td>\n",
              "      <td>[Abdullah Alsubaie, Antonio Di Pietro, Jose R....</td>\n",
              "      <td>00e3940b-201b-40ba-bd20-dbdaf26ad324</td>\n",
              "      <td>6</td>\n",
              "      <td>[0293844d-7244-4562-a6ca-d84bcd9c10a5, 14cd3cf...</td>\n",
              "      <td>A Platform for Disaster Response Planning with...</td>\n",
              "      <td>0</td>\n",
              "      <td>2013</td>\n",
              "      <td>7</td>\n",
              "      <td>7</td>\n",
              "      <td>6.0</td>\n",
              "      <td>4</td>\n",
              "      <td>0.000000</td>\n",
              "    </tr>\n",
              "    <tr>\n",
              "      <th>5</th>\n",
              "      <td>NaN</td>\n",
              "      <td>[Tien Ho-Phuoc, Anne Guérin-Dugué, Nathalie Gu...</td>\n",
              "      <td>00fd4f6f-c7a1-49a2-a029-d583d1d7a8b1</td>\n",
              "      <td>3</td>\n",
              "      <td>[self]</td>\n",
              "      <td>A COMPUTATIONAL SALIENCY MODEL INTEGRATING SAC...</td>\n",
              "      <td>2600</td>\n",
              "      <td>2009</td>\n",
              "      <td>16</td>\n",
              "      <td>3</td>\n",
              "      <td>0.0</td>\n",
              "      <td>2</td>\n",
              "      <td>0.000000</td>\n",
              "    </tr>\n",
              "    <tr>\n",
              "      <th>6</th>\n",
              "      <td>NaN</td>\n",
              "      <td>[Marco Baroni, Francis Chantree, Adam Kilgarri...</td>\n",
              "      <td>01082175-d4e3-456a-9557-668b2449be05</td>\n",
              "      <td>101</td>\n",
              "      <td>[self]</td>\n",
              "      <td>Cleaneval: a Competition for Cleaning Web Pages.</td>\n",
              "      <td>2929</td>\n",
              "      <td>2008</td>\n",
              "      <td>74</td>\n",
              "      <td>4</td>\n",
              "      <td>0.0</td>\n",
              "      <td>3</td>\n",
              "      <td>1.374008</td>\n",
              "    </tr>\n",
              "    <tr>\n",
              "      <th>7</th>\n",
              "      <td>Xax is a browser plugin model that enables dev...</td>\n",
              "      <td>[John R. Douceur, Jeremy Elson, Jon Howell, Ja...</td>\n",
              "      <td>010d4ce9-0279-4166-ae73-14551ded6404</td>\n",
              "      <td>50</td>\n",
              "      <td>[3c60b421-a347-4d55-b603-bc34f5c2a40d, 4176c23...</td>\n",
              "      <td>Leveraging legacy code to deploy desktop appli...</td>\n",
              "      <td>3052</td>\n",
              "      <td>2008</td>\n",
              "      <td>1311</td>\n",
              "      <td>4</td>\n",
              "      <td>25.0</td>\n",
              "      <td>9</td>\n",
              "      <td>430.434035</td>\n",
              "    </tr>\n",
              "    <tr>\n",
              "      <th>8</th>\n",
              "      <td>Previous language modeling approaches to infor...</td>\n",
              "      <td>[Carmen Fernández-Daza Álvarez, Philippe Langl...</td>\n",
              "      <td>012b88ae-a763-45d6-8f19-2ec9ff739d5f</td>\n",
              "      <td>50</td>\n",
              "      <td>[a3a30fff-664e-4e0f-86d5-5eb9a61a6af1, db09268...</td>\n",
              "      <td>Word pairs in language modeling for informatio...</td>\n",
              "      <td>0</td>\n",
              "      <td>2004</td>\n",
              "      <td>154</td>\n",
              "      <td>3</td>\n",
              "      <td>13.0</td>\n",
              "      <td>5</td>\n",
              "      <td>2.482948</td>\n",
              "    </tr>\n",
              "    <tr>\n",
              "      <th>9</th>\n",
              "      <td>NaN</td>\n",
              "      <td>[Prudence W. H. Wong, Fencol C. C. Yung, Mihai...</td>\n",
              "      <td>01546472-0ac9-47fa-acca-ffcb7fc99097</td>\n",
              "      <td>6</td>\n",
              "      <td>[16bf10ea-67a2-48e5-8d95-6ed620f63e2e, 2ead5bd...</td>\n",
              "      <td>An 8/3 Lower Bound for Online Dynamic Bin Packing</td>\n",
              "      <td>2835</td>\n",
              "      <td>2012</td>\n",
              "      <td>11</td>\n",
              "      <td>3</td>\n",
              "      <td>11.0</td>\n",
              "      <td>8</td>\n",
              "      <td>0.000000</td>\n",
              "    </tr>\n",
              "  </tbody>\n",
              "</table>\n",
              "</div>"
            ],
            "text/plain": [
              "                                            abstract  \\\n",
              "0  This article applied GARCH model instead AR or...   \n",
              "1                                                NaN   \n",
              "2  Recently, Bridges and Reich introduced the con...   \n",
              "3  Most applications of the abstract interpretati...   \n",
              "4                                                NaN   \n",
              "5                                                NaN   \n",
              "6                                                NaN   \n",
              "7  Xax is a browser plugin model that enables dev...   \n",
              "8  Previous language modeling approaches to infor...   \n",
              "9                                                NaN   \n",
              "\n",
              "                                             authors  \\\n",
              "0  [Altaf Hossain, Faisal Zaman, Mohammed Nasser,...   \n",
              "1               [Jovan Dj. Golic, Guglielmo Morgari]   \n",
              "2            [Alvaro L. Islas, Constance M. Schober]   \n",
              "3                    [Patrick Cousot, Radhia Cousot]   \n",
              "4  [Abdullah Alsubaie, Antonio Di Pietro, Jose R....   \n",
              "5  [Tien Ho-Phuoc, Anne Guérin-Dugué, Nathalie Gu...   \n",
              "6  [Marco Baroni, Francis Chantree, Adam Kilgarri...   \n",
              "7  [John R. Douceur, Jeremy Elson, Jon Howell, Ja...   \n",
              "8  [Carmen Fernández-Daza Álvarez, Philippe Langl...   \n",
              "9  [Prudence W. H. Wong, Fencol C. C. Yung, Mihai...   \n",
              "\n",
              "                                     id  n_citation  \\\n",
              "0  001c8744-73c4-4b04-9364-22d31a10dbf1          50   \n",
              "1  00638a94-23bf-4fa6-b5ce-40d799c65da7           2   \n",
              "2  00bcf2d5-1592-46b0-81fd-933f90b5ecca          50   \n",
              "3  00c85316-bddf-4bcb-93f5-097adadd73c2          50   \n",
              "4  00e3940b-201b-40ba-bd20-dbdaf26ad324           6   \n",
              "5  00fd4f6f-c7a1-49a2-a029-d583d1d7a8b1           3   \n",
              "6  01082175-d4e3-456a-9557-668b2449be05         101   \n",
              "7  010d4ce9-0279-4166-ae73-14551ded6404          50   \n",
              "8  012b88ae-a763-45d6-8f19-2ec9ff739d5f          50   \n",
              "9  01546472-0ac9-47fa-acca-ffcb7fc99097           6   \n",
              "\n",
              "                                          references  \\\n",
              "0  [2d84c0f2-e656-4ce7-b018-90eda1c132fe, a083a1b...   \n",
              "1                                             [self]   \n",
              "2                                             [self]   \n",
              "3             [afa6d820-c762-4285-a25d-9dd985929ec3]   \n",
              "4  [0293844d-7244-4562-a6ca-d84bcd9c10a5, 14cd3cf...   \n",
              "5                                             [self]   \n",
              "6                                             [self]   \n",
              "7  [3c60b421-a347-4d55-b603-bc34f5c2a40d, 4176c23...   \n",
              "8  [a3a30fff-664e-4e0f-86d5-5eb9a61a6af1, db09268...   \n",
              "9  [16bf10ea-67a2-48e5-8d95-6ed620f63e2e, 2ead5bd...   \n",
              "\n",
              "                                               title  venue  year  importance  \\\n",
              "0  Comparison of GARCH, Neural Network and Suppor...   3086  2009           0   \n",
              "1                Vectorial fast correlation attacks.      0  2004          35   \n",
              "2  Multisymplectic Spectral Methods for the Gross...   2633  2002          50   \n",
              "3  Relational Abstract Interpretation of Higher O...      0  1991          12   \n",
              "4  A Platform for Disaster Response Planning with...      0  2013           7   \n",
              "5  A COMPUTATIONAL SALIENCY MODEL INTEGRATING SAC...   2600  2009          16   \n",
              "6   Cleaneval: a Competition for Cleaning Web Pages.   2929  2008          74   \n",
              "7  Leveraging legacy code to deploy desktop appli...   3052  2008        1311   \n",
              "8  Word pairs in language modeling for informatio...      0  2004         154   \n",
              "9  An 8/3 Lower Bound for Online Dynamic Bin Packing   2835  2012          11   \n",
              "\n",
              "   author_count  references_count  Topic  pageRankValue  \n",
              "0             4               2.0      1       0.000000  \n",
              "1             2               0.0      5      20.486111  \n",
              "2             2               0.0      8       0.000000  \n",
              "3             2               5.0      2       0.000000  \n",
              "4             7               6.0      4       0.000000  \n",
              "5             3               0.0      2       0.000000  \n",
              "6             4               0.0      3       1.374008  \n",
              "7             4              25.0      9     430.434035  \n",
              "8             3              13.0      5       2.482948  \n",
              "9             3              11.0      8       0.000000  "
            ]
          },
          "metadata": {
            "tags": []
          },
          "execution_count": 47
        }
      ]
    },
    {
      "metadata": {
        "id": "lsKTkrsuHrmb",
        "colab_type": "code",
        "colab": {}
      },
      "cell_type": "code",
      "source": [
        "df=df[df.pageRankValue!=0]"
      ],
      "execution_count": 0,
      "outputs": []
    },
    {
      "metadata": {
        "id": "aFaZV3bVH2Hn",
        "colab_type": "code",
        "outputId": "85d6113f-3403-44e8-aaf7-cd29b572d273",
        "colab": {
          "base_uri": "https://localhost:8080/",
          "height": 598
        }
      },
      "cell_type": "code",
      "source": [
        "df.head()"
      ],
      "execution_count": 0,
      "outputs": [
        {
          "output_type": "execute_result",
          "data": {
            "text/html": [
              "<div>\n",
              "<style scoped>\n",
              "    .dataframe tbody tr th:only-of-type {\n",
              "        vertical-align: middle;\n",
              "    }\n",
              "\n",
              "    .dataframe tbody tr th {\n",
              "        vertical-align: top;\n",
              "    }\n",
              "\n",
              "    .dataframe thead th {\n",
              "        text-align: right;\n",
              "    }\n",
              "</style>\n",
              "<table border=\"1\" class=\"dataframe\">\n",
              "  <thead>\n",
              "    <tr style=\"text-align: right;\">\n",
              "      <th></th>\n",
              "      <th>abstract</th>\n",
              "      <th>authors</th>\n",
              "      <th>id</th>\n",
              "      <th>n_citation</th>\n",
              "      <th>references</th>\n",
              "      <th>title</th>\n",
              "      <th>venue</th>\n",
              "      <th>year</th>\n",
              "      <th>importance</th>\n",
              "      <th>author_count</th>\n",
              "      <th>references_count</th>\n",
              "      <th>Topic</th>\n",
              "      <th>pageRankValue</th>\n",
              "    </tr>\n",
              "  </thead>\n",
              "  <tbody>\n",
              "    <tr>\n",
              "      <th>1</th>\n",
              "      <td>NaN</td>\n",
              "      <td>[Jovan Dj. Golic, Guglielmo Morgari]</td>\n",
              "      <td>00638a94-23bf-4fa6-b5ce-40d799c65da7</td>\n",
              "      <td>2</td>\n",
              "      <td>[self]</td>\n",
              "      <td>Vectorial fast correlation attacks.</td>\n",
              "      <td>0</td>\n",
              "      <td>2004</td>\n",
              "      <td>35</td>\n",
              "      <td>2</td>\n",
              "      <td>0.0</td>\n",
              "      <td>5</td>\n",
              "      <td>20.486111</td>\n",
              "    </tr>\n",
              "    <tr>\n",
              "      <th>6</th>\n",
              "      <td>NaN</td>\n",
              "      <td>[Marco Baroni, Francis Chantree, Adam Kilgarri...</td>\n",
              "      <td>01082175-d4e3-456a-9557-668b2449be05</td>\n",
              "      <td>101</td>\n",
              "      <td>[self]</td>\n",
              "      <td>Cleaneval: a Competition for Cleaning Web Pages.</td>\n",
              "      <td>2929</td>\n",
              "      <td>2008</td>\n",
              "      <td>74</td>\n",
              "      <td>4</td>\n",
              "      <td>0.0</td>\n",
              "      <td>3</td>\n",
              "      <td>1.374008</td>\n",
              "    </tr>\n",
              "    <tr>\n",
              "      <th>7</th>\n",
              "      <td>Xax is a browser plugin model that enables dev...</td>\n",
              "      <td>[John R. Douceur, Jeremy Elson, Jon Howell, Ja...</td>\n",
              "      <td>010d4ce9-0279-4166-ae73-14551ded6404</td>\n",
              "      <td>50</td>\n",
              "      <td>[3c60b421-a347-4d55-b603-bc34f5c2a40d, 4176c23...</td>\n",
              "      <td>Leveraging legacy code to deploy desktop appli...</td>\n",
              "      <td>3052</td>\n",
              "      <td>2008</td>\n",
              "      <td>1311</td>\n",
              "      <td>4</td>\n",
              "      <td>25.0</td>\n",
              "      <td>9</td>\n",
              "      <td>430.434035</td>\n",
              "    </tr>\n",
              "    <tr>\n",
              "      <th>8</th>\n",
              "      <td>Previous language modeling approaches to infor...</td>\n",
              "      <td>[Carmen Fernández-Daza Álvarez, Philippe Langl...</td>\n",
              "      <td>012b88ae-a763-45d6-8f19-2ec9ff739d5f</td>\n",
              "      <td>50</td>\n",
              "      <td>[a3a30fff-664e-4e0f-86d5-5eb9a61a6af1, db09268...</td>\n",
              "      <td>Word pairs in language modeling for informatio...</td>\n",
              "      <td>0</td>\n",
              "      <td>2004</td>\n",
              "      <td>154</td>\n",
              "      <td>3</td>\n",
              "      <td>13.0</td>\n",
              "      <td>5</td>\n",
              "      <td>2.482948</td>\n",
              "    </tr>\n",
              "    <tr>\n",
              "      <th>17</th>\n",
              "      <td>NaN</td>\n",
              "      <td>[Balan Venkatesh, S. Palanivel, B. Yegnanarayana]</td>\n",
              "      <td>02a58862-0024-4e20-9993-35a8706681b3</td>\n",
              "      <td>50</td>\n",
              "      <td>[b85ac095-a9f2-4954-b2bf-f53fde98958c, bf4faf6...</td>\n",
              "      <td>Face Detection, Recognition in an Image Sequen...</td>\n",
              "      <td>0</td>\n",
              "      <td>2002</td>\n",
              "      <td>207</td>\n",
              "      <td>3</td>\n",
              "      <td>8.0</td>\n",
              "      <td>5</td>\n",
              "      <td>1.361111</td>\n",
              "    </tr>\n",
              "  </tbody>\n",
              "</table>\n",
              "</div>"
            ],
            "text/plain": [
              "                                             abstract  \\\n",
              "1                                                 NaN   \n",
              "6                                                 NaN   \n",
              "7   Xax is a browser plugin model that enables dev...   \n",
              "8   Previous language modeling approaches to infor...   \n",
              "17                                                NaN   \n",
              "\n",
              "                                              authors  \\\n",
              "1                [Jovan Dj. Golic, Guglielmo Morgari]   \n",
              "6   [Marco Baroni, Francis Chantree, Adam Kilgarri...   \n",
              "7   [John R. Douceur, Jeremy Elson, Jon Howell, Ja...   \n",
              "8   [Carmen Fernández-Daza Álvarez, Philippe Langl...   \n",
              "17  [Balan Venkatesh, S. Palanivel, B. Yegnanarayana]   \n",
              "\n",
              "                                      id  n_citation  \\\n",
              "1   00638a94-23bf-4fa6-b5ce-40d799c65da7           2   \n",
              "6   01082175-d4e3-456a-9557-668b2449be05         101   \n",
              "7   010d4ce9-0279-4166-ae73-14551ded6404          50   \n",
              "8   012b88ae-a763-45d6-8f19-2ec9ff739d5f          50   \n",
              "17  02a58862-0024-4e20-9993-35a8706681b3          50   \n",
              "\n",
              "                                           references  \\\n",
              "1                                              [self]   \n",
              "6                                              [self]   \n",
              "7   [3c60b421-a347-4d55-b603-bc34f5c2a40d, 4176c23...   \n",
              "8   [a3a30fff-664e-4e0f-86d5-5eb9a61a6af1, db09268...   \n",
              "17  [b85ac095-a9f2-4954-b2bf-f53fde98958c, bf4faf6...   \n",
              "\n",
              "                                                title  venue  year  \\\n",
              "1                 Vectorial fast correlation attacks.      0  2004   \n",
              "6    Cleaneval: a Competition for Cleaning Web Pages.   2929  2008   \n",
              "7   Leveraging legacy code to deploy desktop appli...   3052  2008   \n",
              "8   Word pairs in language modeling for informatio...      0  2004   \n",
              "17  Face Detection, Recognition in an Image Sequen...      0  2002   \n",
              "\n",
              "    importance  author_count  references_count  Topic  pageRankValue  \n",
              "1           35             2               0.0      5      20.486111  \n",
              "6           74             4               0.0      3       1.374008  \n",
              "7         1311             4              25.0      9     430.434035  \n",
              "8          154             3              13.0      5       2.482948  \n",
              "17         207             3               8.0      5       1.361111  "
            ]
          },
          "metadata": {
            "tags": []
          },
          "execution_count": 51
        }
      ]
    },
    {
      "metadata": {
        "id": "FLKy-KqHkGp2",
        "colab_type": "text"
      },
      "cell_type": "markdown",
      "source": [
        "FOR BASELINE, X VALUES WILL BE ALL THE NUMERICAL FEATURES. Y LABEL WILL BE PAGERANK SCORE"
      ]
    },
    {
      "metadata": {
        "id": "5jiQH0uRI5C1",
        "colab_type": "code",
        "colab": {}
      },
      "cell_type": "code",
      "source": [
        "train_X=np.column_stack((df.importance,df.venue,df.year,df.author_count,df.references_count,df.Topic,df.n_citation))\n",
        "train_Y=df['pageRankValue']"
      ],
      "execution_count": 0,
      "outputs": []
    },
    {
      "metadata": {
        "id": "dx_GU4AhWZyg",
        "colab_type": "code",
        "outputId": "fb76ca24-448c-46e6-a6ac-316e439225f8",
        "colab": {
          "base_uri": "https://localhost:8080/",
          "height": 119
        }
      },
      "cell_type": "code",
      "source": [
        "train_Y[:5]"
      ],
      "execution_count": 0,
      "outputs": [
        {
          "output_type": "execute_result",
          "data": {
            "text/plain": [
              "1      20.486111\n",
              "6       1.374008\n",
              "7     430.434035\n",
              "8       2.482948\n",
              "17      1.361111\n",
              "Name: pageRankValue, dtype: float64"
            ]
          },
          "metadata": {
            "tags": []
          },
          "execution_count": 53
        }
      ]
    },
    {
      "metadata": {
        "id": "vnQ28YepkUEy",
        "colab_type": "text"
      },
      "cell_type": "markdown",
      "source": [
        "# USING LINEAR REGRESSION FIRST"
      ]
    },
    {
      "metadata": {
        "id": "QbwXHygvWvRp",
        "colab_type": "code",
        "colab": {}
      },
      "cell_type": "code",
      "source": [
        "from sklearn.model_selection import train_test_split\n",
        "X_train, X_test, y_train, y_test = train_test_split(train_X, train_Y, test_size=0.2, random_state=0)"
      ],
      "execution_count": 0,
      "outputs": []
    },
    {
      "metadata": {
        "id": "nXhjUhMgYPHd",
        "colab_type": "code",
        "colab": {}
      },
      "cell_type": "code",
      "source": [
        "from sklearn.linear_model import LinearRegression"
      ],
      "execution_count": 0,
      "outputs": []
    },
    {
      "metadata": {
        "id": "JYw5WkTLXAe1",
        "colab_type": "code",
        "outputId": "1e652aa4-b525-4607-aa98-9b7dda411dcf",
        "colab": {
          "base_uri": "https://localhost:8080/",
          "height": 34
        }
      },
      "cell_type": "code",
      "source": [
        "model1 = LinearRegression()\n",
        "model1.fit(X_train, y_train)\n",
        "model1.score(X_test, y_test)"
      ],
      "execution_count": 0,
      "outputs": [
        {
          "output_type": "execute_result",
          "data": {
            "text/plain": [
              "0.47438309716756655"
            ]
          },
          "metadata": {
            "tags": []
          },
          "execution_count": 55
        }
      ]
    },
    {
      "metadata": {
        "id": "zvhLZShSpHYB",
        "colab_type": "code",
        "outputId": "1254f742-db2c-4bb1-a0ae-e4788de8aeda",
        "colab": {
          "base_uri": "https://localhost:8080/",
          "height": 173
        }
      },
      "cell_type": "code",
      "source": [
        "!pip install lightgbm"
      ],
      "execution_count": 0,
      "outputs": [
        {
          "output_type": "stream",
          "text": [
            "Collecting lightgbm\n",
            "\u001b[?25l  Downloading https://files.pythonhosted.org/packages/4c/3b/4ae113193b4ee01387ed76d5eea32788aec0589df9ae7378a8b7443eaa8b/lightgbm-2.2.2-py2.py3-none-manylinux1_x86_64.whl (1.2MB)\n",
            "\u001b[K    100% |████████████████████████████████| 1.2MB 8.5MB/s \n",
            "\u001b[?25hRequirement already satisfied: numpy in /usr/local/lib/python3.6/dist-packages (from lightgbm) (1.14.6)\n",
            "Requirement already satisfied: scipy in /usr/local/lib/python3.6/dist-packages (from lightgbm) (1.1.0)\n",
            "Requirement already satisfied: scikit-learn in /usr/local/lib/python3.6/dist-packages (from lightgbm) (0.19.2)\n",
            "Installing collected packages: lightgbm\n",
            "Successfully installed lightgbm-2.2.2\n"
          ],
          "name": "stdout"
        }
      ]
    },
    {
      "metadata": {
        "id": "bNrxpIkfkYEb",
        "colab_type": "text"
      },
      "cell_type": "markdown",
      "source": [
        "# USING LGBM NEXT"
      ]
    },
    {
      "metadata": {
        "id": "J2YhcYKGo_WH",
        "colab_type": "code",
        "colab": {}
      },
      "cell_type": "code",
      "source": [
        "import lightgbm as lgb"
      ],
      "execution_count": 0,
      "outputs": []
    },
    {
      "metadata": {
        "id": "AFVcMTpwYSpA",
        "colab_type": "code",
        "colab": {}
      },
      "cell_type": "code",
      "source": [
        "# params = {\n",
        "#         'nthread': -1,\n",
        "#         \"learning_rate\" : 0.01,\n",
        "#     }\n",
        "# #Default Parameters\n",
        "\n",
        "# train_set = lgb.Dataset(train_X, train_Y, silent=True)\n",
        "# model2 = lgb.train(params, train_set = train_set, num_boost_round=300)"
      ],
      "execution_count": 0,
      "outputs": []
    },
    {
      "metadata": {
        "id": "EqIfxRyCozMZ",
        "colab_type": "code",
        "colab": {}
      },
      "cell_type": "code",
      "source": [
        "dev_X = X_train\n",
        "val_X = X_test\n",
        "dev_y = y_train\n",
        "val_y = y_test"
      ],
      "execution_count": 0,
      "outputs": []
    },
    {
      "metadata": {
        "id": "GlNkZqQWqOhh",
        "colab_type": "code",
        "outputId": "496b79b1-da35-4e2a-bf06-8e708f04a3e1",
        "colab": {
          "base_uri": "https://localhost:8080/",
          "height": 85
        }
      },
      "cell_type": "code",
      "source": [
        "# custom function to run light gbm model\n",
        "def run_lgb(train_X, train_y, val_X, val_y):\n",
        "    params = {\n",
        "        \"objective\" : \"regression\",\n",
        "        \"metric\" : \"rmse\", \n",
        "        \"num_leaves\" : 30,\n",
        "        \"min_child_samples\" : 100,\n",
        "        \"learning_rate\" : 0.1,\n",
        "        \"bagging_fraction\" : 0.7,\n",
        "        \"feature_fraction\" : 0.5,\n",
        "        \"bagging_frequency\" : 5,\n",
        "        \"bagging_seed\" : 2018,\n",
        "        \"verbosity\" : -1\n",
        "    }\n",
        "    \n",
        "    lgtrain = lgb.Dataset(train_X, label=train_y)\n",
        "    lgval = lgb.Dataset(val_X, label=val_y)\n",
        "    model = lgb.train(params, lgtrain, 1000, valid_sets=[lgval], early_stopping_rounds=100, verbose_eval=100)\n",
        "    \n",
        "#     pred_test_y = model.predict(test_X, num_iteration=model.best_iteration)\n",
        "    pred_val_y = model.predict(val_X, num_iteration=model.best_iteration)\n",
        "    return model, pred_val_y\n",
        "\n",
        "# Training the model #\n",
        "model, pred_val = run_lgb(dev_X, dev_y, val_X, val_y)"
      ],
      "execution_count": 0,
      "outputs": [
        {
          "output_type": "stream",
          "text": [
            "Training until validation scores don't improve for 100 rounds.\n",
            "[100]\tvalid_0's rmse: 279.284\n",
            "Early stopping, best iteration is:\n",
            "[80]\tvalid_0's rmse: 278.435\n"
          ],
          "name": "stdout"
        }
      ]
    },
    {
      "metadata": {
        "id": "m5IeT055usQP",
        "colab_type": "code",
        "colab": {}
      },
      "cell_type": "code",
      "source": [
        "# from sklearn import metrics\n",
        "# val_pred_df=pd.DataFrame(index=index,column=columns)\n",
        "# val_pred_df[\"original_citation_count\"] = val_y\n",
        "# val_pred_df[\"predicted_citation_count\"]=pred_val\n",
        "# print(np.sqrt(metrics.mean_squared_error(val_pred_df[\"original_citation_count\"].values, val_pred_df[\"PredictedRevenue\"].values)))"
      ],
      "execution_count": 0,
      "outputs": []
    },
    {
      "metadata": {
        "id": "o8aTM5catKHe",
        "colab_type": "code",
        "colab": {}
      },
      "cell_type": "code",
      "source": [
        "# import matplotlib.pyplot as plt"
      ],
      "execution_count": 0,
      "outputs": []
    },
    {
      "metadata": {
        "id": "DCp6FotbtfYP",
        "colab_type": "code",
        "outputId": "51a8fd89-5633-48d6-f926-e582f53c51eb",
        "colab": {
          "base_uri": "https://localhost:8080/",
          "height": 357
        }
      },
      "cell_type": "code",
      "source": [
        "train_X[:10]"
      ],
      "execution_count": 0,
      "outputs": [
        {
          "output_type": "execute_result",
          "data": {
            "text/plain": [
              "array([[3.500e+01, 0.000e+00, 2.004e+03, 2.000e+00, 0.000e+00, 5.000e+00,\n",
              "        2.000e+00],\n",
              "       [7.400e+01, 2.929e+03, 2.008e+03, 4.000e+00, 0.000e+00, 3.000e+00,\n",
              "        1.010e+02],\n",
              "       [1.311e+03, 3.052e+03, 2.008e+03, 4.000e+00, 2.500e+01, 9.000e+00,\n",
              "        5.000e+01],\n",
              "       [1.540e+02, 0.000e+00, 2.004e+03, 3.000e+00, 1.300e+01, 5.000e+00,\n",
              "        5.000e+01],\n",
              "       [2.070e+02, 0.000e+00, 2.002e+03, 3.000e+00, 8.000e+00, 5.000e+00,\n",
              "        5.000e+01],\n",
              "       [6.300e+01, 5.640e+02, 2.002e+03, 2.000e+00, 1.000e+01, 9.000e+00,\n",
              "        5.000e+01],\n",
              "       [1.290e+02, 2.029e+03, 1.989e+03, 4.000e+00, 1.000e+00, 2.000e+00,\n",
              "        5.000e+01],\n",
              "       [8.300e+01, 2.226e+03, 1.994e+03, 2.000e+00, 0.000e+00, 5.000e+00,\n",
              "        1.000e+01],\n",
              "       [6.000e+01, 0.000e+00, 2.013e+03, 3.000e+00, 1.400e+01, 8.000e+00,\n",
              "        2.600e+01],\n",
              "       [5.000e+01, 0.000e+00, 1.989e+03, 3.000e+00, 0.000e+00, 2.000e+00,\n",
              "        5.000e+01]])"
            ]
          },
          "metadata": {
            "tags": []
          },
          "execution_count": 58
        }
      ]
    },
    {
      "metadata": {
        "id": "W7sHg5I3kb32",
        "colab_type": "text"
      },
      "cell_type": "markdown",
      "source": [
        "# FEATURE IMPORTANCE PLOT"
      ]
    },
    {
      "metadata": {
        "id": "_0GwQqQYsSLh",
        "colab_type": "code",
        "outputId": "52a88df3-6c7a-4a6e-e104-f27faa82ba73",
        "colab": {
          "base_uri": "https://localhost:8080/",
          "height": 1057
        }
      },
      "cell_type": "code",
      "source": [
        "fig, ax = plt.subplots(figsize=(12,18))\n",
        "lgb.plot_importance(model, max_num_features=50, height=0.8, ax=ax)\n",
        "ax.grid(False)\n",
        "plt.title(\"LightGBM - Feature Importance\", fontsize=15)\n",
        "plt.show()"
      ],
      "execution_count": 0,
      "outputs": [
        {
          "output_type": "display_data",
          "data": {
            "image/png": "[encoded data removed]",
            "text/plain": [
              "<matplotlib.figure.Figure at 0x7fd970bd32b0>"
            ]
          },
          "metadata": {
            "tags": []
          }
        }
      ]
    },
    {
      "metadata": {
        "id": "rvnNM4hukhY_",
        "colab_type": "text"
      },
      "cell_type": "markdown",
      "source": [
        "# TOPIC MODELLING USING LDA"
      ]
    },
    {
      "metadata": {
        "id": "Kef7pMzBknm3",
        "colab_type": "text"
      },
      "cell_type": "markdown",
      "source": [
        "EXTRACTING TITLE"
      ]
    },
    {
      "metadata": {
        "id": "C0viL9PTtBWP",
        "colab_type": "code",
        "outputId": "e93bb837-f6c7-486a-8113-50d0f32f5867",
        "colab": {
          "base_uri": "https://localhost:8080/",
          "height": 258
        }
      },
      "cell_type": "code",
      "source": [
        "data_text = df[['title']]\n",
        "data_text['index'] = df.index\n",
        "documents = data_text\n",
        "print(len(documents))\n",
        "print(documents.head())"
      ],
      "execution_count": 0,
      "outputs": [
        {
          "output_type": "stream",
          "text": [
            "437643\n",
            "                                               title  index\n",
            "0  Comparison of GARCH, Neural Network and Suppor...      0\n",
            "1                Vectorial fast correlation attacks.      1\n",
            "2  Multisymplectic Spectral Methods for the Gross...      2\n",
            "3  Relational Abstract Interpretation of Higher O...      3\n",
            "4  A Platform for Disaster Response Planning with...      4\n"
          ],
          "name": "stdout"
        },
        {
          "output_type": "stream",
          "text": [
            "/usr/local/lib/python3.6/dist-packages/ipykernel_launcher.py:2: SettingWithCopyWarning: \n",
            "A value is trying to be set on a copy of a slice from a DataFrame.\n",
            "Try using .loc[row_indexer,col_indexer] = value instead\n",
            "\n",
            "See the caveats in the documentation: http://pandas.pydata.org/pandas-docs/stable/indexing.html#indexing-view-versus-copy\n",
            "  \n"
          ],
          "name": "stderr"
        }
      ]
    },
    {
      "metadata": {
        "id": "MV7NpdBxSpc_",
        "colab_type": "code",
        "colab": {}
      },
      "cell_type": "code",
      "source": [
        "!pip install gensim"
      ],
      "execution_count": 0,
      "outputs": []
    },
    {
      "metadata": {
        "id": "7aZQRLX_Reiz",
        "colab_type": "code",
        "outputId": "3b1d4d02-12fe-4470-f2ad-e59dd8f9d1fd",
        "colab": {
          "base_uri": "https://localhost:8080/",
          "height": 68
        }
      },
      "cell_type": "code",
      "source": [
        "import gensim\n",
        "from gensim.utils import simple_preprocess\n",
        "from gensim.parsing.preprocessing import STOPWORDS\n",
        "from nltk.stem import WordNetLemmatizer, SnowballStemmer\n",
        "from nltk.stem.porter import *\n",
        "np.random.seed(2018)\n",
        "import nltk\n",
        "nltk.download('wordnet')"
      ],
      "execution_count": 0,
      "outputs": [
        {
          "output_type": "stream",
          "text": [
            "[nltk_data] Downloading package wordnet to /root/nltk_data...\n",
            "[nltk_data]   Unzipping corpora/wordnet.zip.\n"
          ],
          "name": "stdout"
        },
        {
          "output_type": "execute_result",
          "data": {
            "text/plain": [
              "True"
            ]
          },
          "metadata": {
            "tags": []
          },
          "execution_count": 41
        }
      ]
    },
    {
      "metadata": {
        "id": "4JmZkTM5kw64",
        "colab_type": "text"
      },
      "cell_type": "markdown",
      "source": [
        "LEMMATISING, REMOVING STOPWORDS AND TOKENISING"
      ]
    },
    {
      "metadata": {
        "id": "Jnhb9O40VPhC",
        "colab_type": "code",
        "outputId": "dc1fe975-4fbf-44dc-950d-fa188e24e336",
        "colab": {
          "base_uri": "https://localhost:8080/",
          "height": 34
        }
      },
      "cell_type": "code",
      "source": [
        "print(WordNetLemmatizer().lemmatize('went', pos='v'))"
      ],
      "execution_count": 0,
      "outputs": [
        {
          "output_type": "stream",
          "text": [
            "go\n"
          ],
          "name": "stdout"
        }
      ]
    },
    {
      "metadata": {
        "id": "B-vIKlj2Ren2",
        "colab_type": "code",
        "colab": {}
      },
      "cell_type": "code",
      "source": [
        "def lemmatize_stemming(text):\n",
        "    stemmer = SnowballStemmer('english')\n",
        "    return stemmer.stem(WordNetLemmatizer().lemmatize(text, pos='v'))\n",
        "def preprocess(text):\n",
        "    result = []\n",
        "    for token in gensim.utils.simple_preprocess(text):\n",
        "        if token not in gensim.parsing.preprocessing.STOPWORDS and len(token) > 3:\n",
        "            result.append(lemmatize_stemming(token))\n",
        "    return result"
      ],
      "execution_count": 0,
      "outputs": []
    },
    {
      "metadata": {
        "id": "0K2tTZpaRerq",
        "colab_type": "code",
        "outputId": "23d505bf-6027-4c6a-d248-3bcca2570b36",
        "colab": {
          "base_uri": "https://localhost:8080/",
          "height": 119
        }
      },
      "cell_type": "code",
      "source": [
        "doc_sample = documents[documents['index'] == 4310].values[0][0]\n",
        "print('original document: ')\n",
        "words = []\n",
        "for word in doc_sample.split(' '):\n",
        "    words.append(word)\n",
        "print(words)\n",
        "print('\\n\\n tokenized and lemmatized document: ')\n",
        "print(preprocess(doc_sample))"
      ],
      "execution_count": 0,
      "outputs": [
        {
          "output_type": "stream",
          "text": [
            "original document: \n",
            "['On', 'the', 'use', 'of', 'visual', 'information', 'for', 'improving', 'audio-based', 'speaker', 'recognition.']\n",
            "\n",
            "\n",
            " tokenized and lemmatized document: \n",
            "['visual', 'inform', 'improv', 'audio', 'base', 'speaker', 'recognit']\n"
          ],
          "name": "stdout"
        }
      ]
    },
    {
      "metadata": {
        "id": "qSPG_FLuRemQ",
        "colab_type": "code",
        "outputId": "dc930055-cec8-437d-b9eb-ff6f973c7e80",
        "colab": {
          "base_uri": "https://localhost:8080/",
          "height": 34
        }
      },
      "cell_type": "code",
      "source": [
        "df['title'].isna().sum()"
      ],
      "execution_count": 0,
      "outputs": [
        {
          "output_type": "execute_result",
          "data": {
            "text/plain": [
              "0"
            ]
          },
          "metadata": {
            "tags": []
          },
          "execution_count": 45
        }
      ]
    },
    {
      "metadata": {
        "id": "nw-b7SDvWOsK",
        "colab_type": "code",
        "outputId": "2602a8bf-fc09-436c-944b-ae054dbf1f58",
        "colab": {
          "base_uri": "https://localhost:8080/",
          "height": 204
        }
      },
      "cell_type": "code",
      "source": [
        "processed_docs = documents['title'].map(preprocess)\n",
        "processed_docs[:10]"
      ],
      "execution_count": 0,
      "outputs": [
        {
          "output_type": "execute_result",
          "data": {
            "text/plain": [
              "0    [comparison, garch, neural, network, support, ...\n",
              "1                      [vectori, fast, correl, attack]\n",
              "2    [multisymplect, spectral, method, gross, pitae...\n",
              "3    [relat, abstract, interpret, higher, order, fu...\n",
              "4    [platform, disast, respons, plan, interdepend,...\n",
              "5    [comput, salienc, model, integr, saccad, program]\n",
              "6                     [cleanev, competit, clean, page]\n",
              "7     [leverag, legaci, code, deploy, desktop, applic]\n",
              "8        [word, pair, languag, model, inform, retriev]\n",
              "9                    [lower, bind, onlin, dynam, pack]\n",
              "Name: title, dtype: object"
            ]
          },
          "metadata": {
            "tags": []
          },
          "execution_count": 46
        }
      ]
    },
    {
      "metadata": {
        "id": "wqHIiJZKYUPg",
        "colab_type": "code",
        "outputId": "edd6f143-e853-4f12-aa8a-4a604746ecd5",
        "colab": {
          "base_uri": "https://localhost:8080/",
          "height": 34
        }
      },
      "cell_type": "code",
      "source": [
        "len(processed_docs)"
      ],
      "execution_count": 0,
      "outputs": [
        {
          "output_type": "execute_result",
          "data": {
            "text/plain": [
              "437643"
            ]
          },
          "metadata": {
            "tags": []
          },
          "execution_count": 47
        }
      ]
    },
    {
      "metadata": {
        "id": "-7RsoHmwWSMM",
        "colab_type": "code",
        "outputId": "9cfd8481-3abb-4c7c-8679-4694019c1eda",
        "colab": {
          "base_uri": "https://localhost:8080/",
          "height": 289
        }
      },
      "cell_type": "code",
      "source": [
        "dictionary = gensim.corpora.Dictionary(processed_docs)\n",
        "count = 0\n",
        "for k, v in dictionary.iteritems():\n",
        "    print(k, v)\n",
        "    count += 1\n",
        "    if count > 15:\n",
        "        break"
      ],
      "execution_count": 0,
      "outputs": [
        {
          "output_type": "stream",
          "text": [
            "0 comparison\n",
            "1 financi\n",
            "2 garch\n",
            "3 machin\n",
            "4 network\n",
            "5 neural\n",
            "6 predict\n",
            "7 seri\n",
            "8 support\n",
            "9 time\n",
            "10 vector\n",
            "11 attack\n",
            "12 correl\n",
            "13 fast\n",
            "14 vectori\n",
            "15 equat\n"
          ],
          "name": "stdout"
        }
      ]
    },
    {
      "metadata": {
        "id": "PSTZ5dnXXWtN",
        "colab_type": "code",
        "colab": {}
      },
      "cell_type": "code",
      "source": [
        "# dictionary.filter_extremes(no_below=15, no_above=0.5, keep_n=100000)"
      ],
      "execution_count": 0,
      "outputs": []
    },
    {
      "metadata": {
        "id": "JZSQzHLZYElo",
        "colab_type": "code",
        "outputId": "6790f302-6411-467b-fc54-0cf8a822c340",
        "colab": {
          "base_uri": "https://localhost:8080/",
          "height": 34
        }
      },
      "cell_type": "code",
      "source": [
        "len(dictionary)"
      ],
      "execution_count": 0,
      "outputs": [
        {
          "output_type": "execute_result",
          "data": {
            "text/plain": [
              "52033"
            ]
          },
          "metadata": {
            "tags": []
          },
          "execution_count": 49
        }
      ]
    },
    {
      "metadata": {
        "id": "7eDdEGm5k_pJ",
        "colab_type": "text"
      },
      "cell_type": "markdown",
      "source": [
        "USING BAG OF WORDS TECHNIQUE"
      ]
    },
    {
      "metadata": {
        "id": "dhxFvSdFYGGM",
        "colab_type": "code",
        "outputId": "7a2ad1e7-740f-422a-a2aa-33d46db2d722",
        "colab": {
          "base_uri": "https://localhost:8080/",
          "height": 34
        }
      },
      "cell_type": "code",
      "source": [
        "bow_corpus = [dictionary.doc2bow(doc) for doc in processed_docs]\n",
        "bow_corpus[4310]"
      ],
      "execution_count": 0,
      "outputs": [
        {
          "output_type": "execute_result",
          "data": {
            "text/plain": [
              "[(50, 1), (64, 1), (73, 1), (98, 1), (124, 1), (226, 1), (692, 1)]"
            ]
          },
          "metadata": {
            "tags": []
          },
          "execution_count": 50
        }
      ]
    },
    {
      "metadata": {
        "id": "P59MlTAYaaiZ",
        "colab_type": "code",
        "outputId": "a53a80f7-f7fe-4823-817a-9408f9970a43",
        "colab": {
          "base_uri": "https://localhost:8080/",
          "height": 34
        }
      },
      "cell_type": "code",
      "source": [
        "len(bow_corpus)"
      ],
      "execution_count": 0,
      "outputs": [
        {
          "output_type": "execute_result",
          "data": {
            "text/plain": [
              "437643"
            ]
          },
          "metadata": {
            "tags": []
          },
          "execution_count": 51
        }
      ]
    },
    {
      "metadata": {
        "id": "JEjEvdqdY6ez",
        "colab_type": "code",
        "outputId": "2cbb2f95-471b-423e-ba91-e4f899a0b5af",
        "colab": {
          "base_uri": "https://localhost:8080/",
          "height": 136
        }
      },
      "cell_type": "code",
      "source": [
        "bow_doc_4310 = bow_corpus[4310]\n",
        "\n",
        "for i in range(len(bow_doc_4310)):\n",
        "    print(\"Word {} (\\\"{}\\\") appears {} time.\".format(bow_doc_4310[i][0], \n",
        "                                                     dictionary[bow_doc_4310[i][0]], \n",
        "                                                     bow_doc_4310[i][1]))"
      ],
      "execution_count": 0,
      "outputs": [
        {
          "output_type": "stream",
          "text": [
            "Word 50 (\"inform\") appears 1 time.\n",
            "Word 64 (\"base\") appears 1 time.\n",
            "Word 73 (\"recognit\") appears 1 time.\n",
            "Word 98 (\"visual\") appears 1 time.\n",
            "Word 124 (\"audio\") appears 1 time.\n",
            "Word 226 (\"improv\") appears 1 time.\n",
            "Word 692 (\"speaker\") appears 1 time.\n"
          ],
          "name": "stdout"
        }
      ]
    },
    {
      "metadata": {
        "id": "KEh7AWUllDP3",
        "colab_type": "text"
      },
      "cell_type": "markdown",
      "source": [
        "USING TFID TECHNIQUE (NOT USED FINALLY)"
      ]
    },
    {
      "metadata": {
        "id": "OwZba4CjZIH2",
        "colab_type": "code",
        "colab": {}
      },
      "cell_type": "code",
      "source": [
        "# from gensim import corpora, models\n",
        "\n",
        "# tfidf = models.TfidfModel(bow_corpus)"
      ],
      "execution_count": 0,
      "outputs": []
    },
    {
      "metadata": {
        "id": "jpj0BPXiaRa0",
        "colab_type": "code",
        "colab": {}
      },
      "cell_type": "code",
      "source": [
        "# corpus_tfidf = tfidf[bow_corpus]"
      ],
      "execution_count": 0,
      "outputs": []
    },
    {
      "metadata": {
        "id": "I8Gi8u7JaTh0",
        "colab_type": "code",
        "outputId": "ae4aca6c-2d1e-4b3f-d1e2-c27dc91f1670",
        "colab": {
          "base_uri": "https://localhost:8080/",
          "height": 204
        }
      },
      "cell_type": "code",
      "source": [
        "# from pprint import pprint\n",
        "\n",
        "# for doc in corpus_tfidf:\n",
        "#     pprint(doc)\n",
        "#     break"
      ],
      "execution_count": 0,
      "outputs": [
        {
          "output_type": "stream",
          "text": [
            "[(0, 0.27371518359048214),\n",
            " (1, 0.3802414996090363),\n",
            " (2, 0.5611681406711465),\n",
            " (3, 0.2448419426745291),\n",
            " (4, 0.1456413375062651),\n",
            " (5, 0.24081839737908176),\n",
            " (6, 0.24515500195622777),\n",
            " (7, 0.3208444017137536),\n",
            " (8, 0.22372330147078995),\n",
            " (9, 0.1868238494450325),\n",
            " (10, 0.2800658317354026)]\n"
          ],
          "name": "stdout"
        }
      ]
    },
    {
      "metadata": {
        "id": "XLog8r-Aaj9Q",
        "colab_type": "code",
        "colab": {}
      },
      "cell_type": "code",
      "source": [
        "lda_model = gensim.models.LdaMulticore(bow_corpus, num_topics=10, id2word=dictionary, passes=2, workers=2)"
      ],
      "execution_count": 0,
      "outputs": []
    },
    {
      "metadata": {
        "id": "xlC82UjwlJZq",
        "colab_type": "text"
      },
      "cell_type": "markdown",
      "source": [
        "# OUTPUT OF LDA TOPIC MODELLING"
      ]
    },
    {
      "metadata": {
        "id": "Ud6ZJyWXbBfn",
        "colab_type": "code",
        "outputId": "35c69a76-2be3-4d85-b4ca-852779af70c3",
        "colab": {
          "base_uri": "https://localhost:8080/",
          "height": 377
        }
      },
      "cell_type": "code",
      "source": [
        "for idx, topic in lda_model.print_topics(-1):\n",
        "    print('Topic: {} \\nWords: {}'.format(idx, topic))"
      ],
      "execution_count": 0,
      "outputs": [
        {
          "output_type": "stream",
          "text": [
            "Topic: 0 \n",
            "Words: 0.033*\"program\" + 0.022*\"logic\" + 0.021*\"model\" + 0.019*\"oper\" + 0.018*\"theori\" + 0.017*\"game\" + 0.017*\"order\" + 0.016*\"system\" + 0.015*\"type\" + 0.013*\"constraint\"\n",
            "Topic: 1 \n",
            "Words: 0.040*\"system\" + 0.035*\"model\" + 0.029*\"design\" + 0.025*\"softwar\" + 0.024*\"base\" + 0.020*\"process\" + 0.020*\"develop\" + 0.015*\"manag\" + 0.014*\"architectur\" + 0.014*\"test\"\n",
            "Topic: 2 \n",
            "Words: 0.032*\"object\" + 0.020*\"multi\" + 0.019*\"context\" + 0.017*\"alloc\" + 0.017*\"resourc\" + 0.016*\"orient\" + 0.015*\"agent\" + 0.015*\"communic\" + 0.014*\"base\" + 0.013*\"servic\"\n",
            "Topic: 3 \n",
            "Words: 0.032*\"perform\" + 0.028*\"machin\" + 0.027*\"studi\" + 0.020*\"evalu\" + 0.015*\"sourc\" + 0.015*\"vector\" + 0.014*\"high\" + 0.014*\"fault\" + 0.014*\"analysi\" + 0.013*\"digit\"\n",
            "Topic: 4 \n",
            "Words: 0.042*\"imag\" + 0.037*\"base\" + 0.021*\"model\" + 0.020*\"recognit\" + 0.017*\"featur\" + 0.016*\"detect\" + 0.015*\"classif\" + 0.012*\"automat\" + 0.011*\"segment\" + 0.011*\"learn\"\n",
            "Topic: 5 \n",
            "Words: 0.034*\"control\" + 0.031*\"interact\" + 0.028*\"robot\" + 0.025*\"user\" + 0.017*\"environ\" + 0.017*\"mobil\" + 0.017*\"virtual\" + 0.016*\"visual\" + 0.014*\"interfac\" + 0.014*\"design\"\n",
            "Topic: 6 \n",
            "Words: 0.101*\"network\" + 0.023*\"wireless\" + 0.020*\"sensor\" + 0.020*\"base\" + 0.018*\"data\" + 0.017*\"neural\" + 0.014*\"effici\" + 0.014*\"distribut\" + 0.013*\"energi\" + 0.011*\"self\"\n",
            "Topic: 7 \n",
            "Words: 0.052*\"algorithm\" + 0.035*\"problem\" + 0.026*\"graph\" + 0.022*\"optim\" + 0.015*\"method\" + 0.013*\"approxim\" + 0.011*\"parallel\" + 0.010*\"equat\" + 0.009*\"linear\" + 0.009*\"tree\"\n",
            "Topic: 8 \n",
            "Words: 0.043*\"data\" + 0.030*\"inform\" + 0.024*\"base\" + 0.017*\"decis\" + 0.017*\"fuzzi\" + 0.015*\"measur\" + 0.014*\"databas\" + 0.012*\"queri\" + 0.011*\"knowledg\" + 0.011*\"model\"\n",
            "Topic: 9 \n",
            "Words: 0.048*\"time\" + 0.022*\"control\" + 0.020*\"system\" + 0.019*\"base\" + 0.019*\"estim\" + 0.017*\"real\" + 0.014*\"channel\" + 0.014*\"cod\" + 0.012*\"detect\" + 0.012*\"optim\"\n"
          ],
          "name": "stdout"
        }
      ]
    },
    {
      "metadata": {
        "id": "smYGtgOabIdH",
        "colab_type": "code",
        "colab": {}
      },
      "cell_type": "code",
      "source": [
        "# lda_model_tfidf = gensim.models.LdaMulticore(corpus_tfidf, num_topics=10, id2word=dictionary, passes=2, workers=4)"
      ],
      "execution_count": 0,
      "outputs": []
    },
    {
      "metadata": {
        "id": "mBRnIetFbVPM",
        "colab_type": "code",
        "outputId": "2a3da28b-1451-4fd1-94f5-ba6c20104217",
        "colab": {
          "base_uri": "https://localhost:8080/",
          "height": 207
        }
      },
      "cell_type": "code",
      "source": [
        "# for idx, topic in lda_model_tfidf.print_topics(-1):\n",
        "#     print('Topic: {} Word: {}'.format(idx, topic))"
      ],
      "execution_count": 0,
      "outputs": [
        {
          "output_type": "stream",
          "text": [
            "Topic: 0 Word: 0.023*\"network\" + 0.014*\"wireless\" + 0.011*\"sensor\" + 0.008*\"time\" + 0.008*\"rout\" + 0.008*\"system\" + 0.007*\"control\" + 0.007*\"power\" + 0.007*\"base\" + 0.007*\"perform\"\n",
            "Topic: 1 Word: 0.008*\"recognit\" + 0.008*\"speech\" + 0.007*\"base\" + 0.007*\"learn\" + 0.007*\"model\" + 0.006*\"text\" + 0.005*\"machin\" + 0.005*\"classif\" + 0.005*\"featur\" + 0.004*\"analysi\"\n",
            "Topic: 2 Word: 0.005*\"polygon\" + 0.005*\"digit\" + 0.004*\"expert\" + 0.004*\"cmos\" + 0.004*\"librari\" + 0.004*\"squar\" + 0.004*\"intersect\" + 0.004*\"technic\" + 0.004*\"span\" + 0.004*\"topic\"\n",
            "Topic: 3 Word: 0.016*\"graph\" + 0.010*\"problem\" + 0.009*\"algorithm\" + 0.009*\"program\" + 0.008*\"logic\" + 0.007*\"tree\" + 0.007*\"bound\" + 0.006*\"approxim\" + 0.006*\"complex\" + 0.006*\"linear\"\n",
            "Topic: 4 Word: 0.019*\"imag\" + 0.010*\"base\" + 0.009*\"object\" + 0.008*\"segment\" + 0.008*\"video\" + 0.007*\"detect\" + 0.007*\"motion\" + 0.007*\"track\" + 0.007*\"recognit\" + 0.006*\"model\"\n",
            "Topic: 5 Word: 0.007*\"swarm\" + 0.006*\"particl\" + 0.006*\"net\" + 0.006*\"gene\" + 0.005*\"petri\" + 0.005*\"model\" + 0.005*\"base\" + 0.005*\"optim\" + 0.005*\"data\" + 0.004*\"ident\"\n",
            "Topic: 6 Word: 0.008*\"algorithm\" + 0.008*\"peer\" + 0.007*\"markov\" + 0.006*\"optim\" + 0.006*\"model\" + 0.006*\"base\" + 0.005*\"method\" + 0.005*\"hide\" + 0.005*\"fuzzi\" + 0.005*\"cluster\"\n",
            "Topic: 7 Word: 0.006*\"linear\" + 0.006*\"algorithm\" + 0.006*\"nonlinear\" + 0.006*\"method\" + 0.005*\"problem\" + 0.005*\"filter\" + 0.005*\"matrix\" + 0.005*\"model\" + 0.005*\"estim\" + 0.005*\"analysi\"\n",
            "Topic: 8 Word: 0.012*\"mobil\" + 0.012*\"servic\" + 0.009*\"environ\" + 0.008*\"base\" + 0.008*\"manag\" + 0.008*\"agent\" + 0.008*\"network\" + 0.007*\"system\" + 0.007*\"robot\" + 0.007*\"virtual\"\n",
            "Topic: 9 Word: 0.011*\"model\" + 0.010*\"base\" + 0.009*\"inform\" + 0.008*\"system\" + 0.008*\"knowledg\" + 0.008*\"softwar\" + 0.008*\"process\" + 0.007*\"data\" + 0.007*\"approach\" + 0.006*\"design\"\n"
          ],
          "name": "stdout"
        }
      ]
    },
    {
      "metadata": {
        "id": "vBtvLsY6dHGu",
        "colab_type": "code",
        "colab": {}
      },
      "cell_type": "code",
      "source": [
        "# lda_model_tfidf_5 = gensim.models.LdaMulticore(corpus_tfidf, num_topics=5, id2word=dictionary, passes=2, workers=4)"
      ],
      "execution_count": 0,
      "outputs": []
    },
    {
      "metadata": {
        "id": "oms6PCQcf8A5",
        "colab_type": "code",
        "outputId": "548c049c-5a6d-404d-ca93-9d7a2dbcdd63",
        "colab": {
          "base_uri": "https://localhost:8080/",
          "height": 122
        }
      },
      "cell_type": "code",
      "source": [
        "# for idx, topic in lda_model_tfidf_5.print_topics(-1):\n",
        "#     print('Topic: {} Word: {}'.format(idx, topic))"
      ],
      "execution_count": 0,
      "outputs": [
        {
          "output_type": "stream",
          "text": [
            "Topic: 0 Word: 0.011*\"program\" + 0.011*\"logic\" + 0.008*\"fuzzi\" + 0.008*\"model\" + 0.007*\"base\" + 0.006*\"system\" + 0.006*\"languag\" + 0.005*\"data\" + 0.005*\"semant\" + 0.005*\"fault\"\n",
            "Topic: 1 Word: 0.009*\"graph\" + 0.008*\"algorithm\" + 0.007*\"imag\" + 0.006*\"problem\" + 0.006*\"base\" + 0.005*\"method\" + 0.005*\"tree\" + 0.005*\"approxim\" + 0.004*\"model\" + 0.004*\"cod\"\n",
            "Topic: 2 Word: 0.008*\"servic\" + 0.008*\"model\" + 0.008*\"system\" + 0.008*\"manag\" + 0.008*\"base\" + 0.008*\"softwar\" + 0.008*\"design\" + 0.007*\"inform\" + 0.007*\"network\" + 0.006*\"mobil\"\n",
            "Topic: 3 Word: 0.013*\"network\" + 0.008*\"control\" + 0.007*\"wireless\" + 0.007*\"optim\" + 0.006*\"schedul\" + 0.006*\"algorithm\" + 0.006*\"system\" + 0.006*\"time\" + 0.006*\"base\" + 0.006*\"channel\"\n",
            "Topic: 4 Word: 0.009*\"imag\" + 0.007*\"base\" + 0.007*\"video\" + 0.005*\"retriev\" + 0.005*\"detect\" + 0.005*\"data\" + 0.004*\"model\" + 0.004*\"analysi\" + 0.004*\"visual\" + 0.004*\"mine\"\n"
          ],
          "name": "stdout"
        }
      ]
    },
    {
      "metadata": {
        "id": "gCxIEQwBg01T",
        "colab_type": "code",
        "outputId": "4b23a1f2-47d9-4a15-ef48-1d67d2be6205",
        "colab": {
          "base_uri": "https://localhost:8080/",
          "height": 34
        }
      },
      "cell_type": "code",
      "source": [
        "processed_docs[4310]"
      ],
      "execution_count": 0,
      "outputs": [
        {
          "output_type": "execute_result",
          "data": {
            "text/plain": [
              "['visual', 'inform', 'improv', 'audio', 'base', 'speaker', 'recognit']"
            ]
          },
          "metadata": {
            "tags": []
          },
          "execution_count": 113
        }
      ]
    },
    {
      "metadata": {
        "id": "NEWZfN65kFkN",
        "colab_type": "code",
        "outputId": "a24bf7d5-cb91-495b-e2fd-7fb2ea6bc544",
        "colab": {
          "base_uri": "https://localhost:8080/",
          "height": 547
        }
      },
      "cell_type": "code",
      "source": [
        "# for index, score in sorted(lda_model_tfidf[bow_corpus[4310]], key=lambda tup: -1*tup[1]):\n",
        "#     print(\"\\nScore: {}\\t \\nTopic: {}\".format(score, lda_model_tfidf.print_topic(index, 10)))"
      ],
      "execution_count": 0,
      "outputs": [
        {
          "output_type": "stream",
          "text": [
            "\n",
            "Score: 0.8874842524528503\t \n",
            "Topic: 0.008*\"recognit\" + 0.008*\"speech\" + 0.007*\"base\" + 0.007*\"learn\" + 0.007*\"model\" + 0.006*\"text\" + 0.005*\"machin\" + 0.005*\"classif\" + 0.005*\"featur\" + 0.004*\"analysi\"\n",
            "\n",
            "Score: 0.012503263540565968\t \n",
            "Topic: 0.019*\"imag\" + 0.010*\"base\" + 0.009*\"object\" + 0.008*\"segment\" + 0.008*\"video\" + 0.007*\"detect\" + 0.007*\"motion\" + 0.007*\"track\" + 0.007*\"recognit\" + 0.006*\"model\"\n",
            "\n",
            "Score: 0.012503186240792274\t \n",
            "Topic: 0.011*\"model\" + 0.010*\"base\" + 0.009*\"inform\" + 0.008*\"system\" + 0.008*\"knowledg\" + 0.008*\"softwar\" + 0.008*\"process\" + 0.007*\"data\" + 0.007*\"approach\" + 0.006*\"design\"\n",
            "\n",
            "Score: 0.012502088211476803\t \n",
            "Topic: 0.012*\"mobil\" + 0.012*\"servic\" + 0.009*\"environ\" + 0.008*\"base\" + 0.008*\"manag\" + 0.008*\"agent\" + 0.008*\"network\" + 0.007*\"system\" + 0.007*\"robot\" + 0.007*\"virtual\"\n",
            "\n",
            "Score: 0.012501387856900692\t \n",
            "Topic: 0.007*\"swarm\" + 0.006*\"particl\" + 0.006*\"net\" + 0.006*\"gene\" + 0.005*\"petri\" + 0.005*\"model\" + 0.005*\"base\" + 0.005*\"optim\" + 0.005*\"data\" + 0.004*\"ident\"\n",
            "\n",
            "Score: 0.012501301243901253\t \n",
            "Topic: 0.023*\"network\" + 0.014*\"wireless\" + 0.011*\"sensor\" + 0.008*\"time\" + 0.008*\"rout\" + 0.008*\"system\" + 0.007*\"control\" + 0.007*\"power\" + 0.007*\"base\" + 0.007*\"perform\"\n",
            "\n",
            "Score: 0.012501219287514687\t \n",
            "Topic: 0.008*\"algorithm\" + 0.008*\"peer\" + 0.007*\"markov\" + 0.006*\"optim\" + 0.006*\"model\" + 0.006*\"base\" + 0.005*\"method\" + 0.005*\"hide\" + 0.005*\"fuzzi\" + 0.005*\"cluster\"\n",
            "\n",
            "Score: 0.012501216493546963\t \n",
            "Topic: 0.006*\"linear\" + 0.006*\"algorithm\" + 0.006*\"nonlinear\" + 0.006*\"method\" + 0.005*\"problem\" + 0.005*\"filter\" + 0.005*\"matrix\" + 0.005*\"model\" + 0.005*\"estim\" + 0.005*\"analysi\"\n",
            "\n",
            "Score: 0.012501190416514874\t \n",
            "Topic: 0.005*\"polygon\" + 0.005*\"digit\" + 0.004*\"expert\" + 0.004*\"cmos\" + 0.004*\"librari\" + 0.004*\"squar\" + 0.004*\"intersect\" + 0.004*\"technic\" + 0.004*\"span\" + 0.004*\"topic\"\n",
            "\n",
            "Score: 0.01250090729445219\t \n",
            "Topic: 0.016*\"graph\" + 0.010*\"problem\" + 0.009*\"algorithm\" + 0.009*\"program\" + 0.008*\"logic\" + 0.007*\"tree\" + 0.007*\"bound\" + 0.006*\"approxim\" + 0.006*\"complex\" + 0.006*\"linear\"\n"
          ],
          "name": "stdout"
        }
      ]
    },
    {
      "metadata": {
        "id": "ffPfPf11lVZy",
        "colab_type": "text"
      },
      "cell_type": "markdown",
      "source": [
        "TESTING"
      ]
    },
    {
      "metadata": {
        "id": "OZo_JluAkjF1",
        "colab_type": "code",
        "outputId": "244afd5b-dcb9-4fd0-be58-75b7d7eb3e0f",
        "colab": {
          "base_uri": "https://localhost:8080/",
          "height": 51
        }
      },
      "cell_type": "code",
      "source": [
        "unseen_document = 'Introduction to Information Retrieval'\n",
        "bow_vector = dictionary.doc2bow(preprocess(unseen_document))\n",
        "print(bow_vector)\n",
        "for index, score in sorted(lda_model[bow_vector], key=lambda tup: -1*tup[1]):\n",
        "    print(\"Score: {}\\t Topic: {}\".format(score, lda_model.print_topic(index, 1)))\n",
        "    break"
      ],
      "execution_count": 0,
      "outputs": [
        {
          "output_type": "stream",
          "text": [
            "[(50, 1), (53, 1), (2174, 1)]\n",
            "Score: 0.5232177376747131\t Topic: 0.043*\"data\"\n"
          ],
          "name": "stdout"
        }
      ]
    },
    {
      "metadata": {
        "id": "vSApV5UtmZPG",
        "colab_type": "code",
        "outputId": "d105402b-8227-41c7-fed8-3528dd1a162f",
        "colab": {
          "base_uri": "https://localhost:8080/",
          "height": 232
        }
      },
      "cell_type": "code",
      "source": [
        "# unseen_document = 'Introduction to Information Retrieval'\n",
        "# bow_vector = dictionary.doc2bow(preprocess(unseen_document))\n",
        "# print(bow_vector)\n",
        "\n",
        "# for index, score in sorted(lda_model_tfidf[bow_vector], key=lambda tup: -1*tup[1]):\n",
        "#     print(\"Score: {}\\t Topic: {}\".format(score, lda_model_tfidf.print_topic(index, 5)))"
      ],
      "execution_count": 0,
      "outputs": [
        {
          "output_type": "stream",
          "text": [
            "[(50, 1), (53, 1), (2174, 1)]\n"
          ],
          "name": "stdout"
        },
        {
          "output_type": "error",
          "ename": "NameError",
          "evalue": "ignored",
          "traceback": [
            "\u001b[0;31m---------------------------------------------------------------------------\u001b[0m",
            "\u001b[0;31mNameError\u001b[0m                                 Traceback (most recent call last)",
            "\u001b[0;32m<ipython-input-56-c062493bae8c>\u001b[0m in \u001b[0;36m<module>\u001b[0;34m()\u001b[0m\n\u001b[1;32m      3\u001b[0m \u001b[0mprint\u001b[0m\u001b[0;34m(\u001b[0m\u001b[0mbow_vector\u001b[0m\u001b[0;34m)\u001b[0m\u001b[0;34m\u001b[0m\u001b[0m\n\u001b[1;32m      4\u001b[0m \u001b[0;34m\u001b[0m\u001b[0m\n\u001b[0;32m----> 5\u001b[0;31m \u001b[0;32mfor\u001b[0m \u001b[0mindex\u001b[0m\u001b[0;34m,\u001b[0m \u001b[0mscore\u001b[0m \u001b[0;32min\u001b[0m \u001b[0msorted\u001b[0m\u001b[0;34m(\u001b[0m\u001b[0mlda_model_tfidf\u001b[0m\u001b[0;34m[\u001b[0m\u001b[0mbow_vector\u001b[0m\u001b[0;34m]\u001b[0m\u001b[0;34m,\u001b[0m \u001b[0mkey\u001b[0m\u001b[0;34m=\u001b[0m\u001b[0;32mlambda\u001b[0m \u001b[0mtup\u001b[0m\u001b[0;34m:\u001b[0m \u001b[0;34m-\u001b[0m\u001b[0;36m1\u001b[0m\u001b[0;34m*\u001b[0m\u001b[0mtup\u001b[0m\u001b[0;34m[\u001b[0m\u001b[0;36m1\u001b[0m\u001b[0;34m]\u001b[0m\u001b[0;34m)\u001b[0m\u001b[0;34m:\u001b[0m\u001b[0;34m\u001b[0m\u001b[0m\n\u001b[0m\u001b[1;32m      6\u001b[0m     \u001b[0mprint\u001b[0m\u001b[0;34m(\u001b[0m\u001b[0;34m\"Score: {}\\t Topic: {}\"\u001b[0m\u001b[0;34m.\u001b[0m\u001b[0mformat\u001b[0m\u001b[0;34m(\u001b[0m\u001b[0mscore\u001b[0m\u001b[0;34m,\u001b[0m \u001b[0mlda_model_tfidf\u001b[0m\u001b[0;34m.\u001b[0m\u001b[0mprint_topic\u001b[0m\u001b[0;34m(\u001b[0m\u001b[0mindex\u001b[0m\u001b[0;34m,\u001b[0m \u001b[0;36m5\u001b[0m\u001b[0;34m)\u001b[0m\u001b[0;34m)\u001b[0m\u001b[0;34m)\u001b[0m\u001b[0;34m\u001b[0m\u001b[0m\n",
            "\u001b[0;31mNameError\u001b[0m: name 'lda_model_tfidf' is not defined"
          ]
        }
      ]
    },
    {
      "metadata": {
        "id": "N10sx_fdnMci",
        "colab_type": "code",
        "outputId": "d96cdee3-0401-4961-d7ad-d7f03bad400d",
        "colab": {
          "base_uri": "https://localhost:8080/",
          "height": 164
        }
      },
      "cell_type": "code",
      "source": [
        "df['Topic']=bow_corpus.map(lda_model.print_topic(index, 1))"
      ],
      "execution_count": 0,
      "outputs": [
        {
          "output_type": "error",
          "ename": "AttributeError",
          "evalue": "ignored",
          "traceback": [
            "\u001b[0;31m---------------------------------------------------------------------------\u001b[0m",
            "\u001b[0;31mAttributeError\u001b[0m                            Traceback (most recent call last)",
            "\u001b[0;32m<ipython-input-55-aa327b171752>\u001b[0m in \u001b[0;36m<module>\u001b[0;34m()\u001b[0m\n\u001b[0;32m----> 1\u001b[0;31m \u001b[0mdf\u001b[0m\u001b[0;34m[\u001b[0m\u001b[0;34m'Topic'\u001b[0m\u001b[0;34m]\u001b[0m\u001b[0;34m=\u001b[0m\u001b[0mbow_corpus\u001b[0m\u001b[0;34m.\u001b[0m\u001b[0mmap\u001b[0m\u001b[0;34m(\u001b[0m\u001b[0mlda_model\u001b[0m\u001b[0;34m.\u001b[0m\u001b[0mprint_topic\u001b[0m\u001b[0;34m(\u001b[0m\u001b[0mindex\u001b[0m\u001b[0;34m,\u001b[0m \u001b[0;36m1\u001b[0m\u001b[0;34m)\u001b[0m\u001b[0;34m)\u001b[0m\u001b[0;34m\u001b[0m\u001b[0m\n\u001b[0m",
            "\u001b[0;31mAttributeError\u001b[0m: 'list' object has no attribute 'map'"
          ]
        }
      ]
    },
    {
      "metadata": {
        "id": "EZn6VEQStkCA",
        "colab_type": "code",
        "colab": {}
      },
      "cell_type": "code",
      "source": [
        "ltemp=[0]*len(df_flatten_authors)"
      ],
      "execution_count": 0,
      "outputs": []
    },
    {
      "metadata": {
        "id": "lKyZPErRt0aL",
        "colab_type": "code",
        "colab": {}
      },
      "cell_type": "code",
      "source": [
        "df_flatten_authors['Topic']=ltemp"
      ],
      "execution_count": 0,
      "outputs": []
    },
    {
      "metadata": {
        "id": "MaZ45bqen-AZ",
        "colab_type": "code",
        "colab": {}
      },
      "cell_type": "code",
      "source": [
        "for bow_vector in bow_corpus:\n",
        "  for index, score in sorted(lda_model[bow_vector], key=lambda tup: -1*tup[1]):\n",
        "      ltemp.append(lda_model.print_topic(index, 1))\n",
        "      break"
      ],
      "execution_count": 0,
      "outputs": []
    },
    {
      "metadata": {
        "id": "WctdiamKuE3g",
        "colab_type": "code",
        "outputId": "04c629bb-ccbd-45a7-8c25-963f140e3e52",
        "colab": {
          "base_uri": "https://localhost:8080/",
          "height": 34
        }
      },
      "cell_type": "code",
      "source": [
        "ltemp[:10]"
      ],
      "execution_count": 0,
      "outputs": [
        {
          "output_type": "execute_result",
          "data": {
            "text/plain": [
              "[0, 0, 0, 0, 0, 0, 0, 0, 0, 0]"
            ]
          },
          "metadata": {
            "tags": []
          },
          "execution_count": 66
        }
      ]
    },
    {
      "metadata": {
        "id": "BF5Krf_muvE3",
        "colab_type": "code",
        "colab": {}
      },
      "cell_type": "code",
      "source": [
        "ltemp1=ltemp[-(len(bow_corpus)):]"
      ],
      "execution_count": 0,
      "outputs": []
    },
    {
      "metadata": {
        "id": "qIUsdSCezeEv",
        "colab_type": "code",
        "outputId": "f2068197-d0d5-4582-8673-d5b39608a908",
        "colab": {
          "base_uri": "https://localhost:8080/",
          "height": 187
        }
      },
      "cell_type": "code",
      "source": [
        "ltemp1[:10]"
      ],
      "execution_count": 0,
      "outputs": [
        {
          "output_type": "execute_result",
          "data": {
            "text/plain": [
              "['0.032*\"perform\"',\n",
              " '0.042*\"imag\"',\n",
              " '0.052*\"algorithm\"',\n",
              " '0.033*\"program\"',\n",
              " '0.040*\"system\"',\n",
              " '0.033*\"program\"',\n",
              " '0.034*\"control\"',\n",
              " '0.101*\"network\"',\n",
              " '0.042*\"imag\"',\n",
              " '0.052*\"algorithm\"']"
            ]
          },
          "metadata": {
            "tags": []
          },
          "execution_count": 68
        }
      ]
    },
    {
      "metadata": {
        "id": "ymQoK6RtzgoK",
        "colab_type": "code",
        "outputId": "a6699c89-d80b-4bb9-e6b1-945a3d6c6104",
        "colab": {
          "base_uri": "https://localhost:8080/",
          "height": 88
        }
      },
      "cell_type": "code",
      "source": [
        "for index, score in sorted(lda_model[bow_corpus[9]], key=lambda tup: -1*tup[1]):\n",
        "    print(\"\\nScore: {}\\t \\nTopic: {}\".format(score, lda_model.print_topic(index, 10)))\n",
        "    break"
      ],
      "execution_count": 0,
      "outputs": [
        {
          "output_type": "stream",
          "text": [
            "\n",
            "Score: 0.8499549031257629\t \n",
            "Topic: 0.052*\"algorithm\" + 0.035*\"problem\" + 0.026*\"graph\" + 0.022*\"optim\" + 0.015*\"method\" + 0.013*\"approxim\" + 0.011*\"parallel\" + 0.010*\"equat\" + 0.009*\"linear\" + 0.009*\"tree\"\n"
          ],
          "name": "stdout"
        }
      ]
    },
    {
      "metadata": {
        "id": "5Fq_QmEDla5W",
        "colab_type": "text"
      },
      "cell_type": "markdown",
      "source": [
        "# INCORPORATING TOPIC TO FINAL DATAFRAME"
      ]
    },
    {
      "metadata": {
        "id": "yYj7S8C70Fsc",
        "colab_type": "code",
        "colab": {}
      },
      "cell_type": "code",
      "source": [
        "df['Topic']=ltemp1"
      ],
      "execution_count": 0,
      "outputs": []
    },
    {
      "metadata": {
        "id": "EfSiv17D0Su8",
        "colab_type": "code",
        "outputId": "52b7daaf-abc4-42e6-aea6-aee39d309a94",
        "colab": {
          "base_uri": "https://localhost:8080/",
          "height": 493
        }
      },
      "cell_type": "code",
      "source": [
        "df.head()"
      ],
      "execution_count": 0,
      "outputs": [
        {
          "output_type": "execute_result",
          "data": {
            "text/html": [
              "<div>\n",
              "<style scoped>\n",
              "    .dataframe tbody tr th:only-of-type {\n",
              "        vertical-align: middle;\n",
              "    }\n",
              "\n",
              "    .dataframe tbody tr th {\n",
              "        vertical-align: top;\n",
              "    }\n",
              "\n",
              "    .dataframe thead th {\n",
              "        text-align: right;\n",
              "    }\n",
              "</style>\n",
              "<table border=\"1\" class=\"dataframe\">\n",
              "  <thead>\n",
              "    <tr style=\"text-align: right;\">\n",
              "      <th></th>\n",
              "      <th>abstract</th>\n",
              "      <th>authors</th>\n",
              "      <th>id</th>\n",
              "      <th>n_citation</th>\n",
              "      <th>references</th>\n",
              "      <th>title</th>\n",
              "      <th>venue</th>\n",
              "      <th>year</th>\n",
              "      <th>importance</th>\n",
              "      <th>author_count</th>\n",
              "      <th>references_count</th>\n",
              "      <th>Topic</th>\n",
              "    </tr>\n",
              "  </thead>\n",
              "  <tbody>\n",
              "    <tr>\n",
              "      <th>0</th>\n",
              "      <td>This article applied GARCH model instead AR or...</td>\n",
              "      <td>[Altaf Hossain, Faisal Zaman, Mohammed Nasser,...</td>\n",
              "      <td>001c8744-73c4-4b04-9364-22d31a10dbf1</td>\n",
              "      <td>50</td>\n",
              "      <td>[2d84c0f2-e656-4ce7-b018-90eda1c132fe, a083a1b...</td>\n",
              "      <td>Comparison of GARCH, Neural Network and Suppor...</td>\n",
              "      <td>3086</td>\n",
              "      <td>2009</td>\n",
              "      <td>0</td>\n",
              "      <td>4</td>\n",
              "      <td>2.0</td>\n",
              "      <td>0.032*\"perform\"</td>\n",
              "    </tr>\n",
              "    <tr>\n",
              "      <th>1</th>\n",
              "      <td>NaN</td>\n",
              "      <td>[Jovan Dj. Golic, Guglielmo Morgari]</td>\n",
              "      <td>00638a94-23bf-4fa6-b5ce-40d799c65da7</td>\n",
              "      <td>2</td>\n",
              "      <td>NaN</td>\n",
              "      <td>Vectorial fast correlation attacks.</td>\n",
              "      <td>0</td>\n",
              "      <td>2004</td>\n",
              "      <td>35</td>\n",
              "      <td>2</td>\n",
              "      <td>0.0</td>\n",
              "      <td>0.042*\"imag\"</td>\n",
              "    </tr>\n",
              "    <tr>\n",
              "      <th>2</th>\n",
              "      <td>Recently, Bridges and Reich introduced the con...</td>\n",
              "      <td>[Alvaro L. Islas, Constance M. Schober]</td>\n",
              "      <td>00bcf2d5-1592-46b0-81fd-933f90b5ecca</td>\n",
              "      <td>50</td>\n",
              "      <td>[]</td>\n",
              "      <td>Multisymplectic Spectral Methods for the Gross...</td>\n",
              "      <td>2633</td>\n",
              "      <td>2002</td>\n",
              "      <td>50</td>\n",
              "      <td>2</td>\n",
              "      <td>0.0</td>\n",
              "      <td>0.052*\"algorithm\"</td>\n",
              "    </tr>\n",
              "    <tr>\n",
              "      <th>3</th>\n",
              "      <td>Most applications of the abstract interpretati...</td>\n",
              "      <td>[Patrick Cousot, Radhia Cousot]</td>\n",
              "      <td>00c85316-bddf-4bcb-93f5-097adadd73c2</td>\n",
              "      <td>50</td>\n",
              "      <td>[6e8a3ec3-9a99-4fac-ac4d-f8d1bf0fa208, 7bb71af...</td>\n",
              "      <td>Relational Abstract Interpretation of Higher O...</td>\n",
              "      <td>0</td>\n",
              "      <td>1991</td>\n",
              "      <td>12</td>\n",
              "      <td>2</td>\n",
              "      <td>5.0</td>\n",
              "      <td>0.033*\"program\"</td>\n",
              "    </tr>\n",
              "    <tr>\n",
              "      <th>4</th>\n",
              "      <td>NaN</td>\n",
              "      <td>[Abdullah Alsubaie, Antonio Di Pietro, Jose R....</td>\n",
              "      <td>00e3940b-201b-40ba-bd20-dbdaf26ad324</td>\n",
              "      <td>6</td>\n",
              "      <td>[0293844d-7244-4562-a6ca-d84bcd9c10a5, 14cd3cf...</td>\n",
              "      <td>A Platform for Disaster Response Planning with...</td>\n",
              "      <td>0</td>\n",
              "      <td>2013</td>\n",
              "      <td>7</td>\n",
              "      <td>7</td>\n",
              "      <td>6.0</td>\n",
              "      <td>0.040*\"system\"</td>\n",
              "    </tr>\n",
              "  </tbody>\n",
              "</table>\n",
              "</div>"
            ],
            "text/plain": [
              "                                            abstract  \\\n",
              "0  This article applied GARCH model instead AR or...   \n",
              "1                                                NaN   \n",
              "2  Recently, Bridges and Reich introduced the con...   \n",
              "3  Most applications of the abstract interpretati...   \n",
              "4                                                NaN   \n",
              "\n",
              "                                             authors  \\\n",
              "0  [Altaf Hossain, Faisal Zaman, Mohammed Nasser,...   \n",
              "1               [Jovan Dj. Golic, Guglielmo Morgari]   \n",
              "2            [Alvaro L. Islas, Constance M. Schober]   \n",
              "3                    [Patrick Cousot, Radhia Cousot]   \n",
              "4  [Abdullah Alsubaie, Antonio Di Pietro, Jose R....   \n",
              "\n",
              "                                     id  n_citation  \\\n",
              "0  001c8744-73c4-4b04-9364-22d31a10dbf1          50   \n",
              "1  00638a94-23bf-4fa6-b5ce-40d799c65da7           2   \n",
              "2  00bcf2d5-1592-46b0-81fd-933f90b5ecca          50   \n",
              "3  00c85316-bddf-4bcb-93f5-097adadd73c2          50   \n",
              "4  00e3940b-201b-40ba-bd20-dbdaf26ad324           6   \n",
              "\n",
              "                                          references  \\\n",
              "0  [2d84c0f2-e656-4ce7-b018-90eda1c132fe, a083a1b...   \n",
              "1                                                NaN   \n",
              "2                                                 []   \n",
              "3  [6e8a3ec3-9a99-4fac-ac4d-f8d1bf0fa208, 7bb71af...   \n",
              "4  [0293844d-7244-4562-a6ca-d84bcd9c10a5, 14cd3cf...   \n",
              "\n",
              "                                               title  venue  year  importance  \\\n",
              "0  Comparison of GARCH, Neural Network and Suppor...   3086  2009           0   \n",
              "1                Vectorial fast correlation attacks.      0  2004          35   \n",
              "2  Multisymplectic Spectral Methods for the Gross...   2633  2002          50   \n",
              "3  Relational Abstract Interpretation of Higher O...      0  1991          12   \n",
              "4  A Platform for Disaster Response Planning with...      0  2013           7   \n",
              "\n",
              "   author_count  references_count              Topic  \n",
              "0             4               2.0    0.032*\"perform\"  \n",
              "1             2               0.0       0.042*\"imag\"  \n",
              "2             2               0.0  0.052*\"algorithm\"  \n",
              "3             2               5.0    0.033*\"program\"  \n",
              "4             7               6.0     0.040*\"system\"  "
            ]
          },
          "metadata": {
            "tags": []
          },
          "execution_count": 74
        }
      ]
    },
    {
      "metadata": {
        "id": "UacBccJ20V4U",
        "colab_type": "code",
        "outputId": "cc34a6c3-9325-450e-c117-e351c5ddfa5a",
        "colab": {
          "base_uri": "https://localhost:8080/",
          "height": 306
        }
      },
      "cell_type": "code",
      "source": [
        "df.info()"
      ],
      "execution_count": 0,
      "outputs": [
        {
          "output_type": "stream",
          "text": [
            "<class 'pandas.core.frame.DataFrame'>\n",
            "Int64Index: 437643 entries, 0 to 437642\n",
            "Data columns (total 12 columns):\n",
            "abstract            352014 non-null object\n",
            "authors             437643 non-null object\n",
            "id                  437643 non-null object\n",
            "n_citation          437643 non-null int64\n",
            "references          401001 non-null object\n",
            "title               437643 non-null object\n",
            "venue               437643 non-null int64\n",
            "year                437643 non-null int64\n",
            "importance          437643 non-null int64\n",
            "author_count        437643 non-null int64\n",
            "references_count    437643 non-null float64\n",
            "Topic               437643 non-null object\n",
            "dtypes: float64(1), int64(5), object(6)\n",
            "memory usage: 63.4+ MB\n"
          ],
          "name": "stdout"
        }
      ]
    },
    {
      "metadata": {
        "id": "hE5zT06Q0eir",
        "colab_type": "code",
        "outputId": "8dee13c5-2b78-419c-a79e-391198085bdf",
        "colab": {
          "base_uri": "https://localhost:8080/",
          "height": 34
        }
      },
      "cell_type": "code",
      "source": [
        "for col in df.select_dtypes(include=[np.object]):\n",
        "    if col not in ['references','title','abstract','authors','id']:\n",
        "        print(col)\n",
        "        lbl = preprocessing.LabelEncoder()\n",
        "        lbl.fit(list(df[col].values.astype('str')))\n",
        "        df[col] = lbl.transform(list(df[col].values.astype('str')))\n",
        "#       test_df[col] = lbl.transform(list(test_df[col].values.astype('str')))"
      ],
      "execution_count": 0,
      "outputs": [
        {
          "output_type": "stream",
          "text": [
            "Topic\n"
          ],
          "name": "stdout"
        }
      ]
    },
    {
      "metadata": {
        "id": "UR6pk1hf0-Zv",
        "colab_type": "code",
        "outputId": "d8e0f2c4-1b14-49f8-dbf1-91d60a3ae2d5",
        "colab": {
          "base_uri": "https://localhost:8080/",
          "height": 869
        }
      },
      "cell_type": "code",
      "source": [
        "df.head(10)"
      ],
      "execution_count": 0,
      "outputs": [
        {
          "output_type": "execute_result",
          "data": {
            "text/html": [
              "<div>\n",
              "<style scoped>\n",
              "    .dataframe tbody tr th:only-of-type {\n",
              "        vertical-align: middle;\n",
              "    }\n",
              "\n",
              "    .dataframe tbody tr th {\n",
              "        vertical-align: top;\n",
              "    }\n",
              "\n",
              "    .dataframe thead th {\n",
              "        text-align: right;\n",
              "    }\n",
              "</style>\n",
              "<table border=\"1\" class=\"dataframe\">\n",
              "  <thead>\n",
              "    <tr style=\"text-align: right;\">\n",
              "      <th></th>\n",
              "      <th>abstract</th>\n",
              "      <th>authors</th>\n",
              "      <th>id</th>\n",
              "      <th>n_citation</th>\n",
              "      <th>references</th>\n",
              "      <th>title</th>\n",
              "      <th>venue</th>\n",
              "      <th>year</th>\n",
              "      <th>importance</th>\n",
              "      <th>author_count</th>\n",
              "      <th>references_count</th>\n",
              "      <th>Topic</th>\n",
              "    </tr>\n",
              "  </thead>\n",
              "  <tbody>\n",
              "    <tr>\n",
              "      <th>0</th>\n",
              "      <td>This article applied GARCH model instead AR or...</td>\n",
              "      <td>[Altaf Hossain, Faisal Zaman, Mohammed Nasser,...</td>\n",
              "      <td>001c8744-73c4-4b04-9364-22d31a10dbf1</td>\n",
              "      <td>50</td>\n",
              "      <td>[2d84c0f2-e656-4ce7-b018-90eda1c132fe, a083a1b...</td>\n",
              "      <td>Comparison of GARCH, Neural Network and Suppor...</td>\n",
              "      <td>3086</td>\n",
              "      <td>2009</td>\n",
              "      <td>0</td>\n",
              "      <td>4</td>\n",
              "      <td>2.0</td>\n",
              "      <td>1</td>\n",
              "    </tr>\n",
              "    <tr>\n",
              "      <th>1</th>\n",
              "      <td>NaN</td>\n",
              "      <td>[Jovan Dj. Golic, Guglielmo Morgari]</td>\n",
              "      <td>00638a94-23bf-4fa6-b5ce-40d799c65da7</td>\n",
              "      <td>2</td>\n",
              "      <td>NaN</td>\n",
              "      <td>Vectorial fast correlation attacks.</td>\n",
              "      <td>0</td>\n",
              "      <td>2004</td>\n",
              "      <td>35</td>\n",
              "      <td>2</td>\n",
              "      <td>0.0</td>\n",
              "      <td>5</td>\n",
              "    </tr>\n",
              "    <tr>\n",
              "      <th>2</th>\n",
              "      <td>Recently, Bridges and Reich introduced the con...</td>\n",
              "      <td>[Alvaro L. Islas, Constance M. Schober]</td>\n",
              "      <td>00bcf2d5-1592-46b0-81fd-933f90b5ecca</td>\n",
              "      <td>50</td>\n",
              "      <td>[]</td>\n",
              "      <td>Multisymplectic Spectral Methods for the Gross...</td>\n",
              "      <td>2633</td>\n",
              "      <td>2002</td>\n",
              "      <td>50</td>\n",
              "      <td>2</td>\n",
              "      <td>0.0</td>\n",
              "      <td>8</td>\n",
              "    </tr>\n",
              "    <tr>\n",
              "      <th>3</th>\n",
              "      <td>Most applications of the abstract interpretati...</td>\n",
              "      <td>[Patrick Cousot, Radhia Cousot]</td>\n",
              "      <td>00c85316-bddf-4bcb-93f5-097adadd73c2</td>\n",
              "      <td>50</td>\n",
              "      <td>[6e8a3ec3-9a99-4fac-ac4d-f8d1bf0fa208, 7bb71af...</td>\n",
              "      <td>Relational Abstract Interpretation of Higher O...</td>\n",
              "      <td>0</td>\n",
              "      <td>1991</td>\n",
              "      <td>12</td>\n",
              "      <td>2</td>\n",
              "      <td>5.0</td>\n",
              "      <td>2</td>\n",
              "    </tr>\n",
              "    <tr>\n",
              "      <th>4</th>\n",
              "      <td>NaN</td>\n",
              "      <td>[Abdullah Alsubaie, Antonio Di Pietro, Jose R....</td>\n",
              "      <td>00e3940b-201b-40ba-bd20-dbdaf26ad324</td>\n",
              "      <td>6</td>\n",
              "      <td>[0293844d-7244-4562-a6ca-d84bcd9c10a5, 14cd3cf...</td>\n",
              "      <td>A Platform for Disaster Response Planning with...</td>\n",
              "      <td>0</td>\n",
              "      <td>2013</td>\n",
              "      <td>7</td>\n",
              "      <td>7</td>\n",
              "      <td>6.0</td>\n",
              "      <td>4</td>\n",
              "    </tr>\n",
              "    <tr>\n",
              "      <th>5</th>\n",
              "      <td>NaN</td>\n",
              "      <td>[Tien Ho-Phuoc, Anne Guérin-Dugué, Nathalie Gu...</td>\n",
              "      <td>00fd4f6f-c7a1-49a2-a029-d583d1d7a8b1</td>\n",
              "      <td>3</td>\n",
              "      <td>NaN</td>\n",
              "      <td>A COMPUTATIONAL SALIENCY MODEL INTEGRATING SAC...</td>\n",
              "      <td>2600</td>\n",
              "      <td>2009</td>\n",
              "      <td>16</td>\n",
              "      <td>3</td>\n",
              "      <td>0.0</td>\n",
              "      <td>2</td>\n",
              "    </tr>\n",
              "    <tr>\n",
              "      <th>6</th>\n",
              "      <td>NaN</td>\n",
              "      <td>[Marco Baroni, Francis Chantree, Adam Kilgarri...</td>\n",
              "      <td>01082175-d4e3-456a-9557-668b2449be05</td>\n",
              "      <td>101</td>\n",
              "      <td>NaN</td>\n",
              "      <td>Cleaneval: a Competition for Cleaning Web Pages.</td>\n",
              "      <td>2929</td>\n",
              "      <td>2008</td>\n",
              "      <td>74</td>\n",
              "      <td>4</td>\n",
              "      <td>0.0</td>\n",
              "      <td>3</td>\n",
              "    </tr>\n",
              "    <tr>\n",
              "      <th>7</th>\n",
              "      <td>Xax is a browser plugin model that enables dev...</td>\n",
              "      <td>[John R. Douceur, Jeremy Elson, Jon Howell, Ja...</td>\n",
              "      <td>010d4ce9-0279-4166-ae73-14551ded6404</td>\n",
              "      <td>50</td>\n",
              "      <td>[0abc9de7-e047-44fc-998d-4bf02b9bc9ab, 2c9ebc3...</td>\n",
              "      <td>Leveraging legacy code to deploy desktop appli...</td>\n",
              "      <td>3052</td>\n",
              "      <td>2008</td>\n",
              "      <td>1311</td>\n",
              "      <td>4</td>\n",
              "      <td>25.0</td>\n",
              "      <td>9</td>\n",
              "    </tr>\n",
              "    <tr>\n",
              "      <th>8</th>\n",
              "      <td>Previous language modeling approaches to infor...</td>\n",
              "      <td>[Carmen Fernández-Daza Álvarez, Philippe Langl...</td>\n",
              "      <td>012b88ae-a763-45d6-8f19-2ec9ff739d5f</td>\n",
              "      <td>50</td>\n",
              "      <td>[00515e82-3da6-497a-83d3-459e93247123, 0cd820e...</td>\n",
              "      <td>Word pairs in language modeling for informatio...</td>\n",
              "      <td>0</td>\n",
              "      <td>2004</td>\n",
              "      <td>154</td>\n",
              "      <td>3</td>\n",
              "      <td>13.0</td>\n",
              "      <td>5</td>\n",
              "    </tr>\n",
              "    <tr>\n",
              "      <th>9</th>\n",
              "      <td>NaN</td>\n",
              "      <td>[Prudence W. H. Wong, Fencol C. C. Yung, Mihai...</td>\n",
              "      <td>01546472-0ac9-47fa-acca-ffcb7fc99097</td>\n",
              "      <td>6</td>\n",
              "      <td>[08784bb3-09b9-4bd2-a191-2606f3b3a8b8, 16bf10e...</td>\n",
              "      <td>An 8/3 Lower Bound for Online Dynamic Bin Packing</td>\n",
              "      <td>2835</td>\n",
              "      <td>2012</td>\n",
              "      <td>11</td>\n",
              "      <td>3</td>\n",
              "      <td>11.0</td>\n",
              "      <td>8</td>\n",
              "    </tr>\n",
              "  </tbody>\n",
              "</table>\n",
              "</div>"
            ],
            "text/plain": [
              "                                            abstract  \\\n",
              "0  This article applied GARCH model instead AR or...   \n",
              "1                                                NaN   \n",
              "2  Recently, Bridges and Reich introduced the con...   \n",
              "3  Most applications of the abstract interpretati...   \n",
              "4                                                NaN   \n",
              "5                                                NaN   \n",
              "6                                                NaN   \n",
              "7  Xax is a browser plugin model that enables dev...   \n",
              "8  Previous language modeling approaches to infor...   \n",
              "9                                                NaN   \n",
              "\n",
              "                                             authors  \\\n",
              "0  [Altaf Hossain, Faisal Zaman, Mohammed Nasser,...   \n",
              "1               [Jovan Dj. Golic, Guglielmo Morgari]   \n",
              "2            [Alvaro L. Islas, Constance M. Schober]   \n",
              "3                    [Patrick Cousot, Radhia Cousot]   \n",
              "4  [Abdullah Alsubaie, Antonio Di Pietro, Jose R....   \n",
              "5  [Tien Ho-Phuoc, Anne Guérin-Dugué, Nathalie Gu...   \n",
              "6  [Marco Baroni, Francis Chantree, Adam Kilgarri...   \n",
              "7  [John R. Douceur, Jeremy Elson, Jon Howell, Ja...   \n",
              "8  [Carmen Fernández-Daza Álvarez, Philippe Langl...   \n",
              "9  [Prudence W. H. Wong, Fencol C. C. Yung, Mihai...   \n",
              "\n",
              "                                     id  n_citation  \\\n",
              "0  001c8744-73c4-4b04-9364-22d31a10dbf1          50   \n",
              "1  00638a94-23bf-4fa6-b5ce-40d799c65da7           2   \n",
              "2  00bcf2d5-1592-46b0-81fd-933f90b5ecca          50   \n",
              "3  00c85316-bddf-4bcb-93f5-097adadd73c2          50   \n",
              "4  00e3940b-201b-40ba-bd20-dbdaf26ad324           6   \n",
              "5  00fd4f6f-c7a1-49a2-a029-d583d1d7a8b1           3   \n",
              "6  01082175-d4e3-456a-9557-668b2449be05         101   \n",
              "7  010d4ce9-0279-4166-ae73-14551ded6404          50   \n",
              "8  012b88ae-a763-45d6-8f19-2ec9ff739d5f          50   \n",
              "9  01546472-0ac9-47fa-acca-ffcb7fc99097           6   \n",
              "\n",
              "                                          references  \\\n",
              "0  [2d84c0f2-e656-4ce7-b018-90eda1c132fe, a083a1b...   \n",
              "1                                                NaN   \n",
              "2                                                 []   \n",
              "3  [6e8a3ec3-9a99-4fac-ac4d-f8d1bf0fa208, 7bb71af...   \n",
              "4  [0293844d-7244-4562-a6ca-d84bcd9c10a5, 14cd3cf...   \n",
              "5                                                NaN   \n",
              "6                                                NaN   \n",
              "7  [0abc9de7-e047-44fc-998d-4bf02b9bc9ab, 2c9ebc3...   \n",
              "8  [00515e82-3da6-497a-83d3-459e93247123, 0cd820e...   \n",
              "9  [08784bb3-09b9-4bd2-a191-2606f3b3a8b8, 16bf10e...   \n",
              "\n",
              "                                               title  venue  year  importance  \\\n",
              "0  Comparison of GARCH, Neural Network and Suppor...   3086  2009           0   \n",
              "1                Vectorial fast correlation attacks.      0  2004          35   \n",
              "2  Multisymplectic Spectral Methods for the Gross...   2633  2002          50   \n",
              "3  Relational Abstract Interpretation of Higher O...      0  1991          12   \n",
              "4  A Platform for Disaster Response Planning with...      0  2013           7   \n",
              "5  A COMPUTATIONAL SALIENCY MODEL INTEGRATING SAC...   2600  2009          16   \n",
              "6   Cleaneval: a Competition for Cleaning Web Pages.   2929  2008          74   \n",
              "7  Leveraging legacy code to deploy desktop appli...   3052  2008        1311   \n",
              "8  Word pairs in language modeling for informatio...      0  2004         154   \n",
              "9  An 8/3 Lower Bound for Online Dynamic Bin Packing   2835  2012          11   \n",
              "\n",
              "   author_count  references_count  Topic  \n",
              "0             4               2.0      1  \n",
              "1             2               0.0      5  \n",
              "2             2               0.0      8  \n",
              "3             2               5.0      2  \n",
              "4             7               6.0      4  \n",
              "5             3               0.0      2  \n",
              "6             4               0.0      3  \n",
              "7             4              25.0      9  \n",
              "8             3              13.0      5  \n",
              "9             3              11.0      8  "
            ]
          },
          "metadata": {
            "tags": []
          },
          "execution_count": 83
        }
      ]
    },
    {
      "metadata": {
        "id": "ZHpuiHg81gF5",
        "colab_type": "code",
        "colab": {}
      },
      "cell_type": "code",
      "source": [
        "df.to_pickle('/content/drive/My Drive/pickle_topic')"
      ],
      "execution_count": 0,
      "outputs": []
    },
    {
      "metadata": {
        "id": "3eoLnmm22_uo",
        "colab_type": "code",
        "colab": {}
      },
      "cell_type": "code",
      "source": [
        "df=pd.read_pickle('/content/drive/My Drive/pickle_topic')"
      ],
      "execution_count": 0,
      "outputs": []
    },
    {
      "metadata": {
        "id": "MEp-2JuFXvWL",
        "colab_type": "code",
        "outputId": "74124b5b-d433-4985-d925-02a09d2b6f13",
        "colab": {
          "base_uri": "https://localhost:8080/",
          "height": 34
        }
      },
      "cell_type": "code",
      "source": [
        "df['Topic'].unique()"
      ],
      "execution_count": 0,
      "outputs": [
        {
          "output_type": "execute_result",
          "data": {
            "text/plain": [
              "array([1, 5, 8, 2, 4, 3, 9, 7, 6, 0])"
            ]
          },
          "metadata": {
            "tags": []
          },
          "execution_count": 9
        }
      ]
    },
    {
      "metadata": {
        "id": "TBQzS19Qlwod",
        "colab_type": "text"
      },
      "cell_type": "markdown",
      "source": [
        "TRYING OUT SCHOLARLY (NOT USED FINALLY)"
      ]
    },
    {
      "metadata": {
        "id": "xr2g55om6X_g",
        "colab_type": "code",
        "outputId": "42fe38b1-c54b-48e2-fa98-16c572dc6340",
        "colab": {
          "base_uri": "https://localhost:8080/",
          "height": 343
        }
      },
      "cell_type": "code",
      "source": [
        "!pip install scholarly"
      ],
      "execution_count": 0,
      "outputs": [
        {
          "output_type": "stream",
          "text": [
            "Requirement already satisfied: scholarly in /usr/local/lib/python3.6/dist-packages (0.2)\n",
            "Requirement already satisfied: requests[security] in /usr/local/lib/python3.6/dist-packages (from scholarly) (2.18.4)\n",
            "Requirement already satisfied: arrow in /usr/local/lib/python3.6/dist-packages (from scholarly) (0.12.1)\n",
            "Requirement already satisfied: beautifulsoup4 in /usr/local/lib/python3.6/dist-packages (from scholarly) (4.6.3)\n",
            "Requirement already satisfied: bibtexparser in /usr/local/lib/python3.6/dist-packages (from scholarly) (1.0.1)\n",
            "Requirement already satisfied: urllib3<1.23,>=1.21.1 in /usr/local/lib/python3.6/dist-packages (from requests[security]->scholarly) (1.22)\n",
            "Requirement already satisfied: idna<2.7,>=2.5 in /usr/local/lib/python3.6/dist-packages (from requests[security]->scholarly) (2.6)\n",
            "Requirement already satisfied: certifi>=2017.4.17 in /usr/local/lib/python3.6/dist-packages (from requests[security]->scholarly) (2018.10.15)\n",
            "Requirement already satisfied: chardet<3.1.0,>=3.0.2 in /usr/local/lib/python3.6/dist-packages (from requests[security]->scholarly) (3.0.4)\n",
            "Requirement already satisfied: pyOpenSSL>=0.14; extra == \"security\" in /usr/local/lib/python3.6/dist-packages (from requests[security]->scholarly) (18.0.0)\n",
            "Requirement already satisfied: cryptography>=1.3.4; extra == \"security\" in /usr/local/lib/python3.6/dist-packages (from requests[security]->scholarly) (2.4.1)\n",
            "Requirement already satisfied: python-dateutil in /usr/local/lib/python3.6/dist-packages (from arrow->scholarly) (2.5.3)\n",
            "Requirement already satisfied: future in /usr/local/lib/python3.6/dist-packages (from bibtexparser->scholarly) (0.16.0)\n",
            "Requirement already satisfied: pyparsing in /usr/local/lib/python3.6/dist-packages (from bibtexparser->scholarly) (2.3.0)\n",
            "Requirement already satisfied: six>=1.5.2 in /usr/local/lib/python3.6/dist-packages (from pyOpenSSL>=0.14; extra == \"security\"->requests[security]->scholarly) (1.11.0)\n",
            "Requirement already satisfied: asn1crypto>=0.21.0 in /usr/local/lib/python3.6/dist-packages (from cryptography>=1.3.4; extra == \"security\"->requests[security]->scholarly) (0.24.0)\n",
            "Requirement already satisfied: cffi!=1.11.3,>=1.7 in /usr/local/lib/python3.6/dist-packages (from cryptography>=1.3.4; extra == \"security\"->requests[security]->scholarly) (1.11.5)\n",
            "Requirement already satisfied: pycparser in /usr/local/lib/python3.6/dist-packages (from cffi!=1.11.3,>=1.7->cryptography>=1.3.4; extra == \"security\"->requests[security]->scholarly) (2.19)\n"
          ],
          "name": "stdout"
        }
      ]
    },
    {
      "metadata": {
        "id": "tPe9JtLZYC8H",
        "colab_type": "code",
        "outputId": "329ca09e-d50d-4ecc-f944-937a60a83c49",
        "colab": {
          "base_uri": "https://localhost:8080/",
          "height": 436
        }
      },
      "cell_type": "code",
      "source": [
        "import scholarly\n",
        "\n",
        "print(next(scholarly.search_author('Steven A. Cholewiak')))"
      ],
      "execution_count": 0,
      "outputs": [
        {
          "output_type": "error",
          "ename": "AttributeError",
          "evalue": "ignored",
          "traceback": [
            "\u001b[0;31m---------------------------------------------------------------------------\u001b[0m",
            "\u001b[0;31mAttributeError\u001b[0m                            Traceback (most recent call last)",
            "\u001b[0;32m<ipython-input-16-d4d581500da7>\u001b[0m in \u001b[0;36m<module>\u001b[0;34m()\u001b[0m\n\u001b[1;32m      1\u001b[0m \u001b[0;32mimport\u001b[0m \u001b[0mscholarly\u001b[0m\u001b[0;34m\u001b[0m\u001b[0m\n\u001b[1;32m      2\u001b[0m \u001b[0;34m\u001b[0m\u001b[0m\n\u001b[0;32m----> 3\u001b[0;31m \u001b[0mprint\u001b[0m\u001b[0;34m(\u001b[0m\u001b[0mnext\u001b[0m\u001b[0;34m(\u001b[0m\u001b[0mscholarly\u001b[0m\u001b[0;34m.\u001b[0m\u001b[0msearch_author\u001b[0m\u001b[0;34m(\u001b[0m\u001b[0;34m'Steven'\u001b[0m\u001b[0;34m)\u001b[0m\u001b[0;34m)\u001b[0m\u001b[0;34m)\u001b[0m\u001b[0;34m\u001b[0m\u001b[0m\n\u001b[0m",
            "\u001b[0;32m/usr/local/lib/python3.6/dist-packages/scholarly.py\u001b[0m in \u001b[0;36m_search_citation_soup\u001b[0;34m(soup)\u001b[0m\n\u001b[1;32m     97\u001b[0m     \u001b[0;32mwhile\u001b[0m \u001b[0;32mTrue\u001b[0m\u001b[0;34m:\u001b[0m\u001b[0;34m\u001b[0m\u001b[0m\n\u001b[1;32m     98\u001b[0m         \u001b[0;32mfor\u001b[0m \u001b[0mtablerow\u001b[0m \u001b[0;32min\u001b[0m \u001b[0msoup\u001b[0m\u001b[0;34m.\u001b[0m\u001b[0mfindAll\u001b[0m\u001b[0;34m(\u001b[0m\u001b[0;34m'div'\u001b[0m\u001b[0;34m,\u001b[0m \u001b[0;34m'gsc_1usr'\u001b[0m\u001b[0;34m)\u001b[0m\u001b[0;34m:\u001b[0m\u001b[0;34m\u001b[0m\u001b[0m\n\u001b[0;32m---> 99\u001b[0;31m             \u001b[0;32myield\u001b[0m \u001b[0mAuthor\u001b[0m\u001b[0;34m(\u001b[0m\u001b[0mtablerow\u001b[0m\u001b[0;34m)\u001b[0m\u001b[0;34m\u001b[0m\u001b[0m\n\u001b[0m\u001b[1;32m    100\u001b[0m         \u001b[0mnextbutton\u001b[0m \u001b[0;34m=\u001b[0m \u001b[0msoup\u001b[0m\u001b[0;34m.\u001b[0m\u001b[0mfind\u001b[0m\u001b[0;34m(\u001b[0m\u001b[0mclass_\u001b[0m\u001b[0;34m=\u001b[0m\u001b[0;34m'gs_btnPR gs_in_ib gs_btn_half gs_btn_srt'\u001b[0m\u001b[0;34m)\u001b[0m\u001b[0;34m\u001b[0m\u001b[0m\n\u001b[1;32m    101\u001b[0m         \u001b[0;32mif\u001b[0m \u001b[0mnextbutton\u001b[0m \u001b[0;32mand\u001b[0m \u001b[0;34m'disabled'\u001b[0m \u001b[0;32mnot\u001b[0m \u001b[0;32min\u001b[0m \u001b[0mnextbutton\u001b[0m\u001b[0;34m.\u001b[0m\u001b[0mattrs\u001b[0m\u001b[0;34m:\u001b[0m\u001b[0;34m\u001b[0m\u001b[0m\n",
            "\u001b[0;32m/usr/local/lib/python3.6/dist-packages/scholarly.py\u001b[0m in \u001b[0;36m__init__\u001b[0;34m(self, _Author__data)\u001b[0m\n\u001b[1;32m    207\u001b[0m             \u001b[0mself\u001b[0m\u001b[0;34m.\u001b[0m\u001b[0murl_citations\u001b[0m \u001b[0;34m=\u001b[0m \u001b[0m_CITATIONAUTH\u001b[0m\u001b[0;34m.\u001b[0m\u001b[0mformat\u001b[0m\u001b[0;34m(\u001b[0m\u001b[0mself\u001b[0m\u001b[0;34m.\u001b[0m\u001b[0mid\u001b[0m\u001b[0;34m)\u001b[0m\u001b[0;34m\u001b[0m\u001b[0m\n\u001b[1;32m    208\u001b[0m             \u001b[0mself\u001b[0m\u001b[0;34m.\u001b[0m\u001b[0murl_picture\u001b[0m \u001b[0;34m=\u001b[0m \u001b[0m__data\u001b[0m\u001b[0;34m(\u001b[0m\u001b[0;34m'img'\u001b[0m\u001b[0;34m)\u001b[0m\u001b[0;34m[\u001b[0m\u001b[0;36m0\u001b[0m\u001b[0;34m]\u001b[0m\u001b[0;34m[\u001b[0m\u001b[0;34m'src'\u001b[0m\u001b[0;34m]\u001b[0m\u001b[0;34m\u001b[0m\u001b[0m\n\u001b[0;32m--> 209\u001b[0;31m             \u001b[0mself\u001b[0m\u001b[0;34m.\u001b[0m\u001b[0mname\u001b[0m \u001b[0;34m=\u001b[0m \u001b[0m__data\u001b[0m\u001b[0;34m.\u001b[0m\u001b[0mfind\u001b[0m\u001b[0;34m(\u001b[0m\u001b[0;34m'h3'\u001b[0m\u001b[0;34m,\u001b[0m \u001b[0mclass_\u001b[0m\u001b[0;34m=\u001b[0m\u001b[0;34m'gsc_1usr_name'\u001b[0m\u001b[0;34m)\u001b[0m\u001b[0;34m.\u001b[0m\u001b[0mtext\u001b[0m\u001b[0;34m\u001b[0m\u001b[0m\n\u001b[0m\u001b[1;32m    210\u001b[0m             \u001b[0maffiliation\u001b[0m \u001b[0;34m=\u001b[0m \u001b[0m__data\u001b[0m\u001b[0;34m.\u001b[0m\u001b[0mfind\u001b[0m\u001b[0;34m(\u001b[0m\u001b[0;34m'div'\u001b[0m\u001b[0;34m,\u001b[0m \u001b[0mclass_\u001b[0m\u001b[0;34m=\u001b[0m\u001b[0;34m'gsc_1usr_aff'\u001b[0m\u001b[0;34m)\u001b[0m\u001b[0;34m\u001b[0m\u001b[0m\n\u001b[1;32m    211\u001b[0m             \u001b[0;32mif\u001b[0m \u001b[0maffiliation\u001b[0m\u001b[0;34m:\u001b[0m\u001b[0;34m\u001b[0m\u001b[0m\n",
            "\u001b[0;31mAttributeError\u001b[0m: 'NoneType' object has no attribute 'text'"
          ]
        }
      ]
    },
    {
      "metadata": {
        "id": "5Da_8qvfl8NW",
        "colab_type": "text"
      },
      "cell_type": "markdown",
      "source": [
        "# CITATION SENTIMENT ANALYSIS"
      ]
    },
    {
      "metadata": {
        "id": "zxigaktJ6GrB",
        "colab_type": "code",
        "outputId": "2b6b6636-4596-44fd-dd5d-386bea4ea7e3",
        "colab": {
          "base_uri": "https://localhost:8080/",
          "height": 156
        }
      },
      "cell_type": "code",
      "source": [
        "!pip install textblob"
      ],
      "execution_count": 0,
      "outputs": [
        {
          "output_type": "stream",
          "text": [
            "Collecting textblob\n",
            "\u001b[?25l  Downloading https://files.pythonhosted.org/packages/7c/7d/ad09a26b63d4ad3f9395840c72c95f2fc9fa2b192094ef14e9e720be56f9/textblob-0.15.2-py2.py3-none-any.whl (636kB)\n",
            "\u001b[K    100% |████████████████████████████████| 645kB 6.3MB/s \n",
            "\u001b[?25hRequirement already satisfied: nltk>=3.1 in /usr/local/lib/python3.6/dist-packages (from textblob) (3.2.5)\n",
            "Requirement already satisfied: six in /usr/local/lib/python3.6/dist-packages (from nltk>=3.1->textblob) (1.11.0)\n",
            "Installing collected packages: textblob\n",
            "Successfully installed textblob-0.15.2\n"
          ],
          "name": "stdout"
        }
      ]
    },
    {
      "metadata": {
        "id": "Bl3O21SPXc9p",
        "colab_type": "code",
        "outputId": "cab28d14-a694-49d6-e9a7-d4bb01cb4eca",
        "colab": {
          "base_uri": "https://localhost:8080/",
          "height": 564
        }
      },
      "cell_type": "code",
      "source": [
        "df.head()"
      ],
      "execution_count": 0,
      "outputs": [
        {
          "output_type": "execute_result",
          "data": {
            "text/html": [
              "<div>\n",
              "<style scoped>\n",
              "    .dataframe tbody tr th:only-of-type {\n",
              "        vertical-align: middle;\n",
              "    }\n",
              "\n",
              "    .dataframe tbody tr th {\n",
              "        vertical-align: top;\n",
              "    }\n",
              "\n",
              "    .dataframe thead th {\n",
              "        text-align: right;\n",
              "    }\n",
              "</style>\n",
              "<table border=\"1\" class=\"dataframe\">\n",
              "  <thead>\n",
              "    <tr style=\"text-align: right;\">\n",
              "      <th></th>\n",
              "      <th>abstract</th>\n",
              "      <th>authors</th>\n",
              "      <th>id</th>\n",
              "      <th>n_citation</th>\n",
              "      <th>references</th>\n",
              "      <th>title</th>\n",
              "      <th>venue</th>\n",
              "      <th>year</th>\n",
              "      <th>importance</th>\n",
              "      <th>author_count</th>\n",
              "      <th>references_count</th>\n",
              "      <th>Topic</th>\n",
              "      <th>pageRankValue</th>\n",
              "      <th>totalOutbounds</th>\n",
              "      <th>ratio</th>\n",
              "    </tr>\n",
              "  </thead>\n",
              "  <tbody>\n",
              "    <tr>\n",
              "      <th>0</th>\n",
              "      <td>This article applied GARCH model instead AR or...</td>\n",
              "      <td>[Altaf Hossain, Faisal Zaman, Mohammed Nasser,...</td>\n",
              "      <td>001c8744-73c4-4b04-9364-22d31a10dbf1</td>\n",
              "      <td>50</td>\n",
              "      <td>[2d84c0f2-e656-4ce7-b018-90eda1c132fe, a083a1b...</td>\n",
              "      <td>Comparison of GARCH, Neural Network and Suppor...</td>\n",
              "      <td>3086</td>\n",
              "      <td>2009</td>\n",
              "      <td>0</td>\n",
              "      <td>4</td>\n",
              "      <td>2.0</td>\n",
              "      <td>1</td>\n",
              "      <td>NaN</td>\n",
              "      <td>2.0</td>\n",
              "      <td>NaN</td>\n",
              "    </tr>\n",
              "    <tr>\n",
              "      <th>1</th>\n",
              "      <td>NaN</td>\n",
              "      <td>[Jovan Dj. Golic, Guglielmo Morgari]</td>\n",
              "      <td>00638a94-23bf-4fa6-b5ce-40d799c65da7</td>\n",
              "      <td>2</td>\n",
              "      <td>[self]</td>\n",
              "      <td>Vectorial fast correlation attacks.</td>\n",
              "      <td>0</td>\n",
              "      <td>2004</td>\n",
              "      <td>35</td>\n",
              "      <td>2</td>\n",
              "      <td>0.0</td>\n",
              "      <td>5</td>\n",
              "      <td>20.486111</td>\n",
              "      <td>NaN</td>\n",
              "      <td>NaN</td>\n",
              "    </tr>\n",
              "    <tr>\n",
              "      <th>2</th>\n",
              "      <td>Recently, Bridges and Reich introduced the con...</td>\n",
              "      <td>[Alvaro L. Islas, Constance M. Schober]</td>\n",
              "      <td>00bcf2d5-1592-46b0-81fd-933f90b5ecca</td>\n",
              "      <td>50</td>\n",
              "      <td>[self]</td>\n",
              "      <td>Multisymplectic Spectral Methods for the Gross...</td>\n",
              "      <td>2633</td>\n",
              "      <td>2002</td>\n",
              "      <td>50</td>\n",
              "      <td>2</td>\n",
              "      <td>0.0</td>\n",
              "      <td>8</td>\n",
              "      <td>NaN</td>\n",
              "      <td>NaN</td>\n",
              "      <td>NaN</td>\n",
              "    </tr>\n",
              "    <tr>\n",
              "      <th>3</th>\n",
              "      <td>Most applications of the abstract interpretati...</td>\n",
              "      <td>[Patrick Cousot, Radhia Cousot]</td>\n",
              "      <td>00c85316-bddf-4bcb-93f5-097adadd73c2</td>\n",
              "      <td>50</td>\n",
              "      <td>[afa6d820-c762-4285-a25d-9dd985929ec3]</td>\n",
              "      <td>Relational Abstract Interpretation of Higher O...</td>\n",
              "      <td>0</td>\n",
              "      <td>1991</td>\n",
              "      <td>12</td>\n",
              "      <td>2</td>\n",
              "      <td>5.0</td>\n",
              "      <td>2</td>\n",
              "      <td>0.000000</td>\n",
              "      <td>1.0</td>\n",
              "      <td>0.0</td>\n",
              "    </tr>\n",
              "    <tr>\n",
              "      <th>4</th>\n",
              "      <td>NaN</td>\n",
              "      <td>[Abdullah Alsubaie, Antonio Di Pietro, Jose R....</td>\n",
              "      <td>00e3940b-201b-40ba-bd20-dbdaf26ad324</td>\n",
              "      <td>6</td>\n",
              "      <td>[0293844d-7244-4562-a6ca-d84bcd9c10a5, 14cd3cf...</td>\n",
              "      <td>A Platform for Disaster Response Planning with...</td>\n",
              "      <td>0</td>\n",
              "      <td>2013</td>\n",
              "      <td>7</td>\n",
              "      <td>7</td>\n",
              "      <td>6.0</td>\n",
              "      <td>4</td>\n",
              "      <td>NaN</td>\n",
              "      <td>3.0</td>\n",
              "      <td>NaN</td>\n",
              "    </tr>\n",
              "  </tbody>\n",
              "</table>\n",
              "</div>"
            ],
            "text/plain": [
              "                                            abstract  \\\n",
              "0  This article applied GARCH model instead AR or...   \n",
              "1                                                NaN   \n",
              "2  Recently, Bridges and Reich introduced the con...   \n",
              "3  Most applications of the abstract interpretati...   \n",
              "4                                                NaN   \n",
              "\n",
              "                                             authors  \\\n",
              "0  [Altaf Hossain, Faisal Zaman, Mohammed Nasser,...   \n",
              "1               [Jovan Dj. Golic, Guglielmo Morgari]   \n",
              "2            [Alvaro L. Islas, Constance M. Schober]   \n",
              "3                    [Patrick Cousot, Radhia Cousot]   \n",
              "4  [Abdullah Alsubaie, Antonio Di Pietro, Jose R....   \n",
              "\n",
              "                                     id  n_citation  \\\n",
              "0  001c8744-73c4-4b04-9364-22d31a10dbf1          50   \n",
              "1  00638a94-23bf-4fa6-b5ce-40d799c65da7           2   \n",
              "2  00bcf2d5-1592-46b0-81fd-933f90b5ecca          50   \n",
              "3  00c85316-bddf-4bcb-93f5-097adadd73c2          50   \n",
              "4  00e3940b-201b-40ba-bd20-dbdaf26ad324           6   \n",
              "\n",
              "                                          references  \\\n",
              "0  [2d84c0f2-e656-4ce7-b018-90eda1c132fe, a083a1b...   \n",
              "1                                             [self]   \n",
              "2                                             [self]   \n",
              "3             [afa6d820-c762-4285-a25d-9dd985929ec3]   \n",
              "4  [0293844d-7244-4562-a6ca-d84bcd9c10a5, 14cd3cf...   \n",
              "\n",
              "                                               title  venue  year  importance  \\\n",
              "0  Comparison of GARCH, Neural Network and Suppor...   3086  2009           0   \n",
              "1                Vectorial fast correlation attacks.      0  2004          35   \n",
              "2  Multisymplectic Spectral Methods for the Gross...   2633  2002          50   \n",
              "3  Relational Abstract Interpretation of Higher O...      0  1991          12   \n",
              "4  A Platform for Disaster Response Planning with...      0  2013           7   \n",
              "\n",
              "   author_count  references_count  Topic  pageRankValue  totalOutbounds  ratio  \n",
              "0             4               2.0      1            NaN             2.0    NaN  \n",
              "1             2               0.0      5      20.486111             NaN    NaN  \n",
              "2             2               0.0      8            NaN             NaN    NaN  \n",
              "3             2               5.0      2       0.000000             1.0    0.0  \n",
              "4             7               6.0      4            NaN             3.0    NaN  "
            ]
          },
          "metadata": {
            "tags": []
          },
          "execution_count": 21
        }
      ]
    },
    {
      "metadata": {
        "id": "HTQLrS4WX4fK",
        "colab_type": "code",
        "outputId": "20e4d87f-57ba-4e73-87e2-7ae006d7aa32",
        "colab": {
          "base_uri": "https://localhost:8080/",
          "height": 357
        }
      },
      "cell_type": "code",
      "source": [
        "df.info()"
      ],
      "execution_count": 0,
      "outputs": [
        {
          "output_type": "stream",
          "text": [
            "<class 'pandas.core.frame.DataFrame'>\n",
            "Int64Index: 352014 entries, 0 to 437642\n",
            "Data columns (total 15 columns):\n",
            "abstract            352014 non-null object\n",
            "authors             352014 non-null object\n",
            "id                  352014 non-null object\n",
            "n_citation          352014 non-null int64\n",
            "references          352014 non-null object\n",
            "title               352014 non-null object\n",
            "venue               352014 non-null int64\n",
            "year                352014 non-null int64\n",
            "importance          352014 non-null int64\n",
            "author_count        352014 non-null int64\n",
            "references_count    352014 non-null float64\n",
            "Topic               352014 non-null int64\n",
            "pageRankValue       237349 non-null float64\n",
            "totalOutbounds      273254 non-null float64\n",
            "ratio               189723 non-null float64\n",
            "dtypes: float64(4), int64(6), object(5)\n",
            "memory usage: 43.0+ MB\n"
          ],
          "name": "stdout"
        }
      ]
    },
    {
      "metadata": {
        "id": "t14aQFxoYWCl",
        "colab_type": "code",
        "outputId": "3e43db94-ef1a-4e45-b153-80af3259e7c8",
        "colab": {
          "base_uri": "https://localhost:8080/",
          "height": 34
        }
      },
      "cell_type": "code",
      "source": [
        "df.shape[0]"
      ],
      "execution_count": 0,
      "outputs": [
        {
          "output_type": "execute_result",
          "data": {
            "text/plain": [
              "352014"
            ]
          },
          "metadata": {
            "tags": []
          },
          "execution_count": 26
        }
      ]
    },
    {
      "metadata": {
        "id": "IX8dJtnxmESO",
        "colab_type": "text"
      },
      "cell_type": "markdown",
      "source": [
        "WE WILL USE EXTRACT OF THE PAPER TO CALCULATE ITS SENTIMENT"
      ]
    },
    {
      "metadata": {
        "id": "SEPKu30yWsw5",
        "colab_type": "code",
        "colab": {}
      },
      "cell_type": "code",
      "source": [
        "df=df.dropna(subset=['abstract'])"
      ],
      "execution_count": 0,
      "outputs": []
    },
    {
      "metadata": {
        "id": "ZY7Ql2_gSzTm",
        "colab_type": "code",
        "colab": {}
      },
      "cell_type": "code",
      "source": [
        "from textblob import TextBlob "
      ],
      "execution_count": 0,
      "outputs": []
    },
    {
      "metadata": {
        "id": "tjTvTds4S9GP",
        "colab_type": "code",
        "outputId": "9261f988-33a2-4351-d6a6-94a086d1db87",
        "colab": {
          "base_uri": "https://localhost:8080/",
          "height": 697
        }
      },
      "cell_type": "code",
      "source": [
        "for i in range(40):\n",
        "  analysis = TextBlob(df.iloc[i]['abstract']) \n",
        "    # set sentiment \n",
        "  if analysis.sentiment.polarity > 0: \n",
        "      print('positive')\n",
        "  elif analysis.sentiment.polarity == 0: \n",
        "      print('neutral')\n",
        "  else: \n",
        "      print('negative')"
      ],
      "execution_count": 0,
      "outputs": [
        {
          "output_type": "stream",
          "text": [
            "positive\n",
            "neutral\n",
            "positive\n",
            "negative\n",
            "positive\n",
            "negative\n",
            "negative\n",
            "positive\n",
            "positive\n",
            "positive\n",
            "positive\n",
            "positive\n",
            "positive\n",
            "positive\n",
            "positive\n",
            "positive\n",
            "positive\n",
            "positive\n",
            "positive\n",
            "positive\n",
            "neutral\n",
            "positive\n",
            "positive\n",
            "positive\n",
            "positive\n",
            "positive\n",
            "positive\n",
            "positive\n",
            "positive\n",
            "positive\n",
            "negative\n",
            "positive\n",
            "negative\n",
            "positive\n",
            "negative\n",
            "positive\n",
            "positive\n",
            "positive\n",
            "positive\n",
            "positive\n"
          ],
          "name": "stdout"
        }
      ]
    },
    {
      "metadata": {
        "id": "g1lfJasQUXOp",
        "colab_type": "code",
        "outputId": "b4a48aaa-367c-46ea-a78c-d5d3f4aa371b",
        "colab": {
          "base_uri": "https://localhost:8080/",
          "height": 357
        }
      },
      "cell_type": "code",
      "source": [
        "for i in range(20):\n",
        "  analysis = TextBlob(df.iloc[i]['title']) \n",
        "    # set sentiment \n",
        "  if analysis.sentiment.polarity > 0: \n",
        "      print('positive')\n",
        "  elif analysis.sentiment.polarity == 0: \n",
        "      print('neutral')\n",
        "  else: \n",
        "      print('negative')"
      ],
      "execution_count": 0,
      "outputs": [
        {
          "output_type": "stream",
          "text": [
            "neutral\n",
            "neutral\n",
            "positive\n",
            "neutral\n",
            "neutral\n",
            "neutral\n",
            "neutral\n",
            "neutral\n",
            "neutral\n",
            "neutral\n",
            "neutral\n",
            "neutral\n",
            "positive\n",
            "neutral\n",
            "neutral\n",
            "neutral\n",
            "negative\n",
            "positive\n",
            "neutral\n",
            "neutral\n"
          ],
          "name": "stdout"
        }
      ]
    },
    {
      "metadata": {
        "id": "syDAPZucZXW6",
        "colab_type": "code",
        "outputId": "499e6f7c-cb1b-4f43-8f1a-5db2800f51b5",
        "colab": {
          "base_uri": "https://localhost:8080/",
          "height": 54
        }
      },
      "cell_type": "code",
      "source": [
        "df.iloc[5]['abstract']"
      ],
      "execution_count": 0,
      "outputs": [
        {
          "output_type": "execute_result",
          "data": {
            "text/plain": [
              "'Spatial encryption is a generic public-key cryptosystem where vectors play the role of public keys and secret keys are associated to affine spaces. Any secret key associated to a space can decrypt all ciphertexts encrypted for vectors in that space, and the delegation relation is defined by subspace inclusion. Though several constructions of spatial encryption schemes have been proposed in the literature, none of them are known to remain secure in the leakage-resilient setting, in which the adversary may be capable of learning limited additional information about the master secret key and other secret keys in the system. In this paper, we propose the first spatial encryption scheme achieving leakage resilience in the standard model, based on existing static assumptions over bilinear groups of composite order. Our new scheme is based on the leakageresilient HIBE scheme by Lewko, Rouselakis, and Waters in TCC 2011 and can be seen as a generalization of Moriyama-Doi spatial encryption scheme to the leakage-resilient setting.'"
            ]
          },
          "metadata": {
            "tags": []
          },
          "execution_count": 33
        }
      ]
    },
    {
      "metadata": {
        "id": "iUsdlEoimLZG",
        "colab_type": "text"
      },
      "cell_type": "markdown",
      "source": [
        "USING SENTIMENT INTENSITY ANALYSER FROM VADE IN NLTK"
      ]
    },
    {
      "metadata": {
        "id": "MGlQ_2YZYvCQ",
        "colab_type": "code",
        "outputId": "c0987c7e-12b1-4eca-8235-db6468ad07cb",
        "colab": {
          "base_uri": "https://localhost:8080/",
          "height": 71
        }
      },
      "cell_type": "code",
      "source": [
        "from nltk.sentiment import SentimentAnalyzer"
      ],
      "execution_count": 0,
      "outputs": [
        {
          "output_type": "stream",
          "text": [
            "/usr/local/lib/python3.6/dist-packages/nltk/twitter/__init__.py:20: UserWarning: The twython library has not been installed. Some functionality from the twitter package will not be available.\n",
            "  warnings.warn(\"The twython library has not been installed. \"\n"
          ],
          "name": "stderr"
        }
      ]
    },
    {
      "metadata": {
        "id": "xpWcb7-_kOGx",
        "colab_type": "code",
        "outputId": "a2cc1043-d91b-45e8-becf-da8e29cf17cd",
        "colab": {
          "base_uri": "https://localhost:8080/",
          "height": 51
        }
      },
      "cell_type": "code",
      "source": [
        "import nltk\n",
        "nltk.download('vader_lexicon')"
      ],
      "execution_count": 0,
      "outputs": [
        {
          "output_type": "stream",
          "text": [
            "[nltk_data] Downloading package vader_lexicon to /root/nltk_data...\n"
          ],
          "name": "stdout"
        },
        {
          "output_type": "execute_result",
          "data": {
            "text/plain": [
              "True"
            ]
          },
          "metadata": {
            "tags": []
          },
          "execution_count": 37
        }
      ]
    },
    {
      "metadata": {
        "id": "Y7LOKxjLikRt",
        "colab_type": "code",
        "colab": {}
      },
      "cell_type": "code",
      "source": [
        "from nltk.sentiment.vader import SentimentIntensityAnalyzer as SIA"
      ],
      "execution_count": 0,
      "outputs": []
    },
    {
      "metadata": {
        "id": "pvkeaLpejC_S",
        "colab_type": "code",
        "colab": {}
      },
      "cell_type": "code",
      "source": [
        "sia = SIA()"
      ],
      "execution_count": 0,
      "outputs": []
    },
    {
      "metadata": {
        "id": "nzAsXSTJkI1p",
        "colab_type": "code",
        "outputId": "bc41cd19-3df7-42d0-9832-a0f2778d56ca",
        "colab": {
          "base_uri": "https://localhost:8080/",
          "height": 1377
        }
      },
      "cell_type": "code",
      "source": [
        "for i in range(40):\n",
        "  pol_score = sia.polarity_scores(df.iloc[i]['abstract'])\n",
        "    # set sentiment\n",
        "  print(pol_score['compound'])\n",
        "  if pol_score['compound'] > 0.2: \n",
        "      print('positive')\n",
        "  elif pol_score['compound'] < -0.2: \n",
        "      print('negative')\n",
        "  else: \n",
        "      print('neutral')\n"
      ],
      "execution_count": 0,
      "outputs": [
        {
          "output_type": "stream",
          "text": [
            "0.34\n",
            "positive\n",
            "0.1779\n",
            "neutral\n",
            "0.34\n",
            "positive\n",
            "0.7506\n",
            "positive\n",
            "-0.5771\n",
            "negative\n",
            "0.5719\n",
            "positive\n",
            "0.34\n",
            "positive\n",
            "0.9382\n",
            "positive\n",
            "0.9337\n",
            "positive\n",
            "-0.2263\n",
            "negative\n",
            "0.0772\n",
            "neutral\n",
            "-0.1548\n",
            "neutral\n",
            "0.9161\n",
            "positive\n",
            "0.3832\n",
            "positive\n",
            "0.9577\n",
            "positive\n",
            "-0.9186\n",
            "negative\n",
            "0.9513\n",
            "positive\n",
            "0.6865\n",
            "positive\n",
            "0.8074\n",
            "positive\n",
            "0.8313\n",
            "positive\n",
            "0.0\n",
            "neutral\n",
            "0.0258\n",
            "neutral\n",
            "0.9771\n",
            "positive\n",
            "0.25\n",
            "positive\n",
            "0.2332\n",
            "positive\n",
            "0.6124\n",
            "positive\n",
            "0.802\n",
            "positive\n",
            "-0.5525\n",
            "negative\n",
            "0.8176\n",
            "positive\n",
            "0.5719\n",
            "positive\n",
            "0.0\n",
            "neutral\n",
            "0.8955\n",
            "positive\n",
            "0.899\n",
            "positive\n",
            "0.8316\n",
            "positive\n",
            "0.2204\n",
            "positive\n",
            "0.296\n",
            "positive\n",
            "-0.1786\n",
            "neutral\n",
            "0.9042\n",
            "positive\n",
            "0.7579\n",
            "positive\n",
            "0.8289\n",
            "positive\n"
          ],
          "name": "stdout"
        }
      ]
    },
    {
      "metadata": {
        "id": "sSmKvM4GmTxm",
        "colab_type": "text"
      },
      "cell_type": "markdown",
      "source": [
        "ASSIGNING SENTIMENT BASED ON POLARITY SCORE"
      ]
    },
    {
      "metadata": {
        "id": "L7JouAeVlHpC",
        "colab_type": "code",
        "colab": {}
      },
      "cell_type": "code",
      "source": [
        "res=[]\n",
        "for i in range(df.shape[0]):\n",
        "  pol_score = sia.polarity_scores(df.iloc[i]['abstract'])\n",
        "    # set sentiment\n",
        "#   print(pol_score['compound'])\n",
        "  if pol_score['compound'] > 0.2: \n",
        "      res.append(1)\n",
        "  elif pol_score['compound'] < -0.2: \n",
        "     res.append(-1)\n",
        "  else: \n",
        "      res.append(0)\n",
        "df['sentiment']=res"
      ],
      "execution_count": 0,
      "outputs": []
    },
    {
      "metadata": {
        "id": "PGsHXSFXxpDF",
        "colab_type": "code",
        "outputId": "cb5a5e1f-128c-4ae2-bb57-7e96db7b96c0",
        "colab": {
          "base_uri": "https://localhost:8080/",
          "height": 615
        }
      },
      "cell_type": "code",
      "source": [
        "df.head()"
      ],
      "execution_count": 0,
      "outputs": [
        {
          "output_type": "execute_result",
          "data": {
            "text/html": [
              "<div>\n",
              "<style scoped>\n",
              "    .dataframe tbody tr th:only-of-type {\n",
              "        vertical-align: middle;\n",
              "    }\n",
              "\n",
              "    .dataframe tbody tr th {\n",
              "        vertical-align: top;\n",
              "    }\n",
              "\n",
              "    .dataframe thead th {\n",
              "        text-align: right;\n",
              "    }\n",
              "</style>\n",
              "<table border=\"1\" class=\"dataframe\">\n",
              "  <thead>\n",
              "    <tr style=\"text-align: right;\">\n",
              "      <th></th>\n",
              "      <th>abstract</th>\n",
              "      <th>authors</th>\n",
              "      <th>id</th>\n",
              "      <th>n_citation</th>\n",
              "      <th>references</th>\n",
              "      <th>title</th>\n",
              "      <th>venue</th>\n",
              "      <th>year</th>\n",
              "      <th>importance</th>\n",
              "      <th>author_count</th>\n",
              "      <th>references_count</th>\n",
              "      <th>Topic</th>\n",
              "      <th>pageRankValue</th>\n",
              "      <th>totalOutbounds</th>\n",
              "      <th>ratio</th>\n",
              "      <th>sentiment</th>\n",
              "    </tr>\n",
              "  </thead>\n",
              "  <tbody>\n",
              "    <tr>\n",
              "      <th>0</th>\n",
              "      <td>This article applied GARCH model instead AR or...</td>\n",
              "      <td>[Altaf Hossain, Faisal Zaman, Mohammed Nasser,...</td>\n",
              "      <td>001c8744-73c4-4b04-9364-22d31a10dbf1</td>\n",
              "      <td>50</td>\n",
              "      <td>[2d84c0f2-e656-4ce7-b018-90eda1c132fe, a083a1b...</td>\n",
              "      <td>Comparison of GARCH, Neural Network and Suppor...</td>\n",
              "      <td>3086</td>\n",
              "      <td>2009</td>\n",
              "      <td>0</td>\n",
              "      <td>4</td>\n",
              "      <td>2.0</td>\n",
              "      <td>1</td>\n",
              "      <td>NaN</td>\n",
              "      <td>2.0</td>\n",
              "      <td>NaN</td>\n",
              "      <td>1</td>\n",
              "    </tr>\n",
              "    <tr>\n",
              "      <th>2</th>\n",
              "      <td>Recently, Bridges and Reich introduced the con...</td>\n",
              "      <td>[Alvaro L. Islas, Constance M. Schober]</td>\n",
              "      <td>00bcf2d5-1592-46b0-81fd-933f90b5ecca</td>\n",
              "      <td>50</td>\n",
              "      <td>[self]</td>\n",
              "      <td>Multisymplectic Spectral Methods for the Gross...</td>\n",
              "      <td>2633</td>\n",
              "      <td>2002</td>\n",
              "      <td>50</td>\n",
              "      <td>2</td>\n",
              "      <td>0.0</td>\n",
              "      <td>8</td>\n",
              "      <td>NaN</td>\n",
              "      <td>NaN</td>\n",
              "      <td>NaN</td>\n",
              "      <td>0</td>\n",
              "    </tr>\n",
              "    <tr>\n",
              "      <th>3</th>\n",
              "      <td>Most applications of the abstract interpretati...</td>\n",
              "      <td>[Patrick Cousot, Radhia Cousot]</td>\n",
              "      <td>00c85316-bddf-4bcb-93f5-097adadd73c2</td>\n",
              "      <td>50</td>\n",
              "      <td>[afa6d820-c762-4285-a25d-9dd985929ec3]</td>\n",
              "      <td>Relational Abstract Interpretation of Higher O...</td>\n",
              "      <td>0</td>\n",
              "      <td>1991</td>\n",
              "      <td>12</td>\n",
              "      <td>2</td>\n",
              "      <td>5.0</td>\n",
              "      <td>2</td>\n",
              "      <td>0.000000</td>\n",
              "      <td>1.0</td>\n",
              "      <td>0.000000</td>\n",
              "      <td>1</td>\n",
              "    </tr>\n",
              "    <tr>\n",
              "      <th>7</th>\n",
              "      <td>Xax is a browser plugin model that enables dev...</td>\n",
              "      <td>[John R. Douceur, Jeremy Elson, Jon Howell, Ja...</td>\n",
              "      <td>010d4ce9-0279-4166-ae73-14551ded6404</td>\n",
              "      <td>50</td>\n",
              "      <td>[3c60b421-a347-4d55-b603-bc34f5c2a40d, 4176c23...</td>\n",
              "      <td>Leveraging legacy code to deploy desktop appli...</td>\n",
              "      <td>3052</td>\n",
              "      <td>2008</td>\n",
              "      <td>1311</td>\n",
              "      <td>4</td>\n",
              "      <td>25.0</td>\n",
              "      <td>9</td>\n",
              "      <td>430.434035</td>\n",
              "      <td>9.0</td>\n",
              "      <td>47.826004</td>\n",
              "      <td>1</td>\n",
              "    </tr>\n",
              "    <tr>\n",
              "      <th>8</th>\n",
              "      <td>Previous language modeling approaches to infor...</td>\n",
              "      <td>[Carmen Fernández-Daza Álvarez, Philippe Langl...</td>\n",
              "      <td>012b88ae-a763-45d6-8f19-2ec9ff739d5f</td>\n",
              "      <td>50</td>\n",
              "      <td>[a3a30fff-664e-4e0f-86d5-5eb9a61a6af1, db09268...</td>\n",
              "      <td>Word pairs in language modeling for informatio...</td>\n",
              "      <td>0</td>\n",
              "      <td>2004</td>\n",
              "      <td>154</td>\n",
              "      <td>3</td>\n",
              "      <td>13.0</td>\n",
              "      <td>5</td>\n",
              "      <td>2.482948</td>\n",
              "      <td>2.0</td>\n",
              "      <td>1.241474</td>\n",
              "      <td>-1</td>\n",
              "    </tr>\n",
              "  </tbody>\n",
              "</table>\n",
              "</div>"
            ],
            "text/plain": [
              "                                            abstract  \\\n",
              "0  This article applied GARCH model instead AR or...   \n",
              "2  Recently, Bridges and Reich introduced the con...   \n",
              "3  Most applications of the abstract interpretati...   \n",
              "7  Xax is a browser plugin model that enables dev...   \n",
              "8  Previous language modeling approaches to infor...   \n",
              "\n",
              "                                             authors  \\\n",
              "0  [Altaf Hossain, Faisal Zaman, Mohammed Nasser,...   \n",
              "2            [Alvaro L. Islas, Constance M. Schober]   \n",
              "3                    [Patrick Cousot, Radhia Cousot]   \n",
              "7  [John R. Douceur, Jeremy Elson, Jon Howell, Ja...   \n",
              "8  [Carmen Fernández-Daza Álvarez, Philippe Langl...   \n",
              "\n",
              "                                     id  n_citation  \\\n",
              "0  001c8744-73c4-4b04-9364-22d31a10dbf1          50   \n",
              "2  00bcf2d5-1592-46b0-81fd-933f90b5ecca          50   \n",
              "3  00c85316-bddf-4bcb-93f5-097adadd73c2          50   \n",
              "7  010d4ce9-0279-4166-ae73-14551ded6404          50   \n",
              "8  012b88ae-a763-45d6-8f19-2ec9ff739d5f          50   \n",
              "\n",
              "                                          references  \\\n",
              "0  [2d84c0f2-e656-4ce7-b018-90eda1c132fe, a083a1b...   \n",
              "2                                             [self]   \n",
              "3             [afa6d820-c762-4285-a25d-9dd985929ec3]   \n",
              "7  [3c60b421-a347-4d55-b603-bc34f5c2a40d, 4176c23...   \n",
              "8  [a3a30fff-664e-4e0f-86d5-5eb9a61a6af1, db09268...   \n",
              "\n",
              "                                               title  venue  year  importance  \\\n",
              "0  Comparison of GARCH, Neural Network and Suppor...   3086  2009           0   \n",
              "2  Multisymplectic Spectral Methods for the Gross...   2633  2002          50   \n",
              "3  Relational Abstract Interpretation of Higher O...      0  1991          12   \n",
              "7  Leveraging legacy code to deploy desktop appli...   3052  2008        1311   \n",
              "8  Word pairs in language modeling for informatio...      0  2004         154   \n",
              "\n",
              "   author_count  references_count  Topic  pageRankValue  totalOutbounds  \\\n",
              "0             4               2.0      1            NaN             2.0   \n",
              "2             2               0.0      8            NaN             NaN   \n",
              "3             2               5.0      2       0.000000             1.0   \n",
              "7             4              25.0      9     430.434035             9.0   \n",
              "8             3              13.0      5       2.482948             2.0   \n",
              "\n",
              "       ratio  sentiment  \n",
              "0        NaN          1  \n",
              "2        NaN          0  \n",
              "3   0.000000          1  \n",
              "7  47.826004          1  \n",
              "8   1.241474         -1  "
            ]
          },
          "metadata": {
            "tags": []
          },
          "execution_count": 52
        }
      ]
    },
    {
      "metadata": {
        "id": "56yUJaqFxmEw",
        "colab_type": "code",
        "colab": {}
      },
      "cell_type": "code",
      "source": [
        "df.to_pickle('/content/drive/My Drive/pickle_sentiment')"
      ],
      "execution_count": 0,
      "outputs": []
    },
    {
      "metadata": {
        "id": "UyUftxvou9ds",
        "colab_type": "code",
        "outputId": "290d2e7c-1da0-4218-e03e-30c4e0c2e0e8",
        "colab": {
          "base_uri": "https://localhost:8080/",
          "height": 54
        }
      },
      "cell_type": "code",
      "source": [
        "df.iloc[4]['abstract']"
      ],
      "execution_count": 0,
      "outputs": [
        {
          "output_type": "execute_result",
          "data": {
            "text/plain": [
              "'Previous language modeling approaches to information retrieval have focused primarily on single terms. The use of bigram models has been studied, but the restriction on word order and adjacency may not be justified for information retrieval. We propose a new language modeling approach to information retrieval that incorporates lexical affinities, or pairs of words that occur near each other, without a constraint on word order. The use of compound terms in the vector space model has been shown to outperform the vector model with only single terms (Nie & Dufort, 2002). We explore the use of compound terms in a language modeling approach, and compare our results with the vector space model, and unigram and bigram language model approaches.'"
            ]
          },
          "metadata": {
            "tags": []
          },
          "execution_count": 54
        }
      ]
    },
    {
      "metadata": {
        "id": "GgK0Se_E0RBX",
        "colab_type": "code",
        "outputId": "8240c975-7839-4627-c017-9816906a78fe",
        "colab": {
          "base_uri": "https://localhost:8080/",
          "height": 85
        }
      },
      "cell_type": "code",
      "source": [
        "df['sentiment'].value_counts()"
      ],
      "execution_count": 0,
      "outputs": [
        {
          "output_type": "execute_result",
          "data": {
            "text/plain": [
              " 1    258079\n",
              "-1     53956\n",
              " 0     39979\n",
              "Name: sentiment, dtype: int64"
            ]
          },
          "metadata": {
            "tags": []
          },
          "execution_count": 6
        }
      ]
    },
    {
      "metadata": {
        "id": "ihWYok5Pn5Iv",
        "colab_type": "code",
        "colab": {}
      },
      "cell_type": "code",
      "source": [
        "from  itertools import chain\n",
        "\n",
        "df_flatten_references = pd.DataFrame({\n",
        "        \"sentiment\": np.repeat(df.sentiment.values, df.references.str.len()),\n",
        "        \"references\": list(chain.from_iterable(df.references))\n",
        "})\n",
        "df_flatten_references_importance = df_flatten_references.groupby('references').agg({'sentiment' : 'sum'})\n",
        "df_flatten_references_importance['id'] = df_flatten_references_importance.index\n"
      ],
      "execution_count": 0,
      "outputs": []
    },
    {
      "metadata": {
        "id": "Lyu1jZA5vorZ",
        "colab_type": "code",
        "outputId": "f3f5fa2a-b37d-49c8-9cfb-3a12c4f43675",
        "colab": {
          "base_uri": "https://localhost:8080/",
          "height": 235
        }
      },
      "cell_type": "code",
      "source": [
        "df_flatten_references_importance.head()"
      ],
      "execution_count": 0,
      "outputs": [
        {
          "output_type": "execute_result",
          "data": {
            "text/html": [
              "<div>\n",
              "<style scoped>\n",
              "    .dataframe tbody tr th:only-of-type {\n",
              "        vertical-align: middle;\n",
              "    }\n",
              "\n",
              "    .dataframe tbody tr th {\n",
              "        vertical-align: top;\n",
              "    }\n",
              "\n",
              "    .dataframe thead th {\n",
              "        text-align: right;\n",
              "    }\n",
              "</style>\n",
              "<table border=\"1\" class=\"dataframe\">\n",
              "  <thead>\n",
              "    <tr style=\"text-align: right;\">\n",
              "      <th></th>\n",
              "      <th>sentiment</th>\n",
              "      <th>id</th>\n",
              "    </tr>\n",
              "    <tr>\n",
              "      <th>references</th>\n",
              "      <th></th>\n",
              "      <th></th>\n",
              "    </tr>\n",
              "  </thead>\n",
              "  <tbody>\n",
              "    <tr>\n",
              "      <th>000000b8-7f59-49ad-b9bc-e92aa858fc37</th>\n",
              "      <td>1</td>\n",
              "      <td>000000b8-7f59-49ad-b9bc-e92aa858fc37</td>\n",
              "    </tr>\n",
              "    <tr>\n",
              "      <th>00001301-0e56-4c9d-94aa-f776580aed87</th>\n",
              "      <td>1</td>\n",
              "      <td>00001301-0e56-4c9d-94aa-f776580aed87</td>\n",
              "    </tr>\n",
              "    <tr>\n",
              "      <th>00001bf6-0c0c-4264-a81b-0f1ddab7a25a</th>\n",
              "      <td>1</td>\n",
              "      <td>00001bf6-0c0c-4264-a81b-0f1ddab7a25a</td>\n",
              "    </tr>\n",
              "    <tr>\n",
              "      <th>00001d52-f2bd-4137-8d6b-b34e65a972bf</th>\n",
              "      <td>1</td>\n",
              "      <td>00001d52-f2bd-4137-8d6b-b34e65a972bf</td>\n",
              "    </tr>\n",
              "    <tr>\n",
              "      <th>00001fb9-b0eb-49e5-b893-eb9b47c78910</th>\n",
              "      <td>1</td>\n",
              "      <td>00001fb9-b0eb-49e5-b893-eb9b47c78910</td>\n",
              "    </tr>\n",
              "  </tbody>\n",
              "</table>\n",
              "</div>"
            ],
            "text/plain": [
              "                                      sentiment  \\\n",
              "references                                        \n",
              "000000b8-7f59-49ad-b9bc-e92aa858fc37          1   \n",
              "00001301-0e56-4c9d-94aa-f776580aed87          1   \n",
              "00001bf6-0c0c-4264-a81b-0f1ddab7a25a          1   \n",
              "00001d52-f2bd-4137-8d6b-b34e65a972bf          1   \n",
              "00001fb9-b0eb-49e5-b893-eb9b47c78910          1   \n",
              "\n",
              "                                                                        id  \n",
              "references                                                                  \n",
              "000000b8-7f59-49ad-b9bc-e92aa858fc37  000000b8-7f59-49ad-b9bc-e92aa858fc37  \n",
              "00001301-0e56-4c9d-94aa-f776580aed87  00001301-0e56-4c9d-94aa-f776580aed87  \n",
              "00001bf6-0c0c-4264-a81b-0f1ddab7a25a  00001bf6-0c0c-4264-a81b-0f1ddab7a25a  \n",
              "00001d52-f2bd-4137-8d6b-b34e65a972bf  00001d52-f2bd-4137-8d6b-b34e65a972bf  \n",
              "00001fb9-b0eb-49e5-b893-eb9b47c78910  00001fb9-b0eb-49e5-b893-eb9b47c78910  "
            ]
          },
          "metadata": {
            "tags": []
          },
          "execution_count": 12
        }
      ]
    },
    {
      "metadata": {
        "id": "nH8qVesFmbAW",
        "colab_type": "text"
      },
      "cell_type": "markdown",
      "source": [
        "# INTEGRATING SENTIMENT TO FINAL DATAFRAME"
      ]
    },
    {
      "metadata": {
        "id": "Q6ELF68q1319",
        "colab_type": "code",
        "colab": {}
      },
      "cell_type": "code",
      "source": [
        "df_flatten_references_importance['citation_sentiment'] = df_flatten_references_importance['sentiment']\n"
      ],
      "execution_count": 0,
      "outputs": []
    },
    {
      "metadata": {
        "id": "E_mJ53Av03H-",
        "colab_type": "code",
        "colab": {}
      },
      "cell_type": "code",
      "source": [
        "df_result = pd.merge(df, df_flatten_references_importance[['id', 'citation_sentiment']], on='id', how='left')"
      ],
      "execution_count": 0,
      "outputs": []
    },
    {
      "metadata": {
        "id": "gVT6yUso1pHW",
        "colab_type": "code",
        "outputId": "d6bc55a5-e7a9-451d-da03-064a9bac63f7",
        "colab": {
          "base_uri": "https://localhost:8080/",
          "height": 2049
        }
      },
      "cell_type": "code",
      "source": [
        "df_result.head(20)"
      ],
      "execution_count": 0,
      "outputs": [
        {
          "output_type": "execute_result",
          "data": {
            "text/html": [
              "<div>\n",
              "<style scoped>\n",
              "    .dataframe tbody tr th:only-of-type {\n",
              "        vertical-align: middle;\n",
              "    }\n",
              "\n",
              "    .dataframe tbody tr th {\n",
              "        vertical-align: top;\n",
              "    }\n",
              "\n",
              "    .dataframe thead th {\n",
              "        text-align: right;\n",
              "    }\n",
              "</style>\n",
              "<table border=\"1\" class=\"dataframe\">\n",
              "  <thead>\n",
              "    <tr style=\"text-align: right;\">\n",
              "      <th></th>\n",
              "      <th>abstract</th>\n",
              "      <th>authors</th>\n",
              "      <th>id</th>\n",
              "      <th>n_citation</th>\n",
              "      <th>references</th>\n",
              "      <th>title</th>\n",
              "      <th>venue</th>\n",
              "      <th>year</th>\n",
              "      <th>importance</th>\n",
              "      <th>author_count</th>\n",
              "      <th>references_count</th>\n",
              "      <th>Topic</th>\n",
              "      <th>pageRankValue</th>\n",
              "      <th>totalOutbounds</th>\n",
              "      <th>ratio</th>\n",
              "      <th>sentiment</th>\n",
              "      <th>citation_sentiment</th>\n",
              "    </tr>\n",
              "  </thead>\n",
              "  <tbody>\n",
              "    <tr>\n",
              "      <th>0</th>\n",
              "      <td>This article applied GARCH model instead AR or...</td>\n",
              "      <td>[Altaf Hossain, Faisal Zaman, Mohammed Nasser,...</td>\n",
              "      <td>001c8744-73c4-4b04-9364-22d31a10dbf1</td>\n",
              "      <td>50</td>\n",
              "      <td>[2d84c0f2-e656-4ce7-b018-90eda1c132fe, a083a1b...</td>\n",
              "      <td>Comparison of GARCH, Neural Network and Suppor...</td>\n",
              "      <td>3086</td>\n",
              "      <td>2009</td>\n",
              "      <td>0</td>\n",
              "      <td>4</td>\n",
              "      <td>2.0</td>\n",
              "      <td>1</td>\n",
              "      <td>NaN</td>\n",
              "      <td>2.0</td>\n",
              "      <td>NaN</td>\n",
              "      <td>1</td>\n",
              "      <td>0.0</td>\n",
              "    </tr>\n",
              "    <tr>\n",
              "      <th>1</th>\n",
              "      <td>Recently, Bridges and Reich introduced the con...</td>\n",
              "      <td>[Alvaro L. Islas, Constance M. Schober]</td>\n",
              "      <td>00bcf2d5-1592-46b0-81fd-933f90b5ecca</td>\n",
              "      <td>50</td>\n",
              "      <td>[self]</td>\n",
              "      <td>Multisymplectic Spectral Methods for the Gross...</td>\n",
              "      <td>2633</td>\n",
              "      <td>2002</td>\n",
              "      <td>50</td>\n",
              "      <td>2</td>\n",
              "      <td>0.0</td>\n",
              "      <td>8</td>\n",
              "      <td>NaN</td>\n",
              "      <td>NaN</td>\n",
              "      <td>NaN</td>\n",
              "      <td>0</td>\n",
              "      <td>0.0</td>\n",
              "    </tr>\n",
              "    <tr>\n",
              "      <th>2</th>\n",
              "      <td>Most applications of the abstract interpretati...</td>\n",
              "      <td>[Patrick Cousot, Radhia Cousot]</td>\n",
              "      <td>00c85316-bddf-4bcb-93f5-097adadd73c2</td>\n",
              "      <td>50</td>\n",
              "      <td>[afa6d820-c762-4285-a25d-9dd985929ec3]</td>\n",
              "      <td>Relational Abstract Interpretation of Higher O...</td>\n",
              "      <td>0</td>\n",
              "      <td>1991</td>\n",
              "      <td>12</td>\n",
              "      <td>2</td>\n",
              "      <td>5.0</td>\n",
              "      <td>2</td>\n",
              "      <td>0.000000</td>\n",
              "      <td>1.0</td>\n",
              "      <td>0.000000</td>\n",
              "      <td>1</td>\n",
              "      <td>1.0</td>\n",
              "    </tr>\n",
              "    <tr>\n",
              "      <th>3</th>\n",
              "      <td>Xax is a browser plugin model that enables dev...</td>\n",
              "      <td>[John R. Douceur, Jeremy Elson, Jon Howell, Ja...</td>\n",
              "      <td>010d4ce9-0279-4166-ae73-14551ded6404</td>\n",
              "      <td>50</td>\n",
              "      <td>[3c60b421-a347-4d55-b603-bc34f5c2a40d, 4176c23...</td>\n",
              "      <td>Leveraging legacy code to deploy desktop appli...</td>\n",
              "      <td>3052</td>\n",
              "      <td>2008</td>\n",
              "      <td>1311</td>\n",
              "      <td>4</td>\n",
              "      <td>25.0</td>\n",
              "      <td>9</td>\n",
              "      <td>430.434035</td>\n",
              "      <td>9.0</td>\n",
              "      <td>47.826004</td>\n",
              "      <td>1</td>\n",
              "      <td>4.0</td>\n",
              "    </tr>\n",
              "    <tr>\n",
              "      <th>4</th>\n",
              "      <td>Previous language modeling approaches to infor...</td>\n",
              "      <td>[Carmen Fernández-Daza Álvarez, Philippe Langl...</td>\n",
              "      <td>012b88ae-a763-45d6-8f19-2ec9ff739d5f</td>\n",
              "      <td>50</td>\n",
              "      <td>[a3a30fff-664e-4e0f-86d5-5eb9a61a6af1, db09268...</td>\n",
              "      <td>Word pairs in language modeling for informatio...</td>\n",
              "      <td>0</td>\n",
              "      <td>2004</td>\n",
              "      <td>154</td>\n",
              "      <td>3</td>\n",
              "      <td>13.0</td>\n",
              "      <td>5</td>\n",
              "      <td>2.482948</td>\n",
              "      <td>2.0</td>\n",
              "      <td>1.241474</td>\n",
              "      <td>-1</td>\n",
              "      <td>1.0</td>\n",
              "    </tr>\n",
              "    <tr>\n",
              "      <th>5</th>\n",
              "      <td>Spatial encryption is a generic public-key cry...</td>\n",
              "      <td>[Michel Abdalla, Jill-Jênn Vie]</td>\n",
              "      <td>016a9a21-e882-4cda-a2b1-b2b46f10601e</td>\n",
              "      <td>50</td>\n",
              "      <td>[3140c9ba-8d98-42a7-b6b8-c58fdaa8fe75, 4708b4d...</td>\n",
              "      <td>Leakage-Resilient spatial encryption</td>\n",
              "      <td>0</td>\n",
              "      <td>2012</td>\n",
              "      <td>0</td>\n",
              "      <td>2</td>\n",
              "      <td>8.0</td>\n",
              "      <td>7</td>\n",
              "      <td>NaN</td>\n",
              "      <td>7.0</td>\n",
              "      <td>NaN</td>\n",
              "      <td>1</td>\n",
              "      <td>0.0</td>\n",
              "    </tr>\n",
              "    <tr>\n",
              "      <th>6</th>\n",
              "      <td>In system operations the term rollback is ofte...</td>\n",
              "      <td>[Mark Burgess, Alva L. Couch]</td>\n",
              "      <td>01705f09-d395-4a0f-a89f-8d18382c81cc</td>\n",
              "      <td>8</td>\n",
              "      <td>[3a6f3221-72f5-45d4-9fc4-8e7f8944bf50, 5ae2116...</td>\n",
              "      <td>On system rollback and totalized fields: An al...</td>\n",
              "      <td>1768</td>\n",
              "      <td>2011</td>\n",
              "      <td>2</td>\n",
              "      <td>2</td>\n",
              "      <td>15.0</td>\n",
              "      <td>8</td>\n",
              "      <td>0.000000</td>\n",
              "      <td>7.0</td>\n",
              "      <td>0.000000</td>\n",
              "      <td>1</td>\n",
              "      <td>1.0</td>\n",
              "    </tr>\n",
              "    <tr>\n",
              "      <th>7</th>\n",
              "      <td>Business strategy should be well understood in...</td>\n",
              "      <td>[Constantinos Giannoulis, Jelena Zdravkovic, M...</td>\n",
              "      <td>01b6f2ca-3903-4196-a932-47a4be4c00bf</td>\n",
              "      <td>12</td>\n",
              "      <td>[0ce446cf-4f4f-49d5-b08c-e7dcacebf53b, feb8471...</td>\n",
              "      <td>Model-Driven Strategic Awareness: From a Unifi...</td>\n",
              "      <td>0</td>\n",
              "      <td>2012</td>\n",
              "      <td>56</td>\n",
              "      <td>3</td>\n",
              "      <td>9.0</td>\n",
              "      <td>4</td>\n",
              "      <td>0.000000</td>\n",
              "      <td>2.0</td>\n",
              "      <td>0.000000</td>\n",
              "      <td>1</td>\n",
              "      <td>0.0</td>\n",
              "    </tr>\n",
              "    <tr>\n",
              "      <th>8</th>\n",
              "      <td>Quality specified image retrieval is helpful t...</td>\n",
              "      <td>[Qiong Liu, You Yang, Xu Wang, Liujuan Cao]</td>\n",
              "      <td>02a5e8a8-061e-4c1f-ab16-bda035578e54</td>\n",
              "      <td>3</td>\n",
              "      <td>[04f8d077-765a-4145-bf14-bace8fc3a7c9, 07b11cc...</td>\n",
              "      <td>Quality Assessment on User Generated Image for...</td>\n",
              "      <td>2227</td>\n",
              "      <td>2013</td>\n",
              "      <td>0</td>\n",
              "      <td>4</td>\n",
              "      <td>25.0</td>\n",
              "      <td>6</td>\n",
              "      <td>NaN</td>\n",
              "      <td>6.0</td>\n",
              "      <td>NaN</td>\n",
              "      <td>1</td>\n",
              "      <td>0.0</td>\n",
              "    </tr>\n",
              "    <tr>\n",
              "      <th>9</th>\n",
              "      <td>In this paper, we investigate the multi-layer ...</td>\n",
              "      <td>[Ying Wu, Thomas K. Doyle, Colin Fyfe]</td>\n",
              "      <td>03990c4b-45be-4913-80d6-27d3b3381b36</td>\n",
              "      <td>50</td>\n",
              "      <td>[self]</td>\n",
              "      <td>Multi-layer topology preserving mapping for K-...</td>\n",
              "      <td>2548</td>\n",
              "      <td>2011</td>\n",
              "      <td>4</td>\n",
              "      <td>3</td>\n",
              "      <td>7.0</td>\n",
              "      <td>9</td>\n",
              "      <td>NaN</td>\n",
              "      <td>NaN</td>\n",
              "      <td>NaN</td>\n",
              "      <td>-1</td>\n",
              "      <td>0.0</td>\n",
              "    </tr>\n",
              "    <tr>\n",
              "      <th>10</th>\n",
              "      <td>We focus on covariance criteria for flnding a ...</td>\n",
              "      <td>[Luc Hoegaerts, Johan A. K. Suykens, Joos Vand...</td>\n",
              "      <td>04136c62-06a9-4c74-9da2-547448a9dc6f</td>\n",
              "      <td>13</td>\n",
              "      <td>[self]</td>\n",
              "      <td>Kernel PLS variants for regression</td>\n",
              "      <td>3278</td>\n",
              "      <td>2003</td>\n",
              "      <td>6</td>\n",
              "      <td>4</td>\n",
              "      <td>3.0</td>\n",
              "      <td>5</td>\n",
              "      <td>0.000000</td>\n",
              "      <td>NaN</td>\n",
              "      <td>NaN</td>\n",
              "      <td>0</td>\n",
              "      <td>1.0</td>\n",
              "    </tr>\n",
              "    <tr>\n",
              "      <th>11</th>\n",
              "      <td>We study a hypergraph transversal computation:...</td>\n",
              "      <td>[Takahisa Toda]</td>\n",
              "      <td>05440797-8533-4496-b6ea-c414a4379fea</td>\n",
              "      <td>50</td>\n",
              "      <td>[16fa7ec5-e52d-45fe-b2da-b58421e675d9, 1883008...</td>\n",
              "      <td>Hypergraph Transversal Computation with Binary...</td>\n",
              "      <td>3247</td>\n",
              "      <td>2013</td>\n",
              "      <td>62</td>\n",
              "      <td>1</td>\n",
              "      <td>15.0</td>\n",
              "      <td>8</td>\n",
              "      <td>0.000000</td>\n",
              "      <td>5.0</td>\n",
              "      <td>0.000000</td>\n",
              "      <td>0</td>\n",
              "      <td>0.0</td>\n",
              "    </tr>\n",
              "    <tr>\n",
              "      <th>12</th>\n",
              "      <td>We present the application of software process...</td>\n",
              "      <td>[David J. Anderson, Giulio Concas, Maria Ilari...</td>\n",
              "      <td>0572f1eb-2193-4dd6-b32e-b168806a1531</td>\n",
              "      <td>19</td>\n",
              "      <td>[9c923cfa-f349-4063-a4c5-0b78bef18d53]</td>\n",
              "      <td>A Comparative Study of Scrum and Kanban Approa...</td>\n",
              "      <td>0</td>\n",
              "      <td>2012</td>\n",
              "      <td>13</td>\n",
              "      <td>5</td>\n",
              "      <td>9.0</td>\n",
              "      <td>4</td>\n",
              "      <td>NaN</td>\n",
              "      <td>1.0</td>\n",
              "      <td>NaN</td>\n",
              "      <td>1</td>\n",
              "      <td>0.0</td>\n",
              "    </tr>\n",
              "    <tr>\n",
              "      <th>13</th>\n",
              "      <td>Entailment pairs are sentence pairs of a premi...</td>\n",
              "      <td>[Manaal Faruqui, Sebastian Padó]</td>\n",
              "      <td>05e535a9-2021-4393-a19e-6a0277034323</td>\n",
              "      <td>3</td>\n",
              "      <td>[68453f24-4276-4d0c-b37e-19d23af549be, c3f183f...</td>\n",
              "      <td>Acquiring entailment pairs across languages an...</td>\n",
              "      <td>0</td>\n",
              "      <td>2011</td>\n",
              "      <td>50</td>\n",
              "      <td>2</td>\n",
              "      <td>7.0</td>\n",
              "      <td>6</td>\n",
              "      <td>NaN</td>\n",
              "      <td>2.0</td>\n",
              "      <td>NaN</td>\n",
              "      <td>1</td>\n",
              "      <td>0.0</td>\n",
              "    </tr>\n",
              "    <tr>\n",
              "      <th>14</th>\n",
              "      <td>Process-based context-aware applications are i...</td>\n",
              "      <td>[Aitor Murguzur, Xabier De Carlos, Salvador Tr...</td>\n",
              "      <td>074ff4d0-27b3-4854-8996-0c7adff14ce8</td>\n",
              "      <td>17</td>\n",
              "      <td>[0c44460f-f903-491d-86aa-cb9acc6195ce, 1cf5d42...</td>\n",
              "      <td>Context-Aware Staged Configuration of Process ...</td>\n",
              "      <td>2201</td>\n",
              "      <td>2014</td>\n",
              "      <td>102</td>\n",
              "      <td>4</td>\n",
              "      <td>18.0</td>\n",
              "      <td>7</td>\n",
              "      <td>0.000000</td>\n",
              "      <td>7.0</td>\n",
              "      <td>0.000000</td>\n",
              "      <td>1</td>\n",
              "      <td>1.0</td>\n",
              "    </tr>\n",
              "    <tr>\n",
              "      <th>15</th>\n",
              "      <td>Gene tree parsimony (GTP) problems infer speci...</td>\n",
              "      <td>[Paweł Górecki, J. Gordon Burleigh, Oliver Eul...</td>\n",
              "      <td>07de0f5d-2770-4950-affa-28f03dbc3c29</td>\n",
              "      <td>14</td>\n",
              "      <td>[self]</td>\n",
              "      <td>GTP supertrees from unrooted gene trees: linea...</td>\n",
              "      <td>2837</td>\n",
              "      <td>2012</td>\n",
              "      <td>65</td>\n",
              "      <td>3</td>\n",
              "      <td>9.0</td>\n",
              "      <td>8</td>\n",
              "      <td>0.000000</td>\n",
              "      <td>NaN</td>\n",
              "      <td>NaN</td>\n",
              "      <td>-1</td>\n",
              "      <td>0.0</td>\n",
              "    </tr>\n",
              "    <tr>\n",
              "      <th>16</th>\n",
              "      <td>In this paper we re-examine the well known pro...</td>\n",
              "      <td>[Balasingham Balamohan, Paola Flocchini, Ali M...</td>\n",
              "      <td>08785973-8224-40f9-bf67-324cfb78238b</td>\n",
              "      <td>10</td>\n",
              "      <td>[084fdbdf-147e-40c9-bbde-3f402e70aee0, 1fe312d...</td>\n",
              "      <td>Improving the optimal bounds for black hole se...</td>\n",
              "      <td>0</td>\n",
              "      <td>2011</td>\n",
              "      <td>105</td>\n",
              "      <td>4</td>\n",
              "      <td>20.0</td>\n",
              "      <td>8</td>\n",
              "      <td>0.227164</td>\n",
              "      <td>12.0</td>\n",
              "      <td>0.018930</td>\n",
              "      <td>1</td>\n",
              "      <td>-2.0</td>\n",
              "    </tr>\n",
              "    <tr>\n",
              "      <th>17</th>\n",
              "      <td>This paper presents WorkCellSimulator, a softw...</td>\n",
              "      <td>[Stefano Tonello, Guido Piero Zanetti, Matteo ...</td>\n",
              "      <td>0880ff73-c71c-4eb4-9927-c410300b59f8</td>\n",
              "      <td>50</td>\n",
              "      <td>[self]</td>\n",
              "      <td>WorkCellSimulator: a 3d simulator for intellig...</td>\n",
              "      <td>3194</td>\n",
              "      <td>2012</td>\n",
              "      <td>0</td>\n",
              "      <td>6</td>\n",
              "      <td>4.0</td>\n",
              "      <td>4</td>\n",
              "      <td>NaN</td>\n",
              "      <td>NaN</td>\n",
              "      <td>NaN</td>\n",
              "      <td>1</td>\n",
              "      <td>0.0</td>\n",
              "    </tr>\n",
              "    <tr>\n",
              "      <th>18</th>\n",
              "      <td>Unsupervised keyphrase extraction techniques g...</td>\n",
              "      <td>[Rui Wang, Wei Liu, Chris McDonald]</td>\n",
              "      <td>08b6e1fd-b9da-4fe3-8c3e-7bdaedca19b3</td>\n",
              "      <td>50</td>\n",
              "      <td>[39058eb5-778f-41eb-85aa-fc630f5c2d92, 50d272c...</td>\n",
              "      <td>How Preprocessing Affects Unsupervised Keyphra...</td>\n",
              "      <td>2614</td>\n",
              "      <td>2014</td>\n",
              "      <td>3</td>\n",
              "      <td>3</td>\n",
              "      <td>19.0</td>\n",
              "      <td>3</td>\n",
              "      <td>NaN</td>\n",
              "      <td>5.0</td>\n",
              "      <td>NaN</td>\n",
              "      <td>1</td>\n",
              "      <td>0.0</td>\n",
              "    </tr>\n",
              "    <tr>\n",
              "      <th>19</th>\n",
              "      <td>This paper presents the systems that we partic...</td>\n",
              "      <td>[Carmen Banea, Samer Hassan, Michael Mohler, R...</td>\n",
              "      <td>09d09df9-c52b-42dd-8b7c-05c902697027</td>\n",
              "      <td>50</td>\n",
              "      <td>[01b486c4-8955-403b-a0c6-1de74298b215, 1ce7a9a...</td>\n",
              "      <td>UNT: A Supervised Synergistic Approach to Sema...</td>\n",
              "      <td>3050</td>\n",
              "      <td>2012</td>\n",
              "      <td>52</td>\n",
              "      <td>4</td>\n",
              "      <td>20.0</td>\n",
              "      <td>5</td>\n",
              "      <td>0.000000</td>\n",
              "      <td>7.0</td>\n",
              "      <td>0.000000</td>\n",
              "      <td>1</td>\n",
              "      <td>0.0</td>\n",
              "    </tr>\n",
              "  </tbody>\n",
              "</table>\n",
              "</div>"
            ],
            "text/plain": [
              "                                             abstract  \\\n",
              "0   This article applied GARCH model instead AR or...   \n",
              "1   Recently, Bridges and Reich introduced the con...   \n",
              "2   Most applications of the abstract interpretati...   \n",
              "3   Xax is a browser plugin model that enables dev...   \n",
              "4   Previous language modeling approaches to infor...   \n",
              "5   Spatial encryption is a generic public-key cry...   \n",
              "6   In system operations the term rollback is ofte...   \n",
              "7   Business strategy should be well understood in...   \n",
              "8   Quality specified image retrieval is helpful t...   \n",
              "9   In this paper, we investigate the multi-layer ...   \n",
              "10  We focus on covariance criteria for flnding a ...   \n",
              "11  We study a hypergraph transversal computation:...   \n",
              "12  We present the application of software process...   \n",
              "13  Entailment pairs are sentence pairs of a premi...   \n",
              "14  Process-based context-aware applications are i...   \n",
              "15  Gene tree parsimony (GTP) problems infer speci...   \n",
              "16  In this paper we re-examine the well known pro...   \n",
              "17  This paper presents WorkCellSimulator, a softw...   \n",
              "18  Unsupervised keyphrase extraction techniques g...   \n",
              "19  This paper presents the systems that we partic...   \n",
              "\n",
              "                                              authors  \\\n",
              "0   [Altaf Hossain, Faisal Zaman, Mohammed Nasser,...   \n",
              "1             [Alvaro L. Islas, Constance M. Schober]   \n",
              "2                     [Patrick Cousot, Radhia Cousot]   \n",
              "3   [John R. Douceur, Jeremy Elson, Jon Howell, Ja...   \n",
              "4   [Carmen Fernández-Daza Álvarez, Philippe Langl...   \n",
              "5                     [Michel Abdalla, Jill-Jênn Vie]   \n",
              "6                       [Mark Burgess, Alva L. Couch]   \n",
              "7   [Constantinos Giannoulis, Jelena Zdravkovic, M...   \n",
              "8         [Qiong Liu, You Yang, Xu Wang, Liujuan Cao]   \n",
              "9              [Ying Wu, Thomas K. Doyle, Colin Fyfe]   \n",
              "10  [Luc Hoegaerts, Johan A. K. Suykens, Joos Vand...   \n",
              "11                                    [Takahisa Toda]   \n",
              "12  [David J. Anderson, Giulio Concas, Maria Ilari...   \n",
              "13                   [Manaal Faruqui, Sebastian Padó]   \n",
              "14  [Aitor Murguzur, Xabier De Carlos, Salvador Tr...   \n",
              "15  [Paweł Górecki, J. Gordon Burleigh, Oliver Eul...   \n",
              "16  [Balasingham Balamohan, Paola Flocchini, Ali M...   \n",
              "17  [Stefano Tonello, Guido Piero Zanetti, Matteo ...   \n",
              "18                [Rui Wang, Wei Liu, Chris McDonald]   \n",
              "19  [Carmen Banea, Samer Hassan, Michael Mohler, R...   \n",
              "\n",
              "                                      id  n_citation  \\\n",
              "0   001c8744-73c4-4b04-9364-22d31a10dbf1          50   \n",
              "1   00bcf2d5-1592-46b0-81fd-933f90b5ecca          50   \n",
              "2   00c85316-bddf-4bcb-93f5-097adadd73c2          50   \n",
              "3   010d4ce9-0279-4166-ae73-14551ded6404          50   \n",
              "4   012b88ae-a763-45d6-8f19-2ec9ff739d5f          50   \n",
              "5   016a9a21-e882-4cda-a2b1-b2b46f10601e          50   \n",
              "6   01705f09-d395-4a0f-a89f-8d18382c81cc           8   \n",
              "7   01b6f2ca-3903-4196-a932-47a4be4c00bf          12   \n",
              "8   02a5e8a8-061e-4c1f-ab16-bda035578e54           3   \n",
              "9   03990c4b-45be-4913-80d6-27d3b3381b36          50   \n",
              "10  04136c62-06a9-4c74-9da2-547448a9dc6f          13   \n",
              "11  05440797-8533-4496-b6ea-c414a4379fea          50   \n",
              "12  0572f1eb-2193-4dd6-b32e-b168806a1531          19   \n",
              "13  05e535a9-2021-4393-a19e-6a0277034323           3   \n",
              "14  074ff4d0-27b3-4854-8996-0c7adff14ce8          17   \n",
              "15  07de0f5d-2770-4950-affa-28f03dbc3c29          14   \n",
              "16  08785973-8224-40f9-bf67-324cfb78238b          10   \n",
              "17  0880ff73-c71c-4eb4-9927-c410300b59f8          50   \n",
              "18  08b6e1fd-b9da-4fe3-8c3e-7bdaedca19b3          50   \n",
              "19  09d09df9-c52b-42dd-8b7c-05c902697027          50   \n",
              "\n",
              "                                           references  \\\n",
              "0   [2d84c0f2-e656-4ce7-b018-90eda1c132fe, a083a1b...   \n",
              "1                                              [self]   \n",
              "2              [afa6d820-c762-4285-a25d-9dd985929ec3]   \n",
              "3   [3c60b421-a347-4d55-b603-bc34f5c2a40d, 4176c23...   \n",
              "4   [a3a30fff-664e-4e0f-86d5-5eb9a61a6af1, db09268...   \n",
              "5   [3140c9ba-8d98-42a7-b6b8-c58fdaa8fe75, 4708b4d...   \n",
              "6   [3a6f3221-72f5-45d4-9fc4-8e7f8944bf50, 5ae2116...   \n",
              "7   [0ce446cf-4f4f-49d5-b08c-e7dcacebf53b, feb8471...   \n",
              "8   [04f8d077-765a-4145-bf14-bace8fc3a7c9, 07b11cc...   \n",
              "9                                              [self]   \n",
              "10                                             [self]   \n",
              "11  [16fa7ec5-e52d-45fe-b2da-b58421e675d9, 1883008...   \n",
              "12             [9c923cfa-f349-4063-a4c5-0b78bef18d53]   \n",
              "13  [68453f24-4276-4d0c-b37e-19d23af549be, c3f183f...   \n",
              "14  [0c44460f-f903-491d-86aa-cb9acc6195ce, 1cf5d42...   \n",
              "15                                             [self]   \n",
              "16  [084fdbdf-147e-40c9-bbde-3f402e70aee0, 1fe312d...   \n",
              "17                                             [self]   \n",
              "18  [39058eb5-778f-41eb-85aa-fc630f5c2d92, 50d272c...   \n",
              "19  [01b486c4-8955-403b-a0c6-1de74298b215, 1ce7a9a...   \n",
              "\n",
              "                                                title  venue  year  \\\n",
              "0   Comparison of GARCH, Neural Network and Suppor...   3086  2009   \n",
              "1   Multisymplectic Spectral Methods for the Gross...   2633  2002   \n",
              "2   Relational Abstract Interpretation of Higher O...      0  1991   \n",
              "3   Leveraging legacy code to deploy desktop appli...   3052  2008   \n",
              "4   Word pairs in language modeling for informatio...      0  2004   \n",
              "5                Leakage-Resilient spatial encryption      0  2012   \n",
              "6   On system rollback and totalized fields: An al...   1768  2011   \n",
              "7   Model-Driven Strategic Awareness: From a Unifi...      0  2012   \n",
              "8   Quality Assessment on User Generated Image for...   2227  2013   \n",
              "9   Multi-layer topology preserving mapping for K-...   2548  2011   \n",
              "10                 Kernel PLS variants for regression   3278  2003   \n",
              "11  Hypergraph Transversal Computation with Binary...   3247  2013   \n",
              "12  A Comparative Study of Scrum and Kanban Approa...      0  2012   \n",
              "13  Acquiring entailment pairs across languages an...      0  2011   \n",
              "14  Context-Aware Staged Configuration of Process ...   2201  2014   \n",
              "15  GTP supertrees from unrooted gene trees: linea...   2837  2012   \n",
              "16  Improving the optimal bounds for black hole se...      0  2011   \n",
              "17  WorkCellSimulator: a 3d simulator for intellig...   3194  2012   \n",
              "18  How Preprocessing Affects Unsupervised Keyphra...   2614  2014   \n",
              "19  UNT: A Supervised Synergistic Approach to Sema...   3050  2012   \n",
              "\n",
              "    importance  author_count  references_count  Topic  pageRankValue  \\\n",
              "0            0             4               2.0      1            NaN   \n",
              "1           50             2               0.0      8            NaN   \n",
              "2           12             2               5.0      2       0.000000   \n",
              "3         1311             4              25.0      9     430.434035   \n",
              "4          154             3              13.0      5       2.482948   \n",
              "5            0             2               8.0      7            NaN   \n",
              "6            2             2              15.0      8       0.000000   \n",
              "7           56             3               9.0      4       0.000000   \n",
              "8            0             4              25.0      6            NaN   \n",
              "9            4             3               7.0      9            NaN   \n",
              "10           6             4               3.0      5       0.000000   \n",
              "11          62             1              15.0      8       0.000000   \n",
              "12          13             5               9.0      4            NaN   \n",
              "13          50             2               7.0      6            NaN   \n",
              "14         102             4              18.0      7       0.000000   \n",
              "15          65             3               9.0      8       0.000000   \n",
              "16         105             4              20.0      8       0.227164   \n",
              "17           0             6               4.0      4            NaN   \n",
              "18           3             3              19.0      3            NaN   \n",
              "19          52             4              20.0      5       0.000000   \n",
              "\n",
              "    totalOutbounds      ratio  sentiment  citation_sentiment  \n",
              "0              2.0        NaN          1                 0.0  \n",
              "1              NaN        NaN          0                 0.0  \n",
              "2              1.0   0.000000          1                 1.0  \n",
              "3              9.0  47.826004          1                 4.0  \n",
              "4              2.0   1.241474         -1                 1.0  \n",
              "5              7.0        NaN          1                 0.0  \n",
              "6              7.0   0.000000          1                 1.0  \n",
              "7              2.0   0.000000          1                 0.0  \n",
              "8              6.0        NaN          1                 0.0  \n",
              "9              NaN        NaN         -1                 0.0  \n",
              "10             NaN        NaN          0                 1.0  \n",
              "11             5.0   0.000000          0                 0.0  \n",
              "12             1.0        NaN          1                 0.0  \n",
              "13             2.0        NaN          1                 0.0  \n",
              "14             7.0   0.000000          1                 1.0  \n",
              "15             NaN        NaN         -1                 0.0  \n",
              "16            12.0   0.018930          1                -2.0  \n",
              "17             NaN        NaN          1                 0.0  \n",
              "18             5.0        NaN          1                 0.0  \n",
              "19             7.0   0.000000          1                 0.0  "
            ]
          },
          "metadata": {
            "tags": []
          },
          "execution_count": 21
        }
      ]
    },
    {
      "metadata": {
        "id": "SnlAz2h92GXQ",
        "colab_type": "code",
        "outputId": "bd293595-13b9-4257-e272-8ef29ef9ce40",
        "colab": {
          "base_uri": "https://localhost:8080/",
          "height": 34
        }
      },
      "cell_type": "code",
      "source": [
        "df_result['citation_sentiment'].isna().sum()"
      ],
      "execution_count": 0,
      "outputs": [
        {
          "output_type": "execute_result",
          "data": {
            "text/plain": [
              "126120"
            ]
          },
          "metadata": {
            "tags": []
          },
          "execution_count": 17
        }
      ]
    },
    {
      "metadata": {
        "id": "enL3goDD2XtN",
        "colab_type": "code",
        "colab": {}
      },
      "cell_type": "code",
      "source": [
        "df_result['citation_sentiment'].fillna(0.0,inplace=True)"
      ],
      "execution_count": 0,
      "outputs": []
    },
    {
      "metadata": {
        "id": "2TNz221C3M93",
        "colab_type": "code",
        "outputId": "8ccbc9b2-f305-495e-9dff-1148079458bd",
        "colab": {
          "base_uri": "https://localhost:8080/",
          "height": 34
        }
      },
      "cell_type": "code",
      "source": [
        "if '001c8744-73c4-4b04-9364-22d31a10dbf1' in chain.from_iterable(df_result['references']):\n",
        "  print(\"True\")\n",
        "else:\n",
        "  print(\"False\")"
      ],
      "execution_count": 0,
      "outputs": [
        {
          "output_type": "stream",
          "text": [
            "False\n"
          ],
          "name": "stdout"
        }
      ]
    },
    {
      "metadata": {
        "id": "9gGMe20K4Wiv",
        "colab_type": "code",
        "colab": {}
      },
      "cell_type": "code",
      "source": [
        "'' in chain.from_iterable(example_list)"
      ],
      "execution_count": 0,
      "outputs": []
    },
    {
      "metadata": {
        "id": "HfCHzpXp5UT1",
        "colab_type": "code",
        "colab": {}
      },
      "cell_type": "code",
      "source": [
        "final_df = df_result[['id', 'sentiment', 'citation_sentiment']].copy()"
      ],
      "execution_count": 0,
      "outputs": []
    },
    {
      "metadata": {
        "id": "am8fC7xDmlt1",
        "colab_type": "text"
      },
      "cell_type": "markdown",
      "source": [
        "# PERFORMING TIME ANALYSIS"
      ]
    },
    {
      "metadata": {
        "id": "H6EB2a7Q6bSU",
        "colab_type": "code",
        "colab": {}
      },
      "cell_type": "code",
      "source": [
        "final_df.to_pickle('/content/drive/My Drive/pickle_citation_sentiment_analysis')"
      ],
      "execution_count": 0,
      "outputs": []
    },
    {
      "metadata": {
        "id": "p61dRTSQ6u6Y",
        "colab_type": "code",
        "colab": {}
      },
      "cell_type": "code",
      "source": [
        "df1=pd.read_pickle('drive/My Drive/ayush_ranking_score_plus_z_score')\n",
        "df2=pd.read_pickle('drive/My Drive/complete_data')\n",
        "df3=pd.read_pickle('drive/My Drive/gaurav_share')"
      ],
      "execution_count": 0,
      "outputs": []
    },
    {
      "metadata": {
        "id": "4ULRRQ7O5Ci1",
        "colab_type": "code",
        "colab": {
          "base_uri": "https://localhost:8080/",
          "height": 644
        },
        "outputId": "7e33cb2d-0056-4221-e41d-4a5fc3061834"
      },
      "cell_type": "code",
      "source": [
        "df2.head()"
      ],
      "execution_count": 23,
      "outputs": [
        {
          "output_type": "execute_result",
          "data": {
            "text/html": [
              "<div>\n",
              "<style scoped>\n",
              "    .dataframe tbody tr th:only-of-type {\n",
              "        vertical-align: middle;\n",
              "    }\n",
              "\n",
              "    .dataframe tbody tr th {\n",
              "        vertical-align: top;\n",
              "    }\n",
              "\n",
              "    .dataframe thead th {\n",
              "        text-align: right;\n",
              "    }\n",
              "</style>\n",
              "<table border=\"1\" class=\"dataframe\">\n",
              "  <thead>\n",
              "    <tr style=\"text-align: right;\">\n",
              "      <th></th>\n",
              "      <th>abstract</th>\n",
              "      <th>authors</th>\n",
              "      <th>id</th>\n",
              "      <th>n_citation</th>\n",
              "      <th>references</th>\n",
              "      <th>title</th>\n",
              "      <th>venue</th>\n",
              "      <th>year</th>\n",
              "      <th>importance</th>\n",
              "      <th>author_count</th>\n",
              "      <th>...</th>\n",
              "      <th>venue_citation_max</th>\n",
              "      <th>venue_citation_count</th>\n",
              "      <th>venue_citation_avg</th>\n",
              "      <th>domain_citation_sum</th>\n",
              "      <th>domain_citation_max</th>\n",
              "      <th>domain_citation_count</th>\n",
              "      <th>domain_citation_avg</th>\n",
              "      <th>citation_sentiment</th>\n",
              "      <th>time_factor</th>\n",
              "      <th>reach</th>\n",
              "    </tr>\n",
              "  </thead>\n",
              "  <tbody>\n",
              "    <tr>\n",
              "      <th>0</th>\n",
              "      <td>This article applied GARCH model instead AR or...</td>\n",
              "      <td>[Altaf Hossain, Faisal Zaman, Mohammed Nasser,...</td>\n",
              "      <td>001c8744-73c4-4b04-9364-22d31a10dbf1</td>\n",
              "      <td>50</td>\n",
              "      <td>[2d84c0f2-e656-4ce7-b018-90eda1c132fe, a083a1b...</td>\n",
              "      <td>Comparison of GARCH, Neural Network and Suppor...</td>\n",
              "      <td>3086</td>\n",
              "      <td>2009</td>\n",
              "      <td>0</td>\n",
              "      <td>4</td>\n",
              "      <td>...</td>\n",
              "      <td>120</td>\n",
              "      <td>110</td>\n",
              "      <td>33.754545</td>\n",
              "      <td>1066046</td>\n",
              "      <td>11411</td>\n",
              "      <td>18674</td>\n",
              "      <td>57.087180</td>\n",
              "      <td>0.0</td>\n",
              "      <td>8.399536e-09</td>\n",
              "      <td>7.0</td>\n",
              "    </tr>\n",
              "    <tr>\n",
              "      <th>1</th>\n",
              "      <td>Recently, Bridges and Reich introduced the con...</td>\n",
              "      <td>[Alvaro L. Islas, Constance M. Schober]</td>\n",
              "      <td>00bcf2d5-1592-46b0-81fd-933f90b5ecca</td>\n",
              "      <td>50</td>\n",
              "      <td>[self]</td>\n",
              "      <td>Multisymplectic Spectral Methods for the Gross...</td>\n",
              "      <td>2633</td>\n",
              "      <td>2002</td>\n",
              "      <td>50</td>\n",
              "      <td>2</td>\n",
              "      <td>...</td>\n",
              "      <td>567</td>\n",
              "      <td>1485</td>\n",
              "      <td>32.777778</td>\n",
              "      <td>2808556</td>\n",
              "      <td>73362</td>\n",
              "      <td>51247</td>\n",
              "      <td>54.804301</td>\n",
              "      <td>0.0</td>\n",
              "      <td>5.500736e-09</td>\n",
              "      <td>2.0</td>\n",
              "    </tr>\n",
              "    <tr>\n",
              "      <th>2</th>\n",
              "      <td>Most applications of the abstract interpretati...</td>\n",
              "      <td>[Patrick Cousot, Radhia Cousot]</td>\n",
              "      <td>00c85316-bddf-4bcb-93f5-097adadd73c2</td>\n",
              "      <td>50</td>\n",
              "      <td>[afa6d820-c762-4285-a25d-9dd985929ec3]</td>\n",
              "      <td>Relational Abstract Interpretation of Higher O...</td>\n",
              "      <td>0</td>\n",
              "      <td>1991</td>\n",
              "      <td>12</td>\n",
              "      <td>2</td>\n",
              "      <td>...</td>\n",
              "      <td>73362</td>\n",
              "      <td>41253</td>\n",
              "      <td>54.262526</td>\n",
              "      <td>1683285</td>\n",
              "      <td>15096</td>\n",
              "      <td>30371</td>\n",
              "      <td>55.424089</td>\n",
              "      <td>1.0</td>\n",
              "      <td>6.520059e-08</td>\n",
              "      <td>0.0</td>\n",
              "    </tr>\n",
              "    <tr>\n",
              "      <th>3</th>\n",
              "      <td>Xax is a browser plugin model that enables dev...</td>\n",
              "      <td>[John R. Douceur, Jeremy Elson, Jon Howell, Ja...</td>\n",
              "      <td>010d4ce9-0279-4166-ae73-14551ded6404</td>\n",
              "      <td>50</td>\n",
              "      <td>[3c60b421-a347-4d55-b603-bc34f5c2a40d, 4176c23...</td>\n",
              "      <td>Leveraging legacy code to deploy desktop appli...</td>\n",
              "      <td>3052</td>\n",
              "      <td>2008</td>\n",
              "      <td>1311</td>\n",
              "      <td>4</td>\n",
              "      <td>...</td>\n",
              "      <td>1988</td>\n",
              "      <td>140</td>\n",
              "      <td>215.914286</td>\n",
              "      <td>2265051</td>\n",
              "      <td>11120</td>\n",
              "      <td>43445</td>\n",
              "      <td>52.136057</td>\n",
              "      <td>4.0</td>\n",
              "      <td>4.063689e-09</td>\n",
              "      <td>6.0</td>\n",
              "    </tr>\n",
              "    <tr>\n",
              "      <th>4</th>\n",
              "      <td>Previous language modeling approaches to infor...</td>\n",
              "      <td>[Carmen Fernández-Daza Álvarez, Philippe Langl...</td>\n",
              "      <td>012b88ae-a763-45d6-8f19-2ec9ff739d5f</td>\n",
              "      <td>50</td>\n",
              "      <td>[a3a30fff-664e-4e0f-86d5-5eb9a61a6af1, db09268...</td>\n",
              "      <td>Word pairs in language modeling for informatio...</td>\n",
              "      <td>0</td>\n",
              "      <td>2004</td>\n",
              "      <td>154</td>\n",
              "      <td>3</td>\n",
              "      <td>...</td>\n",
              "      <td>73362</td>\n",
              "      <td>41253</td>\n",
              "      <td>54.262526</td>\n",
              "      <td>2628141</td>\n",
              "      <td>10199</td>\n",
              "      <td>47091</td>\n",
              "      <td>55.809836</td>\n",
              "      <td>1.0</td>\n",
              "      <td>6.345459e-09</td>\n",
              "      <td>4.0</td>\n",
              "    </tr>\n",
              "  </tbody>\n",
              "</table>\n",
              "<p>5 rows × 32 columns</p>\n",
              "</div>"
            ],
            "text/plain": [
              "                                            abstract  \\\n",
              "0  This article applied GARCH model instead AR or...   \n",
              "1  Recently, Bridges and Reich introduced the con...   \n",
              "2  Most applications of the abstract interpretati...   \n",
              "3  Xax is a browser plugin model that enables dev...   \n",
              "4  Previous language modeling approaches to infor...   \n",
              "\n",
              "                                             authors  \\\n",
              "0  [Altaf Hossain, Faisal Zaman, Mohammed Nasser,...   \n",
              "1            [Alvaro L. Islas, Constance M. Schober]   \n",
              "2                    [Patrick Cousot, Radhia Cousot]   \n",
              "3  [John R. Douceur, Jeremy Elson, Jon Howell, Ja...   \n",
              "4  [Carmen Fernández-Daza Álvarez, Philippe Langl...   \n",
              "\n",
              "                                     id  n_citation  \\\n",
              "0  001c8744-73c4-4b04-9364-22d31a10dbf1          50   \n",
              "1  00bcf2d5-1592-46b0-81fd-933f90b5ecca          50   \n",
              "2  00c85316-bddf-4bcb-93f5-097adadd73c2          50   \n",
              "3  010d4ce9-0279-4166-ae73-14551ded6404          50   \n",
              "4  012b88ae-a763-45d6-8f19-2ec9ff739d5f          50   \n",
              "\n",
              "                                          references  \\\n",
              "0  [2d84c0f2-e656-4ce7-b018-90eda1c132fe, a083a1b...   \n",
              "1                                             [self]   \n",
              "2             [afa6d820-c762-4285-a25d-9dd985929ec3]   \n",
              "3  [3c60b421-a347-4d55-b603-bc34f5c2a40d, 4176c23...   \n",
              "4  [a3a30fff-664e-4e0f-86d5-5eb9a61a6af1, db09268...   \n",
              "\n",
              "                                               title  venue  year  importance  \\\n",
              "0  Comparison of GARCH, Neural Network and Suppor...   3086  2009           0   \n",
              "1  Multisymplectic Spectral Methods for the Gross...   2633  2002          50   \n",
              "2  Relational Abstract Interpretation of Higher O...      0  1991          12   \n",
              "3  Leveraging legacy code to deploy desktop appli...   3052  2008        1311   \n",
              "4  Word pairs in language modeling for informatio...      0  2004         154   \n",
              "\n",
              "   author_count  ...    venue_citation_max  venue_citation_count  \\\n",
              "0             4  ...                   120                   110   \n",
              "1             2  ...                   567                  1485   \n",
              "2             2  ...                 73362                 41253   \n",
              "3             4  ...                  1988                   140   \n",
              "4             3  ...                 73362                 41253   \n",
              "\n",
              "   venue_citation_avg  domain_citation_sum  domain_citation_max  \\\n",
              "0           33.754545              1066046                11411   \n",
              "1           32.777778              2808556                73362   \n",
              "2           54.262526              1683285                15096   \n",
              "3          215.914286              2265051                11120   \n",
              "4           54.262526              2628141                10199   \n",
              "\n",
              "   domain_citation_count  domain_citation_avg  citation_sentiment  \\\n",
              "0                  18674            57.087180                 0.0   \n",
              "1                  51247            54.804301                 0.0   \n",
              "2                  30371            55.424089                 1.0   \n",
              "3                  43445            52.136057                 4.0   \n",
              "4                  47091            55.809836                 1.0   \n",
              "\n",
              "    time_factor  reach  \n",
              "0  8.399536e-09    7.0  \n",
              "1  5.500736e-09    2.0  \n",
              "2  6.520059e-08    0.0  \n",
              "3  4.063689e-09    6.0  \n",
              "4  6.345459e-09    4.0  \n",
              "\n",
              "[5 rows x 32 columns]"
            ]
          },
          "metadata": {
            "tags": []
          },
          "execution_count": 23
        }
      ]
    },
    {
      "metadata": {
        "id": "6Qq1-SAF5Gzw",
        "colab_type": "code",
        "colab": {
          "base_uri": "https://localhost:8080/",
          "height": 34
        },
        "outputId": "fedda2c9-6a8e-472a-a1bc-a4a2184b3e65"
      },
      "cell_type": "code",
      "source": [
        "len(df3.columns)"
      ],
      "execution_count": 9,
      "outputs": [
        {
          "output_type": "execute_result",
          "data": {
            "text/plain": [
              "20"
            ]
          },
          "metadata": {
            "tags": []
          },
          "execution_count": 9
        }
      ]
    },
    {
      "metadata": {
        "id": "qOKmutNw5WjY",
        "colab_type": "code",
        "colab": {
          "base_uri": "https://localhost:8080/",
          "height": 34
        },
        "outputId": "e285d12e-08a5-47a2-f197-14f9704a4555"
      },
      "cell_type": "code",
      "source": [
        "df1.iloc[]min(df1['time_factor_Zscore'])"
      ],
      "execution_count": 21,
      "outputs": [
        {
          "output_type": "execute_result",
          "data": {
            "text/plain": [
              "-0.005514285611874905"
            ]
          },
          "metadata": {
            "tags": []
          },
          "execution_count": 21
        }
      ]
    },
    {
      "metadata": {
        "id": "VsiVImLX6FOc",
        "colab_type": "code",
        "colab": {
          "base_uri": "https://localhost:8080/",
          "height": 51
        },
        "outputId": "43f31fb9-24de-4bf5-9439-028b4c63f8ae"
      },
      "cell_type": "code",
      "source": [
        "df2.loc[df2['n_citation'] == max(df2['n_citation'])]['time_factor']\n",
        "df2.loc[df2['n_citation'] == max(df2['n_citation'])]['Topic']"
      ],
      "execution_count": 28,
      "outputs": [
        {
          "output_type": "execute_result",
          "data": {
            "text/plain": [
              "160097    8\n",
              "Name: Topic, dtype: int64"
            ]
          },
          "metadata": {
            "tags": []
          },
          "execution_count": 28
        }
      ]
    },
    {
      "metadata": {
        "id": "sdW4ZAuGH3gP",
        "colab_type": "code",
        "colab": {}
      },
      "cell_type": "code",
      "source": [
        "df2.loc[df2['n_citation'] == max(df2['n_citation'])]['Topic']"
      ],
      "execution_count": 0,
      "outputs": []
    },
    {
      "metadata": {
        "id": "Ge83D6kzIM2H",
        "colab_type": "code",
        "colab": {}
      },
      "cell_type": "code",
      "source": [
        "df_temp1=df2[df2['Topic']==1].groupby('year').agg({'n_citation':'max'})"
      ],
      "execution_count": 0,
      "outputs": []
    },
    {
      "metadata": {
        "id": "gGhkqxRJI-4c",
        "colab_type": "code",
        "colab": {}
      },
      "cell_type": "code",
      "source": [
        "df_temp1['year'] = df_temp1.index"
      ],
      "execution_count": 0,
      "outputs": []
    },
    {
      "metadata": {
        "id": "36ck-wY6Jv3T",
        "colab_type": "code",
        "colab": {
          "base_uri": "https://localhost:8080/",
          "height": 111
        },
        "outputId": "7920b7d4-d0cf-455d-9199-88ef922967a8"
      },
      "cell_type": "code",
      "source": [
        "df_temp1[df_temp1.year==1970]"
      ],
      "execution_count": 73,
      "outputs": [
        {
          "output_type": "execute_result",
          "data": {
            "text/html": [
              "<div>\n",
              "<style scoped>\n",
              "    .dataframe tbody tr th:only-of-type {\n",
              "        vertical-align: middle;\n",
              "    }\n",
              "\n",
              "    .dataframe tbody tr th {\n",
              "        vertical-align: top;\n",
              "    }\n",
              "\n",
              "    .dataframe thead th {\n",
              "        text-align: right;\n",
              "    }\n",
              "</style>\n",
              "<table border=\"1\" class=\"dataframe\">\n",
              "  <thead>\n",
              "    <tr style=\"text-align: right;\">\n",
              "      <th></th>\n",
              "      <th>n_citation</th>\n",
              "      <th>year</th>\n",
              "    </tr>\n",
              "    <tr>\n",
              "      <th>year</th>\n",
              "      <th></th>\n",
              "      <th></th>\n",
              "    </tr>\n",
              "  </thead>\n",
              "  <tbody>\n",
              "    <tr>\n",
              "      <th>1970</th>\n",
              "      <td>50</td>\n",
              "      <td>1970</td>\n",
              "    </tr>\n",
              "  </tbody>\n",
              "</table>\n",
              "</div>"
            ],
            "text/plain": [
              "      n_citation  year\n",
              "year                  \n",
              "1970          50  1970"
            ]
          },
          "metadata": {
            "tags": []
          },
          "execution_count": 73
        }
      ]
    },
    {
      "metadata": {
        "id": "1h-vxHuyKluk",
        "colab_type": "code",
        "colab": {
          "base_uri": "https://localhost:8080/",
          "height": 301
        },
        "outputId": "d2502639-aa3e-4b02-c8da-c1a1e650460b"
      },
      "cell_type": "code",
      "source": [
        "row=df2.loc[df2['n_citation'] == 50]\n",
        "row=row.loc[df2['year']== 1970]\n",
        "row2=row.loc[df2['Topic']==1]\n",
        "row2['time_factor']=row2['time_factor']*10000000\n",
        "row2['Topic']='NLP'\n",
        "row2=row2[['authors','id','n_citation','title','year','year_citation_sum','year_citation_max','age','Topic','time_factor']].copy()\n",
        "row2.head(1)"
      ],
      "execution_count": 91,
      "outputs": [
        {
          "output_type": "stream",
          "text": [
            "/usr/local/lib/python3.6/dist-packages/ipykernel_launcher.py:4: SettingWithCopyWarning: \n",
            "A value is trying to be set on a copy of a slice from a DataFrame.\n",
            "Try using .loc[row_indexer,col_indexer] = value instead\n",
            "\n",
            "See the caveats in the documentation: http://pandas.pydata.org/pandas-docs/stable/indexing.html#indexing-view-versus-copy\n",
            "  after removing the cwd from sys.path.\n",
            "/usr/local/lib/python3.6/dist-packages/ipykernel_launcher.py:5: SettingWithCopyWarning: \n",
            "A value is trying to be set on a copy of a slice from a DataFrame.\n",
            "Try using .loc[row_indexer,col_indexer] = value instead\n",
            "\n",
            "See the caveats in the documentation: http://pandas.pydata.org/pandas-docs/stable/indexing.html#indexing-view-versus-copy\n",
            "  \"\"\"\n"
          ],
          "name": "stderr"
        },
        {
          "output_type": "execute_result",
          "data": {
            "text/html": [
              "<div>\n",
              "<style scoped>\n",
              "    .dataframe tbody tr th:only-of-type {\n",
              "        vertical-align: middle;\n",
              "    }\n",
              "\n",
              "    .dataframe tbody tr th {\n",
              "        vertical-align: top;\n",
              "    }\n",
              "\n",
              "    .dataframe thead th {\n",
              "        text-align: right;\n",
              "    }\n",
              "</style>\n",
              "<table border=\"1\" class=\"dataframe\">\n",
              "  <thead>\n",
              "    <tr style=\"text-align: right;\">\n",
              "      <th></th>\n",
              "      <th>authors</th>\n",
              "      <th>id</th>\n",
              "      <th>n_citation</th>\n",
              "      <th>title</th>\n",
              "      <th>year</th>\n",
              "      <th>year_citation_sum</th>\n",
              "      <th>year_citation_max</th>\n",
              "      <th>age</th>\n",
              "      <th>Topic</th>\n",
              "      <th>time_factor</th>\n",
              "    </tr>\n",
              "  </thead>\n",
              "  <tbody>\n",
              "    <tr>\n",
              "      <th>35144</th>\n",
              "      <td>[Rudolf Krawczyk]</td>\n",
              "      <td>8fce594c-da33-4ac4-8761-948425495542</td>\n",
              "      <td>50</td>\n",
              "      <td>Verbesserung von Schranken für Eigenwerte und ...</td>\n",
              "      <td>1970</td>\n",
              "      <td>7049</td>\n",
              "      <td>982</td>\n",
              "      <td>48</td>\n",
              "      <td>NLP</td>\n",
              "      <td>72.232227</td>\n",
              "    </tr>\n",
              "  </tbody>\n",
              "</table>\n",
              "</div>"
            ],
            "text/plain": [
              "                 authors                                    id  n_citation  \\\n",
              "35144  [Rudolf Krawczyk]  8fce594c-da33-4ac4-8761-948425495542          50   \n",
              "\n",
              "                                                   title  year  \\\n",
              "35144  Verbesserung von Schranken für Eigenwerte und ...  1970   \n",
              "\n",
              "       year_citation_sum  year_citation_max  age Topic  time_factor  \n",
              "35144               7049                982   48   NLP    72.232227  "
            ]
          },
          "metadata": {
            "tags": []
          },
          "execution_count": 91
        }
      ]
    },
    {
      "metadata": {
        "id": "PzXIUN2lmtOn",
        "colab_type": "text"
      },
      "cell_type": "markdown",
      "source": [
        "PAPER WITH LOW CITATION COUNT BUT HIGH TIME FACTOR"
      ]
    },
    {
      "metadata": {
        "id": "AXwDiVojLv5A",
        "colab_type": "code",
        "colab": {
          "base_uri": "https://localhost:8080/",
          "height": 111
        },
        "outputId": "84a3ef55-8063-4b2b-bb50-af2a02d2e7fa"
      },
      "cell_type": "code",
      "source": [
        "df_temp1[df_temp1.year==2013]"
      ],
      "execution_count": 79,
      "outputs": [
        {
          "output_type": "execute_result",
          "data": {
            "text/html": [
              "<div>\n",
              "<style scoped>\n",
              "    .dataframe tbody tr th:only-of-type {\n",
              "        vertical-align: middle;\n",
              "    }\n",
              "\n",
              "    .dataframe tbody tr th {\n",
              "        vertical-align: top;\n",
              "    }\n",
              "\n",
              "    .dataframe thead th {\n",
              "        text-align: right;\n",
              "    }\n",
              "</style>\n",
              "<table border=\"1\" class=\"dataframe\">\n",
              "  <thead>\n",
              "    <tr style=\"text-align: right;\">\n",
              "      <th></th>\n",
              "      <th>n_citation</th>\n",
              "      <th>year</th>\n",
              "    </tr>\n",
              "    <tr>\n",
              "      <th>year</th>\n",
              "      <th></th>\n",
              "      <th></th>\n",
              "    </tr>\n",
              "  </thead>\n",
              "  <tbody>\n",
              "    <tr>\n",
              "      <th>2013</th>\n",
              "      <td>2233</td>\n",
              "      <td>2013</td>\n",
              "    </tr>\n",
              "  </tbody>\n",
              "</table>\n",
              "</div>"
            ],
            "text/plain": [
              "      n_citation  year\n",
              "year                  \n",
              "2013        2233  2013"
            ]
          },
          "metadata": {
            "tags": []
          },
          "execution_count": 79
        }
      ]
    },
    {
      "metadata": {
        "id": "sxaRiPJlm1M5",
        "colab_type": "text"
      },
      "cell_type": "markdown",
      "source": [
        "PAPER WITH LOW CITATION COUNT BUT HIGH TIME FACTOR"
      ]
    },
    {
      "metadata": {
        "id": "ivpR-EnIL20L",
        "colab_type": "code",
        "colab": {
          "base_uri": "https://localhost:8080/",
          "height": 114
        },
        "outputId": "4da45750-78b8-432a-eae1-86a959f3aa4b"
      },
      "cell_type": "code",
      "source": [
        "row=df2.loc[df2['n_citation'] == 2233]\n",
        "row1=row.loc[df2['year']== 2013]\n",
        "row1['time_factor']=row1['time_factor']*10000000\n",
        "row1['Topic']='NLP'\n",
        "row1=row1[['abstract','authors','id','n_citation','title','year','year_citation_sum','year_citation_max','age','Topic','time_factor']].copy()\n",
        "row1.head()"
      ],
      "execution_count": 90,
      "outputs": [
        {
          "output_type": "execute_result",
          "data": {
            "text/html": [
              "<div>\n",
              "<style scoped>\n",
              "    .dataframe tbody tr th:only-of-type {\n",
              "        vertical-align: middle;\n",
              "    }\n",
              "\n",
              "    .dataframe tbody tr th {\n",
              "        vertical-align: top;\n",
              "    }\n",
              "\n",
              "    .dataframe thead th {\n",
              "        text-align: right;\n",
              "    }\n",
              "</style>\n",
              "<table border=\"1\" class=\"dataframe\">\n",
              "  <thead>\n",
              "    <tr style=\"text-align: right;\">\n",
              "      <th></th>\n",
              "      <th>abstract</th>\n",
              "      <th>authors</th>\n",
              "      <th>id</th>\n",
              "      <th>n_citation</th>\n",
              "      <th>title</th>\n",
              "      <th>year</th>\n",
              "      <th>year_citation_sum</th>\n",
              "      <th>year_citation_max</th>\n",
              "      <th>age</th>\n",
              "      <th>Topic</th>\n",
              "      <th>time_factor</th>\n",
              "    </tr>\n",
              "  </thead>\n",
              "  <tbody>\n",
              "    <tr>\n",
              "      <th>39468</th>\n",
              "      <td>A common problem with designing and developing...</td>\n",
              "      <td>[Marianna Obrist, Sue Ann Seah, Sriram Subrama...</td>\n",
              "      <td>02971f2f-01b0-4330-ab05-78b330fb656b</td>\n",
              "      <td>2233</td>\n",
              "      <td>Talking about tactile experiences</td>\n",
              "      <td>2013</td>\n",
              "      <td>845321</td>\n",
              "      <td>6186</td>\n",
              "      <td>5</td>\n",
              "      <td>NLP</td>\n",
              "      <td>4.270288</td>\n",
              "    </tr>\n",
              "  </tbody>\n",
              "</table>\n",
              "</div>"
            ],
            "text/plain": [
              "                                                abstract  \\\n",
              "39468  A common problem with designing and developing...   \n",
              "\n",
              "                                                 authors  \\\n",
              "39468  [Marianna Obrist, Sue Ann Seah, Sriram Subrama...   \n",
              "\n",
              "                                         id  n_citation  \\\n",
              "39468  02971f2f-01b0-4330-ab05-78b330fb656b        2233   \n",
              "\n",
              "                                   title  year  year_citation_sum  \\\n",
              "39468  Talking about tactile experiences  2013             845321   \n",
              "\n",
              "       year_citation_max  age Topic  time_factor  \n",
              "39468               6186    5   NLP     4.270288  "
            ]
          },
          "metadata": {
            "tags": []
          },
          "execution_count": 90
        }
      ]
    },
    {
      "metadata": {
        "id": "lq_1gyQAEns3",
        "colab_type": "code",
        "colab": {
          "base_uri": "https://localhost:8080/",
          "height": 646
        },
        "outputId": "a9863cbd-0eec-4f98-d063-c915d3e9e855"
      },
      "cell_type": "code",
      "source": [
        "df2.info()"
      ],
      "execution_count": 27,
      "outputs": [
        {
          "output_type": "stream",
          "text": [
            "<class 'pandas.core.frame.DataFrame'>\n",
            "Int64Index: 352014 entries, 0 to 352013\n",
            "Data columns (total 32 columns):\n",
            "abstract                 352014 non-null object\n",
            "authors                  352014 non-null object\n",
            "id                       352014 non-null object\n",
            "n_citation               352014 non-null int64\n",
            "references               352014 non-null object\n",
            "title                    352014 non-null object\n",
            "venue                    352014 non-null int64\n",
            "year                     352014 non-null int64\n",
            "importance               352014 non-null int64\n",
            "author_count             352014 non-null int64\n",
            "references_count         352014 non-null float64\n",
            "Topic                    352014 non-null int64\n",
            "pageRankValue            237349 non-null float64\n",
            "totalOutbounds           273254 non-null float64\n",
            "ratio                    189723 non-null float64\n",
            "sentiment                352014 non-null int64\n",
            "year_citation_sum        352014 non-null int64\n",
            "year_citation_max        352014 non-null int64\n",
            "year_citation_count      352014 non-null int64\n",
            "year_citation_avg        352014 non-null float64\n",
            "age                      352014 non-null int64\n",
            "venue_citation_sum       352014 non-null int64\n",
            "venue_citation_max       352014 non-null int64\n",
            "venue_citation_count     352014 non-null int64\n",
            "venue_citation_avg       352014 non-null float64\n",
            "domain_citation_sum      352014 non-null int64\n",
            "domain_citation_max      352014 non-null int64\n",
            "domain_citation_count    352014 non-null int64\n",
            "domain_citation_avg      352014 non-null float64\n",
            "citation_sentiment       352014 non-null float64\n",
            "time_factor              352014 non-null float64\n",
            "reach                    352014 non-null float64\n",
            "dtypes: float64(10), int64(17), object(5)\n",
            "memory usage: 88.6+ MB\n"
          ],
          "name": "stdout"
        }
      ]
    },
    {
      "metadata": {
        "id": "YH36sy3nm4MK",
        "colab_type": "text"
      },
      "cell_type": "markdown",
      "source": [
        "# PREDICTING PAPERS IN ARXIV"
      ]
    },
    {
      "metadata": {
        "id": "PvxxyLX-m72q",
        "colab_type": "code",
        "colab": {}
      },
      "cell_type": "code",
      "source": [
        "df_ax=pd.read_pickle('drive/My Drive/prediction_training_data')"
      ],
      "execution_count": 0,
      "outputs": []
    },
    {
      "metadata": {
        "id": "7xWC-8XGqPC7",
        "colab_type": "code",
        "colab": {}
      },
      "cell_type": "code",
      "source": [
        "df_ax.drop(columns=['time_factor'],inplace=True)"
      ],
      "execution_count": 0,
      "outputs": []
    },
    {
      "metadata": {
        "id": "oiV-0HTfq_ov",
        "colab_type": "code",
        "colab": {}
      },
      "cell_type": "code",
      "source": [
        "df_ax['age']=2018-df_ax['year']"
      ],
      "execution_count": 0,
      "outputs": []
    },
    {
      "metadata": {
        "id": "ObhAryjUrJvp",
        "colab_type": "code",
        "colab": {
          "base_uri": "https://localhost:8080/",
          "height": 204
        },
        "outputId": "e1e74f69-6561-44ae-eec7-d04edfff6b37"
      },
      "cell_type": "code",
      "source": [
        "df_ax.head()"
      ],
      "execution_count": 128,
      "outputs": [
        {
          "output_type": "execute_result",
          "data": {
            "text/html": [
              "<div>\n",
              "<style scoped>\n",
              "    .dataframe tbody tr th:only-of-type {\n",
              "        vertical-align: middle;\n",
              "    }\n",
              "\n",
              "    .dataframe tbody tr th {\n",
              "        vertical-align: top;\n",
              "    }\n",
              "\n",
              "    .dataframe thead th {\n",
              "        text-align: right;\n",
              "    }\n",
              "</style>\n",
              "<table border=\"1\" class=\"dataframe\">\n",
              "  <thead>\n",
              "    <tr style=\"text-align: right;\">\n",
              "      <th></th>\n",
              "      <th>author_count</th>\n",
              "      <th>sentiment</th>\n",
              "      <th>Topic</th>\n",
              "      <th>domain_citation_avg</th>\n",
              "      <th>author_score</th>\n",
              "      <th>age</th>\n",
              "    </tr>\n",
              "  </thead>\n",
              "  <tbody>\n",
              "    <tr>\n",
              "      <th>0</th>\n",
              "      <td>4</td>\n",
              "      <td>1</td>\n",
              "      <td>1</td>\n",
              "      <td>57.087180</td>\n",
              "      <td>-3.216079</td>\n",
              "      <td>9</td>\n",
              "    </tr>\n",
              "    <tr>\n",
              "      <th>1</th>\n",
              "      <td>2</td>\n",
              "      <td>0</td>\n",
              "      <td>8</td>\n",
              "      <td>54.804301</td>\n",
              "      <td>-2.190841</td>\n",
              "      <td>16</td>\n",
              "    </tr>\n",
              "    <tr>\n",
              "      <th>2</th>\n",
              "      <td>2</td>\n",
              "      <td>1</td>\n",
              "      <td>2</td>\n",
              "      <td>55.424089</td>\n",
              "      <td>38.787464</td>\n",
              "      <td>27</td>\n",
              "    </tr>\n",
              "    <tr>\n",
              "      <th>3</th>\n",
              "      <td>4</td>\n",
              "      <td>1</td>\n",
              "      <td>9</td>\n",
              "      <td>52.136057</td>\n",
              "      <td>130.063854</td>\n",
              "      <td>10</td>\n",
              "    </tr>\n",
              "    <tr>\n",
              "      <th>4</th>\n",
              "      <td>3</td>\n",
              "      <td>-1</td>\n",
              "      <td>5</td>\n",
              "      <td>55.809836</td>\n",
              "      <td>-13.671207</td>\n",
              "      <td>14</td>\n",
              "    </tr>\n",
              "  </tbody>\n",
              "</table>\n",
              "</div>"
            ],
            "text/plain": [
              "   author_count  sentiment  Topic  domain_citation_avg  author_score  age\n",
              "0             4          1      1            57.087180     -3.216079    9\n",
              "1             2          0      8            54.804301     -2.190841   16\n",
              "2             2          1      2            55.424089     38.787464   27\n",
              "3             4          1      9            52.136057    130.063854   10\n",
              "4             3         -1      5            55.809836    -13.671207   14"
            ]
          },
          "metadata": {
            "tags": []
          },
          "execution_count": 128
        }
      ]
    },
    {
      "metadata": {
        "id": "nUEZwx4ntUrf",
        "colab_type": "code",
        "colab": {}
      },
      "cell_type": "code",
      "source": [
        "df_ax.drop(columns=['authors','ranking_score','id'],inplace=True)"
      ],
      "execution_count": 0,
      "outputs": []
    },
    {
      "metadata": {
        "id": "JrBDqjuGwzXb",
        "colab_type": "code",
        "colab": {}
      },
      "cell_type": "code",
      "source": [
        "df_ax.drop(columns=['year'],inplace=True)"
      ],
      "execution_count": 0,
      "outputs": []
    },
    {
      "metadata": {
        "id": "ijnYL4aHsIUp",
        "colab_type": "code",
        "colab": {}
      },
      "cell_type": "code",
      "source": [
        "train_Y=df_ax['ranking_score']\n"
      ],
      "execution_count": 0,
      "outputs": []
    },
    {
      "metadata": {
        "id": "HmzWMGCbu05y",
        "colab_type": "code",
        "colab": {}
      },
      "cell_type": "code",
      "source": [
        "train_X=df_ax"
      ],
      "execution_count": 0,
      "outputs": []
    },
    {
      "metadata": {
        "id": "Ajy95UjuvLe3",
        "colab_type": "text"
      },
      "cell_type": "markdown",
      "source": [
        "# LINEAR REGRESSION"
      ]
    },
    {
      "metadata": {
        "id": "1Jz9VuTorOq-",
        "colab_type": "code",
        "colab": {}
      },
      "cell_type": "code",
      "source": [
        "from sklearn.model_selection import train_test_split\n",
        "X_train, X_test, y_train, y_test = train_test_split(train_X, train_Y, test_size=0.2, random_state=0)"
      ],
      "execution_count": 0,
      "outputs": []
    },
    {
      "metadata": {
        "id": "B6Uj1UZGs1sr",
        "colab_type": "code",
        "colab": {}
      },
      "cell_type": "code",
      "source": [
        "from sklearn.linear_model import LinearRegression"
      ],
      "execution_count": 0,
      "outputs": []
    },
    {
      "metadata": {
        "id": "AqEcScRxs51m",
        "colab_type": "code",
        "colab": {
          "base_uri": "https://localhost:8080/",
          "height": 34
        },
        "outputId": "0975a9e0-ca31-44fc-917c-6bc86fdd9def"
      },
      "cell_type": "code",
      "source": [
        "model1 = LinearRegression()\n",
        "model1.fit(X_train, y_train)\n",
        "model1.score(X_test, y_test)"
      ],
      "execution_count": 135,
      "outputs": [
        {
          "output_type": "execute_result",
          "data": {
            "text/plain": [
              "0.13821998074062647"
            ]
          },
          "metadata": {
            "tags": []
          },
          "execution_count": 135
        }
      ]
    },
    {
      "metadata": {
        "id": "qa6gZ3rdvU9I",
        "colab_type": "text"
      },
      "cell_type": "markdown",
      "source": [
        "# LGBM"
      ]
    },
    {
      "metadata": {
        "id": "EtzJE9hptBRU",
        "colab_type": "code",
        "colab": {
          "base_uri": "https://localhost:8080/",
          "height": 173
        },
        "outputId": "90dec26e-311a-489e-fa02-c0c64d78d5b8"
      },
      "cell_type": "code",
      "source": [
        "!pip install lightgbm"
      ],
      "execution_count": 117,
      "outputs": [
        {
          "output_type": "stream",
          "text": [
            "Collecting lightgbm\n",
            "\u001b[?25l  Downloading https://files.pythonhosted.org/packages/4c/3b/4ae113193b4ee01387ed76d5eea32788aec0589df9ae7378a8b7443eaa8b/lightgbm-2.2.2-py2.py3-none-manylinux1_x86_64.whl (1.2MB)\n",
            "\u001b[K    100% |████████████████████████████████| 1.2MB 14.6MB/s \n",
            "\u001b[?25hRequirement already satisfied: scipy in /usr/local/lib/python3.6/dist-packages (from lightgbm) (1.1.0)\n",
            "Requirement already satisfied: scikit-learn in /usr/local/lib/python3.6/dist-packages (from lightgbm) (0.19.2)\n",
            "Requirement already satisfied: numpy in /usr/local/lib/python3.6/dist-packages (from lightgbm) (1.14.6)\n",
            "Installing collected packages: lightgbm\n",
            "Successfully installed lightgbm-2.2.2\n"
          ],
          "name": "stdout"
        }
      ]
    },
    {
      "metadata": {
        "id": "UiOTPJNCvWgc",
        "colab_type": "code",
        "colab": {}
      },
      "cell_type": "code",
      "source": [
        "import lightgbm as lgb"
      ],
      "execution_count": 0,
      "outputs": []
    },
    {
      "metadata": {
        "id": "GfNzmKprvdrB",
        "colab_type": "code",
        "colab": {}
      },
      "cell_type": "code",
      "source": [
        "dev_X = X_train\n",
        "val_X = X_test\n",
        "dev_y = y_train\n",
        "val_y = y_test"
      ],
      "execution_count": 0,
      "outputs": []
    },
    {
      "metadata": {
        "id": "RZAuM0RVvhK2",
        "colab_type": "code",
        "colab": {
          "base_uri": "https://localhost:8080/",
          "height": 102
        },
        "outputId": "c2f4ccb3-9d01-45f7-85e3-f618219a67bb"
      },
      "cell_type": "code",
      "source": [
        "def run_lgb(train_X, train_y, val_X, val_y):\n",
        "    params = {\n",
        "        \"objective\" : \"regression\",\n",
        "        \"metric\" : \"rmse\", \n",
        "        \"num_leaves\" : 30,\n",
        "        \"min_child_samples\" : 100,\n",
        "        \"learning_rate\" : 0.1,\n",
        "        \"bagging_fraction\" : 0.7,\n",
        "        \"feature_fraction\" : 0.5,\n",
        "        \"bagging_frequency\" : 5,\n",
        "        \"bagging_seed\" : 2018,\n",
        "        \"verbosity\" : -1\n",
        "    }\n",
        "    \n",
        "    lgtrain = lgb.Dataset(train_X, label=train_y)\n",
        "    lgval = lgb.Dataset(val_X, label=val_y)\n",
        "    model = lgb.train(params, lgtrain, 1000, valid_sets=[lgval], early_stopping_rounds=100, verbose_eval=100)\n",
        "    \n",
        "#     pred_test_y = model.predict(test_X, num_iteration=model.best_iteration)\n",
        "    pred_val_y = model.predict(val_X, num_iteration=model.best_iteration)\n",
        "    return model, pred_val_y\n",
        "\n",
        "# Training the model #\n",
        "model, pred_val = run_lgb(dev_X, dev_y, val_X, val_y)"
      ],
      "execution_count": 132,
      "outputs": [
        {
          "output_type": "stream",
          "text": [
            "Training until validation scores don't improve for 100 rounds.\n",
            "[100]\tvalid_0's rmse: 13.6079\n",
            "[200]\tvalid_0's rmse: 13.621\n",
            "Early stopping, best iteration is:\n",
            "[116]\tvalid_0's rmse: 13.5985\n"
          ],
          "name": "stdout"
        }
      ]
    },
    {
      "metadata": {
        "id": "NMgQAxmJwBr9",
        "colab_type": "code",
        "colab": {
          "base_uri": "https://localhost:8080/",
          "height": 1057
        },
        "outputId": "c14f633b-ebae-416f-b689-d7e09b326ecd"
      },
      "cell_type": "code",
      "source": [
        "fig, ax = plt.subplots(figsize=(12,18))\n",
        "lgb.plot_importance(model, max_num_features=50, height=0.8, ax=ax)\n",
        "ax.grid(False)\n",
        "plt.title(\"LightGBM - Feature Importance\", fontsize=15)\n",
        "plt.show()\n",
        "fig.savefig('lgbm.png')"
      ],
      "execution_count": 139,
      "outputs": [
        {
          "output_type": "display_data",
          "data": {
            "image/png": "[encoded data removed]",
            "text/plain": [
              "<matplotlib.figure.Figure at 0x7f70ce055860>"
            ]
          },
          "metadata": {
            "tags": []
          }
        }
      ]
    },
    {
      "metadata": {
        "id": "8BpEfKv7yKOe",
        "colab_type": "code",
        "colab": {
          "base_uri": "https://localhost:8080/",
          "height": 34
        },
        "outputId": "9abc4bb5-e5e4-4348-e3bc-1006eb2bd9a3"
      },
      "cell_type": "code",
      "source": [
        "plt.savefig('lgbm_arxiv.png')"
      ],
      "execution_count": 138,
      "outputs": [
        {
          "output_type": "display_data",
          "data": {
            "text/plain": [
              "<matplotlib.figure.Figure at 0x7f70ce175978>"
            ]
          },
          "metadata": {
            "tags": []
          }
        }
      ]
    },
    {
      "metadata": {
        "id": "uO2g2oe-wbHD",
        "colab_type": "code",
        "colab": {}
      },
      "cell_type": "code",
      "source": [
        ""
      ],
      "execution_count": 0,
      "outputs": []
    }
  ]
}